{
 "cells": [
  {
   "cell_type": "markdown",
   "metadata": {},
   "source": [
    "___\n",
    "\n",
    "<a href='https://www.udemy.com/user/joseportilla/'><img src='../Pierian_Data_Logo.png'/></a>\n",
    "___\n",
    "<center><em>Content Copyright by Pierian Data</em></center>"
   ]
  },
  {
   "cell_type": "markdown",
   "metadata": {},
   "source": [
    "# Guessing Game Challenge\n",
    "\n",
    "Let's use `while` loops to create a guessing game.\n",
    "\n",
    "The Challenge:\n",
    "\n",
    "Write a program that picks a random integer from 1 to 100, and has players guess the number. The rules are:\n",
    "\n",
    "1. If a player's guess is less than 1 or greater than 100, say \"OUT OF BOUNDS\"\n",
    "2. On a player's first turn, if their guess is\n",
    " * within 10 of the number, return \"WARM!\"\n",
    " * further than 10 away from the number, return \"COLD!\"\n",
    "3. On all subsequent turns, if a guess is \n",
    " * closer to the number than the previous guess return \"WARMER!\"\n",
    " * farther from the number than the previous guess, return \"COLDER!\"\n",
    "4. When the player's guess equals the number, tell them they've guessed correctly *and* how many guesses it took!\n",
    "\n",
    "You can try this from scratch, or follow the steps outlined below. A separate Solution notebook has been provided. Good luck!\n"
   ]
  },
  {
   "cell_type": "markdown",
   "metadata": {},
   "source": [
    "#### First, pick a random integer from 1 to 100 using the random module and assign it to a variable\n",
    "\n",
    "Note: `random.randint(a,b)` returns a random integer in range `[a, b]`, including both end points."
   ]
  },
  {
   "cell_type": "code",
   "execution_count": 1,
   "metadata": {},
   "outputs": [
    {
     "name": "stdout",
     "output_type": "stream",
     "text": [
      "Number to be guessed = 93\n"
     ]
    }
   ],
   "source": [
    "from random import randint\n",
    "\n",
    "num = randint(1, 100)\n",
    "print(f'Number to be guessed = {num}')"
   ]
  },
  {
   "cell_type": "markdown",
   "metadata": {},
   "source": [
    "#### Next, print an introduction to the game and explain the rules"
   ]
  },
  {
   "cell_type": "code",
   "execution_count": 2,
   "metadata": {},
   "outputs": [
    {
     "name": "stdout",
     "output_type": "stream",
     "text": [
      "Look at the rules above...\n"
     ]
    }
   ],
   "source": [
    "print('Look at the rules above...')"
   ]
  },
  {
   "cell_type": "markdown",
   "metadata": {},
   "source": [
    "#### Create a list to store guesses\n",
    "\n",
    "Hint: zero is a good placeholder value. It's useful because it evaluates to \"False\""
   ]
  },
  {
   "cell_type": "code",
   "execution_count": 3,
   "metadata": {},
   "outputs": [],
   "source": [
    "guesses = []"
   ]
  },
  {
   "cell_type": "markdown",
   "metadata": {},
   "source": [
    "#### Write a `while` loop that asks for a valid guess. Test it a few times to make sure it works."
   ]
  },
  {
   "cell_type": "code",
   "execution_count": 4,
   "metadata": {},
   "outputs": [
    {
     "name": "stdout",
     "output_type": "stream",
     "text": [
      "Enter a number 3\n",
      "Guess = 3\n"
     ]
    }
   ],
   "source": [
    "while True:\n",
    "    guess = int(input('Enter a number '))\n",
    "    print(f'Guess = {guess}')\n",
    "    break"
   ]
  },
  {
   "cell_type": "markdown",
   "metadata": {},
   "source": [
    "#### Write a `while` loop that compares the player's guess to our number. If the player guesses correctly, break from the loop. Otherwise, tell the player if they're warmer or colder, and continue asking for guesses.\n",
    "\n",
    "Some hints:\n",
    "* it may help to sketch out all possible combinations on paper first!\n",
    "* you can use the `abs()` function to find the positive difference between two numbers\n",
    "* if you append all new guesses to the list, then the previous guess is given as `guesses[-2]`"
   ]
  },
  {
   "cell_type": "code",
   "execution_count": 5,
   "metadata": {},
   "outputs": [
    {
     "name": "stdout",
     "output_type": "stream",
     "text": [
      "Enter a number 1\n",
      "Guess = 1\n",
      "COLD\n",
      "Enter a number 5\n",
      "Guess = 5\n",
      "WARMER\n",
      "Enter a number 80\n",
      "Guess = 80\n",
      "WARMER\n",
      "Enter a number 75\n",
      "Guess = 75\n",
      "COLDER\n",
      "Enter a number 88\n",
      "Guess = 88\n",
      "WARMER\n",
      "Enter a number 89\n",
      "Guess = 89\n",
      "WARMER\n",
      "Enter a number 87\n",
      "Guess = 87\n",
      "COLDER\n",
      "Enter a number 86\n",
      "Guess = 86\n",
      "COLDER\n",
      "Enter a number 90\n",
      "Guess = 90\n",
      "WARMER\n",
      "Enter a number 95\n",
      "Guess = 95\n",
      "WARMER\n",
      "Enter a number 94\n",
      "Guess = 94\n",
      "WARMER\n",
      "Enter a number 92\n",
      "Guess = 92\n",
      "COLDER\n",
      "Enter a number 93\n",
      "Guess = 93\n",
      "Correct guess! Number of guesses = 13\n"
     ]
    }
   ],
   "source": [
    "guess_count = 0\n",
    "\n",
    "while True:\n",
    "    guess = int(input('Enter a number '))\n",
    "    print(f'Guess = {guess}')\n",
    "    guess_count += 1\n",
    "    guesses.append(guess)\n",
    "    \n",
    "    if guess == num:\n",
    "        print(f'Correct guess! Number of guesses = {guess_count}')\n",
    "        break\n",
    "        \n",
    "    if guess_count == 1:\n",
    "        if abs(guess - num) < 10:\n",
    "            print('WARM')\n",
    "        else:\n",
    "            print('COLD')\n",
    "    else:\n",
    "        if abs(guess - num) < abs(guesses[-2] - num):\n",
    "            print('WARMER')\n",
    "        else:\n",
    "            print('COLDER')"
   ]
  },
  {
   "cell_type": "markdown",
   "metadata": {},
   "source": [
    "That's it! You've just programmed your first game!\n",
    "\n",
    "In the next section we'll learn how to turn some of these repetitive actions into *functions* that can be called whenever we need them."
   ]
  },
  {
   "cell_type": "markdown",
   "metadata": {},
   "source": [
    "### Good Job!"
   ]
  }
 ],
 "metadata": {
  "kernelspec": {
   "display_name": "Python 3",
   "language": "python",
   "name": "python3"
  },
  "language_info": {
   "codemirror_mode": {
    "name": "ipython",
    "version": 3
   },
   "file_extension": ".py",
   "mimetype": "text/x-python",
   "name": "python",
   "nbconvert_exporter": "python",
   "pygments_lexer": "ipython3",
   "version": "3.8.5"
  }
 },
 "nbformat": 4,
 "nbformat_minor": 2
}
