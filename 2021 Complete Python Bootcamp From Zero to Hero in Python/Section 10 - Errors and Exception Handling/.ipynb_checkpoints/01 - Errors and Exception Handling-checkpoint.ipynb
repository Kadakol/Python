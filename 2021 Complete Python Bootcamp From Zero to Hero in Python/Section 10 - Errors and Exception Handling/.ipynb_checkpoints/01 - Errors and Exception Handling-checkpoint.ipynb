{
 "cells": [
  {
   "cell_type": "code",
   "execution_count": 1,
   "id": "092a8f53",
   "metadata": {},
   "outputs": [],
   "source": [
    "def add(n1, n2):\n",
    "    print(n1 + n2)"
   ]
  },
  {
   "cell_type": "code",
   "execution_count": 2,
   "id": "024b1c68",
   "metadata": {},
   "outputs": [
    {
     "name": "stdout",
     "output_type": "stream",
     "text": [
      "30\n"
     ]
    }
   ],
   "source": [
    "add(10, 20)"
   ]
  },
  {
   "cell_type": "code",
   "execution_count": 3,
   "id": "b16a3936",
   "metadata": {},
   "outputs": [],
   "source": [
    "n1 = 10"
   ]
  },
  {
   "cell_type": "code",
   "execution_count": 4,
   "id": "85b9981b",
   "metadata": {},
   "outputs": [
    {
     "name": "stdout",
     "output_type": "stream",
     "text": [
      "Provide number: 20\n"
     ]
    }
   ],
   "source": [
    "n2 = input('Provide number: ')"
   ]
  },
  {
   "cell_type": "code",
   "execution_count": 6,
   "id": "64ec7f2e",
   "metadata": {},
   "outputs": [
    {
     "ename": "TypeError",
     "evalue": "unsupported operand type(s) for +: 'int' and 'str'",
     "output_type": "error",
     "traceback": [
      "\u001b[1;31m---------------------------------------------------------------------------\u001b[0m",
      "\u001b[1;31mTypeError\u001b[0m                                 Traceback (most recent call last)",
      "\u001b[1;32m<ipython-input-6-10eeefbee957>\u001b[0m in \u001b[0;36m<module>\u001b[1;34m\u001b[0m\n\u001b[1;32m----> 1\u001b[1;33m \u001b[0madd\u001b[0m\u001b[1;33m(\u001b[0m\u001b[0mn1\u001b[0m\u001b[1;33m,\u001b[0m \u001b[0mn2\u001b[0m\u001b[1;33m)\u001b[0m\u001b[1;33m\u001b[0m\u001b[1;33m\u001b[0m\u001b[0m\n\u001b[0m\u001b[0;32m      2\u001b[0m \u001b[0mprint\u001b[0m\u001b[1;33m(\u001b[0m\u001b[1;34m'After'\u001b[0m\u001b[1;33m)\u001b[0m\u001b[1;33m\u001b[0m\u001b[1;33m\u001b[0m\u001b[0m\n",
      "\u001b[1;32m<ipython-input-1-26160d662457>\u001b[0m in \u001b[0;36madd\u001b[1;34m(n1, n2)\u001b[0m\n\u001b[0;32m      1\u001b[0m \u001b[1;32mdef\u001b[0m \u001b[0madd\u001b[0m\u001b[1;33m(\u001b[0m\u001b[0mn1\u001b[0m\u001b[1;33m,\u001b[0m \u001b[0mn2\u001b[0m\u001b[1;33m)\u001b[0m\u001b[1;33m:\u001b[0m\u001b[1;33m\u001b[0m\u001b[1;33m\u001b[0m\u001b[0m\n\u001b[1;32m----> 2\u001b[1;33m     \u001b[0mprint\u001b[0m\u001b[1;33m(\u001b[0m\u001b[0mn1\u001b[0m \u001b[1;33m+\u001b[0m \u001b[0mn2\u001b[0m\u001b[1;33m)\u001b[0m\u001b[1;33m\u001b[0m\u001b[1;33m\u001b[0m\u001b[0m\n\u001b[0m",
      "\u001b[1;31mTypeError\u001b[0m: unsupported operand type(s) for +: 'int' and 'str'"
     ]
    }
   ],
   "source": [
    "add(n1, n2)\n",
    "print('After')"
   ]
  },
  {
   "cell_type": "code",
   "execution_count": 9,
   "id": "c9da6c70",
   "metadata": {},
   "outputs": [
    {
     "name": "stdout",
     "output_type": "stream",
     "text": [
      "30\n",
      "All good\n"
     ]
    }
   ],
   "source": [
    "try:\n",
    "    add(10, 20)\n",
    "except:\n",
    "    print('Bad add')\n",
    "else:\n",
    "    print('All good')"
   ]
  },
  {
   "cell_type": "code",
   "execution_count": null,
   "id": "8cc064ac",
   "metadata": {},
   "outputs": [],
   "source": []
  },
  {
   "cell_type": "code",
   "execution_count": null,
   "id": "35cfe1b2",
   "metadata": {},
   "outputs": [],
   "source": []
  },
  {
   "cell_type": "code",
   "execution_count": 12,
   "id": "a5a600c4",
   "metadata": {},
   "outputs": [
    {
     "name": "stdout",
     "output_type": "stream",
     "text": [
      "OS Error\n",
      "Runs\n"
     ]
    }
   ],
   "source": [
    "try:\n",
    "    f = open('testfile.txt', 'r')\n",
    "    f.write('Write to file')\n",
    "except TypeError:\n",
    "    print('Type Error')\n",
    "except OSError:\n",
    "    print('OS Error')\n",
    "except:\n",
    "    print('Other exception')\n",
    "finally:\n",
    "    print('Runs')"
   ]
  },
  {
   "cell_type": "code",
   "execution_count": null,
   "id": "60a97749",
   "metadata": {},
   "outputs": [],
   "source": []
  },
  {
   "cell_type": "code",
   "execution_count": null,
   "id": "474586d1",
   "metadata": {},
   "outputs": [],
   "source": []
  },
  {
   "cell_type": "code",
   "execution_count": 16,
   "id": "f50a9a9f",
   "metadata": {},
   "outputs": [],
   "source": [
    "def ask_for_int():\n",
    "    while True:\n",
    "        try:\n",
    "            result = int(input('Enter a number: '))\n",
    "        except:\n",
    "            print('That is not a number')\n",
    "            continue\n",
    "        else:\n",
    "            print('Entry accepted')\n",
    "            break\n",
    "        finally:\n",
    "            print('End')\n",
    "    return result"
   ]
  },
  {
   "cell_type": "code",
   "execution_count": 17,
   "id": "75a12f7d",
   "metadata": {},
   "outputs": [
    {
     "name": "stdout",
     "output_type": "stream",
     "text": [
      "Enter a number: \n",
      "That is not a number\n",
      "End\n",
      "Enter a number: \n",
      "That is not a number\n",
      "End\n",
      "Enter a number: \n",
      "That is not a number\n",
      "End\n",
      "Enter a number: a\n",
      "That is not a number\n",
      "End\n",
      "Enter a number: \n",
      "That is not a number\n",
      "End\n",
      "Enter a number: g\n",
      "That is not a number\n",
      "End\n",
      "Enter a number: h\n",
      "That is not a number\n",
      "End\n",
      "Enter a number: s\n",
      "That is not a number\n",
      "End\n",
      "Enter a number: g\n",
      "That is not a number\n",
      "End\n",
      "Enter a number: e\n",
      "That is not a number\n",
      "End\n",
      "Enter a number: 3\n",
      "Entry accepted\n",
      "End\n"
     ]
    },
    {
     "data": {
      "text/plain": [
       "3"
      ]
     },
     "execution_count": 17,
     "metadata": {},
     "output_type": "execute_result"
    }
   ],
   "source": [
    "ask_for_int()"
   ]
  },
  {
   "cell_type": "code",
   "execution_count": null,
   "id": "8e0da39e",
   "metadata": {},
   "outputs": [],
   "source": []
  }
 ],
 "metadata": {
  "kernelspec": {
   "display_name": "Python 3",
   "language": "python",
   "name": "python3"
  },
  "language_info": {
   "codemirror_mode": {
    "name": "ipython",
    "version": 3
   },
   "file_extension": ".py",
   "mimetype": "text/x-python",
   "name": "python",
   "nbconvert_exporter": "python",
   "pygments_lexer": "ipython3",
   "version": "3.8.5"
  }
 },
 "nbformat": 4,
 "nbformat_minor": 5
}
