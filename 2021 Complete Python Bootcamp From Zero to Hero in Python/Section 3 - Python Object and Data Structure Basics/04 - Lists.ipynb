{
 "cells": [
  {
   "cell_type": "code",
   "execution_count": 1,
   "id": "f7b42591",
   "metadata": {},
   "outputs": [],
   "source": [
    "my_list = [1, 2, 3]"
   ]
  },
  {
   "cell_type": "code",
   "execution_count": 2,
   "id": "2220b993",
   "metadata": {},
   "outputs": [],
   "source": [
    "my_list = ['STRING', 100, 23.5]"
   ]
  },
  {
   "cell_type": "code",
   "execution_count": 3,
   "id": "7e100520",
   "metadata": {},
   "outputs": [
    {
     "data": {
      "text/plain": [
       "3"
      ]
     },
     "execution_count": 3,
     "metadata": {},
     "output_type": "execute_result"
    }
   ],
   "source": [
    "len(my_list)"
   ]
  },
  {
   "cell_type": "code",
   "execution_count": 4,
   "id": "7721b0f8",
   "metadata": {},
   "outputs": [],
   "source": [
    "my_list = ['one', 'two', 'three']"
   ]
  },
  {
   "cell_type": "code",
   "execution_count": 5,
   "id": "f0cdc1b5",
   "metadata": {},
   "outputs": [
    {
     "data": {
      "text/plain": [
       "'one'"
      ]
     },
     "execution_count": 5,
     "metadata": {},
     "output_type": "execute_result"
    }
   ],
   "source": [
    "my_list[0]"
   ]
  },
  {
   "cell_type": "code",
   "execution_count": 6,
   "id": "372d6e44",
   "metadata": {},
   "outputs": [
    {
     "data": {
      "text/plain": [
       "['two', 'three']"
      ]
     },
     "execution_count": 6,
     "metadata": {},
     "output_type": "execute_result"
    }
   ],
   "source": [
    "my_list[1:]"
   ]
  },
  {
   "cell_type": "code",
   "execution_count": 7,
   "id": "f76a3b3b",
   "metadata": {},
   "outputs": [
    {
     "data": {
      "text/plain": [
       "['one', 'two', 'three']"
      ]
     },
     "execution_count": 7,
     "metadata": {},
     "output_type": "execute_result"
    }
   ],
   "source": [
    "my_list"
   ]
  },
  {
   "cell_type": "code",
   "execution_count": 8,
   "id": "c789a4d6",
   "metadata": {},
   "outputs": [],
   "source": [
    "another_list = ['four', 'five']"
   ]
  },
  {
   "cell_type": "code",
   "execution_count": 9,
   "id": "6524cbd2",
   "metadata": {},
   "outputs": [
    {
     "data": {
      "text/plain": [
       "['one', 'two', 'three', 'four', 'five']"
      ]
     },
     "execution_count": 9,
     "metadata": {},
     "output_type": "execute_result"
    }
   ],
   "source": [
    "my_list + another_list"
   ]
  },
  {
   "cell_type": "code",
   "execution_count": 10,
   "id": "e653076c",
   "metadata": {},
   "outputs": [
    {
     "data": {
      "text/plain": [
       "['one', 'two', 'three']"
      ]
     },
     "execution_count": 10,
     "metadata": {},
     "output_type": "execute_result"
    }
   ],
   "source": [
    "my_list"
   ]
  },
  {
   "cell_type": "code",
   "execution_count": 11,
   "id": "dde7dc1e",
   "metadata": {},
   "outputs": [
    {
     "data": {
      "text/plain": [
       "['four', 'five']"
      ]
     },
     "execution_count": 11,
     "metadata": {},
     "output_type": "execute_result"
    }
   ],
   "source": [
    "another_list"
   ]
  },
  {
   "cell_type": "code",
   "execution_count": 12,
   "id": "8c20d498",
   "metadata": {},
   "outputs": [],
   "source": [
    "new_list = my_list + another_list"
   ]
  },
  {
   "cell_type": "code",
   "execution_count": 13,
   "id": "9db8fdd4",
   "metadata": {},
   "outputs": [
    {
     "data": {
      "text/plain": [
       "['one', 'two', 'three', 'four', 'five']"
      ]
     },
     "execution_count": 13,
     "metadata": {},
     "output_type": "execute_result"
    }
   ],
   "source": [
    "new_list"
   ]
  },
  {
   "cell_type": "code",
   "execution_count": 14,
   "id": "48e00806",
   "metadata": {},
   "outputs": [],
   "source": [
    "new_list[0] = 'ONE'"
   ]
  },
  {
   "cell_type": "code",
   "execution_count": 15,
   "id": "8a012fc3",
   "metadata": {},
   "outputs": [
    {
     "data": {
      "text/plain": [
       "['ONE', 'two', 'three', 'four', 'five']"
      ]
     },
     "execution_count": 15,
     "metadata": {},
     "output_type": "execute_result"
    }
   ],
   "source": [
    "new_list"
   ]
  },
  {
   "cell_type": "code",
   "execution_count": 16,
   "id": "001737f9",
   "metadata": {},
   "outputs": [],
   "source": [
    "new_list.append('six')"
   ]
  },
  {
   "cell_type": "code",
   "execution_count": 17,
   "id": "214c3fa6",
   "metadata": {},
   "outputs": [
    {
     "data": {
      "text/plain": [
       "['ONE', 'two', 'three', 'four', 'five', 'six']"
      ]
     },
     "execution_count": 17,
     "metadata": {},
     "output_type": "execute_result"
    }
   ],
   "source": [
    "new_list"
   ]
  },
  {
   "cell_type": "code",
   "execution_count": 18,
   "id": "0f194ff7",
   "metadata": {},
   "outputs": [],
   "source": [
    "new_list.append('seven')"
   ]
  },
  {
   "cell_type": "code",
   "execution_count": 19,
   "id": "d7cae7cf",
   "metadata": {},
   "outputs": [
    {
     "data": {
      "text/plain": [
       "['ONE', 'two', 'three', 'four', 'five', 'six', 'seven']"
      ]
     },
     "execution_count": 19,
     "metadata": {},
     "output_type": "execute_result"
    }
   ],
   "source": [
    "new_list"
   ]
  },
  {
   "cell_type": "code",
   "execution_count": 20,
   "id": "f81d6e78",
   "metadata": {},
   "outputs": [
    {
     "data": {
      "text/plain": [
       "'seven'"
      ]
     },
     "execution_count": 20,
     "metadata": {},
     "output_type": "execute_result"
    }
   ],
   "source": [
    "new_list.pop()"
   ]
  },
  {
   "cell_type": "code",
   "execution_count": 21,
   "id": "39beca78",
   "metadata": {},
   "outputs": [
    {
     "data": {
      "text/plain": [
       "['ONE', 'two', 'three', 'four', 'five', 'six']"
      ]
     },
     "execution_count": 21,
     "metadata": {},
     "output_type": "execute_result"
    }
   ],
   "source": [
    "new_list"
   ]
  },
  {
   "cell_type": "code",
   "execution_count": 22,
   "id": "6f27166b",
   "metadata": {},
   "outputs": [],
   "source": [
    "popped = new_list.pop()"
   ]
  },
  {
   "cell_type": "code",
   "execution_count": 23,
   "id": "0036dfa4",
   "metadata": {},
   "outputs": [
    {
     "data": {
      "text/plain": [
       "'six'"
      ]
     },
     "execution_count": 23,
     "metadata": {},
     "output_type": "execute_result"
    }
   ],
   "source": [
    "popped"
   ]
  },
  {
   "cell_type": "code",
   "execution_count": 24,
   "id": "594c6be6",
   "metadata": {},
   "outputs": [
    {
     "data": {
      "text/plain": [
       "['ONE', 'two', 'three', 'four', 'five']"
      ]
     },
     "execution_count": 24,
     "metadata": {},
     "output_type": "execute_result"
    }
   ],
   "source": [
    "new_list"
   ]
  },
  {
   "cell_type": "code",
   "execution_count": 25,
   "id": "f24bbfb5",
   "metadata": {},
   "outputs": [
    {
     "data": {
      "text/plain": [
       "'ONE'"
      ]
     },
     "execution_count": 25,
     "metadata": {},
     "output_type": "execute_result"
    }
   ],
   "source": [
    "new_list.pop(0)"
   ]
  },
  {
   "cell_type": "code",
   "execution_count": 26,
   "id": "bc940350",
   "metadata": {},
   "outputs": [
    {
     "data": {
      "text/plain": [
       "['two', 'three', 'four', 'five']"
      ]
     },
     "execution_count": 26,
     "metadata": {},
     "output_type": "execute_result"
    }
   ],
   "source": [
    "new_list"
   ]
  },
  {
   "cell_type": "code",
   "execution_count": 27,
   "id": "624bd026",
   "metadata": {},
   "outputs": [
    {
     "data": {
      "text/plain": [
       "'five'"
      ]
     },
     "execution_count": 27,
     "metadata": {},
     "output_type": "execute_result"
    }
   ],
   "source": [
    "new_list.pop(-1)"
   ]
  },
  {
   "cell_type": "code",
   "execution_count": 28,
   "id": "f0331880",
   "metadata": {},
   "outputs": [
    {
     "data": {
      "text/plain": [
       "['two', 'three', 'four']"
      ]
     },
     "execution_count": 28,
     "metadata": {},
     "output_type": "execute_result"
    }
   ],
   "source": [
    "new_list"
   ]
  },
  {
   "cell_type": "code",
   "execution_count": 37,
   "id": "7f0af928",
   "metadata": {},
   "outputs": [],
   "source": [
    "new_list = ['x', 'b', 'a', 'e', 'd', 'c']\n",
    "num_list = [4, 1 ,8, 3]"
   ]
  },
  {
   "cell_type": "code",
   "execution_count": 38,
   "id": "ad9f23e3",
   "metadata": {},
   "outputs": [],
   "source": [
    "new_list.sort()"
   ]
  },
  {
   "cell_type": "code",
   "execution_count": 39,
   "id": "25a1bbfa",
   "metadata": {},
   "outputs": [
    {
     "data": {
      "text/plain": [
       "['a', 'b', 'c', 'd', 'e', 'x']"
      ]
     },
     "execution_count": 39,
     "metadata": {},
     "output_type": "execute_result"
    }
   ],
   "source": [
    "new_list"
   ]
  },
  {
   "cell_type": "code",
   "execution_count": 32,
   "id": "bba1f8f2",
   "metadata": {},
   "outputs": [],
   "source": [
    "num_list.sort()"
   ]
  },
  {
   "cell_type": "code",
   "execution_count": 33,
   "id": "34771997",
   "metadata": {},
   "outputs": [
    {
     "data": {
      "text/plain": [
       "[1, 3, 4, 8]"
      ]
     },
     "execution_count": 33,
     "metadata": {},
     "output_type": "execute_result"
    }
   ],
   "source": [
    "num_list"
   ]
  },
  {
   "cell_type": "code",
   "execution_count": 40,
   "id": "bf5d6470",
   "metadata": {},
   "outputs": [],
   "source": [
    "sorted_list = my_list.sort()"
   ]
  },
  {
   "cell_type": "code",
   "execution_count": 41,
   "id": "3c8985c9",
   "metadata": {},
   "outputs": [],
   "source": [
    "sorted_list"
   ]
  },
  {
   "cell_type": "code",
   "execution_count": 42,
   "id": "ddf3f0cc",
   "metadata": {},
   "outputs": [
    {
     "data": {
      "text/plain": [
       "NoneType"
      ]
     },
     "execution_count": 42,
     "metadata": {},
     "output_type": "execute_result"
    }
   ],
   "source": [
    "type(sorted_list)"
   ]
  },
  {
   "cell_type": "code",
   "execution_count": 43,
   "id": "d9b1f020",
   "metadata": {},
   "outputs": [
    {
     "data": {
      "text/plain": [
       "builtin_function_or_method"
      ]
     },
     "execution_count": 43,
     "metadata": {},
     "output_type": "execute_result"
    }
   ],
   "source": [
    "type(sorted)"
   ]
  },
  {
   "cell_type": "code",
   "execution_count": 44,
   "id": "26e3aaa5",
   "metadata": {},
   "outputs": [],
   "source": [
    "num_list.reverse()"
   ]
  },
  {
   "cell_type": "code",
   "execution_count": 45,
   "id": "2a103206",
   "metadata": {},
   "outputs": [
    {
     "data": {
      "text/plain": [
       "[3, 8, 1, 4]"
      ]
     },
     "execution_count": 45,
     "metadata": {},
     "output_type": "execute_result"
    }
   ],
   "source": [
    "num_list"
   ]
  },
  {
   "cell_type": "code",
   "execution_count": 46,
   "id": "6c7ffd3a",
   "metadata": {},
   "outputs": [],
   "source": [
    "num_list.sort()"
   ]
  },
  {
   "cell_type": "code",
   "execution_count": 47,
   "id": "1fe2a8d1",
   "metadata": {},
   "outputs": [
    {
     "data": {
      "text/plain": [
       "[1, 3, 4, 8]"
      ]
     },
     "execution_count": 47,
     "metadata": {},
     "output_type": "execute_result"
    }
   ],
   "source": [
    "num_list"
   ]
  },
  {
   "cell_type": "code",
   "execution_count": 48,
   "id": "d81fa624",
   "metadata": {},
   "outputs": [],
   "source": [
    "num_list.reverse()"
   ]
  },
  {
   "cell_type": "code",
   "execution_count": 49,
   "id": "18ce6d93",
   "metadata": {},
   "outputs": [
    {
     "data": {
      "text/plain": [
       "[8, 4, 3, 1]"
      ]
     },
     "execution_count": 49,
     "metadata": {},
     "output_type": "execute_result"
    }
   ],
   "source": [
    "num_list"
   ]
  },
  {
   "cell_type": "code",
   "execution_count": null,
   "id": "d2b589b2",
   "metadata": {},
   "outputs": [],
   "source": []
  }
 ],
 "metadata": {
  "kernelspec": {
   "display_name": "Python 3",
   "language": "python",
   "name": "python3"
  },
  "language_info": {
   "codemirror_mode": {
    "name": "ipython",
    "version": 3
   },
   "file_extension": ".py",
   "mimetype": "text/x-python",
   "name": "python",
   "nbconvert_exporter": "python",
   "pygments_lexer": "ipython3",
   "version": "3.8.5"
  }
 },
 "nbformat": 4,
 "nbformat_minor": 5
}
