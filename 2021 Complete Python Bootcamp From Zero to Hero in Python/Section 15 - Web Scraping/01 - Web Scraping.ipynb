{
 "cells": [
  {
   "cell_type": "code",
   "execution_count": 1,
   "id": "59d97602",
   "metadata": {},
   "outputs": [
    {
     "name": "stdout",
     "output_type": "stream",
     "text": [
      "Requirement already satisfied: requests in c:\\users\\admin\\miniconda3\\envs\\python-3-bootcamp\\lib\\site-packages (2.24.0)\n",
      "Requirement already satisfied: idna<3,>=2.5 in c:\\users\\admin\\miniconda3\\envs\\python-3-bootcamp\\lib\\site-packages (from requests) (2.10)\n",
      "Requirement already satisfied: chardet<4,>=3.0.2 in c:\\users\\admin\\miniconda3\\envs\\python-3-bootcamp\\lib\\site-packages (from requests) (3.0.4)\n",
      "Requirement already satisfied: urllib3!=1.25.0,!=1.25.1,<1.26,>=1.21.1 in c:\\users\\admin\\miniconda3\\envs\\python-3-bootcamp\\lib\\site-packages (from requests) (1.25.11)\n",
      "Requirement already satisfied: certifi>=2017.4.17 in c:\\users\\admin\\miniconda3\\envs\\python-3-bootcamp\\lib\\site-packages (from requests) (2021.5.30)\n",
      "Collecting lxml\n",
      "  Downloading lxml-4.6.3-cp38-cp38-win_amd64.whl (3.5 MB)\n",
      "Installing collected packages: lxml\n",
      "Successfully installed lxml-4.6.3\n",
      "Collecting bs4\n",
      "  Downloading bs4-0.0.1.tar.gz (1.1 kB)\n",
      "Collecting beautifulsoup4\n",
      "  Downloading beautifulsoup4-4.9.3-py3-none-any.whl (115 kB)\n",
      "Collecting soupsieve>1.2; python_version >= \"3.0\"\n",
      "  Downloading soupsieve-2.2.1-py3-none-any.whl (33 kB)\n",
      "Building wheels for collected packages: bs4\n",
      "  Building wheel for bs4 (setup.py): started\n",
      "  Building wheel for bs4 (setup.py): finished with status 'done'\n",
      "  Created wheel for bs4: filename=bs4-0.0.1-py3-none-any.whl size=1277 sha256=0b0ddff68f3fab283fcf91b03dd2c6103ec09ed0e23439b8dad3d756e706bbe0\n",
      "  Stored in directory: c:\\users\\admin\\appdata\\local\\pip\\cache\\wheels\\75\\78\\21\\68b124549c9bdc94f822c02fb9aa3578a669843f9767776bca\n",
      "Successfully built bs4\n",
      "Installing collected packages: soupsieve, beautifulsoup4, bs4\n",
      "Successfully installed beautifulsoup4-4.9.3 bs4-0.0.1 soupsieve-2.2.1\n"
     ]
    }
   ],
   "source": [
    "! pip install requests\n",
    "! pip install lxml\n",
    "! pip install bs4"
   ]
  },
  {
   "cell_type": "code",
   "execution_count": 2,
   "id": "f8532f66",
   "metadata": {},
   "outputs": [],
   "source": [
    "import requests\n",
    "import bs4"
   ]
  },
  {
   "cell_type": "code",
   "execution_count": 3,
   "id": "c348ee78",
   "metadata": {},
   "outputs": [],
   "source": [
    "result = requests.get('http://example.com/')"
   ]
  },
  {
   "cell_type": "code",
   "execution_count": 4,
   "id": "401934cf",
   "metadata": {},
   "outputs": [
    {
     "data": {
      "text/plain": [
       "requests.models.Response"
      ]
     },
     "execution_count": 4,
     "metadata": {},
     "output_type": "execute_result"
    }
   ],
   "source": [
    "type(result)"
   ]
  },
  {
   "cell_type": "code",
   "execution_count": 5,
   "id": "5cea08da",
   "metadata": {},
   "outputs": [
    {
     "data": {
      "text/plain": [
       "'<!doctype html>\\n<html>\\n<head>\\n    <title>Example Domain</title>\\n\\n    <meta charset=\"utf-8\" />\\n    <meta http-equiv=\"Content-type\" content=\"text/html; charset=utf-8\" />\\n    <meta name=\"viewport\" content=\"width=device-width, initial-scale=1\" />\\n    <style type=\"text/css\">\\n    body {\\n        background-color: #f0f0f2;\\n        margin: 0;\\n        padding: 0;\\n        font-family: -apple-system, system-ui, BlinkMacSystemFont, \"Segoe UI\", \"Open Sans\", \"Helvetica Neue\", Helvetica, Arial, sans-serif;\\n        \\n    }\\n    div {\\n        width: 600px;\\n        margin: 5em auto;\\n        padding: 2em;\\n        background-color: #fdfdff;\\n        border-radius: 0.5em;\\n        box-shadow: 2px 3px 7px 2px rgba(0,0,0,0.02);\\n    }\\n    a:link, a:visited {\\n        color: #38488f;\\n        text-decoration: none;\\n    }\\n    @media (max-width: 700px) {\\n        div {\\n            margin: 0 auto;\\n            width: auto;\\n        }\\n    }\\n    </style>    \\n</head>\\n\\n<body>\\n<div>\\n    <h1>Example Domain</h1>\\n    <p>This domain is for use in illustrative examples in documents. You may use this\\n    domain in literature without prior coordination or asking for permission.</p>\\n    <p><a href=\"https://www.iana.org/domains/example\">More information...</a></p>\\n</div>\\n</body>\\n</html>\\n'"
      ]
     },
     "execution_count": 5,
     "metadata": {},
     "output_type": "execute_result"
    }
   ],
   "source": [
    "result.text"
   ]
  },
  {
   "cell_type": "code",
   "execution_count": 6,
   "id": "be9d7b8e",
   "metadata": {},
   "outputs": [],
   "source": [
    "soup = bs4.BeautifulSoup(result.text, 'lxml')"
   ]
  },
  {
   "cell_type": "code",
   "execution_count": 7,
   "id": "02fbac1a",
   "metadata": {},
   "outputs": [
    {
     "data": {
      "text/plain": [
       "<!DOCTYPE html>\n",
       "<html>\n",
       "<head>\n",
       "<title>Example Domain</title>\n",
       "<meta charset=\"utf-8\"/>\n",
       "<meta content=\"text/html; charset=utf-8\" http-equiv=\"Content-type\"/>\n",
       "<meta content=\"width=device-width, initial-scale=1\" name=\"viewport\"/>\n",
       "<style type=\"text/css\">\n",
       "    body {\n",
       "        background-color: #f0f0f2;\n",
       "        margin: 0;\n",
       "        padding: 0;\n",
       "        font-family: -apple-system, system-ui, BlinkMacSystemFont, \"Segoe UI\", \"Open Sans\", \"Helvetica Neue\", Helvetica, Arial, sans-serif;\n",
       "        \n",
       "    }\n",
       "    div {\n",
       "        width: 600px;\n",
       "        margin: 5em auto;\n",
       "        padding: 2em;\n",
       "        background-color: #fdfdff;\n",
       "        border-radius: 0.5em;\n",
       "        box-shadow: 2px 3px 7px 2px rgba(0,0,0,0.02);\n",
       "    }\n",
       "    a:link, a:visited {\n",
       "        color: #38488f;\n",
       "        text-decoration: none;\n",
       "    }\n",
       "    @media (max-width: 700px) {\n",
       "        div {\n",
       "            margin: 0 auto;\n",
       "            width: auto;\n",
       "        }\n",
       "    }\n",
       "    </style>\n",
       "</head>\n",
       "<body>\n",
       "<div>\n",
       "<h1>Example Domain</h1>\n",
       "<p>This domain is for use in illustrative examples in documents. You may use this\n",
       "    domain in literature without prior coordination or asking for permission.</p>\n",
       "<p><a href=\"https://www.iana.org/domains/example\">More information...</a></p>\n",
       "</div>\n",
       "</body>\n",
       "</html>"
      ]
     },
     "execution_count": 7,
     "metadata": {},
     "output_type": "execute_result"
    }
   ],
   "source": [
    "soup"
   ]
  },
  {
   "cell_type": "code",
   "execution_count": 8,
   "id": "cb58c077",
   "metadata": {},
   "outputs": [
    {
     "data": {
      "text/plain": [
       "[<title>Example Domain</title>]"
      ]
     },
     "execution_count": 8,
     "metadata": {},
     "output_type": "execute_result"
    }
   ],
   "source": [
    "soup.select('title')"
   ]
  },
  {
   "cell_type": "code",
   "execution_count": 9,
   "id": "1b08f403",
   "metadata": {},
   "outputs": [
    {
     "data": {
      "text/plain": [
       "[<p>This domain is for use in illustrative examples in documents. You may use this\n",
       "     domain in literature without prior coordination or asking for permission.</p>,\n",
       " <p><a href=\"https://www.iana.org/domains/example\">More information...</a></p>]"
      ]
     },
     "execution_count": 9,
     "metadata": {},
     "output_type": "execute_result"
    }
   ],
   "source": [
    "soup.select('p')"
   ]
  },
  {
   "cell_type": "code",
   "execution_count": 10,
   "id": "4d1287a8",
   "metadata": {},
   "outputs": [
    {
     "data": {
      "text/plain": [
       "[<h1>Example Domain</h1>]"
      ]
     },
     "execution_count": 10,
     "metadata": {},
     "output_type": "execute_result"
    }
   ],
   "source": [
    "soup.select('h1')"
   ]
  },
  {
   "cell_type": "code",
   "execution_count": 11,
   "id": "6ad5fe8d",
   "metadata": {},
   "outputs": [
    {
     "data": {
      "text/plain": [
       "'Example Domain'"
      ]
     },
     "execution_count": 11,
     "metadata": {},
     "output_type": "execute_result"
    }
   ],
   "source": [
    "soup.select('title')[0].getText()"
   ]
  },
  {
   "cell_type": "code",
   "execution_count": 12,
   "id": "7830a6d1",
   "metadata": {},
   "outputs": [],
   "source": [
    "paras = soup.select('p')"
   ]
  },
  {
   "cell_type": "code",
   "execution_count": 13,
   "id": "fe0e9460",
   "metadata": {},
   "outputs": [
    {
     "data": {
      "text/plain": [
       "[<p>This domain is for use in illustrative examples in documents. You may use this\n",
       "     domain in literature without prior coordination or asking for permission.</p>,\n",
       " <p><a href=\"https://www.iana.org/domains/example\">More information...</a></p>]"
      ]
     },
     "execution_count": 13,
     "metadata": {},
     "output_type": "execute_result"
    }
   ],
   "source": [
    "paras"
   ]
  },
  {
   "cell_type": "code",
   "execution_count": 14,
   "id": "f6f8c64f",
   "metadata": {},
   "outputs": [
    {
     "data": {
      "text/plain": [
       "'This domain is for use in illustrative examples in documents. You may use this\\n    domain in literature without prior coordination or asking for permission.'"
      ]
     },
     "execution_count": 14,
     "metadata": {},
     "output_type": "execute_result"
    }
   ],
   "source": [
    "paras[0].getText()"
   ]
  },
  {
   "cell_type": "code",
   "execution_count": null,
   "id": "120711d4",
   "metadata": {},
   "outputs": [],
   "source": []
  },
  {
   "cell_type": "code",
   "execution_count": null,
   "id": "6f9fb22e",
   "metadata": {},
   "outputs": [],
   "source": []
  },
  {
   "cell_type": "code",
   "execution_count": null,
   "id": "14ac59e9",
   "metadata": {},
   "outputs": [],
   "source": []
  },
  {
   "cell_type": "code",
   "execution_count": 15,
   "id": "8227e379",
   "metadata": {},
   "outputs": [],
   "source": [
    "res = requests.get('https://en.wikipedia.org/wiki/Jonas_Salk')"
   ]
  },
  {
   "cell_type": "code",
   "execution_count": 16,
   "id": "42a71d3d",
   "metadata": {},
   "outputs": [],
   "source": [
    "soup = bs4.BeautifulSoup(res.text, 'lxml')"
   ]
  },
  {
   "cell_type": "code",
   "execution_count": 17,
   "id": "48d8cbf3",
   "metadata": {},
   "outputs": [
    {
     "data": {
      "text/plain": [
       "<!DOCTYPE html>\n",
       "<html class=\"client-nojs\" dir=\"ltr\" lang=\"en\">\n",
       "<head>\n",
       "<meta charset=\"utf-8\"/>\n",
       "<title>Jonas Salk - Wikipedia</title>\n",
       "<script>document.documentElement.className=\"client-js\";RLCONF={\"wgBreakFrames\":!1,\"wgSeparatorTransformTable\":[\"\",\"\"],\"wgDigitTransformTable\":[\"\",\"\"],\"wgDefaultDateFormat\":\"dmy\",\"wgMonthNames\":[\"\",\"January\",\"February\",\"March\",\"April\",\"May\",\"June\",\"July\",\"August\",\"September\",\"October\",\"November\",\"December\"],\"wgRequestId\":\"4bd85404-4028-46b5-9034-1098def383fd\",\"wgCSPNonce\":!1,\"wgCanonicalNamespace\":\"\",\"wgCanonicalSpecialPageName\":!1,\"wgNamespaceNumber\":0,\"wgPageName\":\"Jonas_Salk\",\"wgTitle\":\"Jonas Salk\",\"wgCurRevisionId\":1028289283,\"wgRevisionId\":1028289283,\"wgArticleId\":25709692,\"wgIsArticle\":!0,\"wgIsRedirect\":!1,\"wgAction\":\"view\",\"wgUserName\":null,\"wgUserGroups\":[\"*\"],\"wgCategories\":[\"CS1 maint: archived copy as title\",\"Webarchive template wayback links\",\"CS1 Italian-language sources (it)\",\"Articles with short description\",\"Short description is different from Wikidata\",\"Use mdy dates from March 2020\",\"Biography with signature\",\"Articles with hCards\",\n",
       "\"All articles with unsourced statements\",\"Articles with unsourced statements from April 2019\",\"Articles with unsourced statements from July 2019\",\"Commons category link from Wikidata\",\"Wikipedia articles with GND identifiers\",\"Wikipedia articles with ISNI identifiers\",\"Wikipedia articles with VIAF identifiers\",\"Wikipedia articles with BNF identifiers\",\"Wikipedia articles with LCCN identifiers\",\"Wikipedia articles with NKC identifiers\",\"Wikipedia articles with NLI identifiers\",\"Wikipedia articles with NTA identifiers\",\"Wikipedia articles with PLWABN identifiers\",\"Wikipedia articles with ULAN identifiers\",\"Wikipedia articles with FAST identifiers\",\"Wikipedia articles with SNAC-ID identifiers\",\"Wikipedia articles with SUDOC identifiers\",\"Wikipedia articles with WORLDCATID identifiers\",\"Wikipedia articles with multiple identifiers\",\"1914 births\",\"1995 deaths\",\"20th-century American inventors\",\"20th-century American physicians\",\"American epidemiologists\",\"American humanists\",\n",
       "\"American medical researchers\",\"American people of Belarusian-Jewish descent\",\"American virologists\",\"Ashkenazi Jews\",\"Burials in California\",\"City College of New York alumni\",\"Congressional Gold Medal recipients\",\"Grand Officers of the Order of Merit of the Italian Republic\",\"History of medicine\",\"Jewish American scientists\",\"Jewish humanists\",\"Jewish inventors\",\"New York University School of Medicine alumni\",\"People from East Harlem\",\"People from San Diego\",\"Physicians from New York City\",\"Polio\",\"Presidential Medal of Freedom recipients\",\"Recipients of the Lasker-DeBakey Clinical Medical Research Award\",\"Salk Institute for Biological Studies\",\"Salk Institute for Biological Studies people\",\"Scientists from New York City\",\"Scientists from Pittsburgh\",\"Townsend Harris High School alumni\",\"University of Michigan faculty\",\"University of Pittsburgh faculty\",\"Vaccinologists\"],\"wgPageContentLanguage\":\"en\",\"wgPageContentModel\":\"wikitext\",\"wgRelevantPageName\":\"Jonas_Salk\",\n",
       "\"wgRelevantArticleId\":25709692,\"wgIsProbablyEditable\":!0,\"wgRelevantPageIsProbablyEditable\":!0,\"wgRestrictionEdit\":[],\"wgRestrictionMove\":[],\"wgFlaggedRevsParams\":{\"tags\":{\"status\":{\"levels\":-1}}},\"wgMediaViewerOnClick\":!0,\"wgMediaViewerEnabledByDefault\":!0,\"wgPopupsFlags\":10,\"wgVisualEditor\":{\"pageLanguageCode\":\"en\",\"pageLanguageDir\":\"ltr\",\"pageVariantFallbacks\":\"en\"},\"wgMFDisplayWikibaseDescriptions\":{\"search\":!0,\"nearby\":!0,\"watchlist\":!0,\"tagline\":!1},\"wgWMESchemaEditAttemptStepOversample\":!1,\"wgULSCurrentAutonym\":\"English\",\"wgNoticeProject\":\"wikipedia\",\"wgCentralAuthMobileDomain\":!1,\"wgEditSubmitButtonLabelPublish\":!0,\"wgULSPosition\":\"interlanguage\",\"wgULSisCompactLinksEnabled\":!0,\"wgGENewcomerTasksGuidanceEnabled\":!0,\"wgGEAskQuestionEnabled\":!1,\"wgGELinkRecommendationsFrontendEnabled\":!1,\"wgWikibaseItemId\":\"Q200101\"};RLSTATE={\"ext.globalCssJs.user.styles\":\"ready\",\"site.styles\":\"ready\",\"noscript\":\"ready\",\"user.styles\":\"ready\",\n",
       "\"ext.globalCssJs.user\":\"ready\",\"user\":\"ready\",\"user.options\":\"loading\",\"ext.cite.styles\":\"ready\",\"skins.vector.styles.legacy\":\"ready\",\"jquery.makeCollapsible.styles\":\"ready\",\"ext.visualEditor.desktopArticleTarget.noscript\":\"ready\",\"ext.uls.interlanguage\":\"ready\",\"ext.wikimediaBadges\":\"ready\",\"wikibase.client.init\":\"ready\"};RLPAGEMODULES=[\"ext.cite.ux-enhancements\",\"site\",\"mediawiki.page.ready\",\"jquery.makeCollapsible\",\"mediawiki.toc\",\"skins.vector.legacy.js\",\"ext.gadget.ReferenceTooltips\",\"ext.gadget.charinsert\",\"ext.gadget.extra-toolbar-buttons\",\"ext.gadget.refToolbar\",\"ext.gadget.switcher\",\"ext.centralauth.centralautologin\",\"mmv.head\",\"mmv.bootstrap.autostart\",\"ext.popups\",\"ext.visualEditor.desktopArticleTarget.init\",\"ext.visualEditor.targetLoader\",\"ext.eventLogging\",\"ext.wikimediaEvents\",\"ext.navigationTiming\",\"ext.uls.compactlinks\",\"ext.uls.interface\",\"ext.cx.eventlogging.campaigns\",\"ext.centralNotice.geoIP\",\"ext.centralNotice.startUp\",\"ext.growthExperiments.SuggestedEditSession\"];</script>\n",
       "<script>(RLQ=window.RLQ||[]).push(function(){mw.loader.implement(\"user.options@1hzgi\",function($,jQuery,require,module){/*@nomin*/mw.user.tokens.set({\"patrolToken\":\"+\\\\\",\"watchToken\":\"+\\\\\",\"csrfToken\":\"+\\\\\"});\n",
       "});});</script>\n",
       "<link href=\"/w/load.php?lang=en&amp;modules=ext.cite.styles%7Cext.uls.interlanguage%7Cext.visualEditor.desktopArticleTarget.noscript%7Cext.wikimediaBadges%7Cjquery.makeCollapsible.styles%7Cskins.vector.styles.legacy%7Cwikibase.client.init&amp;only=styles&amp;skin=vector\" rel=\"stylesheet\"/>\n",
       "<script async=\"\" src=\"/w/load.php?lang=en&amp;modules=startup&amp;only=scripts&amp;raw=1&amp;skin=vector\"></script>\n",
       "<meta content=\"\" name=\"ResourceLoaderDynamicStyles\"/>\n",
       "<link href=\"/w/load.php?lang=en&amp;modules=site.styles&amp;only=styles&amp;skin=vector\" rel=\"stylesheet\"/>\n",
       "<meta content=\"MediaWiki 1.37.0-wmf.11\" name=\"generator\"/>\n",
       "<meta content=\"origin\" name=\"referrer\"/>\n",
       "<meta content=\"origin-when-crossorigin\" name=\"referrer\"/>\n",
       "<meta content=\"origin-when-cross-origin\" name=\"referrer\"/>\n",
       "<meta content=\"https://upload.wikimedia.org/wikipedia/commons/5/59/Jonas_Salk_candid.jpg\" property=\"og:image\"/>\n",
       "<meta content=\"Jonas Salk - Wikipedia\" property=\"og:title\"/>\n",
       "<meta content=\"website\" property=\"og:type\"/>\n",
       "<link href=\"//upload.wikimedia.org\" rel=\"preconnect\"/>\n",
       "<link href=\"//en.m.wikipedia.org/wiki/Jonas_Salk\" media=\"only screen and (max-width: 720px)\" rel=\"alternate\"/>\n",
       "<link href=\"/w/index.php?title=Jonas_Salk&amp;action=edit\" rel=\"alternate\" title=\"Edit this page\" type=\"application/x-wiki\"/>\n",
       "<link href=\"/w/index.php?title=Jonas_Salk&amp;action=edit\" rel=\"edit\" title=\"Edit this page\"/>\n",
       "<link href=\"/static/apple-touch/wikipedia.png\" rel=\"apple-touch-icon\"/>\n",
       "<link href=\"/static/favicon/wikipedia.ico\" rel=\"shortcut icon\"/>\n",
       "<link href=\"/w/opensearch_desc.php\" rel=\"search\" title=\"Wikipedia (en)\" type=\"application/opensearchdescription+xml\"/>\n",
       "<link href=\"//en.wikipedia.org/w/api.php?action=rsd\" rel=\"EditURI\" type=\"application/rsd+xml\"/>\n",
       "<link href=\"//creativecommons.org/licenses/by-sa/3.0/\" rel=\"license\"/>\n",
       "<link href=\"https://en.wikipedia.org/wiki/Jonas_Salk\" rel=\"canonical\"/>\n",
       "<link href=\"//login.wikimedia.org\" rel=\"dns-prefetch\"/>\n",
       "<link href=\"//meta.wikimedia.org\" rel=\"dns-prefetch\"/>\n",
       "</head>\n",
       "<body class=\"mediawiki ltr sitedir-ltr mw-hide-empty-elt ns-0 ns-subject mw-editable page-Jonas_Salk rootpage-Jonas_Salk skin-vector action-view skin-vector-legacy\"><div class=\"noprint\" id=\"mw-page-base\"></div>\n",
       "<div class=\"noprint\" id=\"mw-head-base\"></div>\n",
       "<div class=\"mw-body\" id=\"content\" role=\"main\">\n",
       "<a id=\"top\"></a>\n",
       "<div id=\"siteNotice\"><!-- CentralNotice --></div>\n",
       "<div class=\"mw-indicators\">\n",
       "</div>\n",
       "<h1 class=\"firstHeading\" id=\"firstHeading\">Jonas Salk</h1>\n",
       "<div class=\"vector-body\" id=\"bodyContent\">\n",
       "<div class=\"noprint\" id=\"siteSub\">From Wikipedia, the free encyclopedia</div>\n",
       "<div id=\"contentSub\"></div>\n",
       "<div id=\"contentSub2\"></div>\n",
       "<div id=\"jump-to-nav\"></div>\n",
       "<a class=\"mw-jump-link\" href=\"#mw-head\">Jump to navigation</a>\n",
       "<a class=\"mw-jump-link\" href=\"#searchInput\">Jump to search</a>\n",
       "<div class=\"mw-body-content mw-content-ltr\" dir=\"ltr\" id=\"mw-content-text\" lang=\"en\"><div class=\"mw-parser-output\"><div class=\"shortdescription nomobile noexcerpt noprint searchaux\" style=\"display:none\">20th-century American virologist; inventor of the polio vaccine</div>\n",
       "<div class=\"hatnote navigation-not-searchable\" role=\"note\">\"Salk\" redirects here. For other uses, see <a class=\"mw-disambig\" href=\"/wiki/Salk_(disambiguation)\" title=\"Salk (disambiguation)\">Salk (disambiguation)</a>.</div>\n",
       "<table class=\"infobox biography vcard\"><tbody><tr><th class=\"infobox-above\" colspan=\"2\" style=\"font-size:125%;\"><div class=\"fn\" style=\"display:inline\">Jonas Salk</div></th></tr><tr><td class=\"infobox-image\" colspan=\"2\"><a class=\"image\" href=\"/wiki/File:Jonas_Salk_candid.jpg\"><img alt=\"Jonas Salk candid.jpg\" data-file-height=\"1310\" data-file-width=\"1003\" decoding=\"async\" height=\"287\" src=\"//upload.wikimedia.org/wikipedia/commons/thumb/5/59/Jonas_Salk_candid.jpg/220px-Jonas_Salk_candid.jpg\" srcset=\"//upload.wikimedia.org/wikipedia/commons/thumb/5/59/Jonas_Salk_candid.jpg/330px-Jonas_Salk_candid.jpg 1.5x, //upload.wikimedia.org/wikipedia/commons/thumb/5/59/Jonas_Salk_candid.jpg/440px-Jonas_Salk_candid.jpg 2x\" width=\"220\"/></a><div class=\"infobox-caption\">Jonas Salk at <a href=\"/wiki/Copenhagen_Airport\" title=\"Copenhagen Airport\">Copenhagen Airport</a> (May 1959)</div></td></tr><tr><th class=\"infobox-label\" scope=\"row\">Born</th><td class=\"infobox-data\"><div class=\"nickname\" style=\"display:inline\">Jonas Salk</div><br/><span style=\"display:none\">(<span class=\"bday\">1914-10-28</span>)</span>October 28, 1914<br/><div class=\"birthplace\" style=\"display:inline\"><a href=\"/wiki/New_York_City\" title=\"New York City\">New York City</a>, U.S.</div></td></tr><tr><th class=\"infobox-label\" scope=\"row\">Died</th><td class=\"infobox-data\">June 23, 1995<span style=\"display:none\">(1995-06-23)</span> (aged 80)<sup class=\"reference\" id=\"cite_ref-NYT_Obit_1-0\"><a href=\"#cite_note-NYT_Obit-1\">[1]</a></sup><br/><div class=\"deathplace\" style=\"display:inline\"><a href=\"/wiki/La_Jolla\" title=\"La Jolla\">La Jolla, California</a>, U.S.<sup class=\"reference\" id=\"cite_ref-NYT_Obit_1-1\"><a href=\"#cite_note-NYT_Obit-1\">[1]</a></sup></div></td></tr><tr><th class=\"infobox-label\" scope=\"row\">Resting place</th><td class=\"infobox-data label\"><a href=\"/wiki/El_Camino_Memorial_Park\" title=\"El Camino Memorial Park\">El Camino Memorial Park</a><br/><a href=\"/wiki/San_Diego\" title=\"San Diego\">San Diego</a>, California</td></tr><tr><th class=\"infobox-label\" scope=\"row\">Nationality</th><td class=\"infobox-data category\">American</td></tr><tr><th class=\"infobox-label\" scope=\"row\">Alma mater</th><td class=\"infobox-data\"><a href=\"/wiki/City_College_of_New_York\" title=\"City College of New York\">City College of New York</a><sup class=\"reference\" id=\"cite_ref-NYT_Obit_1-2\"><a href=\"#cite_note-NYT_Obit-1\">[1]</a></sup><br/><a href=\"/wiki/New_York_University\" title=\"New York University\">New York University</a><sup class=\"reference\" id=\"cite_ref-NYT_Obit_1-3\"><a href=\"#cite_note-NYT_Obit-1\">[1]</a></sup></td></tr><tr><th class=\"infobox-label\" scope=\"row\">Known for</th><td class=\"infobox-data\">First <a href=\"/wiki/Polio_vaccine\" title=\"Polio vaccine\">polio vaccine</a></td></tr><tr><th class=\"infobox-label\" scope=\"row\"><span class=\"nowrap\">Spouse(s)</span></th><td class=\"infobox-data\"><div style=\"display:inline;white-space:nowrap;\"><div style=\"display:inline-block;line-height:normal;margin-top:1px;white-space:normal;\">Donna Lindsay<br/></div>\n",
       "<div style=\"line-height:0;margin-bottom:-2px;\">​</div> <div style=\"display:inline-block;margin-bottom:1px;\">​</div>(<abbr title=\"married\">m.</abbr> 1939; <abbr title=\"divorced\">div.</abbr> 1968)<wbr/>​</div><sup class=\"reference\" id=\"cite_ref-NYT_Obit_1-4\"><a href=\"#cite_note-NYT_Obit-1\">[1]</a></sup><br/>\n",
       "<div style=\"display:inline;white-space:nowrap;\"><div style=\"display:inline-block;line-height:normal;margin-top:1px;white-space:normal;\"><a href=\"/wiki/Fran%C3%A7oise_Gilot\" title=\"Françoise Gilot\">Françoise Gilot</a><br/></div>\n",
       "<div style=\"line-height:0;margin-bottom:-2px;\">​</div> <div style=\"display:inline-block;margin-bottom:1px;\">​</div>(<abbr title=\"married\">m.</abbr> 1970)<wbr/>​</div><sup class=\"reference\" id=\"cite_ref-NYT_Obit_1-5\"><a href=\"#cite_note-NYT_Obit-1\">[1]</a></sup></td></tr><tr><th class=\"infobox-label\" scope=\"row\">Awards</th><td class=\"infobox-data\"><div class=\"plainlist\"><ul><li><a href=\"/wiki/Lasker_Award\" title=\"Lasker Award\">Albert Lasker Award</a> (1956)<sup class=\"reference\" id=\"cite_ref-NYT_Obit_1-6\"><a href=\"#cite_note-NYT_Obit-1\">[1]</a></sup></li><li><a href=\"/wiki/Robert_Koch_Medal_and_Award\" title=\"Robert Koch Medal and Award\">Robert Koch Medal</a><sup class=\"reference\" id=\"cite_ref-NYT_Obit_1-7\"><a href=\"#cite_note-NYT_Obit-1\">[1]</a></sup></li><li>Mellon Institute Award<sup class=\"reference\" id=\"cite_ref-NYT_Obit_1-8\"><a href=\"#cite_note-NYT_Obit-1\">[1]</a></sup></li><li>United States Presidential Citation<sup class=\"reference\" id=\"cite_ref-NYT_Obit_1-9\"><a href=\"#cite_note-NYT_Obit-1\">[1]</a></sup></li><li><a href=\"/wiki/Congressional_Gold_Medal\" title=\"Congressional Gold Medal\">Congressional Gold Medal</a><sup class=\"reference\" id=\"cite_ref-NYT_Obit_1-10\"><a href=\"#cite_note-NYT_Obit-1\">[1]</a></sup></li></ul></div></td></tr><tr><td class=\"infobox-full-data\" colspan=\"2\"><b>Scientific career</b></td></tr><tr><th class=\"infobox-label\" scope=\"row\">Fields</th><td class=\"infobox-data category\">Medical research,<br/>virology, and epidemiology</td></tr><tr><th class=\"infobox-label\" scope=\"row\">Institutions</th><td class=\"infobox-data\"><a href=\"/wiki/University_of_Pittsburgh\" title=\"University of Pittsburgh\">University of Pittsburgh</a><br/><a class=\"mw-redirect\" href=\"/wiki/Salk_Institute\" title=\"Salk Institute\">Salk Institute</a><br/><a href=\"/wiki/University_of_Michigan\" title=\"University of Michigan\">University of Michigan</a></td></tr><tr><th class=\"infobox-label\" scope=\"row\"><a href=\"/wiki/Doctoral_advisor\" title=\"Doctoral advisor\">Doctoral advisor</a></th><td class=\"infobox-data\"><a href=\"/wiki/Thomas_Francis_Jr.\" title=\"Thomas Francis Jr.\">Thomas Francis Jr.</a></td></tr><tr style=\"display:none\"><td colspan=\"2\">\n",
       "</td></tr><tr><th class=\"infobox-header\" colspan=\"2\">Signature</th></tr><tr><td class=\"infobox-full-data\" colspan=\"2\"><a class=\"image\" href=\"/wiki/File:Jonas_Salk_signature.svg\"><img alt=\"Jonas Salk signature.svg\" data-file-height=\"278\" data-file-width=\"585\" decoding=\"async\" height=\"71\" src=\"//upload.wikimedia.org/wikipedia/commons/thumb/4/4a/Jonas_Salk_signature.svg/150px-Jonas_Salk_signature.svg.png\" srcset=\"//upload.wikimedia.org/wikipedia/commons/thumb/4/4a/Jonas_Salk_signature.svg/225px-Jonas_Salk_signature.svg.png 1.5x, //upload.wikimedia.org/wikipedia/commons/thumb/4/4a/Jonas_Salk_signature.svg/300px-Jonas_Salk_signature.svg.png 2x\" width=\"150\"/></a></td></tr></tbody></table>\n",
       "<p><b>Jonas Edward Salk</b> (<span class=\"rt-commentedText nowrap\"><span class=\"IPA nopopups noexcerpt\"><a href=\"/wiki/Help:IPA/English\" title=\"Help:IPA/English\">/<span style=\"border-bottom:1px dotted\"><span title=\"'s' in 'sigh'\">s</span><span title=\"/ɔː/: 'au' in 'fraud'\">ɔː</span><span title=\"'l' in 'lie'\">l</span><span title=\"'k' in 'kind'\">k</span></span>/</a></span></span>; born <b>Jonas Salk</b>; October 28, 1914 – June 23, 1995) was an American <a href=\"/wiki/Virology\" title=\"Virology\">virologist</a> and medical researcher who developed one of the first successful <a href=\"/wiki/Polio_vaccine\" title=\"Polio vaccine\">polio vaccines</a>. He was born in <a href=\"/wiki/New_York_City\" title=\"New York City\">New York City</a> and attended the <a href=\"/wiki/City_College_of_New_York\" title=\"City College of New York\">City College of New York</a> and <a class=\"mw-redirect\" href=\"/wiki/New_York_University_School_of_Medicine\" title=\"New York University School of Medicine\">New York University School of Medicine</a>.<sup class=\"reference\" id=\"cite_ref-About_2-0\"><a href=\"#cite_note-About-2\">[2]</a></sup>\n",
       "</p><p>In 1947, Salk accepted a professorship in the <a href=\"/wiki/University_of_Pittsburgh_School_of_Medicine\" title=\"University of Pittsburgh School of Medicine\">School of Medicine</a> at the <a href=\"/wiki/University_of_Pittsburgh\" title=\"University of Pittsburgh\">University of Pittsburgh</a>. It was there that he undertook a project to determine the number of different types of <a href=\"/wiki/Poliovirus\" title=\"Poliovirus\">poliovirus</a>, starting in 1948. For the next seven years, Salk devoted himself towards developing a vaccine against <a href=\"/wiki/Polio\" title=\"Polio\">polio</a>.\n",
       "</p><p>Salk was immediately hailed as a \"miracle worker\" when the vaccine's success was first made public in April 1955, and chose to not patent the vaccine or seek any profit from it in order to maximize its global distribution.<sup class=\"reference\" id=\"cite_ref-About_2-1\"><a href=\"#cite_note-About-2\">[2]</a></sup> An immediate rush to vaccinate began in both the United States and around the world. Many countries began polio immunization campaigns using Salk's vaccine, including Canada, Sweden, Denmark, Norway, West Germany, the Netherlands, Switzerland, and Belgium. By 1959, the Salk vaccine had reached about 90 countries.<sup class=\"reference\" id=\"cite_ref-3\"><a href=\"#cite_note-3\">[3]</a></sup> An attenuated live oral <a href=\"/wiki/Polio_vaccine\" title=\"Polio vaccine\">polio vaccine</a> was developed by <a href=\"/wiki/Albert_Sabin\" title=\"Albert Sabin\">Albert Sabin</a>, coming into commercial use in 1961. Less than 25 years after the release of Salk's vaccine, domestic transmission of polio had been completely eliminated in the United States.\n",
       "</p><p>In 1963, Salk founded the <a href=\"/wiki/Salk_Institute_for_Biological_Studies\" title=\"Salk Institute for Biological Studies\">Salk Institute for Biological Studies</a> in <a href=\"/wiki/La_Jolla\" title=\"La Jolla\">La Jolla</a>, <a href=\"/wiki/California\" title=\"California\">California</a>, which is today a center for medical and scientific research. He continued to conduct research and publish books in his later years, focusing in his last years on the search for a <a class=\"mw-redirect\" href=\"/wiki/HIV_vaccine\" title=\"HIV vaccine\">vaccine against HIV</a>. Salk also campaigned vigorously for mandatory vaccination throughout the rest of his life, calling the universal vaccination of children against disease a \"moral commitment\".<sup class=\"reference\" id=\"cite_ref-usa_4-0\"><a href=\"#cite_note-usa-4\">[4]</a></sup> Salk's personal papers are today stored in <a href=\"/wiki/Geisel_Library\" title=\"Geisel Library\">Geisel Library</a> at the <a href=\"/wiki/University_of_California,_San_Diego\" title=\"University of California, San Diego\">University of California, San Diego</a>.<sup class=\"reference\" id=\"cite_ref-5\"><a href=\"#cite_note-5\">[5]</a></sup><sup class=\"reference\" id=\"cite_ref-6\"><a href=\"#cite_note-6\">[6]</a></sup>\n",
       "</p>\n",
       "<div aria-labelledby=\"mw-toc-heading\" class=\"toc\" id=\"toc\" role=\"navigation\"><input class=\"toctogglecheckbox\" id=\"toctogglecheckbox\" role=\"button\" style=\"display:none\" type=\"checkbox\"/><div class=\"toctitle\" dir=\"ltr\" lang=\"en\"><h2 id=\"mw-toc-heading\">Contents</h2><span class=\"toctogglespan\"><label class=\"toctogglelabel\" for=\"toctogglecheckbox\"></label></span></div>\n",
       "<ul>\n",
       "<li class=\"toclevel-1 tocsection-1\"><a href=\"#Early_life_and_education\"><span class=\"tocnumber\">1</span> <span class=\"toctext\">Early life and education</span></a>\n",
       "<ul>\n",
       "<li class=\"toclevel-2 tocsection-2\"><a href=\"#Education\"><span class=\"tocnumber\">1.1</span> <span class=\"toctext\">Education</span></a></li>\n",
       "<li class=\"toclevel-2 tocsection-3\"><a href=\"#Medical_school\"><span class=\"tocnumber\">1.2</span> <span class=\"toctext\">Medical school</span></a></li>\n",
       "<li class=\"toclevel-2 tocsection-4\"><a href=\"#Postgraduate_research_and_early_laboratory_work\"><span class=\"tocnumber\">1.3</span> <span class=\"toctext\">Postgraduate research and early laboratory work</span></a></li>\n",
       "</ul>\n",
       "</li>\n",
       "<li class=\"toclevel-1 tocsection-5\"><a href=\"#Polio_research\"><span class=\"tocnumber\">2</span> <span class=\"toctext\">Polio research</span></a></li>\n",
       "<li class=\"toclevel-1 tocsection-6\"><a href=\"#Becoming_a_public_figure\"><span class=\"tocnumber\">3</span> <span class=\"toctext\">Becoming a public figure</span></a>\n",
       "<ul>\n",
       "<li class=\"toclevel-2 tocsection-7\"><a href=\"#Celebrity_versus_privacy\"><span class=\"tocnumber\">3.1</span> <span class=\"toctext\">Celebrity versus privacy</span></a></li>\n",
       "<li class=\"toclevel-2 tocsection-8\"><a href=\"#Maintaining_his_individuality\"><span class=\"tocnumber\">3.2</span> <span class=\"toctext\">Maintaining his individuality</span></a></li>\n",
       "</ul>\n",
       "</li>\n",
       "<li class=\"toclevel-1 tocsection-9\"><a href=\"#Establishing_the_Salk_Institute\"><span class=\"tocnumber\">4</span> <span class=\"toctext\">Establishing the Salk Institute</span></a></li>\n",
       "<li class=\"toclevel-1 tocsection-10\"><a href=\"#AIDS_vaccine_work\"><span class=\"tocnumber\">5</span> <span class=\"toctext\">AIDS vaccine work</span></a></li>\n",
       "<li class=\"toclevel-1 tocsection-11\"><a href=\"#Salk's_&quot;biophilosophy&quot;\"><span class=\"tocnumber\">6</span> <span class=\"toctext\">Salk's \"biophilosophy\"</span></a></li>\n",
       "<li class=\"toclevel-1 tocsection-12\"><a href=\"#Personal_life\"><span class=\"tocnumber\">7</span> <span class=\"toctext\">Personal life</span></a></li>\n",
       "<li class=\"toclevel-1 tocsection-13\"><a href=\"#Honors_and_recognition\"><span class=\"tocnumber\">8</span> <span class=\"toctext\">Honors and recognition</span></a>\n",
       "<ul>\n",
       "<li class=\"toclevel-2 tocsection-14\"><a href=\"#Documentary_films\"><span class=\"tocnumber\">8.1</span> <span class=\"toctext\">Documentary films</span></a></li>\n",
       "</ul>\n",
       "</li>\n",
       "<li class=\"toclevel-1 tocsection-15\"><a href=\"#Salk's_book_publications\"><span class=\"tocnumber\">9</span> <span class=\"toctext\">Salk's book publications</span></a></li>\n",
       "<li class=\"toclevel-1 tocsection-16\"><a href=\"#See_also\"><span class=\"tocnumber\">10</span> <span class=\"toctext\">See also</span></a></li>\n",
       "<li class=\"toclevel-1 tocsection-17\"><a href=\"#References\"><span class=\"tocnumber\">11</span> <span class=\"toctext\">References</span></a></li>\n",
       "<li class=\"toclevel-1 tocsection-18\"><a href=\"#Further_reading\"><span class=\"tocnumber\">12</span> <span class=\"toctext\">Further reading</span></a></li>\n",
       "<li class=\"toclevel-1 tocsection-19\"><a href=\"#External_links\"><span class=\"tocnumber\">13</span> <span class=\"toctext\">External links</span></a></li>\n",
       "</ul>\n",
       "</div>\n",
       "<h2><span class=\"mw-headline\" id=\"Early_life_and_education\">Early life and education</span><span class=\"mw-editsection\"><span class=\"mw-editsection-bracket\">[</span><a href=\"/w/index.php?title=Jonas_Salk&amp;action=edit&amp;section=1\" title=\"Edit section: Early life and education\">edit</a><span class=\"mw-editsection-bracket\">]</span></span></h2>\n",
       "<p>Jonas Salk was born in <a href=\"/wiki/New_York_City\" title=\"New York City\">New York City</a> to Daniel and Dora (née Press) Salk. His parents were <a href=\"/wiki/Ashkenazi_Jews\" title=\"Ashkenazi Jews\">Ashkenazi Jewish</a>; Daniel was born in New Jersey to immigrant parents and Dora, who was born in <a href=\"/wiki/Minsk\" title=\"Minsk\">Minsk</a>, emigrated when she was twelve.<sup class=\"reference\" id=\"cite_ref-7\"><a href=\"#cite_note-7\">[7]</a></sup><sup class=\"reference\" id=\"cite_ref-Jacobs2015_8-0\"><a href=\"#cite_note-Jacobs2015-8\">[8]</a></sup> Salk's parents did not receive extensive formal education.<sup class=\"reference\" id=\"cite_ref-9\"><a href=\"#cite_note-9\">[9]</a></sup> Jonas had two younger brothers, Herman and <a href=\"/wiki/Lee_Salk\" title=\"Lee Salk\">Lee</a>, a renowned child psychologist.<sup class=\"reference\" id=\"cite_ref-10\"><a href=\"#cite_note-10\">[10]</a></sup> The family moved from <a href=\"/wiki/East_Harlem\" title=\"East Harlem\">East Harlem</a> to 853 Elsmere Place, <a href=\"/wiki/The_Bronx\" title=\"The Bronx\">the Bronx</a>,<sup class=\"reference\" id=\"cite_ref-11\"><a href=\"#cite_note-11\">[11]</a></sup> with some time spent in <a href=\"/wiki/Queens\" title=\"Queens\">Queens</a> at 439 Beach 69th Street, <a href=\"/wiki/Arverne,_Queens\" title=\"Arverne, Queens\">Arverne</a>.<sup class=\"reference\" id=\"cite_ref-12\"><a href=\"#cite_note-12\">[12]</a></sup>\n",
       "</p><p>When he was 13, Salk entered <a href=\"/wiki/Townsend_Harris_High_School\" title=\"Townsend Harris High School\">Townsend Harris High School</a>, a public school for intellectually gifted students. Named after the founder of <a href=\"/wiki/City_College_of_New_York\" title=\"City College of New York\">City College of New York</a> (CCNY), it was, wrote his biographer, Dr. David Oshinsky, \"a launching pad for the talented sons of immigrant parents who lacked the money—and pedigree—to attend a top private school.\" In high school \"he was known as a perfectionist ... who read everything he could lay his hands on,\" according to one of his fellow students.<sup class=\"reference\" id=\"cite_ref-Bookchin_13-0\"><a href=\"#cite_note-Bookchin-13\">[13]</a></sup> Students had to cram a four-year curriculum into just three years. As a result, most dropped out or flunked out, despite the school's motto \"study, study, study.\" Of the students who graduated, however, most had the grades to enroll in CCNY, noted for being a highly competitive college.<sup class=\"reference\" id=\"cite_ref-Oshinsky_14-0\"><a href=\"#cite_note-Oshinsky-14\">[14]</a></sup><sup class=\"reference\" style=\"white-space:nowrap;\">:<span>96</span></sup>\n",
       "</p>\n",
       "<h3><span class=\"mw-headline\" id=\"Education\">Education</span><span class=\"mw-editsection\"><span class=\"mw-editsection-bracket\">[</span><a href=\"/w/index.php?title=Jonas_Salk&amp;action=edit&amp;section=2\" title=\"Edit section: Education\">edit</a><span class=\"mw-editsection-bracket\">]</span></span></h3>\n",
       "<p>Salk enrolled in CCNY, from which he earned a <a href=\"/wiki/Bachelor_of_Science\" title=\"Bachelor of Science\">Bachelor of Science</a> degree in chemistry in 1934.<sup class=\"reference\" id=\"cite_ref-sherrow_15-0\"><a href=\"#cite_note-sherrow-15\">[15]</a></sup> Oshinsky writes that \"for working-class immigrant families, City College represented the apex of public higher education. Getting in was tough, but tuition was free. Competition was intense, but the rules were fairly applied. No one got an advantage based on an accident of birth.\"<sup class=\"reference\" id=\"cite_ref-Oshinsky_14-1\"><a href=\"#cite_note-Oshinsky-14\">[14]</a></sup>\n",
       "</p><p>At his mother's urging, he put aside aspirations of becoming a lawyer and instead concentrated on classes necessary for admission to medical school. However, according to Oshinsky, the facilities at City College were \"barely second rate.\" There were no research laboratories. The library was inadequate. The faculty contained few noted scholars. \"What made the place special,\" he writes, \"was the student body that had fought so hard to get there... driven by their parents.... From these ranks, of the 1930s and 1940s, emerged a wealth of intellectual talent, including more <a href=\"/wiki/Nobel_Prize\" title=\"Nobel Prize\">Nobel Prize</a> winners—eight—and PhD recipients than any other public college except the <a href=\"/wiki/University_of_California,_Berkeley\" title=\"University of California, Berkeley\">University of California at Berkeley</a>.\" Salk entered CCNY at the age of 15, a \"common age for a freshman who had skipped multiple grades along the way.\"<sup class=\"reference\" id=\"cite_ref-Oshinsky_14-2\"><a href=\"#cite_note-Oshinsky-14\">[14]</a></sup><sup class=\"reference\" style=\"white-space:nowrap;\">:<span>98</span></sup>\n",
       "</p><p>As a child, Salk did not show any interest in medicine or science in general. He said in an interview with the <a href=\"/wiki/Academy_of_Achievement\" title=\"Academy of Achievement\">Academy of Achievement</a>,<sup class=\"reference\" id=\"cite_ref-16\"><a href=\"#cite_note-16\">[16]</a></sup> \"As a child I was not interested in science. I was merely interested in things human, the human side of nature, if you like, and I continue to be interested in that.\"\n",
       "</p>\n",
       "<h3><span class=\"mw-headline\" id=\"Medical_school\">Medical school</span><span class=\"mw-editsection\"><span class=\"mw-editsection-bracket\">[</span><a href=\"/w/index.php?title=Jonas_Salk&amp;action=edit&amp;section=3\" title=\"Edit section: Medical school\">edit</a><span class=\"mw-editsection-bracket\">]</span></span></h3>\n",
       "<p>After City College, Salk enrolled in <a href=\"/wiki/New_York_University\" title=\"New York University\">New York University</a> to study medicine. According to Oshinsky, NYU based its modest reputation on famous alumni, such as <a href=\"/wiki/Walter_Reed\" title=\"Walter Reed\">Walter Reed</a>, who helped conquer <a href=\"/wiki/Yellow_fever\" title=\"Yellow fever\">yellow fever</a>. Tuition was \"comparatively low, better still, it did not discriminate against Jews... while most of the surrounding medical schools—<a href=\"/wiki/Cornell_University\" title=\"Cornell University\">Cornell</a>, <a href=\"/wiki/Columbia_University\" title=\"Columbia University\">Columbia</a>, <a href=\"/wiki/University_of_Pennsylvania\" title=\"University of Pennsylvania\">University of Pennsylvania</a>, and <a href=\"/wiki/Yale_University\" title=\"Yale University\">Yale</a>—had rigid <a href=\"/wiki/Jewish_quota\" title=\"Jewish quota\">quotas</a> in place.\" Yale, for example, accepted 76 applicants in 1935 out of a pool of 501. Although 200 of the applicants were Jewish, only five got in.<sup class=\"reference\" id=\"cite_ref-Oshinsky_14-3\"><a href=\"#cite_note-Oshinsky-14\">[14]</a></sup><sup class=\"reference\" style=\"white-space:nowrap;\">:<span>98</span></sup> During his years at <a class=\"mw-redirect\" href=\"/wiki/New_York_University_School_of_Medicine\" title=\"New York University School of Medicine\">New York University Medical School</a>, Salk worked as a laboratory technician during the school year and as a camp counselor in the summer.<sup class=\"reference\" id=\"cite_ref-sherrow_15-1\"><a href=\"#cite_note-sherrow-15\">[15]</a></sup>\n",
       "</p><p>During Salk's medical studies, he stood out from his peers, according to Bookchin, \"not just because of his continued academic prowess—he was <a href=\"/wiki/Alpha_Omega_Alpha\" title=\"Alpha Omega Alpha\">Alpha Omega Alpha</a>, the <a href=\"/wiki/Phi_Beta_Kappa\" title=\"Phi Beta Kappa\">Phi Beta Kappa</a> Society of medical education—but because he had decided he did not want to practice medicine.\" Instead, he became absorbed in research, even taking a year off to study <a href=\"/wiki/Biochemistry\" title=\"Biochemistry\">biochemistry</a>. He later focused more of his studies on <a href=\"/wiki/Microbiology\" title=\"Microbiology\">bacteriology</a>, which had replaced medicine as his primary interest. He said his desire was to help humankind in general rather than single patients.<sup class=\"reference\" id=\"cite_ref-Bookchin_13-1\"><a href=\"#cite_note-Bookchin-13\">[13]</a></sup> \"It was the laboratory work, in particular, that gave new direction to his life.\"<sup class=\"reference\" id=\"cite_ref-Oshinsky_14-4\"><a href=\"#cite_note-Oshinsky-14\">[14]</a></sup>\n",
       "</p><p>Salk has said: \"My intention was to go to medical school, and then become a medical scientist. I did not intend to practice medicine, although in medical school, and in my internship, I did all the things that were necessary to qualify me in that regard. I had opportunities along the way to drop the idea of medicine and go into science. At one point at the end of my first year of medical school, I received an opportunity to spend a year in research and teaching in biochemistry, which I did. And at the end of that year, I was told that I could, if I wished, switch and get a Ph.D. in biochemistry, but my preference was to stay with medicine. And, I believe that this is all linked to my original ambition, or desire, which was to be of some help to humankind, so to speak, in a larger sense than just on a one-to-one basis.\"<sup class=\"reference\" id=\"cite_ref-17\"><a href=\"#cite_note-17\">[17]</a></sup>\n",
       "</p><p>Concerning his last year of medical school, Salk said: \"I had an opportunity to spend time in elective periods in my last year in medical school, in a laboratory that was involved in studies on influenza. The influenza virus had just been discovered about a few years before that. And, I saw the opportunity at that time to test the question as to whether we could destroy the virus infectivity and still immunize. And so, by carefully designed experiments, we found it was possible to do so.\"<sup class=\"reference\" id=\"cite_ref-18\"><a href=\"#cite_note-18\">[18]</a></sup>\n",
       "</p>\n",
       "<h3><span class=\"mw-headline\" id=\"Postgraduate_research_and_early_laboratory_work\">Postgraduate research and early laboratory work</span><span class=\"mw-editsection\"><span class=\"mw-editsection-bracket\">[</span><a href=\"/w/index.php?title=Jonas_Salk&amp;action=edit&amp;section=4\" title=\"Edit section: Postgraduate research and early laboratory work\">edit</a><span class=\"mw-editsection-bracket\">]</span></span></h3>\n",
       "<p>In 1941, during his postgraduate work in virology, Salk chose a two-month elective to work in the <a class=\"mw-redirect\" href=\"/wiki/Thomas_Francis,_Jr.\" title=\"Thomas Francis, Jr.\">Thomas Francis</a>' laboratory at the <a href=\"/wiki/University_of_Michigan\" title=\"University of Michigan\">University of Michigan</a>. Francis had recently joined the faculty of the medical school after working for the <a href=\"/wiki/Rockefeller_Foundation\" title=\"Rockefeller Foundation\">Rockefeller Foundation</a>, where he had discovered the type B <a href=\"/wiki/Orthomyxoviridae\" title=\"Orthomyxoviridae\">influenza virus</a>. According to Bookchin, \"the two-month stint in Francis's lab was Salk's first introduction to the world of <a href=\"/wiki/Virology\" title=\"Virology\">virology</a>—and he was hooked.\"<sup class=\"reference\" id=\"cite_ref-Bookchin_13-2\"><a href=\"#cite_note-Bookchin-13\">[13]</a></sup><sup class=\"reference\" style=\"white-space:nowrap;\">:<span>25</span></sup> After graduating from medical school, Salk began his residency at New York's prestigious <a href=\"/wiki/Mount_Sinai_Hospital_(Manhattan)\" title=\"Mount Sinai Hospital (Manhattan)\">Mount Sinai Hospital</a>, where he again worked in Francis's laboratory.<sup class=\"reference\" id=\"cite_ref-Oshinsky_14-5\"><a href=\"#cite_note-Oshinsky-14\">[14]</a></sup> Salk then worked at the <a href=\"/wiki/University_of_Michigan_School_of_Public_Health\" title=\"University of Michigan School of Public Health\">University of Michigan School of Public Health</a> with Francis, on an army-commissioned project in Michigan to develop an influenza vaccine. He and Francis eventually perfected a vaccine that was soon widely used at army bases, where Salk discovered and isolated one of the strains of influenza that was included in the final vaccine.<sup class=\"reference\" id=\"cite_ref-Bookchin_13-3\"><a href=\"#cite_note-Bookchin-13\">[13]</a></sup><sup class=\"reference\" style=\"white-space:nowrap;\">:<span>26</span></sup>\n",
       "</p>\n",
       "<h2><span class=\"mw-headline\" id=\"Polio_research\">Polio research</span><span class=\"mw-editsection\"><span class=\"mw-editsection-bracket\">[</span><a href=\"/w/index.php?title=Jonas_Salk&amp;action=edit&amp;section=5\" title=\"Edit section: Polio research\">edit</a><span class=\"mw-editsection-bracket\">]</span></span></h2>\n",
       "<div class=\"hatnote navigation-not-searchable\" role=\"note\">Further information: <a href=\"/wiki/Polio\" title=\"Polio\">Polio</a> and <a href=\"/wiki/Polio_vaccine\" title=\"Polio vaccine\">Polio vaccine</a></div>\n",
       "<div class=\"thumb tleft\"><div class=\"thumbinner\" style=\"width:222px;\"><a class=\"image\" href=\"/wiki/File:Roosevelt_OConnor.jpg\"><img alt=\"\" class=\"thumbimage\" data-file-height=\"498\" data-file-width=\"600\" decoding=\"async\" height=\"183\" src=\"//upload.wikimedia.org/wikipedia/commons/thumb/3/3c/Roosevelt_OConnor.jpg/220px-Roosevelt_OConnor.jpg\" srcset=\"//upload.wikimedia.org/wikipedia/commons/thumb/3/3c/Roosevelt_OConnor.jpg/330px-Roosevelt_OConnor.jpg 1.5x, //upload.wikimedia.org/wikipedia/commons/thumb/3/3c/Roosevelt_OConnor.jpg/440px-Roosevelt_OConnor.jpg 2x\" width=\"220\"/></a> <div class=\"thumbcaption\"><div class=\"magnify\"><a class=\"internal\" href=\"/wiki/File:Roosevelt_OConnor.jpg\" title=\"Enlarge\"></a></div>President Franklin D. Roosevelt meeting with <a href=\"/wiki/Basil_O%27Connor\" title=\"Basil O'Connor\">Basil O'Connor</a></div></div></div>\n",
       "<p>In 1947, Salk became ambitious for his own lab and was granted one at the <a href=\"/wiki/University_of_Pittsburgh_School_of_Medicine\" title=\"University of Pittsburgh School of Medicine\">University of Pittsburgh School of Medicine</a>, but the lab was smaller than he had hoped and he found the rules imposed by the university restrictive.<sup class=\"reference\" id=\"cite_ref-19\"><a href=\"#cite_note-19\">[19]</a></sup>\n",
       "In 1948, Harry Weaver, the director of research at the National Foundation for Infantile Paralysis, contacted Salk. He asked Salk to find out if there were more types of polio than the three then known, offering additional space, equipment and researchers. For the first year he gathered supplies and researchers including <a href=\"/wiki/Julius_Youngner\" title=\"Julius Youngner\">Julius Youngner</a>, Byron Bennett, L. James Lewis, and secretary Lorraine Friedman joined Salk's team, as well.<sup class=\"reference\" id=\"cite_ref-PBS_20-0\"><a href=\"#cite_note-PBS-20\">[20]</a></sup><sup class=\"reference\" id=\"cite_ref-21\"><a href=\"#cite_note-21\">[21]</a></sup> As time went on, Salk began securing grants from the <a href=\"/wiki/Mellon_family\" title=\"Mellon family\">Mellon family</a> and was able to build a working virology laboratory.<sup class=\"reference\" id=\"cite_ref-Bookchin_13-4\"><a href=\"#cite_note-Bookchin-13\">[13]</a></sup> He later joined the <a class=\"mw-redirect\" href=\"/wiki/National_Foundation_for_Infantile_Paralysis\" title=\"National Foundation for Infantile Paralysis\">National Foundation for Infantile Paralysis</a>'s polio project established by President Franklin D. Roosevelt.<sup class=\"reference\" id=\"cite_ref-Bookchin_13-5\"><a href=\"#cite_note-Bookchin-13\">[13]</a></sup><sup class=\"reference\" id=\"cite_ref-Wisdom_22-0\"><a href=\"#cite_note-Wisdom-22\">[22]</a></sup>\n",
       "</p><p>Extensive publicity and fear of polio led to much increased funding, $67 million by 1955, but research continued on dangerous live vaccines.<sup class=\"reference\" id=\"cite_ref-ONeill_23-0\"><a href=\"#cite_note-ONeill-23\">[23]</a></sup><sup class=\"reference\" id=\"cite_ref-Oshinsky_14-6\"><a href=\"#cite_note-Oshinsky-14\">[14]</a></sup><sup class=\"reference\" style=\"white-space:nowrap;\">:<span>85–87</span></sup>\n",
       "Salk decided to use the safer 'killed' virus, instead of weakened forms of strains of polio viruses like the ones used contemporaneously by <a href=\"/wiki/Albert_Sabin\" title=\"Albert Sabin\">Albert Sabin</a>, who was developing an oral vaccine.<sup class=\"reference\" id=\"cite_ref-Institute_24-0\"><a href=\"#cite_note-Institute-24\">[24]</a></sup>\n",
       "</p><p>After successful tests on laboratory animals, on July 2, 1952, assisted by the staff at the D.T. Watson Home for Crippled Children, Salk injected 43 children with his killed-virus vaccine. A few weeks later, Salk injected children at the Polk State School for the retarded and feeble-minded. He vaccinated his own children in 1953.<sup class=\"reference\" id=\"cite_ref-NPR1_25-0\"><a href=\"#cite_note-NPR1-25\">[25]</a></sup><sup class=\"reference\" id=\"cite_ref-NPR2_26-0\"><a href=\"#cite_note-NPR2-26\">[26]</a></sup>  In 1954 he tested the vaccine on about one million children, known as the polio pioneers. The vaccine was announced as safe on April 12, 1955.<sup class=\"reference\" id=\"cite_ref-ONeill_23-1\"><a href=\"#cite_note-ONeill-23\">[23]</a></sup><sup class=\"reference\" id=\"cite_ref-Wisdom_22-1\"><a href=\"#cite_note-Wisdom-22\">[22]</a></sup><sup class=\"reference\" id=\"cite_ref-27\"><a href=\"#cite_note-27\">[27]</a></sup><sup class=\"reference\" id=\"cite_ref-28\"><a href=\"#cite_note-28\">[28]</a></sup><sup class=\"reference\" id=\"cite_ref-NYT7-17-55_29-0\"><a href=\"#cite_note-NYT7-17-55-29\">[29]</a></sup>\n",
       "</p>\n",
       "<div class=\"thumb tright\"><div class=\"thumbinner\" style=\"width:172px;\"><a class=\"image\" href=\"/wiki/File:SalkatPitt.jpg\"><img alt=\"\" class=\"thumbimage\" data-file-height=\"309\" data-file-width=\"250\" decoding=\"async\" height=\"210\" src=\"//upload.wikimedia.org/wikipedia/commons/thumb/c/ca/SalkatPitt.jpg/170px-SalkatPitt.jpg\" srcset=\"//upload.wikimedia.org/wikipedia/commons/c/ca/SalkatPitt.jpg 1.5x\" width=\"170\"/></a> <div class=\"thumbcaption\"><div class=\"magnify\"><a class=\"internal\" href=\"/wiki/File:SalkatPitt.jpg\" title=\"Enlarge\"></a></div>Salk in 1955 at the University of Pittsburgh</div></div></div>\n",
       "<div class=\"thumb tleft\"><div class=\"thumbinner\" style=\"width:222px;\"><a class=\"image\" href=\"/wiki/File:Salk-child-Karsh.jpg\"><img alt=\"\" class=\"thumbimage\" data-file-height=\"580\" data-file-width=\"600\" decoding=\"async\" height=\"213\" src=\"//upload.wikimedia.org/wikipedia/en/thumb/e/e4/Salk-child-Karsh.jpg/220px-Salk-child-Karsh.jpg\" srcset=\"//upload.wikimedia.org/wikipedia/en/thumb/e/e4/Salk-child-Karsh.jpg/330px-Salk-child-Karsh.jpg 1.5x, //upload.wikimedia.org/wikipedia/en/thumb/e/e4/Salk-child-Karsh.jpg/440px-Salk-child-Karsh.jpg 2x\" width=\"220\"/></a> <div class=\"thumbcaption\"><div class=\"magnify\"><a class=\"internal\" href=\"/wiki/File:Salk-child-Karsh.jpg\" title=\"Enlarge\"></a></div>Magazine photo of Jonas Salk to O'Neill, \"the most elaborate program of its kind in history, involving 20,000 physicians and public health officers, 64,000 school personnel, and 220,000 volunteers,\"<sup class=\"reference\" id=\"cite_ref-ONeill_23-2\"><a href=\"#cite_note-ONeill-23\">[23]</a></sup> with over 1.8 million school children participating in the trial.<sup class=\"reference\" id=\"cite_ref-Rose_30-0\"><a href=\"#cite_note-Rose-30\">[30]</a></sup> A 1954 <a class=\"mw-redirect\" href=\"/wiki/Gallup_poll\" title=\"Gallup poll\">Gallup poll</a> showed that more Americans knew about the polio field trials than could give the full name of the President.</div></div></div>\n",
       "<div class=\"thumb tright\"><div class=\"thumbinner\" style=\"width:222px;\"><a class=\"image\" href=\"/wiki/File:Salk_March_of_Dimes_poster.jpg\"><img alt=\"\" class=\"thumbimage\" data-file-height=\"402\" data-file-width=\"331\" decoding=\"async\" height=\"267\" src=\"//upload.wikimedia.org/wikipedia/commons/thumb/7/7a/Salk_March_of_Dimes_poster.jpg/220px-Salk_March_of_Dimes_poster.jpg\" srcset=\"//upload.wikimedia.org/wikipedia/commons/thumb/7/7a/Salk_March_of_Dimes_poster.jpg/330px-Salk_March_of_Dimes_poster.jpg 1.5x, //upload.wikimedia.org/wikipedia/commons/7/7a/Salk_March_of_Dimes_poster.jpg 2x\" width=\"220\"/></a> <div class=\"thumbcaption\"><div class=\"magnify\"><a class=\"internal\" href=\"/wiki/File:Salk_March_of_Dimes_poster.jpg\" title=\"Enlarge\"></a></div><a href=\"/wiki/March_of_Dimes\" title=\"March of Dimes\">March of Dimes</a> poster <i>circa</i> 1957</div></div></div>\n",
       "<p>The project became large, involving 100 million contributors to the <a href=\"/wiki/March_of_Dimes\" title=\"March of Dimes\">March of Dimes</a>, and 7 million volunteers.<sup class=\"reference\" id=\"cite_ref-ONeill_23-3\"><a href=\"#cite_note-ONeill-23\">[23]</a></sup><sup class=\"reference\" id=\"cite_ref-Offit_31-0\"><a href=\"#cite_note-Offit-31\">[31]</a></sup><sup class=\"reference\" style=\"white-space:nowrap;\">:<span>54</span></sup> The foundation allowed itself to go into debt to finance the final research required to develop the Salk vaccine.<sup class=\"reference\" id=\"cite_ref-32\"><a href=\"#cite_note-32\">[32]</a></sup> Salk worked incessantly for two-and-a-half years.<sup class=\"reference\" id=\"cite_ref-ONeill_23-4\"><a href=\"#cite_note-ONeill-23\">[23]</a></sup><sup class=\"reference\" id=\"cite_ref-Denenberg_33-0\"><a href=\"#cite_note-Denenberg-33\">[33]</a></sup>\n",
       "</p><p>Salk's inactivated polio vaccine came into use in 1955.<sup class=\"reference\" id=\"cite_ref-WHO2016_34-0\"><a href=\"#cite_note-WHO2016-34\">[34]</a></sup><sup class=\"reference\" id=\"cite_ref-35\"><a href=\"#cite_note-35\">[35]</a></sup> It is on the <a href=\"/wiki/WHO_Model_List_of_Essential_Medicines\" title=\"WHO Model List of Essential Medicines\">World Health Organization's List of Essential Medicines</a>, the safest and most effective medicines needed in a <a href=\"/wiki/Health_system\" title=\"Health system\">health system</a>.<sup class=\"reference\" id=\"cite_ref-WHO21st_36-0\"><a href=\"#cite_note-WHO21st-36\">[36]</a></sup>\n",
       "</p>\n",
       "<h2><span class=\"mw-headline\" id=\"Becoming_a_public_figure\">Becoming a public figure</span><span class=\"mw-editsection\"><span class=\"mw-editsection-bracket\">[</span><a href=\"/w/index.php?title=Jonas_Salk&amp;action=edit&amp;section=6\" title=\"Edit section: Becoming a public figure\">edit</a><span class=\"mw-editsection-bracket\">]</span></span></h2>\n",
       "<h3><span class=\"mw-headline\" id=\"Celebrity_versus_privacy\">Celebrity versus privacy</span><span class=\"mw-editsection\"><span class=\"mw-editsection-bracket\">[</span><a href=\"/w/index.php?title=Jonas_Salk&amp;action=edit&amp;section=7\" title=\"Edit section: Celebrity versus privacy\">edit</a><span class=\"mw-editsection-bracket\">]</span></span></h3>\n",
       "<div class=\"thumb tright\"><div class=\"thumbinner\" style=\"width:172px;\"><a class=\"image\" href=\"/wiki/File:Ben_Gurion_-_Jonas_Salk_-_Jerusalem_1959.jpg\"><img alt=\"\" class=\"thumbimage\" data-file-height=\"3072\" data-file-width=\"2048\" decoding=\"async\" height=\"255\" src=\"//upload.wikimedia.org/wikipedia/commons/thumb/2/21/Ben_Gurion_-_Jonas_Salk_-_Jerusalem_1959.jpg/170px-Ben_Gurion_-_Jonas_Salk_-_Jerusalem_1959.jpg\" srcset=\"//upload.wikimedia.org/wikipedia/commons/thumb/2/21/Ben_Gurion_-_Jonas_Salk_-_Jerusalem_1959.jpg/255px-Ben_Gurion_-_Jonas_Salk_-_Jerusalem_1959.jpg 1.5x, //upload.wikimedia.org/wikipedia/commons/thumb/2/21/Ben_Gurion_-_Jonas_Salk_-_Jerusalem_1959.jpg/340px-Ben_Gurion_-_Jonas_Salk_-_Jerusalem_1959.jpg 2x\" width=\"170\"/></a> <div class=\"thumbcaption\"><div class=\"magnify\"><a class=\"internal\" href=\"/wiki/File:Ben_Gurion_-_Jonas_Salk_-_Jerusalem_1959.jpg\" title=\"Enlarge\"></a></div>With <a href=\"/wiki/David_Ben-Gurion\" title=\"David Ben-Gurion\">David Ben-Gurion</a> in <a href=\"/wiki/Jerusalem\" title=\"Jerusalem\">Jerusalem</a>, 1959</div></div></div>\n",
       "<p>Salk preferred not to have his career as a scientist affected by too much personal attention, as he had always tried to remain independent and private in his research and life, but this proved to be impossible. \"Young man, a great tragedy has befallen you—you've lost your anonymity\", the television personality <a class=\"mw-redirect\" href=\"/wiki/Ed_Murrow\" title=\"Ed Murrow\">Ed Murrow</a> said to Salk shortly after the onslaught of media attention.<sup class=\"reference\" id=\"cite_ref-NYT4-8-80_37-0\"><a href=\"#cite_note-NYT4-8-80-37\">[37]</a></sup> When Murrow asked him, \"Who owns this patent?\", Salk replied, \"Well, the people I would say. There is no patent. Could you patent the sun?\"<sup class=\"reference\" id=\"cite_ref-38\"><a href=\"#cite_note-38\">[38]</a></sup> The vaccine is calculated to be worth $7 billion had it been patented.<sup class=\"reference\" id=\"cite_ref-39\"><a href=\"#cite_note-39\">[39]</a></sup> However, lawyers from the National Foundation for Infantile Paralysis did look into the possibility of a patent, but ultimately determined that the vaccine was not a patentable invention because of <a href=\"/wiki/Prior_art\" title=\"Prior art\">prior art</a>.<sup class=\"reference\" id=\"cite_ref-40\"><a href=\"#cite_note-40\">[40]</a></sup>\n",
       "</p><p>Salk served on the board of directors of the John D. and Catherine T. <a href=\"/wiki/MacArthur_Foundation\" title=\"MacArthur Foundation\">MacArthur Foundation</a>.<sup class=\"reference\" id=\"cite_ref-41\"><a href=\"#cite_note-41\">[41]</a></sup>\n",
       "</p><p>Author Jon Cohen noted, \"Jonas Salk made scientists and journalists alike go goofy. As one of the only living scientists whose face was known the world over, Salk, in the public's eye, had a superstar aura. Airplane pilots would announce that he was on board and passengers would burst into applause. Hotels routinely would upgrade him into their penthouse suites. A meal at a restaurant inevitably meant an interruption from an admirer, and scientists approached him with drop-jawed wonder as though some of the stardust might rub off.\"<sup class=\"reference\" id=\"cite_ref-Cohen_42-0\"><a href=\"#cite_note-Cohen-42\">[42]</a></sup>\n",
       "</p><p>For the most part, however, Salk was \"appalled at the demands on the public figure he has become and resentful of what he considers to be the invasion of his privacy\", wrote <i>The New York Times</i>, a few months after his vaccine announcement.<sup class=\"reference\" id=\"cite_ref-NYT7-17-55_29-1\"><a href=\"#cite_note-NYT7-17-55-29\">[29]</a></sup> The <i>Times</i> article noted, \"at 40, the once obscure scientist ... was lifted from his laboratory almost to the level of a folk hero.\" He received a presidential citation, a score of awards, four honorary degrees, half a dozen foreign decorations, and letters from thousands of fellow citizens. His alma mater, City College of New York, gave him an honorary degree as Doctor of Laws. But \"despite such very nice tributes\", <i>The New York Times</i> wrote, \"Salk is profoundly disturbed by the torrent of fame that has descended upon him. ... He talks continually about getting out of the limelight and back to his laboratory ... because of his genuine distaste for publicity, which he believes is inappropriate for a scientist.\"<sup class=\"reference\" id=\"cite_ref-NYT7-17-55_29-2\"><a href=\"#cite_note-NYT7-17-55-29\">[29]</a></sup>\n",
       "</p><p>During a 1980 interview, 25 years later, he said, \"It's as if I've been a public property ever since, having to respond to external, as well as internal, impulses. ... It's brought me enormous gratification, opened many opportunities, but at the same time placed many burdens on me. It altered my career, my relationships with colleagues; I am a public figure, no longer one of them.\"<sup class=\"reference\" id=\"cite_ref-NYT4-8-80_37-1\"><a href=\"#cite_note-NYT4-8-80-37\">[37]</a></sup>\n",
       "</p>\n",
       "<h3><span class=\"mw-headline\" id=\"Maintaining_his_individuality\">Maintaining his individuality</span><span class=\"mw-editsection\"><span class=\"mw-editsection-bracket\">[</span><a href=\"/w/index.php?title=Jonas_Salk&amp;action=edit&amp;section=8\" title=\"Edit section: Maintaining his individuality\">edit</a><span class=\"mw-editsection-bracket\">]</span></span></h3>\n",
       "<p>\"If Salk the scientist sounds austere\", wrote <i>The New York Times</i>, \"Salk the man is a person of great warmth and tremendous enthusiasm. People who meet him generally like him.\" A Washington newspaper correspondent commented, \"He could sell me the Brooklyn Bridge, and I never bought anything before.\" Award-winning <a href=\"/wiki/Geneticist\" title=\"Geneticist\">geneticist</a> <a href=\"/wiki/Walter_Nelson-Rees\" title=\"Walter Nelson-Rees\">Walter Nelson-Rees</a> called him \"a renaissance scientist: brilliant, sophisticated, driven ... a fantastic creature.\"<sup class=\"reference\" id=\"cite_ref-43\"><a href=\"#cite_note-43\">[43]</a></sup><sup class=\"reference\" style=\"white-space:nowrap;\">:<span>127</span></sup>\n",
       "</p><p>He enjoys talking to people he likes, and \"he likes a lot of people\", wrote the <i>Times</i>. \"He talks quickly, articulately, and often in complete paragraphs.\" And \"He has very little perceptible interest in the things that interest most people—such as making money.\" That belongs \"in the category of mink coats and Cadillacs—unnecessary\", he said.<sup class=\"reference\" id=\"cite_ref-NYT7-17-55_29-3\"><a href=\"#cite_note-NYT7-17-55-29\">[29]</a></sup>\n",
       "</p>\n",
       "<h2><span class=\"mw-headline\" id=\"Establishing_the_Salk_Institute\">Establishing the Salk Institute</span><span class=\"mw-editsection\"><span class=\"mw-editsection-bracket\">[</span><a href=\"/w/index.php?title=Jonas_Salk&amp;action=edit&amp;section=9\" title=\"Edit section: Establishing the Salk Institute\">edit</a><span class=\"mw-editsection-bracket\">]</span></span></h2>\n",
       "<div class=\"thumb tright\"><div class=\"thumbinner\" style=\"width:242px;\"><a class=\"image\" href=\"/wiki/File:Salk_Institute1.jpg\"><img alt=\"\" class=\"thumbimage\" data-file-height=\"1200\" data-file-width=\"1600\" decoding=\"async\" height=\"180\" src=\"//upload.wikimedia.org/wikipedia/commons/thumb/d/d4/Salk_Institute1.jpg/240px-Salk_Institute1.jpg\" srcset=\"//upload.wikimedia.org/wikipedia/commons/thumb/d/d4/Salk_Institute1.jpg/360px-Salk_Institute1.jpg 1.5x, //upload.wikimedia.org/wikipedia/commons/thumb/d/d4/Salk_Institute1.jpg/480px-Salk_Institute1.jpg 2x\" width=\"240\"/></a> <div class=\"thumbcaption\"><div class=\"magnify\"><a class=\"internal\" href=\"/wiki/File:Salk_Institute1.jpg\" title=\"Enlarge\"></a></div>The Salk Institute at La Jolla</div></div></div>\n",
       "<p>In the years after Salk's discovery, many supporters, in particular the National Foundation, \"helped him build his dream of a research complex for the investigation of biological phenomena 'from cell to society'.\"<sup class=\"reference\" id=\"cite_ref-44\"><a href=\"#cite_note-44\">[44]</a></sup> Called the <a href=\"/wiki/Salk_Institute_for_Biological_Studies\" title=\"Salk Institute for Biological Studies\">Salk Institute for Biological Studies</a>, it opened in 1963 in the <a href=\"/wiki/San_Diego\" title=\"San Diego\">San Diego</a> neighborhood of <a href=\"/wiki/La_Jolla\" title=\"La Jolla\">La Jolla</a>, in a purpose-built facility designed by the architect <a href=\"/wiki/Louis_Kahn\" title=\"Louis Kahn\">Louis Kahn</a>. Salk believed that the institution would help new and upcoming scientists along in their careers, as he said himself, \"I thought how nice it would be if a place like this existed and I was invited to work there.\"<sup class=\"noprint Inline-Template Template-Fact\" style=\"white-space:nowrap;\">[<i><a href=\"/wiki/Wikipedia:Citation_needed\" title=\"Wikipedia:Citation needed\"><span title=\"This claim needs references to reliable sources. (April 2019)\">citation needed</span></a></i>]</sup>\n",
       "</p><p>In 1966, Salk described his \"ambitious plan for the creation of a kind of <a href=\"/wiki/Socratic_method\" title=\"Socratic method\">Socratic</a> academy where the supposedly alienated two cultures of science and humanism will have a favorable atmosphere for cross-fertilization.\"<sup class=\"reference\" id=\"cite_ref-Taubman_45-0\"><a href=\"#cite_note-Taubman-45\">[45]</a></sup> Author and journalist <a href=\"/wiki/Howard_Taubman\" title=\"Howard Taubman\">Howard Taubman</a> explained:\n",
       "</p>\n",
       "<style data-mw-deduplicate=\"TemplateStyles:r996844942\">.mw-parser-output .templatequote{overflow:hidden;margin:1em 0;padding:0 40px}.mw-parser-output .templatequote .templatequotecite{line-height:1.5em;text-align:left;padding-left:1.6em;margin-top:0}</style><blockquote class=\"templatequote\"><p>Although he is distinctly future-oriented, Dr. Salk has not lost sight of the institute's immediate aim, which is the development and use of the new biology, called <a href=\"/wiki/Molecular_biology\" title=\"Molecular biology\">molecular</a> and <a class=\"mw-redirect\" href=\"/wiki/Cellular_biology\" title=\"Cellular biology\">cellular biology</a>, described as part physics, part chemistry and part biology. The broad-gauged purpose of this science is to understand man's life processes.\n",
       "</p><p>There is talk here of the possibility, once the secret of how the cell is triggered to manufacture <a class=\"mw-redirect\" href=\"/wiki/Antibodies\" title=\"Antibodies\">antibodies</a> is discovered, that a single vaccine may be developed to protect a child against many common infectious diseases. There is speculation about the power to isolate and perhaps eliminate genetic errors that lead to birth defects.\n",
       "</p><p>\n",
       "Dr. Salk, a creative man himself, hopes that the institute will do its share in probing the wisdom of nature and thus help enlarge the wisdom of man. For the ultimate purpose of science, humanism and the arts, in his judgment, is the freeing of each individual to cultivate his full creativity, in whichever direction it leads. ... As if to prepare for Socratic encounters such as these, the institute's architect, Louis Kahn, has installed blackboards in place of concrete facings on the walls along the walks.<sup class=\"reference\" id=\"cite_ref-Taubman_45-1\"><a href=\"#cite_note-Taubman-45\">[45]</a></sup></p></blockquote>\n",
       "<p><i>The New York Times</i>, in a 1980 article celebrating the 25th anniversary of the Salk vaccine, described the current workings at the facility:\n",
       "</p>\n",
       "<blockquote><p>At the institute, a magnificent complex of laboratories and study units set on a bluff overlooking the Pacific, Dr. Salk holds the titles of founding director and resident fellow. His own laboratory group is concerned with the <a href=\"/wiki/Immunology\" title=\"Immunology\">immunologic</a> aspects of cancer and the mechanisms of autoimmune disease, such as <a href=\"/wiki/Multiple_sclerosis\" title=\"Multiple sclerosis\">multiple sclerosis</a>, in which the <a href=\"/wiki/Immune_system\" title=\"Immune system\">immune system</a> attacks the body's own tissues.<sup class=\"reference\" id=\"cite_ref-NYT4-8-80_37-2\"><a href=\"#cite_note-NYT4-8-80-37\">[37]</a></sup></p></blockquote>\n",
       "<p>In an interview about his future hopes at the institute, he said, \"In the end, what may have more significance is my creation of the institute and what will come out of it, because of its example as a place for excellence, a creative environment for creative minds.\"\n",
       "</p><p><a href=\"/wiki/Francis_Crick\" title=\"Francis Crick\">Francis Crick</a>, codiscoverer of the structure of the <a href=\"/wiki/DNA\" title=\"DNA\">DNA</a> molecule, was a leading professor at the institute until his death in 2004.\n",
       "</p><p>The institute also served as the basis for <a href=\"/wiki/Bruno_Latour\" title=\"Bruno Latour\">Bruno Latour</a> and <a href=\"/wiki/Steve_Woolgar\" title=\"Steve Woolgar\">Steve Woolgar</a>'s 1979 book <a href=\"/wiki/Laboratory_Life\" title=\"Laboratory Life\"><i>Laboratory Life: The Construction of Scientific Facts</i></a>.<sup class=\"reference\" id=\"cite_ref-46\"><a href=\"#cite_note-46\">[46]</a></sup>\n",
       "</p>\n",
       "<h2><span class=\"mw-headline\" id=\"AIDS_vaccine_work\">AIDS vaccine work</span><span class=\"mw-editsection\"><span class=\"mw-editsection-bracket\">[</span><a href=\"/w/index.php?title=Jonas_Salk&amp;action=edit&amp;section=10\" title=\"Edit section: AIDS vaccine work\">edit</a><span class=\"mw-editsection-bracket\">]</span></span></h2>\n",
       "<p>Beginning in the mid-1980s, Salk  engaged in research to develop a vaccine for <a href=\"/wiki/HIV/AIDS\" title=\"HIV/AIDS\">AIDS</a>. He cofounded <a href=\"/wiki/The_Immune_Response_Corporation\" title=\"The Immune Response Corporation\">The Immune Response Corporation</a> (IRC) with <a href=\"/wiki/Kevin_Kimberlin\" title=\"Kevin Kimberlin\">Kevin Kimberlin</a> and patented <a class=\"mw-redirect\" href=\"/wiki/HIV_vaccine\" title=\"HIV vaccine\">Remune</a>, an <a href=\"/wiki/Immunotherapy\" title=\"Immunotherapy\">immunologic therapy</a>, but was unable to secure  <a href=\"/wiki/Liability_insurance\" title=\"Liability insurance\">liability insurance</a> for the product.<sup class=\"reference\" id=\"cite_ref-47\"><a href=\"#cite_note-47\">[47]</a></sup> The project was discontinued in 2007, twelve years after Salk's death.<sup class=\"noprint Inline-Template Template-Fact\" style=\"white-space:nowrap;\">[<i><a href=\"/wiki/Wikipedia:Citation_needed\" title=\"Wikipedia:Citation needed\"><span title=\"This claim needs references to reliable sources. (July 2019)\">citation needed</span></a></i>]</sup>\n",
       "</p>\n",
       "<h2><span id=\"Salk.27s_.22biophilosophy.22\"></span><span class=\"mw-headline\" id=\"Salk's_&quot;biophilosophy&quot;\">Salk's \"biophilosophy\"</span><span class=\"mw-editsection\"><span class=\"mw-editsection-bracket\">[</span><a href=\"/w/index.php?title=Jonas_Salk&amp;action=edit&amp;section=11\" title=\"Edit section: Salk's &quot;biophilosophy&quot;\">edit</a><span class=\"mw-editsection-bracket\">]</span></span></h2>\n",
       "<div class=\"thumb tright\"><div class=\"thumbinner\" style=\"width:202px;\"><a class=\"image\" href=\"/wiki/File:Jonas_Salk_1988.jpg\"><img alt=\"\" class=\"thumbimage\" data-file-height=\"1788\" data-file-width=\"1503\" decoding=\"async\" height=\"238\" src=\"//upload.wikimedia.org/wikipedia/commons/thumb/1/13/Jonas_Salk_1988.jpg/200px-Jonas_Salk_1988.jpg\" srcset=\"//upload.wikimedia.org/wikipedia/commons/thumb/1/13/Jonas_Salk_1988.jpg/300px-Jonas_Salk_1988.jpg 1.5x, //upload.wikimedia.org/wikipedia/commons/thumb/1/13/Jonas_Salk_1988.jpg/400px-Jonas_Salk_1988.jpg 2x\" width=\"200\"/></a> <div class=\"thumbcaption\"><div class=\"magnify\"><a class=\"internal\" href=\"/wiki/File:Jonas_Salk_1988.jpg\" title=\"Enlarge\"></a></div>Jonas Salk during a 1988 Centers for Disease Control visit</div></div></div>\n",
       "<p>In 1966, <i>The New York Times</i> referred to him as the \"Father of Biophilosophy.\" According to <i>Times</i> journalist and author <a href=\"/wiki/Howard_Taubman\" title=\"Howard Taubman\">Howard Taubman</a>, \"he never forgets ... there is a vast amount of darkness for man to penetrate. As a biologist, he believes that his science is on the frontier of tremendous new discoveries; and as a philosopher, he is convinced that humanists and artists have joined the scientists to achieve an understanding of man in all his physical, mental and spiritual complexity. Such interchanges might lead, he would hope, to a new and important school of thinkers he would designate as biophilosophers.\"<sup class=\"reference\" id=\"cite_ref-Taubman_45-2\"><a href=\"#cite_note-Taubman-45\">[45]</a></sup> Salk told his cousin, Joel Kassiday, at a meeting of the Congressional Clearinghouse on the Future on Capitol Hill in 1984 that he was optimistic that ways to prevent most human and animal diseases would eventually be developed. Salk said people must be prepared to take prudent risks, since \"a risk-free society would become a dead-end society\" without progress.\n",
       "</p><p>Salk describes his \"biophilosophy\" as the application of a \"biological, evolutionary point of view to philosophical, cultural, social and psychological problems.\" He went into more detail in two of his books, <i>Man's Unfolding</i>, and <i>The Survival of the Wisest</i>. In an interview in 1980, he described his thoughts on the subject, including his feeling that a sharp rise and an expected leveling off in the human population would take place and eventually bring a change in human attitudes:\n",
       "</p>\n",
       "<blockquote><p>I think of biological knowledge as providing useful analogies for understanding human nature. ... People think of <a href=\"/wiki/Biology\" title=\"Biology\">biology</a> in terms of such practical matters as drugs, but its contribution to knowledge about living systems and ourselves will in the future be equally important. ... In the past epoch, man was concerned with death, high mortality; his attitudes were antideath, antidisease\", he says. \"In the future, his attitudes will be expressed in terms of prolife and prohealth. The past was dominated by death control; in the future, birth control will be more important. These changes we're observing are part of a natural order and to be expected from our capacity to adapt. It's much more important to cooperate and collaborate. We are the co-authors with nature of our destiny.<sup class=\"reference\" id=\"cite_ref-NYT4-8-80_37-3\"><a href=\"#cite_note-NYT4-8-80-37\">[37]</a></sup></p></blockquote>\n",
       "<p>His definition of a \"biophilosopher\" is \"Someone who draws upon the scriptures of nature, recognizing that we are the product of the process of evolution, and understands that we have become the process itself, through the emergence and evolution of our consciousness, our awareness, our capacity to imagine and anticipate the future, and to choose from among alternatives.\"<sup class=\"reference\" id=\"cite_ref-48\"><a href=\"#cite_note-48\">[48]</a></sup>\n",
       "</p><p>Just prior to his death, Salk was working on a new book along the theme of biophilosophy, privately reported to be titled <i>Millennium of the Mind</i>.\n",
       "</p>\n",
       "<h2><span class=\"mw-headline\" id=\"Personal_life\">Personal life</span><span class=\"mw-editsection\"><span class=\"mw-editsection-bracket\">[</span><a href=\"/w/index.php?title=Jonas_Salk&amp;action=edit&amp;section=12\" title=\"Edit section: Personal life\">edit</a><span class=\"mw-editsection-bracket\">]</span></span></h2>\n",
       "<p>The day after his graduation from medical school in 1939, Salk married Donna Lindsay, a master's candidate at the New York College of Social Work. <a href=\"/wiki/David_Oshinsky\" title=\"David Oshinsky\">David Oshinsky</a> writes that Donna's father, Elmer Lindsay, \"a wealthy Manhattan dentist, viewed Salk as a social inferior, several cuts below Donna's former suitors.\" Eventually, her father agreed to the marriage on two conditions: first, Salk must wait until he could be listed as an official M.D. on the wedding invitations, and second, he must improve his \"rather pedestrian status\" by giving himself a middle name.\"<sup class=\"reference\" id=\"cite_ref-Oshinsky_14-7\"><a href=\"#cite_note-Oshinsky-14\">[14]</a></sup><sup class=\"reference\" style=\"white-space:nowrap;\">:<span>99</span></sup>\n",
       "</p><p>They had three children: Peter (who also became a physician and is now a part-time professor of infectious diseases at the University of Pittsburgh),<sup class=\"reference\" id=\"cite_ref-NPR1_25-1\"><a href=\"#cite_note-NPR1-25\">[25]</a></sup><sup class=\"reference\" id=\"cite_ref-NPR2_26-1\"><a href=\"#cite_note-NPR2-26\">[26]</a></sup> Darrell, and Jonathan Salk. In 1968, they divorced and, in 1970, Salk married French painter <a href=\"/wiki/Fran%C3%A7oise_Gilot\" title=\"Françoise Gilot\">Françoise Gilot</a>.\n",
       "</p><p>Jonas Salk died from heart failure at the age of 80 on June 23, 1995, in La Jolla,<sup class=\"reference\" id=\"cite_ref-nyt-obit_49-0\"><a href=\"#cite_note-nyt-obit-49\">[49]</a></sup> and was buried at <a href=\"/wiki/El_Camino_Memorial_Park\" title=\"El Camino Memorial Park\">El Camino Memorial Park</a> in San Diego.<sup class=\"reference\" id=\"cite_ref-50\"><a href=\"#cite_note-50\">[50]</a></sup>\n",
       "</p>\n",
       "<h2><span class=\"mw-headline\" id=\"Honors_and_recognition\">Honors and recognition</span><span class=\"mw-editsection\"><span class=\"mw-editsection-bracket\">[</span><a href=\"/w/index.php?title=Jonas_Salk&amp;action=edit&amp;section=13\" title=\"Edit section: Honors and recognition\">edit</a><span class=\"mw-editsection-bracket\">]</span></span></h2>\n",
       "<ul><li>1955, one month after the vaccine announcement, he was honored by the Commonwealth of <a href=\"/wiki/Pennsylvania\" title=\"Pennsylvania\">Pennsylvania</a>, where he was given their \"highest award for services\" by Governor <a href=\"/wiki/George_M._Leader\" title=\"George M. Leader\">George M. Leader</a>, <a href=\"/wiki/Meritorious_Service_Medal_(United_States)\" title=\"Meritorious Service Medal (United States)\">Meritorious Service Medal</a>, where the governor added,</li></ul>\n",
       "<blockquote><p>... in recognition of his 'historical medical' discovery ... Dr. Salk's achievement is meritorious service of the highest magnitude and dimension for the commonwealth, the country and mankind.\" The governor, who had three children, said that \"as a parent he was 'humbly thankful to Dr. Salk,' and as Governor, 'proud to pay him tribute'.<sup class=\"reference\" id=\"cite_ref-51\"><a href=\"#cite_note-51\">[51]</a></sup></p></blockquote>\n",
       "<ul><li>1955, City University of New York creates the Salk Scholarship fund which it awards to multiple outstanding pre-med students each year</li>\n",
       "<li>1956, awarded the <a href=\"/wiki/Lasker_Award\" title=\"Lasker Award\">Lasker Award</a></li>\n",
       "<li>1957, the Municipal Hospital building, where Salk conducted his polio research at the University of Pittsburgh, is renamed Jonas <a href=\"/wiki/Salk_Hall\" title=\"Salk Hall\">Salk Hall</a> and is home to the university's School of Pharmacy and Dentistry.<sup class=\"reference\" id=\"cite_ref-52\"><a href=\"#cite_note-52\">[52]</a></sup></li>\n",
       "<li>1958, awarded the James D. Bruce Memorial Award</li></ul>\n",
       "<div class=\"thumb tright\"><div class=\"thumbinner\" style=\"width:142px;\"><a class=\"image\" href=\"/wiki/File:Salkws.jpg\"><img alt=\"\" class=\"thumbimage\" data-file-height=\"245\" data-file-width=\"140\" decoding=\"async\" height=\"245\" src=\"//upload.wikimedia.org/wikipedia/commons/7/71/Salkws.jpg\" width=\"140\"/></a> <div class=\"thumbcaption\"><div class=\"magnify\"><a class=\"internal\" href=\"/wiki/File:Salkws.jpg\" title=\"Enlarge\"></a></div>Salk's bronze bust in the <a href=\"/wiki/Polio_Hall_of_Fame\" title=\"Polio Hall of Fame\">Polio Hall of Fame</a></div></div></div>\n",
       "<ul><li>1958, elected to the <a href=\"/wiki/Polio_Hall_of_Fame\" title=\"Polio Hall of Fame\">Polio Hall of Fame</a>, which was dedicated in <a href=\"/wiki/Warm_Springs,_Georgia\" title=\"Warm Springs, Georgia\">Warm Springs, Georgia</a></li>\n",
       "<li>1975, awarded the <a href=\"/wiki/Jawaharlal_Nehru_Award\" title=\"Jawaharlal Nehru Award\">Jawaharlal Nehru Award</a> and the <a href=\"/wiki/Congressional_Gold_Medal\" title=\"Congressional Gold Medal\">Congressional Gold Medal</a></li>\n",
       "<li>1976, awarded the <a href=\"/wiki/Academy_of_Achievement\" title=\"Academy of Achievement\">Academy of Achievement</a>'s Golden Plate Award<sup class=\"reference\" id=\"cite_ref-53\"><a href=\"#cite_note-53\">[53]</a></sup></li>\n",
       "<li>1976, named the Humanist of the Year by the <a href=\"/wiki/American_Humanist_Association\" title=\"American Humanist Association\">American Humanist Association</a></li>\n",
       "<li>1977, awarded the <a href=\"/wiki/Presidential_Medal_of_Freedom\" title=\"Presidential Medal of Freedom\">Presidential Medal of Freedom</a> from President <a href=\"/wiki/Jimmy_Carter\" title=\"Jimmy Carter\">Jimmy Carter</a>, with the following statement accompanying the medal:</li></ul>\n",
       "<blockquote><p>Because of Doctor Jonas E. Salk, our country is free from the cruel epidemics of poliomyelitis that once struck almost yearly. Because of his tireless work, untold hundreds of thousands who might have been crippled are sound in body today. These are Doctor Salk's true honors, and there is no way to add to them. This Medal of Freedom can only express our gratitude, and our deepest thanks.</p></blockquote>\n",
       "<ul><li>1981, decorated by the Italian government on January 3 as a Grand Officer of the <a href=\"/wiki/Order_of_Merit_of_the_Italian_Republic\" title=\"Order of Merit of the Italian Republic\">Order of Merit of the Italian Republic</a><sup class=\"reference\" id=\"cite_ref-54\"><a href=\"#cite_note-54\">[54]</a></sup></li>\n",
       "<li>1996, the March of Dimes Foundation created an annual $250,000 cash \"Prize\" to outstanding biologists as a tribute to Salk.<sup class=\"reference\" id=\"cite_ref-55\"><a href=\"#cite_note-55\">[55]</a></sup></li>\n",
       "<li>2006, the United States Postal Service issued a 63-cent <a href=\"/wiki/Distinguished_Americans_series\" title=\"Distinguished Americans series\">Distinguished Americans series</a> postage stamp in his honor.</li>\n",
       "<li>2007, California Governor <a href=\"/wiki/Arnold_Schwarzenegger\" title=\"Arnold Schwarzenegger\">Arnold Schwarzenegger</a> and First Lady <a href=\"/wiki/Maria_Shriver\" title=\"Maria Shriver\">Maria Shriver</a> inducted Salk into the <a href=\"/wiki/California_Hall_of_Fame\" title=\"California Hall of Fame\">California Hall of Fame</a>.<sup class=\"reference\" id=\"cite_ref-56\"><a href=\"#cite_note-56\">[56]</a></sup></li>\n",
       "<li>2009, <a href=\"/wiki/BBYO\" title=\"BBYO\">BBYO</a> boys chapter chartered in his honor in <a href=\"/wiki/Scottsdale,_Arizona\" title=\"Scottsdale, Arizona\">Scottsdale, Arizona</a>, Named \"Jonas Salk AZA #2357\"</li>\n",
       "<li>Schools in <a href=\"/wiki/Mesa,_Arizona\" title=\"Mesa, Arizona\">Mesa, Arizona</a>; <a href=\"/wiki/Spokane,_Washington\" title=\"Spokane, Washington\">Spokane, Washington</a>; <a href=\"/wiki/Tulsa,_Oklahoma\" title=\"Tulsa, Oklahoma\">Tulsa, Oklahoma</a>; <a href=\"/wiki/Bolingbrook,_Illinois\" title=\"Bolingbrook, Illinois\">Bolingbrook, Illinois</a>; <a href=\"/wiki/Levittown,_New_York\" title=\"Levittown, New York\">Levittown, New York</a>; <a class=\"mw-redirect\" href=\"/wiki/Old_Bridge,_New_Jersey\" title=\"Old Bridge, New Jersey\">Old Bridge, New Jersey</a>; <a href=\"/wiki/Merrillville,_Indiana\" title=\"Merrillville, Indiana\">Merrillville, Indiana</a>;  <a href=\"/wiki/Sacramento,_California\" title=\"Sacramento, California\">Sacramento, California</a> ; and <a class=\"mw-redirect\" href=\"/wiki/Mira_Mesa,_California\" title=\"Mira Mesa, California\">Mira Mesa, California</a> ; are named after him.</li>\n",
       "<li>2012, October 24, in honor of his birthday, has been named \"World Polio Day\", and was originated by <a href=\"/wiki/Rotary_International\" title=\"Rotary International\">Rotary International</a> over a decade earlier.<sup class=\"reference\" id=\"cite_ref-57\"><a href=\"#cite_note-57\">[57]</a></sup></li>\n",
       "<li>2014, On the 100th anniversary of Salk's birth, a <a href=\"/wiki/Google_Doodle\" title=\"Google Doodle\">Google Doodle</a> was created to honor the physician and medical researcher. The doodle shows happy and healthy children and adults playing and going about their lives with two children hold up a sign saying, \"Thank you, Dr. Salk!\"<sup class=\"reference\" id=\"cite_ref-58\"><a href=\"#cite_note-58\">[58]</a></sup><sup class=\"reference\" id=\"cite_ref-theguardian.com_59-0\"><a href=\"#cite_note-theguardian.com-59\">[59]</a></sup></li></ul>\n",
       "<h3><span class=\"mw-headline\" id=\"Documentary_films\">Documentary films</span><span class=\"mw-editsection\"><span class=\"mw-editsection-bracket\">[</span><a href=\"/w/index.php?title=Jonas_Salk&amp;action=edit&amp;section=14\" title=\"Edit section: Documentary films\">edit</a><span class=\"mw-editsection-bracket\">]</span></span></h3>\n",
       "<ul><li>In early 2009, the American <a class=\"mw-redirect\" href=\"/wiki/Public_Broadcasting_Service\" title=\"Public Broadcasting Service\">Public Broadcasting Service</a> aired its new documentary film, <i>American Experience: The Polio Crusade</i>.<sup class=\"reference\" id=\"cite_ref-PBS_20-1\"><a href=\"#cite_note-PBS-20\">[20]</a></sup> The documentary, available on <a href=\"/wiki/DVD-Video\" title=\"DVD-Video\">DVD</a>, can also be <a class=\"external text\" href=\"https://www.pbs.org/wgbh/americanexperience/films/polio/player/\" rel=\"nofollow\">viewed online</a> at PBS's website.</li>\n",
       "<li>On April 12, 2010, to help celebrate the 55th anniversary of the Salk vaccine, a new 66-minute documentary, <i>The Shot Felt 'Round the World</i>, had its world premiere. Directed by <a class=\"new\" href=\"/w/index.php?title=Tjardus_Greidanus&amp;action=edit&amp;redlink=1\" title=\"Tjardus Greidanus (page does not exist)\">Tjardus Greidanus</a><sup class=\"reference\" id=\"cite_ref-60\"><a href=\"#cite_note-60\">[60]</a></sup> and produced by Laura Davis,<sup class=\"reference\" id=\"cite_ref-61\"><a href=\"#cite_note-61\">[61]</a></sup> the documentary was conceived by Hollywood screenwriter and producer <a href=\"/wiki/Carl_Kurlander\" title=\"Carl Kurlander\">Carl Kurlander</a> to bring \"a fresh perspective on the era.\"<sup class=\"reference\" id=\"cite_ref-62\"><a href=\"#cite_note-62\">[62]</a></sup></li>\n",
       "<li>In 2014, actor and director <a href=\"/wiki/Robert_Redford\" title=\"Robert Redford\">Robert Redford</a>, who was once struck with a mild case of polio when he was a child, directed a documentary about the <a href=\"/wiki/Salk_Institute_for_Biological_Studies\" title=\"Salk Institute for Biological Studies\">Salk Institute</a> in La Jolla.<sup class=\"reference\" id=\"cite_ref-63\"><a href=\"#cite_note-63\">[63]</a></sup></li>\n",
       "<li>In Chapter 10 of the 2018 season of <i><a class=\"mw-redirect\" href=\"/wiki/Genius_(U.S._TV_series)\" title=\"Genius (U.S. TV series)\">Genius</a></i> Michael McElhatton portrays Salk in a short cameo where he is on a date with Françoise Gilot.<sup class=\"reference\" id=\"cite_ref-64\"><a href=\"#cite_note-64\">[64]</a></sup></li></ul>\n",
       "<h2><span id=\"Salk.27s_book_publications\"></span><span class=\"mw-headline\" id=\"Salk's_book_publications\">Salk's book publications</span><span class=\"mw-editsection\"><span class=\"mw-editsection-bracket\">[</span><a href=\"/w/index.php?title=Jonas_Salk&amp;action=edit&amp;section=15\" title=\"Edit section: Salk's book publications\">edit</a><span class=\"mw-editsection-bracket\">]</span></span></h2>\n",
       "<ul><li><i><a class=\"new\" href=\"/w/index.php?title=Man_Unfolding&amp;action=edit&amp;redlink=1\" title=\"Man Unfolding (page does not exist)\">Man Unfolding</a></i> (1972)</li>\n",
       "<li><i><a class=\"new\" href=\"/w/index.php?title=Survival_of_the_Wisest&amp;action=edit&amp;redlink=1\" title=\"Survival of the Wisest (page does not exist)\">Survival of the Wisest</a></i> (1973)</li>\n",
       "<li><i><a class=\"new\" href=\"/w/index.php?title=World_Population_and_Human_Values:_A_New_Reality&amp;action=edit&amp;redlink=1\" title=\"World Population and Human Values: A New Reality (page does not exist)\">World Population and Human Values: A New Reality</a></i> (1981)</li>\n",
       "<li><i><a class=\"new\" href=\"/w/index.php?title=Anatomy_of_Reality:_Merging_of_Intuition_and_Reason&amp;action=edit&amp;redlink=1\" title=\"Anatomy of Reality: Merging of Intuition and Reason (page does not exist)\">Anatomy of Reality: Merging of Intuition and Reason</a></i> (1983)</li></ul>\n",
       "<h2><span class=\"mw-headline\" id=\"See_also\">See also</span><span class=\"mw-editsection\"><span class=\"mw-editsection-bracket\">[</span><a href=\"/w/index.php?title=Jonas_Salk&amp;action=edit&amp;section=16\" title=\"Edit section: See also\">edit</a><span class=\"mw-editsection-bracket\">]</span></span></h2>\n",
       "<ul><li><a href=\"/wiki/Lee_Salk\" title=\"Lee Salk\">Lee Salk</a></li></ul>\n",
       "<h2><span class=\"mw-headline\" id=\"References\">References</span><span class=\"mw-editsection\"><span class=\"mw-editsection-bracket\">[</span><a href=\"/w/index.php?title=Jonas_Salk&amp;action=edit&amp;section=17\" title=\"Edit section: References\">edit</a><span class=\"mw-editsection-bracket\">]</span></span></h2>\n",
       "<style data-mw-deduplicate=\"TemplateStyles:r1011085734\">.mw-parser-output .reflist{font-size:90%;margin-bottom:0.5em;list-style-type:decimal}.mw-parser-output .reflist .references{font-size:100%;margin-bottom:0;list-style-type:inherit}.mw-parser-output .reflist-columns-2{column-width:30em}.mw-parser-output .reflist-columns-3{column-width:25em}.mw-parser-output .reflist-columns{margin-top:0.3em}.mw-parser-output .reflist-columns ol{margin-top:0}.mw-parser-output .reflist-columns li{page-break-inside:avoid;break-inside:avoid-column}.mw-parser-output .reflist-upper-alpha{list-style-type:upper-alpha}.mw-parser-output .reflist-upper-roman{list-style-type:upper-roman}.mw-parser-output .reflist-lower-alpha{list-style-type:lower-alpha}.mw-parser-output .reflist-lower-greek{list-style-type:lower-greek}.mw-parser-output .reflist-lower-roman{list-style-type:lower-roman}</style><div class=\"reflist reflist-columns references-column-width\" style=\"column-width: 30em;\">\n",
       "<ol class=\"references\">\n",
       "<li id=\"cite_note-NYT_Obit-1\"><span class=\"mw-cite-backlink\">^ <a href=\"#cite_ref-NYT_Obit_1-0\"><sup><i><b>a</b></i></sup></a> <a href=\"#cite_ref-NYT_Obit_1-1\"><sup><i><b>b</b></i></sup></a> <a href=\"#cite_ref-NYT_Obit_1-2\"><sup><i><b>c</b></i></sup></a> <a href=\"#cite_ref-NYT_Obit_1-3\"><sup><i><b>d</b></i></sup></a> <a href=\"#cite_ref-NYT_Obit_1-4\"><sup><i><b>e</b></i></sup></a> <a href=\"#cite_ref-NYT_Obit_1-5\"><sup><i><b>f</b></i></sup></a> <a href=\"#cite_ref-NYT_Obit_1-6\"><sup><i><b>g</b></i></sup></a> <a href=\"#cite_ref-NYT_Obit_1-7\"><sup><i><b>h</b></i></sup></a> <a href=\"#cite_ref-NYT_Obit_1-8\"><sup><i><b>i</b></i></sup></a> <a href=\"#cite_ref-NYT_Obit_1-9\"><sup><i><b>j</b></i></sup></a> <a href=\"#cite_ref-NYT_Obit_1-10\"><sup><i><b>k</b></i></sup></a></span> <span class=\"reference-text\"><style data-mw-deduplicate=\"TemplateStyles:r999302996\">.mw-parser-output cite.citation{font-style:inherit}.mw-parser-output .citation q{quotes:\"\\\"\"\"\\\"\"\"'\"\"'\"}.mw-parser-output .id-lock-free a,.mw-parser-output .citation .cs1-lock-free a{background:linear-gradient(transparent,transparent),url(\"//upload.wikimedia.org/wikipedia/commons/6/65/Lock-green.svg\")right 0.1em center/9px no-repeat}.mw-parser-output .id-lock-limited a,.mw-parser-output .id-lock-registration a,.mw-parser-output .citation .cs1-lock-limited a,.mw-parser-output .citation .cs1-lock-registration a{background:linear-gradient(transparent,transparent),url(\"//upload.wikimedia.org/wikipedia/commons/d/d6/Lock-gray-alt-2.svg\")right 0.1em center/9px no-repeat}.mw-parser-output .id-lock-subscription a,.mw-parser-output .citation .cs1-lock-subscription a{background:linear-gradient(transparent,transparent),url(\"//upload.wikimedia.org/wikipedia/commons/a/aa/Lock-red-alt-2.svg\")right 0.1em center/9px no-repeat}.mw-parser-output .cs1-subscription,.mw-parser-output .cs1-registration{color:#555}.mw-parser-output .cs1-subscription span,.mw-parser-output .cs1-registration span{border-bottom:1px dotted;cursor:help}.mw-parser-output .cs1-ws-icon a{background:linear-gradient(transparent,transparent),url(\"//upload.wikimedia.org/wikipedia/commons/4/4c/Wikisource-logo.svg\")right 0.1em center/12px no-repeat}.mw-parser-output code.cs1-code{color:inherit;background:inherit;border:none;padding:inherit}.mw-parser-output .cs1-hidden-error{display:none;font-size:100%}.mw-parser-output .cs1-visible-error{font-size:100%}.mw-parser-output .cs1-maint{display:none;color:#33aa33;margin-left:0.3em}.mw-parser-output .cs1-format{font-size:95%}.mw-parser-output .cs1-kern-left,.mw-parser-output .cs1-kern-wl-left{padding-left:0.2em}.mw-parser-output .cs1-kern-right,.mw-parser-output .cs1-kern-wl-right{padding-right:0.2em}.mw-parser-output .citation .mw-selflink{font-weight:inherit}</style><cite class=\"citation news cs1\"><a class=\"external text\" href=\"https://www.nytimes.com/1995/06/24/obituaries/dr-jonas-salk-whose-vaccine-turned-tide-on-polio-dies-at-80.html\" rel=\"nofollow\">\"Dr. Jonas Salk, Whose Vaccine Turned Tide on Polio, Dies at 80\"</a>. <i><a href=\"/wiki/The_New_York_Times\" title=\"The New York Times\">The New York Times</a></i>. June 24, 1995<span class=\"reference-accessdate\">. Retrieved <span class=\"nowrap\">October 23,</span> 2020</span>.</cite><span class=\"Z3988\" title=\"ctx_ver=Z39.88-2004&amp;rft_val_fmt=info%3Aofi%2Ffmt%3Akev%3Amtx%3Ajournal&amp;rft.genre=article&amp;rft.jtitle=The+New+York+Times&amp;rft.atitle=Dr.+Jonas+Salk%2C+Whose+Vaccine+Turned+Tide+on+Polio%2C+Dies+at+80&amp;rft.date=1995-06-24&amp;rft_id=https%3A%2F%2Fwww.nytimes.com%2F1995%2F06%2F24%2Fobituaries%2Fdr-jonas-salk-whose-vaccine-turned-tide-on-polio-dies-at-80.html&amp;rfr_id=info%3Asid%2Fen.wikipedia.org%3AJonas+Salk\"></span></span>\n",
       "</li>\n",
       "<li id=\"cite_note-About-2\"><span class=\"mw-cite-backlink\">^ <a href=\"#cite_ref-About_2-0\"><sup><i><b>a</b></i></sup></a> <a href=\"#cite_ref-About_2-1\"><sup><i><b>b</b></i></sup></a></span> <span class=\"reference-text\"><link href=\"mw-data:TemplateStyles:r999302996\" rel=\"mw-deduplicated-inline-style\"/><cite class=\"citation web cs1\"><a class=\"external text\" href=\"http://www.salk.edu/about/history-of-salk/jonas-salk/\" rel=\"nofollow\">\"About Jonas Salk – Salk Institute for Biological Studies\"</a>. <i>Salk Institute for Biological Studies</i><span class=\"reference-accessdate\">. Retrieved <span class=\"nowrap\">February 22,</span> 2016</span>.</cite><span class=\"Z3988\" title=\"ctx_ver=Z39.88-2004&amp;rft_val_fmt=info%3Aofi%2Ffmt%3Akev%3Amtx%3Ajournal&amp;rft.genre=unknown&amp;rft.jtitle=Salk+Institute+for+Biological+Studies&amp;rft.atitle=About+Jonas+Salk+%E2%80%93+Salk+Institute+for+Biological+Studies&amp;rft_id=http%3A%2F%2Fwww.salk.edu%2Fabout%2Fhistory-of-salk%2Fjonas-salk%2F&amp;rfr_id=info%3Asid%2Fen.wikipedia.org%3AJonas+Salk\"></span></span>\n",
       "</li>\n",
       "<li id=\"cite_note-3\"><span class=\"mw-cite-backlink\"><b><a href=\"#cite_ref-3\">^</a></b></span> <span class=\"reference-text\"><link href=\"mw-data:TemplateStyles:r999302996\" rel=\"mw-deduplicated-inline-style\"/><cite class=\"citation journal cs1\" id=\"CITEREFTanPonstein2019\">Tan, Siang Yong; Ponstein, Nate (January 2019). <a class=\"external text\" href=\"//www.ncbi.nlm.nih.gov/pmc/articles/PMC6351694\" rel=\"nofollow\">\"Jonas Salk (1914–1995): A vaccine against polio\"</a>. <i>Singapore Medical Journal</i>. <b>60</b> (1): 9–10. <a class=\"mw-redirect\" href=\"/wiki/Doi_(identifier)\" title=\"Doi (identifier)\">doi</a>:<a class=\"external text\" href=\"https://doi.org/10.11622%2Fsmedj.2019002\" rel=\"nofollow\">10.11622/smedj.2019002</a>. <a class=\"mw-redirect\" href=\"/wiki/ISSN_(identifier)\" title=\"ISSN (identifier)\">ISSN</a> <a class=\"external text\" href=\"//www.worldcat.org/issn/0037-5675\" rel=\"nofollow\">0037-5675</a>. <a class=\"mw-redirect\" href=\"/wiki/PMC_(identifier)\" title=\"PMC (identifier)\">PMC</a> <span class=\"cs1-lock-free\" title=\"Freely accessible\"><a class=\"external text\" href=\"//www.ncbi.nlm.nih.gov/pmc/articles/PMC6351694\" rel=\"nofollow\">6351694</a></span>. <a class=\"mw-redirect\" href=\"/wiki/PMID_(identifier)\" title=\"PMID (identifier)\">PMID</a> <a class=\"external text\" href=\"//pubmed.ncbi.nlm.nih.gov/30840995\" rel=\"nofollow\">30840995</a>.</cite><span class=\"Z3988\" title=\"ctx_ver=Z39.88-2004&amp;rft_val_fmt=info%3Aofi%2Ffmt%3Akev%3Amtx%3Ajournal&amp;rft.genre=article&amp;rft.jtitle=Singapore+Medical+Journal&amp;rft.atitle=Jonas+Salk+%281914%E2%80%931995%29%3A+A+vaccine+against+polio&amp;rft.volume=60&amp;rft.issue=1&amp;rft.pages=9-10&amp;rft.date=2019-01&amp;rft_id=%2F%2Fwww.ncbi.nlm.nih.gov%2Fpmc%2Farticles%2FPMC6351694%23id-name%3DPMC&amp;rft.issn=0037-5675&amp;rft_id=info%3Apmid%2F30840995&amp;rft_id=info%3Adoi%2F10.11622%2Fsmedj.2019002&amp;rft.aulast=Tan&amp;rft.aufirst=Siang+Yong&amp;rft.au=Ponstein%2C+Nate&amp;rft_id=%2F%2Fwww.ncbi.nlm.nih.gov%2Fpmc%2Farticles%2FPMC6351694&amp;rfr_id=info%3Asid%2Fen.wikipedia.org%3AJonas+Salk\"></span></span>\n",
       "</li>\n",
       "<li id=\"cite_note-usa-4\"><span class=\"mw-cite-backlink\"><b><a href=\"#cite_ref-usa_4-0\">^</a></b></span> <span class=\"reference-text\">Jacobs, Charlotte DeCroes. <a class=\"external text\" href=\"https://www.usatoday.com/story/opinion/2015/08/04/vaccinations-controversial-america-polio-health/31052179/\" rel=\"nofollow\">\"Vaccinations have always been controversial in America: Column\"</a>, <i>USA Today</i>, August 4, 2015</span>\n",
       "</li>\n",
       "<li id=\"cite_note-5\"><span class=\"mw-cite-backlink\"><b><a href=\"#cite_ref-5\">^</a></b></span> <span class=\"reference-text\"><a class=\"external text\" href=\"http://www.newswise.com/articles/uc-san-diego-library-receives-personal-papers-of-jonas-salk\" rel=\"nofollow\">\"UC San Diego Library Receives Personal Papers of Jonas Salk\"</a>, <i>Newswise</i>, March 20, 2014</span>\n",
       "</li>\n",
       "<li id=\"cite_note-6\"><span class=\"mw-cite-backlink\"><b><a href=\"#cite_ref-6\">^</a></b></span> <span class=\"reference-text\"><a class=\"external text\" href=\"http://www.sandiegouniontribune.com/news/2014/mar/20/salk-ucsd-geisel/\" rel=\"nofollow\">San Diego Union Tribune,  20 March 2014: \"UCSD to house Salk's papers\"</a>, accessed July 3, 2015.</span>\n",
       "</li>\n",
       "<li id=\"cite_note-7\"><span class=\"mw-cite-backlink\"><b><a href=\"#cite_ref-7\">^</a></b></span> <span class=\"reference-text\"><link href=\"mw-data:TemplateStyles:r999302996\" rel=\"mw-deduplicated-inline-style\"/><cite class=\"citation web cs1\"><a class=\"external text\" href=\"http://www.jonas-salk.org/docs/InterviewFAQ.html\" rel=\"nofollow\">\"Selected Questions from Student Interviews: Darrell Salk, M.D.\"</a> <i>The Jonas Salk Center</i>. 2001<span class=\"reference-accessdate\">. Retrieved <span class=\"nowrap\">April 15,</span> 2020</span>.</cite><span class=\"Z3988\" title=\"ctx_ver=Z39.88-2004&amp;rft_val_fmt=info%3Aofi%2Ffmt%3Akev%3Amtx%3Ajournal&amp;rft.genre=unknown&amp;rft.jtitle=The+Jonas+Salk+Center&amp;rft.atitle=Selected+Questions+from+Student+Interviews%3A+Darrell+Salk%2C+M.D.&amp;rft.date=2001&amp;rft_id=http%3A%2F%2Fwww.jonas-salk.org%2Fdocs%2FInterviewFAQ.html&amp;rfr_id=info%3Asid%2Fen.wikipedia.org%3AJonas+Salk\"></span></span>\n",
       "</li>\n",
       "<li id=\"cite_note-Jacobs2015-8\"><span class=\"mw-cite-backlink\"><b><a href=\"#cite_ref-Jacobs2015_8-0\">^</a></b></span> <span class=\"reference-text\"><link href=\"mw-data:TemplateStyles:r999302996\" rel=\"mw-deduplicated-inline-style\"/><cite class=\"citation book cs1\" id=\"CITEREFCharlotte_DeCroes_Jacobs2015\">Charlotte DeCroes Jacobs (April 21, 2015). <a class=\"external text\" href=\"https://books.google.com/books?id=qfRgBwAAQBAJ&amp;pg=PT45\" rel=\"nofollow\"><i>Jonas Salk: A Life</i></a>. Oxford University Press. pp. 45–. <a class=\"mw-redirect\" href=\"/wiki/ISBN_(identifier)\" title=\"ISBN (identifier)\">ISBN</a> <a href=\"/wiki/Special:BookSources/978-0-19-933443-8\" title=\"Special:BookSources/978-0-19-933443-8\"><bdi>978-0-19-933443-8</bdi></a>.</cite><span class=\"Z3988\" title=\"ctx_ver=Z39.88-2004&amp;rft_val_fmt=info%3Aofi%2Ffmt%3Akev%3Amtx%3Abook&amp;rft.genre=book&amp;rft.btitle=Jonas+Salk%3A+A+Life&amp;rft.pages=45-&amp;rft.pub=Oxford+University+Press&amp;rft.date=2015-04-21&amp;rft.isbn=978-0-19-933443-8&amp;rft.au=Charlotte+DeCroes+Jacobs&amp;rft_id=https%3A%2F%2Fbooks.google.com%2Fbooks%3Fid%3DqfRgBwAAQBAJ%26pg%3DPT45&amp;rfr_id=info%3Asid%2Fen.wikipedia.org%3AJonas+Salk\"></span></span>\n",
       "</li>\n",
       "<li id=\"cite_note-9\"><span class=\"mw-cite-backlink\"><b><a href=\"#cite_ref-9\">^</a></b></span> <span class=\"reference-text\"><link href=\"mw-data:TemplateStyles:r999302996\" rel=\"mw-deduplicated-inline-style\"/><cite class=\"citation web cs1\"><a class=\"external text\" href=\"http://www.encyclopedia.com/topic/Jonas_Edward_Salk.aspx\" rel=\"nofollow\">\"Jonas Edward Salk facts, information, pictures - Encyclopedia.com articles about Jonas Edward Salk\"</a>. <i>www.encyclopedia.com</i>.</cite><span class=\"Z3988\" title=\"ctx_ver=Z39.88-2004&amp;rft_val_fmt=info%3Aofi%2Ffmt%3Akev%3Amtx%3Ajournal&amp;rft.genre=unknown&amp;rft.jtitle=www.encyclopedia.com&amp;rft.atitle=Jonas+Edward+Salk+facts%2C+information%2C+pictures+-+Encyclopedia.com+articles+about+Jonas+Edward+Salk&amp;rft_id=http%3A%2F%2Fwww.encyclopedia.com%2Ftopic%2FJonas_Edward_Salk.aspx&amp;rfr_id=info%3Asid%2Fen.wikipedia.org%3AJonas+Salk\"></span></span>\n",
       "</li>\n",
       "<li id=\"cite_note-10\"><span class=\"mw-cite-backlink\"><b><a href=\"#cite_ref-10\">^</a></b></span> <span class=\"reference-text\"><a class=\"external text\" href=\"https://www.nytimes.com/1992/05/04/nyregion/dr-lee-salk-child-psychologist-and-popular-author-dies-at-65.html?pagewanted=all&amp;src=pm\" rel=\"nofollow\">Dr. Lee Salk, Child Psychologist And Popular Author, Dies at 65 – New York Times</a>. Retrieved August 15, 2011.</span>\n",
       "</li>\n",
       "<li id=\"cite_note-11\"><span class=\"mw-cite-backlink\"><b><a href=\"#cite_ref-11\">^</a></b></span> <span class=\"reference-text\"><link href=\"mw-data:TemplateStyles:r999302996\" rel=\"mw-deduplicated-inline-style\"/><cite class=\"citation web cs1\" id=\"CITEREFRoberts2012\">Roberts, Sam (July 27, 2012). <a class=\"external text\" href=\"https://cityroom.blogs.nytimes.com/2012/07/27/new-york-census-data-centuries-old-is-now-online/\" rel=\"nofollow\">\"New York Census Data, Centuries Old, Is Now Online\"</a>.</cite><span class=\"Z3988\" title=\"ctx_ver=Z39.88-2004&amp;rft_val_fmt=info%3Aofi%2Ffmt%3Akev%3Amtx%3Abook&amp;rft.genre=unknown&amp;rft.btitle=New+York+Census+Data%2C+Centuries+Old%2C+Is+Now+Online&amp;rft.date=2012-07-27&amp;rft.aulast=Roberts&amp;rft.aufirst=Sam&amp;rft_id=https%3A%2F%2Fcityroom.blogs.nytimes.com%2F2012%2F07%2F27%2Fnew-york-census-data-centuries-old-is-now-online%2F&amp;rfr_id=info%3Asid%2Fen.wikipedia.org%3AJonas+Salk\"></span></span>\n",
       "</li>\n",
       "<li id=\"cite_note-12\"><span class=\"mw-cite-backlink\"><b><a href=\"#cite_ref-12\">^</a></b></span> <span class=\"reference-text\">City College of New York Microcosm Yearbook, 1934</span>\n",
       "</li>\n",
       "<li id=\"cite_note-Bookchin-13\"><span class=\"mw-cite-backlink\">^ <a href=\"#cite_ref-Bookchin_13-0\"><sup><i><b>a</b></i></sup></a> <a href=\"#cite_ref-Bookchin_13-1\"><sup><i><b>b</b></i></sup></a> <a href=\"#cite_ref-Bookchin_13-2\"><sup><i><b>c</b></i></sup></a> <a href=\"#cite_ref-Bookchin_13-3\"><sup><i><b>d</b></i></sup></a> <a href=\"#cite_ref-Bookchin_13-4\"><sup><i><b>e</b></i></sup></a> <a href=\"#cite_ref-Bookchin_13-5\"><sup><i><b>f</b></i></sup></a></span> <span class=\"reference-text\">Bookchin, Debbie, and Schumacher, Jim. <i>The Virus and the Vaccine</i>, Macmillan (2004) <link href=\"mw-data:TemplateStyles:r999302996\" rel=\"mw-deduplicated-inline-style\"/><a class=\"mw-redirect\" href=\"/wiki/ISBN_(identifier)\" title=\"ISBN (identifier)\">ISBN</a> <a href=\"/wiki/Special:BookSources/0-312-34272-1\" title=\"Special:BookSources/0-312-34272-1\">0-312-34272-1</a></span>\n",
       "</li>\n",
       "<li id=\"cite_note-Oshinsky-14\"><span class=\"mw-cite-backlink\">^ <a href=\"#cite_ref-Oshinsky_14-0\"><sup><i><b>a</b></i></sup></a> <a href=\"#cite_ref-Oshinsky_14-1\"><sup><i><b>b</b></i></sup></a> <a href=\"#cite_ref-Oshinsky_14-2\"><sup><i><b>c</b></i></sup></a> <a href=\"#cite_ref-Oshinsky_14-3\"><sup><i><b>d</b></i></sup></a> <a href=\"#cite_ref-Oshinsky_14-4\"><sup><i><b>e</b></i></sup></a> <a href=\"#cite_ref-Oshinsky_14-5\"><sup><i><b>f</b></i></sup></a> <a href=\"#cite_ref-Oshinsky_14-6\"><sup><i><b>g</b></i></sup></a> <a href=\"#cite_ref-Oshinsky_14-7\"><sup><i><b>h</b></i></sup></a></span> <span class=\"reference-text\"><link href=\"mw-data:TemplateStyles:r999302996\" rel=\"mw-deduplicated-inline-style\"/><cite class=\"citation book cs1\" id=\"CITEREFOshinsky2005\">Oshinsky, David M. (2005). <a class=\"external text\" href=\"https://books.google.com/books?id=cTliwSU62KIC\" rel=\"nofollow\"><i>Polio: An American Story</i></a>. Oxford: Oxford University Press. <a class=\"mw-redirect\" href=\"/wiki/ISBN_(identifier)\" title=\"ISBN (identifier)\">ISBN</a> <a href=\"/wiki/Special:BookSources/978-0-19-515294-4\" title=\"Special:BookSources/978-0-19-515294-4\"><bdi>978-0-19-515294-4</bdi></a>. <a class=\"mw-redirect\" href=\"/wiki/OCLC_(identifier)\" title=\"OCLC (identifier)\">OCLC</a> <a class=\"external text\" href=\"//www.worldcat.org/oclc/1031748949\" rel=\"nofollow\">1031748949</a>.</cite><span class=\"Z3988\" title=\"ctx_ver=Z39.88-2004&amp;rft_val_fmt=info%3Aofi%2Ffmt%3Akev%3Amtx%3Abook&amp;rft.genre=book&amp;rft.btitle=Polio%3A+An+American+Story&amp;rft.place=Oxford&amp;rft.pub=Oxford+University+Press&amp;rft.date=2005&amp;rft_id=info%3Aoclcnum%2F1031748949&amp;rft.isbn=978-0-19-515294-4&amp;rft.aulast=Oshinsky&amp;rft.aufirst=David+M.&amp;rft_id=https%3A%2F%2Fbooks.google.com%2Fbooks%3Fid%3DcTliwSU62KIC&amp;rfr_id=info%3Asid%2Fen.wikipedia.org%3AJonas+Salk\"></span></span>\n",
       "</li>\n",
       "<li id=\"cite_note-sherrow-15\"><span class=\"mw-cite-backlink\">^ <a href=\"#cite_ref-sherrow_15-0\"><sup><i><b>a</b></i></sup></a> <a href=\"#cite_ref-sherrow_15-1\"><sup><i><b>b</b></i></sup></a></span> <span class=\"reference-text\">Sherrow, Victoria: <i>Jonas Salk, Revised Edition</i> (2009), p. 12</span>\n",
       "</li>\n",
       "<li id=\"cite_note-16\"><span class=\"mw-cite-backlink\"><b><a href=\"#cite_ref-16\">^</a></b></span> <span class=\"reference-text\"><link href=\"mw-data:TemplateStyles:r999302996\" rel=\"mw-deduplicated-inline-style\"/><cite class=\"citation web cs1\"><a class=\"external text\" href=\"https://achievement.org/achiever/jonas-salk-m-d/#interview\" rel=\"nofollow\">\"Jonas Salk Biography and Interview\"</a>. <i>www.achievement.org</i>. <a class=\"mw-redirect\" href=\"/wiki/American_Academy_of_Achievement\" title=\"American Academy of Achievement\">American Academy of Achievement</a>.</cite><span class=\"Z3988\" title=\"ctx_ver=Z39.88-2004&amp;rft_val_fmt=info%3Aofi%2Ffmt%3Akev%3Amtx%3Ajournal&amp;rft.genre=unknown&amp;rft.jtitle=www.achievement.org&amp;rft.atitle=Jonas+Salk+Biography+and+Interview&amp;rft_id=https%3A%2F%2Fachievement.org%2Fachiever%2Fjonas-salk-m-d%2F%23interview&amp;rfr_id=info%3Asid%2Fen.wikipedia.org%3AJonas+Salk\"></span></span>\n",
       "</li>\n",
       "<li id=\"cite_note-17\"><span class=\"mw-cite-backlink\"><b><a href=\"#cite_ref-17\">^</a></b></span> <span class=\"reference-text\"><link href=\"mw-data:TemplateStyles:r999302996\" rel=\"mw-deduplicated-inline-style\"/><cite class=\"citation web cs1\"><a class=\"external text\" href=\"https://www.achievement.org/achiever/jonas-salk-m-d/#interview\" rel=\"nofollow\">\"Jonas Salk Biography and Interview\"</a>. <i>www.achievement.org</i>. <a class=\"mw-redirect\" href=\"/wiki/American_Academy_of_Achievement\" title=\"American Academy of Achievement\">American Academy of Achievement</a>.</cite><span class=\"Z3988\" title=\"ctx_ver=Z39.88-2004&amp;rft_val_fmt=info%3Aofi%2Ffmt%3Akev%3Amtx%3Ajournal&amp;rft.genre=unknown&amp;rft.jtitle=www.achievement.org&amp;rft.atitle=Jonas+Salk+Biography+and+Interview&amp;rft_id=https%3A%2F%2Fwww.achievement.org%2Fachiever%2Fjonas-salk-m-d%2F%23interview&amp;rfr_id=info%3Asid%2Fen.wikipedia.org%3AJonas+Salk\"></span></span>\n",
       "</li>\n",
       "<li id=\"cite_note-18\"><span class=\"mw-cite-backlink\"><b><a href=\"#cite_ref-18\">^</a></b></span> <span class=\"reference-text\"><link href=\"mw-data:TemplateStyles:r999302996\" rel=\"mw-deduplicated-inline-style\"/><cite class=\"citation web cs1\"><a class=\"external text\" href=\"https://web.archive.org/web/20150722025220/http://achievement.org/autodoc/page/sal0int-2\" rel=\"nofollow\">\"Archived copy\"</a>. Archived from <a class=\"external text\" href=\"http://achievement.org/autodoc/page/sal0int-2\" rel=\"nofollow\">the original</a> on July 22, 2015<span class=\"reference-accessdate\">. Retrieved <span class=\"nowrap\">August 14,</span> 2015</span>.</cite><span class=\"Z3988\" title=\"ctx_ver=Z39.88-2004&amp;rft_val_fmt=info%3Aofi%2Ffmt%3Akev%3Amtx%3Abook&amp;rft.genre=unknown&amp;rft.btitle=Archived+copy&amp;rft_id=http%3A%2F%2Fachievement.org%2Fautodoc%2Fpage%2Fsal0int-2&amp;rfr_id=info%3Asid%2Fen.wikipedia.org%3AJonas+Salk\"></span><span class=\"cs1-maint citation-comment\">CS1 maint: archived copy as title (<a href=\"/wiki/Category:CS1_maint:_archived_copy_as_title\" title=\"Category:CS1 maint: archived copy as title\">link</a>)</span></span>\n",
       "</li>\n",
       "<li id=\"cite_note-19\"><span class=\"mw-cite-backlink\"><b><a href=\"#cite_ref-19\">^</a></b></span> <span class=\"reference-text\"><link href=\"mw-data:TemplateStyles:r999302996\" rel=\"mw-deduplicated-inline-style\"/><cite class=\"citation book cs1\" id=\"CITEREFBankston2002\">Bankston, John (2002). <i>Jonas Salk and the Polio Vaccine</i>. Bear, Delaware: Mitchell Lane Publishers. pp. 30–32.</cite><span class=\"Z3988\" title=\"ctx_ver=Z39.88-2004&amp;rft_val_fmt=info%3Aofi%2Ffmt%3Akev%3Amtx%3Abook&amp;rft.genre=book&amp;rft.btitle=Jonas+Salk+and+the+Polio+Vaccine&amp;rft.place=Bear%2C+Delaware&amp;rft.pages=30-32&amp;rft.pub=Mitchell+Lane+Publishers&amp;rft.date=2002&amp;rft.aulast=Bankston&amp;rft.aufirst=John&amp;rfr_id=info%3Asid%2Fen.wikipedia.org%3AJonas+Salk\"></span></span>\n",
       "</li>\n",
       "<li id=\"cite_note-PBS-20\"><span class=\"mw-cite-backlink\">^ <a href=\"#cite_ref-PBS_20-0\"><sup><i><b>a</b></i></sup></a> <a href=\"#cite_ref-PBS_20-1\"><sup><i><b>b</b></i></sup></a></span> <span class=\"reference-text\"><a class=\"external text\" href=\"http://articles.latimes.com/2009/feb/02/entertainment/et-polio2\" rel=\"nofollow\">\"American Experience: The Polio Crusade\"</a> <i>Los Angeles Times</i>, Television Review, February 2, 2009</span>\n",
       "</li>\n",
       "<li id=\"cite_note-21\"><span class=\"mw-cite-backlink\"><b><a href=\"#cite_ref-21\">^</a></b></span> <span class=\"reference-text\"><link href=\"mw-data:TemplateStyles:r999302996\" rel=\"mw-deduplicated-inline-style\"/><cite class=\"citation book cs1\" id=\"CITEREFMcPherson2002\">McPherson, Stephanie (2002). <span class=\"cs1-lock-registration\" title=\"Free registration required\"><a class=\"external text\" href=\"https://archive.org/details/jonassalkconquer00mcph\" rel=\"nofollow\"><i>Jonas Salk: Conquering Polio</i></a></span>. Minneapolis, Minnesota: Lerner Publications Company. pp. <a class=\"external text\" href=\"https://archive.org/details/jonassalkconquer00mcph/page/33\" rel=\"nofollow\">33–37</a>.</cite><span class=\"Z3988\" title=\"ctx_ver=Z39.88-2004&amp;rft_val_fmt=info%3Aofi%2Ffmt%3Akev%3Amtx%3Abook&amp;rft.genre=book&amp;rft.btitle=Jonas+Salk%3A+Conquering+Polio&amp;rft.place=Minneapolis%2C+Minnesota&amp;rft.pages=33-37&amp;rft.pub=Lerner+Publications+Company&amp;rft.date=2002&amp;rft.aulast=McPherson&amp;rft.aufirst=Stephanie&amp;rft_id=https%3A%2F%2Farchive.org%2Fdetails%2Fjonassalkconquer00mcph&amp;rfr_id=info%3Asid%2Fen.wikipedia.org%3AJonas+Salk\"></span></span>\n",
       "</li>\n",
       "<li id=\"cite_note-Wisdom-22\"><span class=\"mw-cite-backlink\">^ <a href=\"#cite_ref-Wisdom_22-0\"><sup><i><b>a</b></i></sup></a> <a href=\"#cite_ref-Wisdom_22-1\"><sup><i><b>b</b></i></sup></a></span> <span class=\"reference-text\"><i>Wisdom</i> magazine, August 1956 pp. 6–15</span>\n",
       "</li>\n",
       "<li id=\"cite_note-ONeill-23\"><span class=\"mw-cite-backlink\">^ <a href=\"#cite_ref-ONeill_23-0\"><sup><i><b>a</b></i></sup></a> <a href=\"#cite_ref-ONeill_23-1\"><sup><i><b>b</b></i></sup></a> <a href=\"#cite_ref-ONeill_23-2\"><sup><i><b>c</b></i></sup></a> <a href=\"#cite_ref-ONeill_23-3\"><sup><i><b>d</b></i></sup></a> <a href=\"#cite_ref-ONeill_23-4\"><sup><i><b>e</b></i></sup></a></span> <span class=\"reference-text\"><link href=\"mw-data:TemplateStyles:r999302996\" rel=\"mw-deduplicated-inline-style\"/><cite class=\"citation book cs1\" id=\"CITEREFO'Neill1989\">O'Neill, William L. (1989). <i>American High: The Years of Confidence, 1945–1960</i>. New York: Simon and Schuster. <a class=\"mw-redirect\" href=\"/wiki/ISBN_(identifier)\" title=\"ISBN (identifier)\">ISBN</a> <a href=\"/wiki/Special:BookSources/0-02-923679-7\" title=\"Special:BookSources/0-02-923679-7\"><bdi>0-02-923679-7</bdi></a>.</cite><span class=\"Z3988\" title=\"ctx_ver=Z39.88-2004&amp;rft_val_fmt=info%3Aofi%2Ffmt%3Akev%3Amtx%3Abook&amp;rft.genre=book&amp;rft.btitle=American+High%3A+The+Years+of+Confidence%2C+1945%E2%80%931960&amp;rft.place=New+York&amp;rft.pub=Simon+and+Schuster&amp;rft.date=1989&amp;rft.isbn=0-02-923679-7&amp;rft.aulast=O%27Neill&amp;rft.aufirst=William+L.&amp;rfr_id=info%3Asid%2Fen.wikipedia.org%3AJonas+Salk\"></span></span>\n",
       "</li>\n",
       "<li id=\"cite_note-Institute-24\"><span class=\"mw-cite-backlink\"><b><a href=\"#cite_ref-Institute_24-0\">^</a></b></span> <span class=\"reference-text\"><link href=\"mw-data:TemplateStyles:r999302996\" rel=\"mw-deduplicated-inline-style\"/><cite class=\"citation web cs1\"><a class=\"external text\" href=\"https://www.sciencehistory.org/historical-profile/jonas-salk-and-albert-bruce-sabin\" rel=\"nofollow\">\"Jonas Salk and Albert Bruce Sabin\"</a>. <i><a href=\"/wiki/Science_History_Institute\" title=\"Science History Institute\">Science History Institute</a></i>. January 8, 2017<span class=\"reference-accessdate\">. Retrieved <span class=\"nowrap\">June 15,</span> 2020</span>.</cite><span class=\"Z3988\" title=\"ctx_ver=Z39.88-2004&amp;rft_val_fmt=info%3Aofi%2Ffmt%3Akev%3Amtx%3Ajournal&amp;rft.genre=unknown&amp;rft.jtitle=Science+History+Institute&amp;rft.atitle=Jonas+Salk+and+Albert+Bruce+Sabin&amp;rft.date=2017-01-08&amp;rft_id=https%3A%2F%2Fwww.sciencehistory.org%2Fhistorical-profile%2Fjonas-salk-and-albert-bruce-sabin&amp;rfr_id=info%3Asid%2Fen.wikipedia.org%3AJonas+Salk\"></span></span>\n",
       "</li>\n",
       "<li id=\"cite_note-NPR1-25\"><span class=\"mw-cite-backlink\">^ <a href=\"#cite_ref-NPR1_25-0\"><sup><i><b>a</b></i></sup></a> <a href=\"#cite_ref-NPR1_25-1\"><sup><i><b>b</b></i></sup></a></span> <span class=\"reference-text\"><link href=\"mw-data:TemplateStyles:r999302996\" rel=\"mw-deduplicated-inline-style\"/><cite class=\"citation web cs1\"><a class=\"external text\" href=\"https://www.npr.org/transcripts/861887610\" rel=\"nofollow\">\"Among The 1st To Get A Polio Vaccine, Peter Salk Says Don't Rush A COVID-19 Shot\"</a>. NPR. May 30, 2020<span class=\"reference-accessdate\">. Retrieved <span class=\"nowrap\">December 26,</span> 2020</span>.</cite><span class=\"Z3988\" title=\"ctx_ver=Z39.88-2004&amp;rft_val_fmt=info%3Aofi%2Ffmt%3Akev%3Amtx%3Abook&amp;rft.genre=unknown&amp;rft.btitle=Among+The+1st+To+Get+A+Polio+Vaccine%2C+Peter+Salk+Says+Don%27t+Rush+A+COVID-19+Shot&amp;rft.pub=NPR&amp;rft.date=2020-05-30&amp;rft_id=https%3A%2F%2Fwww.npr.org%2Ftranscripts%2F861887610&amp;rfr_id=info%3Asid%2Fen.wikipedia.org%3AJonas+Salk\"></span></span>\n",
       "</li>\n",
       "<li id=\"cite_note-NPR2-26\"><span class=\"mw-cite-backlink\">^ <a href=\"#cite_ref-NPR2_26-0\"><sup><i><b>a</b></i></sup></a> <a href=\"#cite_ref-NPR2_26-1\"><sup><i><b>b</b></i></sup></a></span> <span class=\"reference-text\"><link href=\"mw-data:TemplateStyles:r999302996\" rel=\"mw-deduplicated-inline-style\"/><cite class=\"citation web cs1\"><a class=\"external text\" href=\"https://www.npr.org/2020/12/26/949763228/from-polio-to-the-covid-vaccine-dr-peter-salk-sees-great-progress\" rel=\"nofollow\">\"From Polio To The COVID Vaccine, Dr. Peter Salk Sees Great Progress\"</a>. NPR. December 26, 2020<span class=\"reference-accessdate\">. Retrieved <span class=\"nowrap\">December 26,</span> 2020</span>.</cite><span class=\"Z3988\" title=\"ctx_ver=Z39.88-2004&amp;rft_val_fmt=info%3Aofi%2Ffmt%3Akev%3Amtx%3Abook&amp;rft.genre=unknown&amp;rft.btitle=From+Polio+To+The+COVID+Vaccine%2C+Dr.+Peter+Salk+Sees+Great+Progress&amp;rft.pub=NPR&amp;rft.date=2020-12-26&amp;rft_id=https%3A%2F%2Fwww.npr.org%2F2020%2F12%2F26%2F949763228%2Ffrom-polio-to-the-covid-vaccine-dr-peter-salk-sees-great-progress&amp;rfr_id=info%3Asid%2Fen.wikipedia.org%3AJonas+Salk\"></span></span>\n",
       "</li>\n",
       "<li id=\"cite_note-27\"><span class=\"mw-cite-backlink\"><b><a href=\"#cite_ref-27\">^</a></b></span> <span class=\"reference-text\"><link href=\"mw-data:TemplateStyles:r999302996\" rel=\"mw-deduplicated-inline-style\"/><cite class=\"citation web cs1\"><a class=\"external text\" href=\"https://www.pbs.org/wgbh/americanexperience/features/transcript/polio-transcript/\" rel=\"nofollow\">\"Complete Program Transcript. The Polio Crusade. WGBH American Experience\"</a>. PBS<span class=\"reference-accessdate\">. Retrieved <span class=\"nowrap\">July 14,</span> 2014</span>.</cite><span class=\"Z3988\" title=\"ctx_ver=Z39.88-2004&amp;rft_val_fmt=info%3Aofi%2Ffmt%3Akev%3Amtx%3Abook&amp;rft.genre=unknown&amp;rft.btitle=Complete+Program+Transcript.+The+Polio+Crusade.+WGBH+American+Experience&amp;rft.pub=PBS&amp;rft_id=https%3A%2F%2Fwww.pbs.org%2Fwgbh%2Famericanexperience%2Ffeatures%2Ftranscript%2Fpolio-transcript%2F&amp;rfr_id=info%3Asid%2Fen.wikipedia.org%3AJonas+Salk\"></span></span>\n",
       "</li>\n",
       "<li id=\"cite_note-28\"><span class=\"mw-cite-backlink\"><b><a href=\"#cite_ref-28\">^</a></b></span> <span class=\"reference-text\"><a class=\"external text\" href=\"https://www.nytimes.com/1953/11/13/archives/antipolio-vaccine-guaranteed-by-salk.html?sq=Anti-polio+vaccine+guaranteed+by+salk&amp;scp=1&amp;st=p\" rel=\"nofollow\">\"Anti-polio Vaccine Guaranteed by Salk,\"</a> <i><a href=\"/wiki/The_New_York_Times\" title=\"The New York Times\">The New York Times</a></i>, November 13, 1953</span>\n",
       "</li>\n",
       "<li id=\"cite_note-NYT7-17-55-29\"><span class=\"mw-cite-backlink\">^ <a href=\"#cite_ref-NYT7-17-55_29-0\"><sup><i><b>a</b></i></sup></a> <a href=\"#cite_ref-NYT7-17-55_29-1\"><sup><i><b>b</b></i></sup></a> <a href=\"#cite_ref-NYT7-17-55_29-2\"><sup><i><b>c</b></i></sup></a> <a href=\"#cite_ref-NYT7-17-55_29-3\"><sup><i><b>d</b></i></sup></a></span> <span class=\"reference-text\"><link href=\"mw-data:TemplateStyles:r999302996\" rel=\"mw-deduplicated-inline-style\"/><cite class=\"citation news cs1\"><a class=\"external text\" href=\"https://www.nytimes.com/1955/07/17/archives/what-price-fame-to-dr-salk-the-man-who-developed-the-polio-vaccine.html\" rel=\"nofollow\">\"What Price Fame—to Dr. Salk\"</a>. <i>The New York Times</i>. July 17, 1955.</cite><span class=\"Z3988\" title=\"ctx_ver=Z39.88-2004&amp;rft_val_fmt=info%3Aofi%2Ffmt%3Akev%3Amtx%3Ajournal&amp;rft.genre=article&amp;rft.jtitle=The+New+York+Times&amp;rft.atitle=What+Price+Fame%E2%80%94to+Dr.+Salk&amp;rft.date=1955-07-17&amp;rft_id=https%3A%2F%2Fwww.nytimes.com%2F1955%2F07%2F17%2Farchives%2Fwhat-price-fame-to-dr-salk-the-man-who-developed-the-polio-vaccine.html&amp;rfr_id=info%3Asid%2Fen.wikipedia.org%3AJonas+Salk\"></span></span>\n",
       "</li>\n",
       "<li id=\"cite_note-Rose-30\"><span class=\"mw-cite-backlink\"><b><a href=\"#cite_ref-Rose_30-0\">^</a></b></span> <span class=\"reference-text\">Rose DR (2004). \"Fact Sheet—Polio Vaccine Field Trial of 1954.\" March of Dimes Archives. 2004 02 11.</span>\n",
       "</li>\n",
       "<li id=\"cite_note-Offit-31\"><span class=\"mw-cite-backlink\"><b><a href=\"#cite_ref-Offit_31-0\">^</a></b></span> <span class=\"reference-text\"><link href=\"mw-data:TemplateStyles:r999302996\" rel=\"mw-deduplicated-inline-style\"/><cite class=\"citation journal cs1\" id=\"CITEREFOffit2005\"><a href=\"/wiki/Paul_Offit\" title=\"Paul Offit\">Offit, Paul</a> (2005). <a class=\"external text\" href=\"http://content.nejm.org/cgi/reprint/352/14/1411.pdf\" rel=\"nofollow\">\"The Cutter incident, 50 years later\"</a> <span class=\"cs1-format\">(PDF)</span>. <i>N. Engl. J. Med</i>. <b>352</b> (14): 1411–1412. <a class=\"mw-redirect\" href=\"/wiki/Doi_(identifier)\" title=\"Doi (identifier)\">doi</a>:<a class=\"external text\" href=\"https://doi.org/10.1056%2FNEJMp048180\" rel=\"nofollow\">10.1056/NEJMp048180</a>. <a class=\"mw-redirect\" href=\"/wiki/PMID_(identifier)\" title=\"PMID (identifier)\">PMID</a> <a class=\"external text\" href=\"//pubmed.ncbi.nlm.nih.gov/15814877\" rel=\"nofollow\">15814877</a>.</cite><span class=\"Z3988\" title=\"ctx_ver=Z39.88-2004&amp;rft_val_fmt=info%3Aofi%2Ffmt%3Akev%3Amtx%3Ajournal&amp;rft.genre=article&amp;rft.jtitle=N.+Engl.+J.+Med.&amp;rft.atitle=The+Cutter+incident%2C+50+years+later&amp;rft.volume=352&amp;rft.issue=14&amp;rft.pages=1411-1412&amp;rft.date=2005&amp;rft_id=info%3Adoi%2F10.1056%2FNEJMp048180&amp;rft_id=info%3Apmid%2F15814877&amp;rft.aulast=Offit&amp;rft.aufirst=Paul&amp;rft_id=http%3A%2F%2Fcontent.nejm.org%2Fcgi%2Freprint%2F352%2F14%2F1411.pdf&amp;rfr_id=info%3Asid%2Fen.wikipedia.org%3AJonas+Salk\"></span></span>\n",
       "</li>\n",
       "<li id=\"cite_note-32\"><span class=\"mw-cite-backlink\"><b><a href=\"#cite_ref-32\">^</a></b></span> <span class=\"reference-text\">Fleischer, Doris Z. <i>The Disability Rights Movement: From Charity to Confrontation</i> Temple University Press (2001)</span>\n",
       "</li>\n",
       "<li id=\"cite_note-Denenberg-33\"><span class=\"mw-cite-backlink\"><b><a href=\"#cite_ref-Denenberg_33-0\">^</a></b></span> <span class=\"reference-text\">Denenberg, Dennis, and Roscoe, Lorraine. <i>50 American Heroes Every Kid Should Meet</i> Millbrook Press (2006)</span>\n",
       "</li>\n",
       "<li id=\"cite_note-WHO2016-34\"><span class=\"mw-cite-backlink\"><b><a href=\"#cite_ref-WHO2016_34-0\">^</a></b></span> <span class=\"reference-text\"><link href=\"mw-data:TemplateStyles:r999302996\" rel=\"mw-deduplicated-inline-style\"/><cite class=\"citation journal cs1\"><a class=\"external text\" href=\"https://www.who.int/wer/2016/wer9112.pdf?ua=1\" rel=\"nofollow\">\"Polio vaccines: WHO position paper, March, 2016\"</a> <span class=\"cs1-format\">(PDF)</span>. <i>Wkly Epidemiol Rec</i>. <b>91</b> (12): 145–168. March 25, 2016. <a class=\"mw-redirect\" href=\"/wiki/PMID_(identifier)\" title=\"PMID (identifier)\">PMID</a> <a class=\"external text\" href=\"//pubmed.ncbi.nlm.nih.gov/27039410\" rel=\"nofollow\">27039410</a>. <a class=\"external text\" href=\"https://web.archive.org/web/20160603084236/http://www.who.int/wer/2016/wer9112.pdf?ua=1\" rel=\"nofollow\">Archived</a> <span class=\"cs1-format\">(PDF)</span> from the original on June 3, 2016.</cite><span class=\"Z3988\" title=\"ctx_ver=Z39.88-2004&amp;rft_val_fmt=info%3Aofi%2Ffmt%3Akev%3Amtx%3Ajournal&amp;rft.genre=article&amp;rft.jtitle=Wkly+Epidemiol+Rec&amp;rft.atitle=Polio+vaccines%3A+WHO+position+paper%2C+March%2C+2016.&amp;rft.volume=91&amp;rft.issue=12&amp;rft.pages=145-168&amp;rft.date=2016-03-25&amp;rft_id=info%3Apmid%2F27039410&amp;rft_id=https%3A%2F%2Fwww.who.int%2Fwer%2F2016%2Fwer9112.pdf%3Fua%3D1&amp;rfr_id=info%3Asid%2Fen.wikipedia.org%3AJonas+Salk\"></span></span>\n",
       "</li>\n",
       "<li id=\"cite_note-35\"><span class=\"mw-cite-backlink\"><b><a href=\"#cite_ref-35\">^</a></b></span> <span class=\"reference-text\"><link href=\"mw-data:TemplateStyles:r999302996\" rel=\"mw-deduplicated-inline-style\"/><cite class=\"citation book cs1\" id=\"CITEREFBazin2011\">Bazin, H. (2011). <a class=\"external text\" href=\"https://books.google.com/books?id=orjaA_7sYZQC&amp;pg=PA395\" rel=\"nofollow\"><i>Vaccination: A History</i></a>. John Libbey Eurotext. p. 395. <a class=\"mw-redirect\" href=\"/wiki/ISBN_(identifier)\" title=\"ISBN (identifier)\">ISBN</a> <a href=\"/wiki/Special:BookSources/9782742007752\" title=\"Special:BookSources/9782742007752\"><bdi>9782742007752</bdi></a>. <a class=\"external text\" href=\"https://web.archive.org/web/20170908183608/https://books.google.com/books?id=orjaA_7sYZQC&amp;pg=PA395\" rel=\"nofollow\">Archived</a> from the original on September 8, 2017.</cite><span class=\"Z3988\" title=\"ctx_ver=Z39.88-2004&amp;rft_val_fmt=info%3Aofi%2Ffmt%3Akev%3Amtx%3Abook&amp;rft.genre=book&amp;rft.btitle=Vaccination%3A+A+History&amp;rft.pages=395&amp;rft.pub=John+Libbey+Eurotext&amp;rft.date=2011&amp;rft.isbn=9782742007752&amp;rft.aulast=Bazin&amp;rft.aufirst=H.&amp;rft_id=https%3A%2F%2Fbooks.google.com%2Fbooks%3Fid%3DorjaA_7sYZQC%26pg%3DPA395&amp;rfr_id=info%3Asid%2Fen.wikipedia.org%3AJonas+Salk\"></span></span>\n",
       "</li>\n",
       "<li id=\"cite_note-WHO21st-36\"><span class=\"mw-cite-backlink\"><b><a href=\"#cite_ref-WHO21st_36-0\">^</a></b></span> <span class=\"reference-text\"><link href=\"mw-data:TemplateStyles:r999302996\" rel=\"mw-deduplicated-inline-style\"/><cite class=\"citation book cs1\" id=\"CITEREFWorld_Health_Organization2019\"><a href=\"/wiki/World_Health_Organization\" title=\"World Health Organization\">World Health Organization</a> (2019). <i>World Health Organization model list of essential medicines: 21st list 2019</i>. Geneva: World Health Organization. <a class=\"mw-redirect\" href=\"/wiki/Hdl_(identifier)\" title=\"Hdl (identifier)\">hdl</a>:<span class=\"cs1-lock-free\" title=\"Freely accessible\"><a class=\"external text\" href=\"//hdl.handle.net/10665%2F325771\" rel=\"nofollow\">10665/325771</a></span>. WHO/MVP/EMP/IAU/2019.06. License: CC BY-NC-SA 3.0 IGO.</cite><span class=\"Z3988\" title=\"ctx_ver=Z39.88-2004&amp;rft_val_fmt=info%3Aofi%2Ffmt%3Akev%3Amtx%3Abook&amp;rft.genre=book&amp;rft.btitle=World+Health+Organization+model+list+of+essential+medicines%3A+21st+list+2019&amp;rft.place=Geneva&amp;rft.pub=World+Health+Organization&amp;rft.date=2019&amp;rft_id=info%3Ahdl%2F10665%2F325771&amp;rft.au=World+Health+Organization&amp;rfr_id=info%3Asid%2Fen.wikipedia.org%3AJonas+Salk\"></span></span>\n",
       "</li>\n",
       "<li id=\"cite_note-NYT4-8-80-37\"><span class=\"mw-cite-backlink\">^ <a href=\"#cite_ref-NYT4-8-80_37-0\"><sup><i><b>a</b></i></sup></a> <a href=\"#cite_ref-NYT4-8-80_37-1\"><sup><i><b>b</b></i></sup></a> <a href=\"#cite_ref-NYT4-8-80_37-2\"><sup><i><b>c</b></i></sup></a> <a href=\"#cite_ref-NYT4-8-80_37-3\"><sup><i><b>d</b></i></sup></a></span> <span class=\"reference-text\">Glueck, Grace. <a class=\"external text\" href=\"https://select.nytimes.com/gst/abstract.html?res=F50D11F6395C12728DDDA10894DC405B8084F1D3&amp;scp=1&amp;sq=Salk+Studies+Man%27s+Future&amp;st=p\" rel=\"nofollow\">\"Salk Studies Man's Future\"</a> <i>The New York Times</i>, April 8, 1980</span>\n",
       "</li>\n",
       "<li id=\"cite_note-38\"><span class=\"mw-cite-backlink\"><b><a href=\"#cite_ref-38\">^</a></b></span> <span class=\"reference-text\"><link href=\"mw-data:TemplateStyles:r999302996\" rel=\"mw-deduplicated-inline-style\"/><cite class=\"citation book cs1\" id=\"CITEREFSmith1990\">Smith, Jane S. (1990). <a class=\"external text\" href=\"https://archive.org/details/patentingsunpoli00smit\" rel=\"nofollow\"><i>Patenting the Sun: Polio and The Salk Vaccine</i></a>. New York: William Morrow. <a class=\"mw-redirect\" href=\"/wiki/ISBN_(identifier)\" title=\"ISBN (identifier)\">ISBN</a> <a href=\"/wiki/Special:BookSources/0-688-09494-5\" title=\"Special:BookSources/0-688-09494-5\"><bdi>0-688-09494-5</bdi></a>.</cite><span class=\"Z3988\" title=\"ctx_ver=Z39.88-2004&amp;rft_val_fmt=info%3Aofi%2Ffmt%3Akev%3Amtx%3Abook&amp;rft.genre=book&amp;rft.btitle=Patenting+the+Sun%3A+Polio+and+The+Salk+Vaccine&amp;rft.place=New+York&amp;rft.pub=William+Morrow&amp;rft.date=1990&amp;rft.isbn=0-688-09494-5&amp;rft.aulast=Smith&amp;rft.aufirst=Jane+S.&amp;rft_id=https%3A%2F%2Farchive.org%2Fdetails%2Fpatentingsunpoli00smit&amp;rfr_id=info%3Asid%2Fen.wikipedia.org%3AJonas+Salk\"></span></span>\n",
       "</li>\n",
       "<li id=\"cite_note-39\"><span class=\"mw-cite-backlink\"><b><a href=\"#cite_ref-39\">^</a></b></span> <span class=\"reference-text\"><link href=\"mw-data:TemplateStyles:r999302996\" rel=\"mw-deduplicated-inline-style\"/><cite class=\"citation news cs1\"><a class=\"external text\" href=\"https://www.forbes.com/sites/quora/2012/08/09/how-much-money-did-jonas-salk-potentially-forfeit-by-not-patenting-the-polio-vaccine/\" rel=\"nofollow\">\"How Much Money Did Jonas Salk Potentially Forfeit By Not Patenting The Polio Vaccine?\"</a>. <i>Forbes</i>. August 8, 2012<span class=\"reference-accessdate\">. Retrieved <span class=\"nowrap\">September 30,</span> 2014</span>.</cite><span class=\"Z3988\" title=\"ctx_ver=Z39.88-2004&amp;rft_val_fmt=info%3Aofi%2Ffmt%3Akev%3Amtx%3Ajournal&amp;rft.genre=article&amp;rft.jtitle=Forbes&amp;rft.atitle=How+Much+Money+Did+Jonas+Salk+Potentially+Forfeit+By+Not+Patenting+The+Polio+Vaccine%3F&amp;rft.date=2012-08-08&amp;rft_id=https%3A%2F%2Fwww.forbes.com%2Fsites%2Fquora%2F2012%2F08%2F09%2Fhow-much-money-did-jonas-salk-potentially-forfeit-by-not-patenting-the-polio-vaccine%2F&amp;rfr_id=info%3Asid%2Fen.wikipedia.org%3AJonas+Salk\"></span></span>\n",
       "</li>\n",
       "<li id=\"cite_note-40\"><span class=\"mw-cite-backlink\"><b><a href=\"#cite_ref-40\">^</a></b></span> <span class=\"reference-text\"><link href=\"mw-data:TemplateStyles:r999302996\" rel=\"mw-deduplicated-inline-style\"/><cite class=\"citation web cs1\"><a class=\"external text\" href=\"https://www.bio.org/blogs/real-reason-why-salk-refused-patent-polio-vaccine\" rel=\"nofollow\">\"The Real Reason Why Salk Refused to Patent the Polio Vaccine\"</a>. Biotech-now.org<span class=\"reference-accessdate\">. Retrieved <span class=\"nowrap\">July 14,</span> 2014</span>.</cite><span class=\"Z3988\" title=\"ctx_ver=Z39.88-2004&amp;rft_val_fmt=info%3Aofi%2Ffmt%3Akev%3Amtx%3Abook&amp;rft.genre=unknown&amp;rft.btitle=The+Real+Reason+Why+Salk+Refused+to+Patent+the+Polio+Vaccine&amp;rft.pub=Biotech-now.org&amp;rft_id=https%3A%2F%2Fwww.bio.org%2Fblogs%2Freal-reason-why-salk-refused-patent-polio-vaccine&amp;rfr_id=info%3Asid%2Fen.wikipedia.org%3AJonas+Salk\"></span></span>\n",
       "</li>\n",
       "<li id=\"cite_note-41\"><span class=\"mw-cite-backlink\"><b><a href=\"#cite_ref-41\">^</a></b></span> <span class=\"reference-text\"><link href=\"mw-data:TemplateStyles:r999302996\" rel=\"mw-deduplicated-inline-style\"/><cite class=\"citation book cs1\" id=\"CITEREFSherrow2009\">Sherrow, Victoria (2009). <i>Jonas Salk, Revised Edition</i>. Infobase Publishing. p. 99. <a class=\"mw-redirect\" href=\"/wiki/ISBN_(identifier)\" title=\"ISBN (identifier)\">ISBN</a> <a href=\"/wiki/Special:BookSources/9781438104119\" title=\"Special:BookSources/9781438104119\"><bdi>9781438104119</bdi></a>.</cite><span class=\"Z3988\" title=\"ctx_ver=Z39.88-2004&amp;rft_val_fmt=info%3Aofi%2Ffmt%3Akev%3Amtx%3Abook&amp;rft.genre=book&amp;rft.btitle=Jonas+Salk%2C+Revised+Edition&amp;rft.pages=99&amp;rft.pub=Infobase+Publishing&amp;rft.date=2009&amp;rft.isbn=9781438104119&amp;rft.aulast=Sherrow&amp;rft.aufirst=Victoria&amp;rfr_id=info%3Asid%2Fen.wikipedia.org%3AJonas+Salk\"></span></span>\n",
       "</li>\n",
       "<li id=\"cite_note-Cohen-42\"><span class=\"mw-cite-backlink\"><b><a href=\"#cite_ref-Cohen_42-0\">^</a></b></span> <span class=\"reference-text\"><link href=\"mw-data:TemplateStyles:r999302996\" rel=\"mw-deduplicated-inline-style\"/><cite class=\"citation book cs1\" id=\"CITEREFCohen2001\">Cohen, Jon (2001). <a class=\"external text\" href=\"https://archive.org/details/shotsindark00jonc\" rel=\"nofollow\"><i>Shots in the Dark: The Wayward Search for an AIDS Vaccine</i></a>. New York: W.W. Norton &amp; Co. <a class=\"mw-redirect\" href=\"/wiki/ISBN_(identifier)\" title=\"ISBN (identifier)\">ISBN</a> <a href=\"/wiki/Special:BookSources/0-393-05027-0\" title=\"Special:BookSources/0-393-05027-0\"><bdi>0-393-05027-0</bdi></a>.</cite><span class=\"Z3988\" title=\"ctx_ver=Z39.88-2004&amp;rft_val_fmt=info%3Aofi%2Ffmt%3Akev%3Amtx%3Abook&amp;rft.genre=book&amp;rft.btitle=Shots+in+the+Dark%3A+The+Wayward+Search+for+an+AIDS+Vaccine&amp;rft.place=New+York&amp;rft.pub=W.W.+Norton+%26+Co.&amp;rft.date=2001&amp;rft.isbn=0-393-05027-0&amp;rft.aulast=Cohen&amp;rft.aufirst=Jon&amp;rft_id=https%3A%2F%2Farchive.org%2Fdetails%2Fshotsindark00jonc&amp;rfr_id=info%3Asid%2Fen.wikipedia.org%3AJonas+Salk\"></span></span>\n",
       "</li>\n",
       "<li id=\"cite_note-43\"><span class=\"mw-cite-backlink\"><b><a href=\"#cite_ref-43\">^</a></b></span> <span class=\"reference-text\">Gold, Michael. <i>A Conspiracy of Cells</i>, State Univ. of NY Press, (1985)</span>\n",
       "</li>\n",
       "<li id=\"cite_note-44\"><span class=\"mw-cite-backlink\"><b><a href=\"#cite_ref-44\">^</a></b></span> <span class=\"reference-text\">\"<a class=\"external text\" href=\"https://www.newspapers.com/newspage/98491836/\" rel=\"nofollow\">Salk 25 years after vaccine</a>\", <i>Detroit Free Press</i>, April 9, 1980, p. 31.</span>\n",
       "</li>\n",
       "<li id=\"cite_note-Taubman-45\"><span class=\"mw-cite-backlink\">^ <a href=\"#cite_ref-Taubman_45-0\"><sup><i><b>a</b></i></sup></a> <a href=\"#cite_ref-Taubman_45-1\"><sup><i><b>b</b></i></sup></a> <a href=\"#cite_ref-Taubman_45-2\"><sup><i><b>c</b></i></sup></a></span> <span class=\"reference-text\">Taubman, Howard. <a class=\"external text\" href=\"https://select.nytimes.com/gst/abstract.html?res=FA0C12FD3854117B93C3A8178AD95F428685F9&amp;scp=1&amp;sq=Father+of+Biophilosophy&amp;st=p\" rel=\"nofollow\">\"Father of Biophilosophy\"</a> <i>The New York Times</i>, November 11, 1966</span>\n",
       "</li>\n",
       "<li id=\"cite_note-46\"><span class=\"mw-cite-backlink\"><b><a href=\"#cite_ref-46\">^</a></b></span> <span class=\"reference-text\"><link href=\"mw-data:TemplateStyles:r999302996\" rel=\"mw-deduplicated-inline-style\"/><cite class=\"citation web cs1\"><a class=\"external text\" href=\"http://press.princeton.edu/titles/2417.html\" rel=\"nofollow\">\"Laboratory Life\"</a>. <i>Princeton University Press</i><span class=\"reference-accessdate\">. Retrieved <span class=\"nowrap\">May 4,</span> 2017</span>.</cite><span class=\"Z3988\" title=\"ctx_ver=Z39.88-2004&amp;rft_val_fmt=info%3Aofi%2Ffmt%3Akev%3Amtx%3Ajournal&amp;rft.genre=unknown&amp;rft.jtitle=Princeton+University+Press&amp;rft.atitle=Laboratory+Life&amp;rft_id=http%3A%2F%2Fpress.princeton.edu%2Ftitles%2F2417.html&amp;rfr_id=info%3Asid%2Fen.wikipedia.org%3AJonas+Salk\"></span></span>\n",
       "</li>\n",
       "<li id=\"cite_note-47\"><span class=\"mw-cite-backlink\"><b><a href=\"#cite_ref-47\">^</a></b></span> <span class=\"reference-text\"><a class=\"external text\" href=\"http://www.aidsmeds.com/archive/Remune_1644.shtml\" rel=\"nofollow\">Remune (HIV-1 Immunogen, Salk vaccine)</a> <a class=\"external text\" href=\"https://web.archive.org/web/20090321054745/http://www.aidsmeds.com/archive/Remune_1644.shtml\" rel=\"nofollow\">Archived</a> March 21, 2009, at the <a href=\"/wiki/Wayback_Machine\" title=\"Wayback Machine\">Wayback Machine</a> AIDSmeds.com</span>\n",
       "</li>\n",
       "<li id=\"cite_note-48\"><span class=\"mw-cite-backlink\"><b><a href=\"#cite_ref-48\">^</a></b></span> <span class=\"reference-text\"><a class=\"external text\" href=\"https://archive.org/details/openmind_ep1234\" rel=\"nofollow\">\"Man Evolving\"</a> video interview, 1985, 28 minutes</span>\n",
       "</li>\n",
       "<li id=\"cite_note-nyt-obit-49\"><span class=\"mw-cite-backlink\"><b><a href=\"#cite_ref-nyt-obit_49-0\">^</a></b></span> <span class=\"reference-text\">The New York Times, <a class=\"external text\" href=\"https://www.nytimes.com/1995/06/24/obituaries/dr-jonas-salk-whose-vaccine-turned-tide-on-polio-dies-at-80.html\" rel=\"nofollow\">Dr. Jonas Salk, Whose Vaccine Turned Tide on Polio, Dies at 80</a> June 25, 1995. Retrieved July 15, 2010.</span>\n",
       "</li>\n",
       "<li id=\"cite_note-50\"><span class=\"mw-cite-backlink\"><b><a href=\"#cite_ref-50\">^</a></b></span> <span class=\"reference-text\"><a class=\"external text\" href=\"https://www.findagrave.com/memorial/3800\" rel=\"nofollow\">Jonas Salk</a> at <a href=\"/wiki/Find_a_Grave\" title=\"Find a Grave\">Find a Grave</a></span>\n",
       "</li>\n",
       "<li id=\"cite_note-51\"><span class=\"mw-cite-backlink\"><b><a href=\"#cite_ref-51\">^</a></b></span> <span class=\"reference-text\">Weart, William G. <a class=\"external text\" href=\"https://www.nytimes.com/1955/05/11/archives/salk-is-honored-by-pennsylvania-state-gives-him-its-highest-award.html?sq=Salk+is+honored+by+Pennsylvania&amp;scp=1&amp;st=p\" rel=\"nofollow\">\"Salk is Honored by Pennsylvania\"</a> <i>The New York Times</i>, May 11, 1955, accessed September 14, 2015</span>\n",
       "</li>\n",
       "<li id=\"cite_note-52\"><span class=\"mw-cite-backlink\"><b><a href=\"#cite_ref-52\">^</a></b></span> <span class=\"reference-text\"><link href=\"mw-data:TemplateStyles:r999302996\" rel=\"mw-deduplicated-inline-style\"/><cite class=\"citation book cs1\" id=\"CITEREFAlberts1986\">Alberts, Robert C. (1986). <a class=\"external text\" href=\"http://digital.library.pitt.edu/cgi-bin/t/text/pageviewer-idx?c=pittmiscpubs;cc=pittmiscpubs;g=documentingpitt;xc=1;xg=1;q1=Municipal%20hospital;rgn=full%20text;idno=00c50130m;didno=00c50130m;view=image;seq=0283\" rel=\"nofollow\"><i>Pitt: The Story of the University of Pittsburgh, 1787–1987</i></a>. Pittsburgh, Pennsylvania: University of Pittsburgh Press. p. 263. <a class=\"mw-redirect\" href=\"/wiki/ISBN_(identifier)\" title=\"ISBN (identifier)\">ISBN</a> <a href=\"/wiki/Special:BookSources/0-8229-1150-7\" title=\"Special:BookSources/0-8229-1150-7\"><bdi>0-8229-1150-7</bdi></a><span class=\"reference-accessdate\">. Retrieved <span class=\"nowrap\">December 7,</span> 2009</span>.</cite><span class=\"Z3988\" title=\"ctx_ver=Z39.88-2004&amp;rft_val_fmt=info%3Aofi%2Ffmt%3Akev%3Amtx%3Abook&amp;rft.genre=book&amp;rft.btitle=Pitt%3A+The+Story+of+the+University+of+Pittsburgh%2C+1787%E2%80%931987&amp;rft.place=Pittsburgh%2C+Pennsylvania&amp;rft.pages=263&amp;rft.pub=University+of+Pittsburgh+Press&amp;rft.date=1986&amp;rft.isbn=0-8229-1150-7&amp;rft.aulast=Alberts&amp;rft.aufirst=Robert+C.&amp;rft_id=http%3A%2F%2Fdigital.library.pitt.edu%2Fcgi-bin%2Ft%2Ftext%2Fpageviewer-idx%3Fc%3Dpittmiscpubs%3Bcc%3Dpittmiscpubs%3Bg%3Ddocumentingpitt%3Bxc%3D1%3Bxg%3D1%3Bq1%3DMunicipal%2520hospital%3Brgn%3Dfull%2520text%3Bidno%3D00c50130m%3Bdidno%3D00c50130m%3Bview%3Dimage%3Bseq%3D0283&amp;rfr_id=info%3Asid%2Fen.wikipedia.org%3AJonas+Salk\"></span></span>\n",
       "</li>\n",
       "<li id=\"cite_note-53\"><span class=\"mw-cite-backlink\"><b><a href=\"#cite_ref-53\">^</a></b></span> <span class=\"reference-text\"><link href=\"mw-data:TemplateStyles:r999302996\" rel=\"mw-deduplicated-inline-style\"/><cite class=\"citation web cs1\"><a class=\"external text\" href=\"https://www.achievement.org/our-history/golden-plate-awards/#science-exploration/\" rel=\"nofollow\">\"Golden Plate Awardees of the American Academy of Achievement\"</a>. <i>www.achievement.org</i>. <a class=\"mw-redirect\" href=\"/wiki/American_Academy_of_Achievement\" title=\"American Academy of Achievement\">American Academy of Achievement</a>.</cite><span class=\"Z3988\" title=\"ctx_ver=Z39.88-2004&amp;rft_val_fmt=info%3Aofi%2Ffmt%3Akev%3Amtx%3Ajournal&amp;rft.genre=unknown&amp;rft.jtitle=www.achievement.org&amp;rft.atitle=Golden+Plate+Awardees+of+the+American+Academy+of+Achievement&amp;rft_id=https%3A%2F%2Fwww.achievement.org%2Four-history%2Fgolden-plate-awards%2F%23science-exploration%2F&amp;rfr_id=info%3Asid%2Fen.wikipedia.org%3AJonas+Salk\"></span></span>\n",
       "</li>\n",
       "<li id=\"cite_note-54\"><span class=\"mw-cite-backlink\"><b><a href=\"#cite_ref-54\">^</a></b></span> <span class=\"reference-text\"><link href=\"mw-data:TemplateStyles:r999302996\" rel=\"mw-deduplicated-inline-style\"/><cite class=\"citation web cs1\"><a class=\"external text\" href=\"https://www.quirinale.it/onorificenze/insigniti/248439\" rel=\"nofollow\">\"Salk, Prof. Jonas\"</a>. <i>quirinale.it</i> (in Italian)<span class=\"reference-accessdate\">. Retrieved <span class=\"nowrap\">December 30,</span> 2020</span>.</cite><span class=\"Z3988\" title=\"ctx_ver=Z39.88-2004&amp;rft_val_fmt=info%3Aofi%2Ffmt%3Akev%3Amtx%3Ajournal&amp;rft.genre=unknown&amp;rft.jtitle=quirinale.it&amp;rft.atitle=Salk%2C+Prof.+Jonas&amp;rft_id=https%3A%2F%2Fwww.quirinale.it%2Fonorificenze%2Finsigniti%2F248439&amp;rfr_id=info%3Asid%2Fen.wikipedia.org%3AJonas+Salk\"></span></span>\n",
       "</li>\n",
       "<li id=\"cite_note-55\"><span class=\"mw-cite-backlink\"><b><a href=\"#cite_ref-55\">^</a></b></span> <span class=\"reference-text\"><link href=\"mw-data:TemplateStyles:r999302996\" rel=\"mw-deduplicated-inline-style\"/><cite class=\"citation web cs1\"><a class=\"external text\" href=\"https://web.archive.org/web/20140311121831/http://www.lifesciencesworld.com/news/view/104532\" rel=\"nofollow\">\"March of Dimes Awards $250,000 Prize to Scientists Unraveling the Causes of Muscular Dystrophy\"</a>. Lifesciencesworld.com. Archived from <a class=\"external text\" href=\"http://www.lifesciencesworld.com/news/view/104532\" rel=\"nofollow\">the original</a> on March 11, 2014<span class=\"reference-accessdate\">. Retrieved <span class=\"nowrap\">July 14,</span> 2014</span>.</cite><span class=\"Z3988\" title=\"ctx_ver=Z39.88-2004&amp;rft_val_fmt=info%3Aofi%2Ffmt%3Akev%3Amtx%3Abook&amp;rft.genre=unknown&amp;rft.btitle=March+of+Dimes+Awards+%24250%2C000+Prize+to+Scientists+Unraveling+the+Causes+of+Muscular+Dystrophy&amp;rft.pub=Lifesciencesworld.com&amp;rft_id=http%3A%2F%2Fwww.lifesciencesworld.com%2Fnews%2Fview%2F104532&amp;rfr_id=info%3Asid%2Fen.wikipedia.org%3AJonas+Salk\"></span></span>\n",
       "</li>\n",
       "<li id=\"cite_note-56\"><span class=\"mw-cite-backlink\"><b><a href=\"#cite_ref-56\">^</a></b></span> <span class=\"reference-text\"><a class=\"external text\" href=\"http://www.californiamuseum.org/Exhibits/Hall-of-Fame/inductees.html\" rel=\"nofollow\">Salk inducted into California Hall of Fame</a> <a class=\"external text\" href=\"https://web.archive.org/web/20080110182937/http://www.californiamuseum.org/Exhibits/Hall-of-Fame/inductees.html\" rel=\"nofollow\">Archived</a> January 10, 2008, at the <a href=\"/wiki/Wayback_Machine\" title=\"Wayback Machine\">Wayback Machine</a>, California Museum.</span>\n",
       "</li>\n",
       "<li id=\"cite_note-57\"><span class=\"mw-cite-backlink\"><b><a href=\"#cite_ref-57\">^</a></b></span> <span class=\"reference-text\"><a class=\"external text\" href=\"https://www.cdc.gov/mmWr/preview/mmwrhtml/mm6141a6.htm?s_cid=mm6141a6_w\" rel=\"nofollow\">CDC announces World Polio Day</a>, CDC, October 19, 2012</span>\n",
       "</li>\n",
       "<li id=\"cite_note-58\"><span class=\"mw-cite-backlink\"><b><a href=\"#cite_ref-58\">^</a></b></span> <span class=\"reference-text\"><link href=\"mw-data:TemplateStyles:r999302996\" rel=\"mw-deduplicated-inline-style\"/><cite class=\"citation news cs1\" id=\"CITEREFHiltzik2014\">Hiltzik, Michael (October 28, 2014). <a class=\"external text\" href=\"http://www.latimes.com/business/hiltzik/la-fi-mh-polio-vaccine-20141028-column.html\" rel=\"nofollow\">\"On Jonas Salk's 100th birthday, a celebration of his polio vaccine\"</a>. <i>Los Angeles Times</i><span class=\"reference-accessdate\">. Retrieved <span class=\"nowrap\">October 28,</span> 2014</span>.</cite><span class=\"Z3988\" title=\"ctx_ver=Z39.88-2004&amp;rft_val_fmt=info%3Aofi%2Ffmt%3Akev%3Amtx%3Ajournal&amp;rft.genre=article&amp;rft.jtitle=Los+Angeles+Times&amp;rft.atitle=On+Jonas+Salk%27s+100th+birthday%2C+a+celebration+of+his+polio+vaccine&amp;rft.date=2014-10-28&amp;rft.aulast=Hiltzik&amp;rft.aufirst=Michael&amp;rft_id=http%3A%2F%2Fwww.latimes.com%2Fbusiness%2Fhiltzik%2Fla-fi-mh-polio-vaccine-20141028-column.html&amp;rfr_id=info%3Asid%2Fen.wikipedia.org%3AJonas+Salk\"></span></span>\n",
       "</li>\n",
       "<li id=\"cite_note-theguardian.com-59\"><span class=\"mw-cite-backlink\"><b><a href=\"#cite_ref-theguardian.com_59-0\">^</a></b></span> <span class=\"reference-text\">The Guardian: <a class=\"external text\" href=\"https://www.theguardian.com/science/head-quarters/2014/oct/28/jonas-salk-google-doodle-celebrates-polio-vaccine-pioneer\" rel=\"nofollow\">Jonas Salk Google doodle</a>, accessdate: September 14, 2015</span>\n",
       "</li>\n",
       "<li id=\"cite_note-60\"><span class=\"mw-cite-backlink\"><b><a href=\"#cite_ref-60\">^</a></b></span> <span class=\"reference-text\"><link href=\"mw-data:TemplateStyles:r999302996\" rel=\"mw-deduplicated-inline-style\"/><cite class=\"citation web cs1\"><a class=\"external text\" href=\"https://www.imdb.com/name/nm0340029/\" rel=\"nofollow\">\"IMDB bio of director Tjardus Greidanus\"</a>. Internet Movie Database<span class=\"reference-accessdate\">. Retrieved <span class=\"nowrap\">October 28,</span> 2014</span>.</cite><span class=\"Z3988\" title=\"ctx_ver=Z39.88-2004&amp;rft_val_fmt=info%3Aofi%2Ffmt%3Akev%3Amtx%3Abook&amp;rft.genre=unknown&amp;rft.btitle=IMDB+bio+of+director+Tjardus+Greidanus&amp;rft.pub=Internet+Movie+Database&amp;rft_id=https%3A%2F%2Fwww.imdb.com%2Fname%2Fnm0340029%2F&amp;rfr_id=info%3Asid%2Fen.wikipedia.org%3AJonas+Salk\"></span></span>\n",
       "</li>\n",
       "<li id=\"cite_note-61\"><span class=\"mw-cite-backlink\"><b><a href=\"#cite_ref-61\">^</a></b></span> <span class=\"reference-text\"><link href=\"mw-data:TemplateStyles:r999302996\" rel=\"mw-deduplicated-inline-style\"/><cite class=\"citation web cs1\"><a class=\"external text\" href=\"https://www.imdb.com/name/nm1060171/\" rel=\"nofollow\">\"IMDB bio of Laura Davis\"</a>. Internet Movie Database<span class=\"reference-accessdate\">. Retrieved <span class=\"nowrap\">October 28,</span> 2014</span>.</cite><span class=\"Z3988\" title=\"ctx_ver=Z39.88-2004&amp;rft_val_fmt=info%3Aofi%2Ffmt%3Akev%3Amtx%3Abook&amp;rft.genre=unknown&amp;rft.btitle=IMDB+bio+of+Laura+Davis&amp;rft.pub=Internet+Movie+Database&amp;rft_id=https%3A%2F%2Fwww.imdb.com%2Fname%2Fnm1060171%2F&amp;rfr_id=info%3Asid%2Fen.wikipedia.org%3AJonas+Salk\"></span></span>\n",
       "</li>\n",
       "<li id=\"cite_note-62\"><span class=\"mw-cite-backlink\"><b><a href=\"#cite_ref-62\">^</a></b></span> <span class=\"reference-text\"><a class=\"external text\" href=\"http://www.post-gazette.com/pg/10104/1050096-60.stm\" rel=\"nofollow\">\"Film reveals Pittsburgh's polio stories\"</a> <i>Pittsburgh Post-Gazette</i>, April 14, 2010</span>\n",
       "</li>\n",
       "<li id=\"cite_note-63\"><span class=\"mw-cite-backlink\"><b><a href=\"#cite_ref-63\">^</a></b></span> <span class=\"reference-text\"><link href=\"mw-data:TemplateStyles:r999302996\" rel=\"mw-deduplicated-inline-style\"/><cite class=\"citation news cs1\" id=\"CITEREFBell2014\">Bell, Diane (June 30, 2014). <a class=\"external text\" href=\"https://www.sandiegouniontribune.com/news/science/sdut-salk-institute-redford-kahn-polio-film-soul-gore-2014jun30-story.html\" rel=\"nofollow\">\"Director Robert Redford gives sneak preview in La Jolla of his Salk Institute documentary film\"</a>. <i><a href=\"/wiki/The_San_Diego_Union-Tribune\" title=\"The San Diego Union-Tribune\">The San Diego Union-Tribune</a></i><span class=\"reference-accessdate\">. Retrieved <span class=\"nowrap\">April 29,</span> 2020</span>.</cite><span class=\"Z3988\" title=\"ctx_ver=Z39.88-2004&amp;rft_val_fmt=info%3Aofi%2Ffmt%3Akev%3Amtx%3Ajournal&amp;rft.genre=article&amp;rft.jtitle=The+San+Diego+Union-Tribune&amp;rft.atitle=Director+Robert+Redford+gives+sneak+preview+in+La+Jolla+of+his+Salk+Institute+documentary+film&amp;rft.date=2014-06-30&amp;rft.aulast=Bell&amp;rft.aufirst=Diane&amp;rft_id=https%3A%2F%2Fwww.sandiegouniontribune.com%2Fnews%2Fscience%2Fsdut-salk-institute-redford-kahn-polio-film-soul-gore-2014jun30-story.html&amp;rfr_id=info%3Asid%2Fen.wikipedia.org%3AJonas+Salk\"></span></span>\n",
       "</li>\n",
       "<li id=\"cite_note-64\"><span class=\"mw-cite-backlink\"><b><a href=\"#cite_ref-64\">^</a></b></span> <span class=\"reference-text\"><link href=\"mw-data:TemplateStyles:r999302996\" rel=\"mw-deduplicated-inline-style\"/><cite class=\"citation web cs1\"><a class=\"external text\" href=\"https://www.imdb.com/title/tt7580338/characters/nm0568385\" rel=\"nofollow\">\"Picasso: Chapter 10\"</a>. <i>IMDB</i>.</cite><span class=\"Z3988\" title=\"ctx_ver=Z39.88-2004&amp;rft_val_fmt=info%3Aofi%2Ffmt%3Akev%3Amtx%3Ajournal&amp;rft.genre=unknown&amp;rft.jtitle=IMDB&amp;rft.atitle=Picasso%3A+Chapter+10&amp;rft_id=https%3A%2F%2Fwww.imdb.com%2Ftitle%2Ftt7580338%2Fcharacters%2Fnm0568385&amp;rfr_id=info%3Asid%2Fen.wikipedia.org%3AJonas+Salk\"></span></span>\n",
       "</li>\n",
       "</ol></div>\n",
       "<h2><span class=\"mw-headline\" id=\"Further_reading\">Further reading</span><span class=\"mw-editsection\"><span class=\"mw-editsection-bracket\">[</span><a href=\"/w/index.php?title=Jonas_Salk&amp;action=edit&amp;section=18\" title=\"Edit section: Further reading\">edit</a><span class=\"mw-editsection-bracket\">]</span></span></h2>\n",
       "<ul><li>Jacobs, Charlotte DeCroes. <i>Jonas Salk: A Life</i>, Oxford Univ. Press (2015), scholarly biography</li>\n",
       "<li>Kluger, Jeffrey.  <i>Splendid Solution: Jonas Salk and the Conquest of Polio</i>, Berkley Books (2006), history of the polio vaccine</li>\n",
       "<li>Weintraub, B. \"Jonas Salk (1914-1995) and the first vacccine against polio.\" Israel Chemist and Engineer.  July 2020, iss. 6. p31-34 <a class=\"external autonumber\" href=\"https://www.digipage.co.il/projects/2020/ICE/6/31/\" rel=\"nofollow\">[1]</a></li></ul>\n",
       "<h2><span class=\"mw-headline\" id=\"External_links\">External links</span><span class=\"mw-editsection\"><span class=\"mw-editsection-bracket\">[</span><a href=\"/w/index.php?title=Jonas_Salk&amp;action=edit&amp;section=19\" title=\"Edit section: External links\">edit</a><span class=\"mw-editsection-bracket\">]</span></span></h2>\n",
       "<table class=\"mbox-small plainlinks sistersitebox\" role=\"presentation\" style=\"background-color:#f9f9f9;border:1px solid #aaa;color:#000\">\n",
       "<tbody><tr>\n",
       "<td class=\"mbox-image\"><img alt=\"\" class=\"noviewer\" data-file-height=\"1376\" data-file-width=\"1024\" decoding=\"async\" height=\"40\" src=\"//upload.wikimedia.org/wikipedia/en/thumb/4/4a/Commons-logo.svg/30px-Commons-logo.svg.png\" srcset=\"//upload.wikimedia.org/wikipedia/en/thumb/4/4a/Commons-logo.svg/45px-Commons-logo.svg.png 1.5x, //upload.wikimedia.org/wikipedia/en/thumb/4/4a/Commons-logo.svg/59px-Commons-logo.svg.png 2x\" width=\"30\"/></td>\n",
       "<td class=\"mbox-text plainlist\">Wikimedia Commons has media related to <span style=\"font-weight: bold; font-style: italic;\"><a class=\"extiw\" href=\"https://commons.wikimedia.org/wiki/Category:Jonas_Salk\" title=\"commons:Category:Jonas Salk\">Jonas Salk</a></span>.</td></tr>\n",
       "</tbody></table>\n",
       "<table class=\"mbox-small plainlinks sistersitebox\" role=\"presentation\" style=\"background-color:#f9f9f9;border:1px solid #aaa;color:#000\">\n",
       "<tbody><tr>\n",
       "<td class=\"mbox-image\"><img alt=\"\" class=\"noviewer\" data-file-height=\"355\" data-file-width=\"300\" decoding=\"async\" height=\"40\" src=\"//upload.wikimedia.org/wikipedia/commons/thumb/f/fa/Wikiquote-logo.svg/34px-Wikiquote-logo.svg.png\" srcset=\"//upload.wikimedia.org/wikipedia/commons/thumb/f/fa/Wikiquote-logo.svg/51px-Wikiquote-logo.svg.png 1.5x, //upload.wikimedia.org/wikipedia/commons/thumb/f/fa/Wikiquote-logo.svg/68px-Wikiquote-logo.svg.png 2x\" width=\"34\"/></td>\n",
       "<td class=\"mbox-text plainlist\">Wikiquote has quotations related to: <i><b><a class=\"extiw\" href=\"https://en.wikiquote.org/wiki/Special:Search/Jonas_Salk\" title=\"q:Special:Search/Jonas Salk\">Jonas Salk</a></b></i></td></tr>\n",
       "</tbody></table>\n",
       "<ul><li><a class=\"external text\" href=\"https://www.pbs.org/wgbh/americanexperience/films/polio/\" rel=\"nofollow\"><i>The American Experience: The Polio Crusade</i></a> video, 1 hr. by PBS</li>\n",
       "<li><a class=\"external text\" href=\"https://www.youtube.com/watch?v=BUYF3lluPpg\" rel=\"nofollow\">\"Legacy of Salk Institute\"</a>, video, 30 minutes, history of Salk vaccine</li>\n",
       "<li><a class=\"external text\" href=\"https://www.youtube.com/watch?v=EPXMRZzaZtQ\" rel=\"nofollow\">\"Polio Vaccine\" intro.</a>, <i>Britannica</i>, video, 1 minute</li>\n",
       "<li><a class=\"external text\" href=\"http://www.jonassalklegacyfoundation.org/\" rel=\"nofollow\">Jonas Salk Legacy Foundation</a></li>\n",
       "<li><a class=\"external text\" href=\"http://www.jonas-salk.org/\" rel=\"nofollow\">Jonas Salk Trust</a></li>\n",
       "<li><a class=\"external text\" href=\"https://web.archive.org/web/20050305225755/http://www.salk.edu/jonassalk/\" rel=\"nofollow\">Salk Institute for Biological Studies</a></li>\n",
       "<li><a class=\"external text\" href=\"https://www.eisenhowerlibrary.gov/research/online-documents/jonas-salk-and-polio-vaccine\" rel=\"nofollow\">Documents regarding Jonas Salk and the Salk Polio Vaccine, Dwight D. Eisenhower Presidential Library</a></li>\n",
       "<li><a class=\"external text\" href=\"https://archive.org/movies/details-db.php?collection=open_mind&amp;collectionid=openmind_ep1234\" rel=\"nofollow\">1985 Open Mind interview with Richard D. Heffner: <i>Man Evolving...</i></a></li>\n",
       "<li><a class=\"external text\" href=\"http://www.post-gazette.com/pg/05094/482468.stm\" rel=\"nofollow\"><i>Pittsburgh Post-Gazette</i> feature on Jonas Salk and the Polio cure 50 years later</a></li>\n",
       "<li><a class=\"external text\" href=\"http://www.salkschool.org\" rel=\"nofollow\">The Salk School of Science (New York, New York)</a></li>\n",
       "<li><a class=\"external text\" href=\"http://patft.uspto.gov/netacgi/nph-Parser?Sect2=PTO1&amp;Sect2=HITOFF&amp;p=1&amp;u=%2Fnetahtml%2Fsearch-bool.html&amp;r=1&amp;f=G&amp;l=50&amp;d=PALL&amp;RefSrch=yes&amp;Query=PN%2F5256767\" rel=\"nofollow\">Patent</a> US Patent 5,256,767 : Vaccine against HIV</li>\n",
       "<li>The short film <i><a class=\"external text\" href=\"https://archive.org/details/openmind_ep1234\" rel=\"nofollow\">Man Evolving (1985)</a></i> is available for free download at the <a href=\"/wiki/Internet_Archive\" title=\"Internet Archive\">Internet Archive</a></li>\n",
       "<li><a class=\"external text\" href=\"http://libraries.ucsd.edu/speccoll/findingaids/mss0001.html\" rel=\"nofollow\">Register of Jonas Salk Papers, 1926–1991 – MSS 1</a>, held in the UC San Diego Library's Special Collections &amp; Archives</li></ul>\n",
       "<div aria-labelledby=\"History_of_infectious_disease\" class=\"navbox\" role=\"navigation\" style=\"padding:3px\"><table class=\"nowraplinks mw-collapsible autocollapse navbox-inner\" style=\"border-spacing:0;background:transparent;color:inherit\"><tbody><tr><th class=\"navbox-title\" colspan=\"2\" scope=\"col\"><style data-mw-deduplicate=\"TemplateStyles:r992953826\">.mw-parser-output .navbar{display:inline;font-size:88%;font-weight:normal}.mw-parser-output .navbar-collapse{float:left;text-align:left}.mw-parser-output .navbar-boxtext{word-spacing:0}.mw-parser-output .navbar ul{display:inline-block;white-space:nowrap;line-height:inherit}.mw-parser-output .navbar-brackets::before{margin-right:-0.125em;content:\"[ \"}.mw-parser-output .navbar-brackets::after{margin-left:-0.125em;content:\" ]\"}.mw-parser-output .navbar li{word-spacing:-0.125em}.mw-parser-output .navbar-mini abbr{font-variant:small-caps;border-bottom:none;text-decoration:none;cursor:inherit}.mw-parser-output .navbar-ct-full{font-size:114%;margin:0 7em}.mw-parser-output .navbar-ct-mini{font-size:114%;margin:0 4em}.mw-parser-output .infobox .navbar{font-size:100%}.mw-parser-output .navbox .navbar{display:block;font-size:100%}.mw-parser-output .navbox-title .navbar{float:left;text-align:left;margin-right:0.5em}</style><div class=\"navbar plainlinks hlist navbar-mini\"><ul><li class=\"nv-view\"><a href=\"/wiki/Template:History_of_infectious_disease\" title=\"Template:History of infectious disease\"><abbr style=\";;background:none transparent;border:none;box-shadow:none;padding:0;\" title=\"View this template\">v</abbr></a></li><li class=\"nv-talk\"><a href=\"/wiki/Template_talk:History_of_infectious_disease\" title=\"Template talk:History of infectious disease\"><abbr style=\";;background:none transparent;border:none;box-shadow:none;padding:0;\" title=\"Discuss this template\">t</abbr></a></li><li class=\"nv-edit\"><a class=\"external text\" href=\"https://en.wikipedia.org/w/index.php?title=Template:History_of_infectious_disease&amp;action=edit\"><abbr style=\";;background:none transparent;border:none;box-shadow:none;padding:0;\" title=\"Edit this template\">e</abbr></a></li></ul></div><div id=\"History_of_infectious_disease\" style=\"font-size:114%;margin:0 4em\">History of <a class=\"mw-redirect\" href=\"/wiki/Infectious_disease\" title=\"Infectious disease\">infectious disease</a></div></th></tr><tr><th class=\"navbox-group\" scope=\"row\" style=\"width:1%\">Individual diseases</th><td class=\"navbox-list navbox-odd hlist\" style=\"text-align:left;border-left-width:2px;border-left-style:solid;width:100%;padding:0px\"><div style=\"padding:0em 0.25em\">\n",
       "<ul><li><a href=\"/wiki/History_of_HIV/AIDS\" title=\"History of HIV/AIDS\">HIV/AIDS</a></li>\n",
       "<li><a href=\"/wiki/History_of_malaria\" title=\"History of malaria\">Malaria</a></li>\n",
       "<li><a href=\"/wiki/History_of_polio\" title=\"History of polio\">Polio</a></li>\n",
       "<li><a href=\"/wiki/History_of_smallpox\" title=\"History of smallpox\">Smallpox</a></li>\n",
       "<li><a href=\"/wiki/History_of_syphilis\" title=\"History of syphilis\">Syphilis</a></li>\n",
       "<li><a href=\"/wiki/History_of_tuberculosis\" title=\"History of tuberculosis\">Tuberculosis</a></li>\n",
       "<li><a href=\"/wiki/History_of_yellow_fever\" title=\"History of yellow fever\">Yellow fever</a></li></ul>\n",
       "</div></td></tr><tr><th class=\"navbox-group\" scope=\"row\" style=\"width:1%\">People</th><td class=\"navbox-list navbox-even hlist\" style=\"text-align:left;border-left-width:2px;border-left-style:solid;width:100%;padding:0px\"><div style=\"padding:0em 0.25em\">\n",
       "<ul><li><a href=\"/wiki/Alexander_Fleming\" title=\"Alexander Fleming\">Alexander Fleming</a></li>\n",
       "<li><a href=\"/wiki/Maurice_Hilleman\" title=\"Maurice Hilleman\">Maurice Hilleman</a></li>\n",
       "<li><a href=\"/wiki/Edward_Jenner\" title=\"Edward Jenner\">Edward Jenner</a></li>\n",
       "<li><a href=\"/wiki/Robert_Koch\" title=\"Robert Koch\">Robert Koch</a></li>\n",
       "<li><a href=\"/wiki/Louis_Pasteur\" title=\"Louis Pasteur\">Louis Pasteur</a></li>\n",
       "<li><a class=\"mw-selflink selflink\">Jonas Salk</a></li>\n",
       "<li><a href=\"/wiki/Ignaz_Semmelweis\" title=\"Ignaz Semmelweis\">Ignaz Semmelweis</a></li>\n",
       "<li><a href=\"/wiki/John_Snow\" title=\"John Snow\">John Snow</a></li></ul>\n",
       "</div></td></tr><tr><th class=\"navbox-group\" scope=\"row\" style=\"width:1%\"><a href=\"/wiki/List_of_epidemics\" title=\"List of epidemics\">Major epidemics</a></th><td class=\"navbox-list navbox-odd hlist\" style=\"text-align:left;border-left-width:2px;border-left-style:solid;width:100%;padding:0px\"><div style=\"padding:0em 0.25em\">\n",
       "<ul><li><a href=\"/wiki/Black_Death\" title=\"Black Death\">Black Death</a> (1346–1353)</li>\n",
       "<li><a href=\"/wiki/Spanish_flu\" title=\"Spanish flu\">Spanish flu</a> (1918–1920)</li>\n",
       "<li><a href=\"/wiki/Epidemiology_of_HIV/AIDS\" title=\"Epidemiology of HIV/AIDS\">HIV/AIDS pandemic</a> (1981–present)</li>\n",
       "<li><a href=\"/wiki/COVID-19_pandemic\" title=\"COVID-19 pandemic\">COVID-19 pandemic</a> (2019–present)</li></ul>\n",
       "</div></td></tr><tr><th class=\"navbox-group\" scope=\"row\" style=\"width:1%\">Other</th><td class=\"navbox-list navbox-even hlist\" style=\"text-align:left;border-left-width:2px;border-left-style:solid;width:100%;padding:0px\"><div style=\"padding:0em 0.25em\">\n",
       "<ul><li><a href=\"/wiki/Discovery_of_disease-causing_pathogens\" title=\"Discovery of disease-causing pathogens\">Discovery of disease-causing pathogens</a></li>\n",
       "<li><a class=\"mw-redirect\" href=\"/wiki/Smallpox_eradication\" title=\"Smallpox eradication\">Smallpox eradication</a></li>\n",
       "<li><a href=\"/wiki/Social_history_of_viruses\" title=\"Social history of viruses\">Social history of viruses</a></li></ul>\n",
       "</div></td></tr></tbody></table></div>\n",
       "<div aria-labelledby=\"Authority_control_frameless_&amp;#124;text-top_&amp;#124;10px_&amp;#124;alt=Edit_this_at_Wikidata_&amp;#124;link=https&amp;#58;//www.wikidata.org/wiki/Q200101#identifiers&amp;#124;Edit_this_at_Wikidata\" class=\"navbox authority-control\" role=\"navigation\" style=\"padding:3px\"><table class=\"nowraplinks hlist mw-collapsible autocollapse navbox-inner\" style=\"border-spacing:0;background:transparent;color:inherit\"><tbody><tr><th class=\"navbox-title\" colspan=\"2\" scope=\"col\"><div id=\"Authority_control_frameless_&amp;#124;text-top_&amp;#124;10px_&amp;#124;alt=Edit_this_at_Wikidata_&amp;#124;link=https&amp;#58;//www.wikidata.org/wiki/Q200101#identifiers&amp;#124;Edit_this_at_Wikidata\" style=\"font-size:114%;margin:0 4em\"><a href=\"/wiki/Help:Authority_control\" title=\"Help:Authority control\">Authority control</a> <a href=\"https://www.wikidata.org/wiki/Q200101#identifiers\" title=\"Edit this at Wikidata\"><img alt=\"Edit this at Wikidata\" data-file-height=\"20\" data-file-width=\"20\" decoding=\"async\" height=\"10\" src=\"//upload.wikimedia.org/wikipedia/en/thumb/8/8a/OOjs_UI_icon_edit-ltr-progressive.svg/10px-OOjs_UI_icon_edit-ltr-progressive.svg.png\" srcset=\"//upload.wikimedia.org/wikipedia/en/thumb/8/8a/OOjs_UI_icon_edit-ltr-progressive.svg/15px-OOjs_UI_icon_edit-ltr-progressive.svg.png 1.5x, //upload.wikimedia.org/wikipedia/en/thumb/8/8a/OOjs_UI_icon_edit-ltr-progressive.svg/20px-OOjs_UI_icon_edit-ltr-progressive.svg.png 2x\" style=\"vertical-align: text-top\" width=\"10\"/></a></div></th></tr><tr><th class=\"navbox-group\" scope=\"row\" style=\"width:1%\">General</th><td class=\"navbox-list navbox-odd\" style=\"text-align:left;border-left-width:2px;border-left-style:solid;width:100%;padding:0px\"><div style=\"padding:0em 0.25em\">\n",
       "<ul><li><span class=\"uid\"><a class=\"external text\" href=\"https://d-nb.info/gnd/130653802\" rel=\"nofollow\">Integrated Authority File (Germany)</a></span></li>\n",
       "<li><a class=\"mw-redirect\" href=\"/wiki/ISNI_(identifier)\" title=\"ISNI (identifier)\">ISNI</a>\n",
       "<ul><li><span class=\"uid\"><a class=\"external text\" href=\"https://isni.org/isni/0000000108665179\" rel=\"nofollow\">1</a></span></li></ul></li>\n",
       "<li><a class=\"mw-redirect\" href=\"/wiki/VIAF_(identifier)\" title=\"VIAF (identifier)\">VIAF</a>\n",
       "<ul><li><span class=\"uid\"><a class=\"external text\" href=\"https://viaf.org/viaf/7396814\" rel=\"nofollow\">1</a></span></li></ul></li>\n",
       "<li><span class=\"nowrap\"><a class=\"external text\" href=\"https://www.worldcat.org/identities/lccn-n50017557\" rel=\"nofollow\">WorldCat</a></span></li></ul>\n",
       "</div></td></tr><tr><th class=\"navbox-group\" scope=\"row\" style=\"width:1%\">National libraries</th><td class=\"navbox-list navbox-even\" style=\"text-align:left;border-left-width:2px;border-left-style:solid;width:100%;padding:0px\"><div style=\"padding:0em 0.25em\">\n",
       "<ul><li><span class=\"uid\"><a class=\"external text\" href=\"https://catalogue.bnf.fr/ark:/12148/cb14064550v\" rel=\"nofollow\">France</a> <a class=\"external text\" href=\"https://data.bnf.fr/ark:/12148/cb14064550v\" rel=\"nofollow\">(data)</a></span>\n",
       "<ul><li><span class=\"uid\"><a class=\"external text\" href=\"https://catalogue.bnf.fr/ark:/12148/cb11923481x\" rel=\"nofollow\">2</a> <a class=\"external text\" href=\"https://data.bnf.fr/ark:/12148/cb11923481x\" rel=\"nofollow\">(data)</a></span></li></ul></li>\n",
       "<li><span class=\"uid\"><a class=\"external text\" href=\"https://id.loc.gov/authorities/names/n50017557\" rel=\"nofollow\">United States</a></span></li>\n",
       "<li><span class=\"uid\"><a class=\"external text\" href=\"https://aleph.nkp.cz/F/?func=find-c&amp;local_base=aut&amp;ccl_term=ica=jcu2013799345&amp;CON_LNG=ENG\" rel=\"nofollow\">Czech Republic</a></span></li>\n",
       "<li><span class=\"uid\"><a class=\"external text\" href=\"http://uli.nli.org.il/F/?func=direct&amp;doc_number=000115913&amp;local_base=nlx10\" rel=\"nofollow\">Israel</a></span></li>\n",
       "<li><span class=\"uid\"><a class=\"external text\" href=\"http://data.bibliotheken.nl/id/thes/p067864082\" rel=\"nofollow\">Netherlands</a></span></li>\n",
       "<li><span class=\"uid\"><a class=\"external text\" href=\"http://mak.bn.org.pl/cgi-bin/KHW/makwww.exe?BM=1&amp;NU=1&amp;IM=4&amp;WI=9810615203505606\" rel=\"nofollow\">Poland</a></span></li></ul>\n",
       "</div></td></tr><tr><th class=\"navbox-group\" scope=\"row\" style=\"width:1%\">Art research institutes</th><td class=\"navbox-list navbox-odd\" style=\"text-align:left;border-left-width:2px;border-left-style:solid;width:100%;padding:0px\"><div style=\"padding:0em 0.25em\">\n",
       "<ul><li><span class=\"uid\"><a class=\"external text\" href=\"https://www.getty.edu/vow/ULANFullDisplay?find=&amp;role=&amp;nation=&amp;subjectid=500235742\" rel=\"nofollow\">Artist Names (Getty)</a></span></li></ul>\n",
       "</div></td></tr><tr><th class=\"navbox-group\" scope=\"row\" style=\"width:1%\">Other</th><td class=\"navbox-list navbox-even\" style=\"text-align:left;border-left-width:2px;border-left-style:solid;width:100%;padding:0px\"><div style=\"padding:0em 0.25em\">\n",
       "<ul><li><span class=\"uid\"><a class=\"external text\" href=\"http://id.worldcat.org/fast/5534/\" rel=\"nofollow\">Faceted Application of Subject Terminology</a></span></li>\n",
       "<li><span class=\"uid\"><a class=\"external text\" href=\"https://snaccooperative.org/ark:/99166/w67n0xz8\" rel=\"nofollow\">Social Networks and Archival Context</a></span>\n",
       "<ul><li><span class=\"uid\"><a class=\"external text\" href=\"https://snaccooperative.org/ark:/99166/w66w9hgj\" rel=\"nofollow\">2</a></span></li></ul></li>\n",
       "<li><a class=\"mw-redirect\" href=\"/wiki/SUDOC_(identifier)\" title=\"SUDOC (identifier)\">SUDOC (France)</a>\n",
       "<ul><li><span class=\"uid\"><a class=\"external text\" href=\"https://www.idref.fr/027120082\" rel=\"nofollow\">1</a></span></li></ul></li></ul>\n",
       "</div></td></tr></tbody></table></div>\n",
       "<div aria-label=\"Portals\" class=\"noprint metadata navbox\" role=\"navigation\" style=\"font-weight:bold;padding:0.4em 2em\"><ul style=\"margin:0.1em 0 0\"><li style=\"display:inline\"><span style=\"display:inline-block;white-space:nowrap\"><span style=\"margin:0 0.5em\"><a class=\"image\" href=\"/wiki/File:P_vip.svg\"><img alt=\"P vip.svg\" data-file-height=\"1944\" data-file-width=\"1911\" decoding=\"async\" height=\"21\" src=\"//upload.wikimedia.org/wikipedia/en/thumb/6/69/P_vip.svg/21px-P_vip.svg.png\" srcset=\"//upload.wikimedia.org/wikipedia/en/thumb/6/69/P_vip.svg/31px-P_vip.svg.png 1.5x, //upload.wikimedia.org/wikipedia/en/thumb/6/69/P_vip.svg/41px-P_vip.svg.png 2x\" width=\"21\"/></a></span><a href=\"/wiki/Portal:Biography\" title=\"Portal:Biography\">Biography portal</a></span></li><li style=\"display:inline\"><span style=\"display:inline-block;white-space:nowrap\"><span style=\"margin:0 0.5em\"><a class=\"image\" href=\"/wiki/File:WHO_Rod.svg\"><img alt=\"WHO Rod.svg\" data-file-height=\"250\" data-file-width=\"107\" decoding=\"async\" height=\"21\" src=\"//upload.wikimedia.org/wikipedia/commons/thumb/d/d6/WHO_Rod.svg/9px-WHO_Rod.svg.png\" srcset=\"//upload.wikimedia.org/wikipedia/commons/thumb/d/d6/WHO_Rod.svg/13px-WHO_Rod.svg.png 1.5x, //upload.wikimedia.org/wikipedia/commons/thumb/d/d6/WHO_Rod.svg/18px-WHO_Rod.svg.png 2x\" width=\"9\"/></a></span><a href=\"/wiki/Portal:Medicine\" title=\"Portal:Medicine\">Medicine portal</a></span></li><li style=\"display:inline\"><span style=\"display:inline-block;white-space:nowrap\"><span style=\"margin:0 0.5em\"><a class=\"image\" href=\"/wiki/File:Sida-aids.png\"><img alt=\"Sida-aids.png\" data-file-height=\"290\" data-file-width=\"290\" decoding=\"async\" height=\"21\" src=\"//upload.wikimedia.org/wikipedia/commons/thumb/2/2f/Sida-aids.png/21px-Sida-aids.png\" srcset=\"//upload.wikimedia.org/wikipedia/commons/thumb/2/2f/Sida-aids.png/32px-Sida-aids.png 1.5x, //upload.wikimedia.org/wikipedia/commons/thumb/2/2f/Sida-aids.png/42px-Sida-aids.png 2x\" width=\"21\"/></a></span><a href=\"/wiki/Portal:Viruses\" title=\"Portal:Viruses\">Viruses portal</a></span></li></ul></div>\n",
       "<!-- \n",
       "NewPP limit report\n",
       "Parsed by mw1371\n",
       "Cached time: 20210629140427\n",
       "Cache expiry: 86400\n",
       "Reduced expiry: true\n",
       "Complications: [vary‐revision‐sha1]\n",
       "CPU time usage: 1.222 seconds\n",
       "Real time usage: 1.558 seconds\n",
       "Preprocessor visited node count: 5990/1000000\n",
       "Post‐expand include size: 124576/2097152 bytes\n",
       "Template argument size: 11401/2097152 bytes\n",
       "Highest expansion depth: 21/40\n",
       "Expensive parser function count: 23/500\n",
       "Unstrip recursion depth: 1/20\n",
       "Unstrip post‐expand size: 140523/5000000 bytes\n",
       "Lua time usage: 0.579/10.000 seconds\n",
       "Lua memory usage: 12408772/52428800 bytes\n",
       "Number of Wikibase entities loaded: 1/400\n",
       "-->\n",
       "<!--\n",
       "Transclusion expansion time report (%,ms,calls,template)\n",
       "100.00% 1348.192      1 -total\n",
       " 36.05%  486.024      1 Template:Reflist\n",
       " 24.99%  336.904      1 Template:Infobox_scientist\n",
       " 24.34%  328.109      1 Template:Infobox_person\n",
       " 21.81%  294.063      2 Template:Infobox\n",
       "  9.09%  122.568      5 Template:Cite_news\n",
       "  9.08%  122.408      3 Template:If_empty\n",
       "  8.27%  111.477      2 Template:Marriage\n",
       "  7.69%  103.661      5 Template:Br_separated_entries\n",
       "  7.38%   99.489      1 Template:Short_description\n",
       "-->\n",
       "<!-- Saved in parser cache with key enwiki:pcache:idhash:25709692-0!canonical and timestamp 20210629140425 and revision id 1028289283. Serialized with JSON.\n",
       " -->\n",
       "</div><noscript><img alt=\"\" height=\"1\" src=\"//en.wikipedia.org/wiki/Special:CentralAutoLogin/start?type=1x1\" style=\"border: none; position: absolute;\" title=\"\" width=\"1\"/></noscript>\n",
       "<div class=\"printfooter\">Retrieved from \"<a dir=\"ltr\" href=\"https://en.wikipedia.org/w/index.php?title=Jonas_Salk&amp;oldid=1028289283\">https://en.wikipedia.org/w/index.php?title=Jonas_Salk&amp;oldid=1028289283</a>\"</div></div>\n",
       "<div class=\"catlinks\" data-mw=\"interface\" id=\"catlinks\"><div class=\"mw-normal-catlinks\" id=\"mw-normal-catlinks\"><a href=\"/wiki/Help:Category\" title=\"Help:Category\">Categories</a>: <ul><li><a href=\"/wiki/Category:1914_births\" title=\"Category:1914 births\">1914 births</a></li><li><a href=\"/wiki/Category:1995_deaths\" title=\"Category:1995 deaths\">1995 deaths</a></li><li><a href=\"/wiki/Category:20th-century_American_inventors\" title=\"Category:20th-century American inventors\">20th-century American inventors</a></li><li><a href=\"/wiki/Category:20th-century_American_physicians\" title=\"Category:20th-century American physicians\">20th-century American physicians</a></li><li><a href=\"/wiki/Category:American_epidemiologists\" title=\"Category:American epidemiologists\">American epidemiologists</a></li><li><a href=\"/wiki/Category:American_humanists\" title=\"Category:American humanists\">American humanists</a></li><li><a href=\"/wiki/Category:American_medical_researchers\" title=\"Category:American medical researchers\">American medical researchers</a></li><li><a href=\"/wiki/Category:American_people_of_Belarusian-Jewish_descent\" title=\"Category:American people of Belarusian-Jewish descent\">American people of Belarusian-Jewish descent</a></li><li><a href=\"/wiki/Category:American_virologists\" title=\"Category:American virologists\">American virologists</a></li><li><a href=\"/wiki/Category:Ashkenazi_Jews\" title=\"Category:Ashkenazi Jews\">Ashkenazi Jews</a></li><li><a href=\"/wiki/Category:Burials_in_California\" title=\"Category:Burials in California\">Burials in California</a></li><li><a href=\"/wiki/Category:City_College_of_New_York_alumni\" title=\"Category:City College of New York alumni\">City College of New York alumni</a></li><li><a href=\"/wiki/Category:Congressional_Gold_Medal_recipients\" title=\"Category:Congressional Gold Medal recipients\">Congressional Gold Medal recipients</a></li><li><a href=\"/wiki/Category:Grand_Officers_of_the_Order_of_Merit_of_the_Italian_Republic\" title=\"Category:Grand Officers of the Order of Merit of the Italian Republic\">Grand Officers of the Order of Merit of the Italian Republic</a></li><li><a href=\"/wiki/Category:History_of_medicine\" title=\"Category:History of medicine\">History of medicine</a></li><li><a href=\"/wiki/Category:Jewish_American_scientists\" title=\"Category:Jewish American scientists\">Jewish American scientists</a></li><li><a href=\"/wiki/Category:Jewish_humanists\" title=\"Category:Jewish humanists\">Jewish humanists</a></li><li><a href=\"/wiki/Category:Jewish_inventors\" title=\"Category:Jewish inventors\">Jewish inventors</a></li><li><a href=\"/wiki/Category:New_York_University_School_of_Medicine_alumni\" title=\"Category:New York University School of Medicine alumni\">New York University School of Medicine alumni</a></li><li><a href=\"/wiki/Category:People_from_East_Harlem\" title=\"Category:People from East Harlem\">People from East Harlem</a></li><li><a href=\"/wiki/Category:People_from_San_Diego\" title=\"Category:People from San Diego\">People from San Diego</a></li><li><a href=\"/wiki/Category:Physicians_from_New_York_City\" title=\"Category:Physicians from New York City\">Physicians from New York City</a></li><li><a href=\"/wiki/Category:Polio\" title=\"Category:Polio\">Polio</a></li><li><a href=\"/wiki/Category:Presidential_Medal_of_Freedom_recipients\" title=\"Category:Presidential Medal of Freedom recipients\">Presidential Medal of Freedom recipients</a></li><li><a href=\"/wiki/Category:Recipients_of_the_Lasker-DeBakey_Clinical_Medical_Research_Award\" title=\"Category:Recipients of the Lasker-DeBakey Clinical Medical Research Award\">Recipients of the Lasker-DeBakey Clinical Medical Research Award</a></li><li><a href=\"/wiki/Category:Salk_Institute_for_Biological_Studies\" title=\"Category:Salk Institute for Biological Studies\">Salk Institute for Biological Studies</a></li><li><a href=\"/wiki/Category:Salk_Institute_for_Biological_Studies_people\" title=\"Category:Salk Institute for Biological Studies people\">Salk Institute for Biological Studies people</a></li><li><a href=\"/wiki/Category:Scientists_from_New_York_City\" title=\"Category:Scientists from New York City\">Scientists from New York City</a></li><li><a href=\"/wiki/Category:Scientists_from_Pittsburgh\" title=\"Category:Scientists from Pittsburgh\">Scientists from Pittsburgh</a></li><li><a href=\"/wiki/Category:Townsend_Harris_High_School_alumni\" title=\"Category:Townsend Harris High School alumni\">Townsend Harris High School alumni</a></li><li><a href=\"/wiki/Category:University_of_Michigan_faculty\" title=\"Category:University of Michigan faculty\">University of Michigan faculty</a></li><li><a href=\"/wiki/Category:University_of_Pittsburgh_faculty\" title=\"Category:University of Pittsburgh faculty\">University of Pittsburgh faculty</a></li><li><a href=\"/wiki/Category:Vaccinologists\" title=\"Category:Vaccinologists\">Vaccinologists</a></li></ul></div><div class=\"mw-hidden-catlinks mw-hidden-cats-hidden\" id=\"mw-hidden-catlinks\">Hidden categories: <ul><li><a href=\"/wiki/Category:CS1_maint:_archived_copy_as_title\" title=\"Category:CS1 maint: archived copy as title\">CS1 maint: archived copy as title</a></li><li><a href=\"/wiki/Category:Webarchive_template_wayback_links\" title=\"Category:Webarchive template wayback links\">Webarchive template wayback links</a></li><li><a href=\"/wiki/Category:CS1_Italian-language_sources_(it)\" title=\"Category:CS1 Italian-language sources (it)\">CS1 Italian-language sources (it)</a></li><li><a href=\"/wiki/Category:Articles_with_short_description\" title=\"Category:Articles with short description\">Articles with short description</a></li><li><a href=\"/wiki/Category:Short_description_is_different_from_Wikidata\" title=\"Category:Short description is different from Wikidata\">Short description is different from Wikidata</a></li><li><a href=\"/wiki/Category:Use_mdy_dates_from_March_2020\" title=\"Category:Use mdy dates from March 2020\">Use mdy dates from March 2020</a></li><li><a href=\"/wiki/Category:Biography_with_signature\" title=\"Category:Biography with signature\">Biography with signature</a></li><li><a href=\"/wiki/Category:Articles_with_hCards\" title=\"Category:Articles with hCards\">Articles with hCards</a></li><li><a href=\"/wiki/Category:All_articles_with_unsourced_statements\" title=\"Category:All articles with unsourced statements\">All articles with unsourced statements</a></li><li><a href=\"/wiki/Category:Articles_with_unsourced_statements_from_April_2019\" title=\"Category:Articles with unsourced statements from April 2019\">Articles with unsourced statements from April 2019</a></li><li><a href=\"/wiki/Category:Articles_with_unsourced_statements_from_July_2019\" title=\"Category:Articles with unsourced statements from July 2019\">Articles with unsourced statements from July 2019</a></li><li><a href=\"/wiki/Category:Commons_category_link_from_Wikidata\" title=\"Category:Commons category link from Wikidata\">Commons category link from Wikidata</a></li><li><a href=\"/wiki/Category:Wikipedia_articles_with_GND_identifiers\" title=\"Category:Wikipedia articles with GND identifiers\">Wikipedia articles with GND identifiers</a></li><li><a href=\"/wiki/Category:Wikipedia_articles_with_ISNI_identifiers\" title=\"Category:Wikipedia articles with ISNI identifiers\">Wikipedia articles with ISNI identifiers</a></li><li><a href=\"/wiki/Category:Wikipedia_articles_with_VIAF_identifiers\" title=\"Category:Wikipedia articles with VIAF identifiers\">Wikipedia articles with VIAF identifiers</a></li><li><a href=\"/wiki/Category:Wikipedia_articles_with_BNF_identifiers\" title=\"Category:Wikipedia articles with BNF identifiers\">Wikipedia articles with BNF identifiers</a></li><li><a href=\"/wiki/Category:Wikipedia_articles_with_LCCN_identifiers\" title=\"Category:Wikipedia articles with LCCN identifiers\">Wikipedia articles with LCCN identifiers</a></li><li><a href=\"/wiki/Category:Wikipedia_articles_with_NKC_identifiers\" title=\"Category:Wikipedia articles with NKC identifiers\">Wikipedia articles with NKC identifiers</a></li><li><a href=\"/wiki/Category:Wikipedia_articles_with_NLI_identifiers\" title=\"Category:Wikipedia articles with NLI identifiers\">Wikipedia articles with NLI identifiers</a></li><li><a href=\"/wiki/Category:Wikipedia_articles_with_NTA_identifiers\" title=\"Category:Wikipedia articles with NTA identifiers\">Wikipedia articles with NTA identifiers</a></li><li><a href=\"/wiki/Category:Wikipedia_articles_with_PLWABN_identifiers\" title=\"Category:Wikipedia articles with PLWABN identifiers\">Wikipedia articles with PLWABN identifiers</a></li><li><a href=\"/wiki/Category:Wikipedia_articles_with_ULAN_identifiers\" title=\"Category:Wikipedia articles with ULAN identifiers\">Wikipedia articles with ULAN identifiers</a></li><li><a href=\"/wiki/Category:Wikipedia_articles_with_FAST_identifiers\" title=\"Category:Wikipedia articles with FAST identifiers\">Wikipedia articles with FAST identifiers</a></li><li><a href=\"/wiki/Category:Wikipedia_articles_with_SNAC-ID_identifiers\" title=\"Category:Wikipedia articles with SNAC-ID identifiers\">Wikipedia articles with SNAC-ID identifiers</a></li><li><a href=\"/wiki/Category:Wikipedia_articles_with_SUDOC_identifiers\" title=\"Category:Wikipedia articles with SUDOC identifiers\">Wikipedia articles with SUDOC identifiers</a></li><li><a href=\"/wiki/Category:Wikipedia_articles_with_WORLDCATID_identifiers\" title=\"Category:Wikipedia articles with WORLDCATID identifiers\">Wikipedia articles with WORLDCATID identifiers</a></li><li><a href=\"/wiki/Category:Wikipedia_articles_with_multiple_identifiers\" title=\"Category:Wikipedia articles with multiple identifiers\">Wikipedia articles with multiple identifiers</a></li></ul></div></div>\n",
       "</div>\n",
       "</div>\n",
       "<div id=\"mw-data-after-content\">\n",
       "<div class=\"read-more-container\"></div>\n",
       "</div>\n",
       "<div id=\"mw-navigation\">\n",
       "<h2>Navigation menu</h2>\n",
       "<div id=\"mw-head\">\n",
       "<nav aria-labelledby=\"p-personal-label\" class=\"mw-portlet mw-portlet-personal vector-user-menu-legacy vector-menu\" id=\"p-personal\" role=\"navigation\">\n",
       "<h3 class=\"vector-menu-heading\" id=\"p-personal-label\">\n",
       "<span>Personal tools</span>\n",
       "</h3>\n",
       "<div class=\"vector-menu-content\">\n",
       "<ul class=\"vector-menu-content-list\"><li id=\"pt-anonuserpage\">Not logged in</li><li id=\"pt-anontalk\"><a accesskey=\"n\" href=\"/wiki/Special:MyTalk\" title=\"Discussion about edits from this IP address [n]\">Talk</a></li><li id=\"pt-anoncontribs\"><a accesskey=\"y\" href=\"/wiki/Special:MyContributions\" title=\"A list of edits made from this IP address [y]\">Contributions</a></li><li id=\"pt-createaccount\"><a href=\"/w/index.php?title=Special:CreateAccount&amp;returnto=Jonas+Salk\" title=\"You are encouraged to create an account and log in; however, it is not mandatory\">Create account</a></li><li id=\"pt-login\"><a accesskey=\"o\" href=\"/w/index.php?title=Special:UserLogin&amp;returnto=Jonas+Salk\" title=\"You're encouraged to log in; however, it's not mandatory. [o]\">Log in</a></li></ul>\n",
       "</div>\n",
       "</nav>\n",
       "<div id=\"left-navigation\">\n",
       "<nav aria-labelledby=\"p-namespaces-label\" class=\"mw-portlet mw-portlet-namespaces vector-menu vector-menu-tabs\" id=\"p-namespaces\" role=\"navigation\">\n",
       "<h3 class=\"vector-menu-heading\" id=\"p-namespaces-label\">\n",
       "<span>Namespaces</span>\n",
       "</h3>\n",
       "<div class=\"vector-menu-content\">\n",
       "<ul class=\"vector-menu-content-list\"><li class=\"selected\" id=\"ca-nstab-main\"><a accesskey=\"c\" href=\"/wiki/Jonas_Salk\" title=\"View the content page [c]\">Article</a></li><li id=\"ca-talk\"><a accesskey=\"t\" href=\"/wiki/Talk:Jonas_Salk\" rel=\"discussion\" title=\"Discuss improvements to the content page [t]\">Talk</a></li></ul>\n",
       "</div>\n",
       "</nav>\n",
       "<nav aria-labelledby=\"p-variants-label\" class=\"mw-portlet mw-portlet-variants emptyPortlet vector-menu vector-menu-dropdown\" id=\"p-variants\" role=\"navigation\">\n",
       "<input aria-labelledby=\"p-variants-label\" class=\"vector-menu-checkbox\" type=\"checkbox\"/>\n",
       "<h3 class=\"vector-menu-heading\" id=\"p-variants-label\">\n",
       "<span>Variants</span>\n",
       "</h3>\n",
       "<div class=\"vector-menu-content\">\n",
       "<ul class=\"vector-menu-content-list\"></ul>\n",
       "</div>\n",
       "</nav>\n",
       "</div>\n",
       "<div id=\"right-navigation\">\n",
       "<nav aria-labelledby=\"p-views-label\" class=\"mw-portlet mw-portlet-views vector-menu vector-menu-tabs\" id=\"p-views\" role=\"navigation\">\n",
       "<h3 class=\"vector-menu-heading\" id=\"p-views-label\">\n",
       "<span>Views</span>\n",
       "</h3>\n",
       "<div class=\"vector-menu-content\">\n",
       "<ul class=\"vector-menu-content-list\"><li class=\"selected\" id=\"ca-view\"><a href=\"/wiki/Jonas_Salk\">Read</a></li><li id=\"ca-edit\"><a accesskey=\"e\" href=\"/w/index.php?title=Jonas_Salk&amp;action=edit\" title=\"Edit this page [e]\">Edit</a></li><li id=\"ca-history\"><a accesskey=\"h\" href=\"/w/index.php?title=Jonas_Salk&amp;action=history\" title=\"Past revisions of this page [h]\">View history</a></li></ul>\n",
       "</div>\n",
       "</nav>\n",
       "<nav aria-labelledby=\"p-cactions-label\" class=\"mw-portlet mw-portlet-cactions emptyPortlet vector-menu vector-menu-dropdown\" id=\"p-cactions\" role=\"navigation\">\n",
       "<input aria-labelledby=\"p-cactions-label\" class=\"vector-menu-checkbox\" type=\"checkbox\"/>\n",
       "<h3 class=\"vector-menu-heading\" id=\"p-cactions-label\">\n",
       "<span>More</span>\n",
       "</h3>\n",
       "<div class=\"vector-menu-content\">\n",
       "<ul class=\"vector-menu-content-list\"></ul>\n",
       "</div>\n",
       "</nav>\n",
       "<div id=\"p-search\" role=\"search\">\n",
       "<h3>\n",
       "<label for=\"searchInput\">Search</label>\n",
       "</h3>\n",
       "<form action=\"/w/index.php\" id=\"searchform\">\n",
       "<div data-search-loc=\"header-navigation\" id=\"simpleSearch\">\n",
       "<input accesskey=\"f\" autocapitalize=\"sentences\" id=\"searchInput\" name=\"search\" placeholder=\"Search Wikipedia\" title=\"Search Wikipedia [f]\" type=\"search\"/>\n",
       "<input name=\"title\" type=\"hidden\" value=\"Special:Search\"/>\n",
       "<input class=\"searchButton mw-fallbackSearchButton\" id=\"mw-searchButton\" name=\"fulltext\" title=\"Search Wikipedia for this text\" type=\"submit\" value=\"Search\"/>\n",
       "<input class=\"searchButton\" id=\"searchButton\" name=\"go\" title=\"Go to a page with this exact name if it exists\" type=\"submit\" value=\"Go\"/>\n",
       "</div>\n",
       "</form>\n",
       "</div>\n",
       "</div>\n",
       "</div>\n",
       "<div id=\"mw-panel\">\n",
       "<div id=\"p-logo\" role=\"banner\">\n",
       "<a class=\"mw-wiki-logo\" href=\"/wiki/Main_Page\" title=\"Visit the main page\"></a>\n",
       "</div>\n",
       "<nav aria-labelledby=\"p-navigation-label\" class=\"mw-portlet mw-portlet-navigation vector-menu vector-menu-portal portal\" id=\"p-navigation\" role=\"navigation\">\n",
       "<h3 class=\"vector-menu-heading\" id=\"p-navigation-label\">\n",
       "<span>Navigation</span>\n",
       "</h3>\n",
       "<div class=\"vector-menu-content\">\n",
       "<ul class=\"vector-menu-content-list\"><li id=\"n-mainpage-description\"><a accesskey=\"z\" href=\"/wiki/Main_Page\" title=\"Visit the main page [z]\">Main page</a></li><li id=\"n-contents\"><a href=\"/wiki/Wikipedia:Contents\" title=\"Guides to browsing Wikipedia\">Contents</a></li><li id=\"n-currentevents\"><a href=\"/wiki/Portal:Current_events\" title=\"Articles related to current events\">Current events</a></li><li id=\"n-randompage\"><a accesskey=\"x\" href=\"/wiki/Special:Random\" title=\"Visit a randomly selected article [x]\">Random article</a></li><li id=\"n-aboutsite\"><a href=\"/wiki/Wikipedia:About\" title=\"Learn about Wikipedia and how it works\">About Wikipedia</a></li><li id=\"n-contactpage\"><a href=\"//en.wikipedia.org/wiki/Wikipedia:Contact_us\" title=\"How to contact Wikipedia\">Contact us</a></li><li id=\"n-sitesupport\"><a href=\"https://donate.wikimedia.org/wiki/Special:FundraiserRedirector?utm_source=donate&amp;utm_medium=sidebar&amp;utm_campaign=C13_en.wikipedia.org&amp;uselang=en\" title=\"Support us by donating to the Wikimedia Foundation\">Donate</a></li></ul>\n",
       "</div>\n",
       "</nav>\n",
       "<nav aria-labelledby=\"p-interaction-label\" class=\"mw-portlet mw-portlet-interaction vector-menu vector-menu-portal portal\" id=\"p-interaction\" role=\"navigation\">\n",
       "<h3 class=\"vector-menu-heading\" id=\"p-interaction-label\">\n",
       "<span>Contribute</span>\n",
       "</h3>\n",
       "<div class=\"vector-menu-content\">\n",
       "<ul class=\"vector-menu-content-list\"><li id=\"n-help\"><a href=\"/wiki/Help:Contents\" title=\"Guidance on how to use and edit Wikipedia\">Help</a></li><li id=\"n-introduction\"><a href=\"/wiki/Help:Introduction\" title=\"Learn how to edit Wikipedia\">Learn to edit</a></li><li id=\"n-portal\"><a href=\"/wiki/Wikipedia:Community_portal\" title=\"The hub for editors\">Community portal</a></li><li id=\"n-recentchanges\"><a accesskey=\"r\" href=\"/wiki/Special:RecentChanges\" title=\"A list of recent changes to Wikipedia [r]\">Recent changes</a></li><li id=\"n-upload\"><a href=\"/wiki/Wikipedia:File_Upload_Wizard\" title=\"Add images or other media for use on Wikipedia\">Upload file</a></li></ul>\n",
       "</div>\n",
       "</nav>\n",
       "<nav aria-labelledby=\"p-tb-label\" class=\"mw-portlet mw-portlet-tb vector-menu vector-menu-portal portal\" id=\"p-tb\" role=\"navigation\">\n",
       "<h3 class=\"vector-menu-heading\" id=\"p-tb-label\">\n",
       "<span>Tools</span>\n",
       "</h3>\n",
       "<div class=\"vector-menu-content\">\n",
       "<ul class=\"vector-menu-content-list\"><li id=\"t-whatlinkshere\"><a accesskey=\"j\" href=\"/wiki/Special:WhatLinksHere/Jonas_Salk\" title=\"List of all English Wikipedia pages containing links to this page [j]\">What links here</a></li><li id=\"t-recentchangeslinked\"><a accesskey=\"k\" href=\"/wiki/Special:RecentChangesLinked/Jonas_Salk\" rel=\"nofollow\" title=\"Recent changes in pages linked from this page [k]\">Related changes</a></li><li id=\"t-upload\"><a accesskey=\"u\" href=\"/wiki/Wikipedia:File_Upload_Wizard\" title=\"Upload files [u]\">Upload file</a></li><li id=\"t-specialpages\"><a accesskey=\"q\" href=\"/wiki/Special:SpecialPages\" title=\"A list of all special pages [q]\">Special pages</a></li><li id=\"t-permalink\"><a href=\"/w/index.php?title=Jonas_Salk&amp;oldid=1028289283\" title=\"Permanent link to this revision of this page\">Permanent link</a></li><li id=\"t-info\"><a href=\"/w/index.php?title=Jonas_Salk&amp;action=info\" title=\"More information about this page\">Page information</a></li><li id=\"t-cite\"><a href=\"/w/index.php?title=Special:CiteThisPage&amp;page=Jonas_Salk&amp;id=1028289283&amp;wpFormIdentifier=titleform\" title=\"Information on how to cite this page\">Cite this page</a></li><li id=\"t-wikibase\"><a accesskey=\"g\" href=\"https://www.wikidata.org/wiki/Special:EntityPage/Q200101\" title=\"Structured data on this page hosted by Wikidata [g]\">Wikidata item</a></li></ul>\n",
       "</div>\n",
       "</nav>\n",
       "<nav aria-labelledby=\"p-coll-print_export-label\" class=\"mw-portlet mw-portlet-coll-print_export vector-menu vector-menu-portal portal\" id=\"p-coll-print_export\" role=\"navigation\">\n",
       "<h3 class=\"vector-menu-heading\" id=\"p-coll-print_export-label\">\n",
       "<span>Print/export</span>\n",
       "</h3>\n",
       "<div class=\"vector-menu-content\">\n",
       "<ul class=\"vector-menu-content-list\"><li id=\"coll-download-as-rl\"><a href=\"/w/index.php?title=Special:DownloadAsPdf&amp;page=Jonas_Salk&amp;action=show-download-screen\" title=\"Download this page as a PDF file\">Download as PDF</a></li><li id=\"t-print\"><a accesskey=\"p\" href=\"/w/index.php?title=Jonas_Salk&amp;printable=yes\" title=\"Printable version of this page [p]\">Printable version</a></li></ul>\n",
       "</div>\n",
       "</nav>\n",
       "<nav aria-labelledby=\"p-wikibase-otherprojects-label\" class=\"mw-portlet mw-portlet-wikibase-otherprojects vector-menu vector-menu-portal portal\" id=\"p-wikibase-otherprojects\" role=\"navigation\">\n",
       "<h3 class=\"vector-menu-heading\" id=\"p-wikibase-otherprojects-label\">\n",
       "<span>In other projects</span>\n",
       "</h3>\n",
       "<div class=\"vector-menu-content\">\n",
       "<ul class=\"vector-menu-content-list\"><li class=\"wb-otherproject-link wb-otherproject-commons\"><a href=\"https://commons.wikimedia.org/wiki/Category:Jonas_Salk\" hreflang=\"en\">Wikimedia Commons</a></li><li class=\"wb-otherproject-link wb-otherproject-wikiquote\"><a href=\"https://en.wikiquote.org/wiki/Jonas_Salk\" hreflang=\"en\">Wikiquote</a></li></ul>\n",
       "</div>\n",
       "</nav>\n",
       "<nav aria-labelledby=\"p-lang-label\" class=\"mw-portlet mw-portlet-lang vector-menu vector-menu-portal portal\" id=\"p-lang\" role=\"navigation\">\n",
       "<h3 class=\"vector-menu-heading\" id=\"p-lang-label\">\n",
       "<span>Languages</span>\n",
       "</h3>\n",
       "<div class=\"vector-menu-content\">\n",
       "<ul class=\"vector-menu-content-list\"><li class=\"interlanguage-link interwiki-af\"><a class=\"interlanguage-link-target\" href=\"https://af.wikipedia.org/wiki/Jonas_Salk\" hreflang=\"af\" lang=\"af\" title=\"Jonas Salk – Afrikaans\">Afrikaans</a></li><li class=\"interlanguage-link interwiki-ar\"><a class=\"interlanguage-link-target\" href=\"https://ar.wikipedia.org/wiki/%D8%AC%D9%88%D9%86%D8%A7%D8%B3_%D8%B3%D9%88%D9%84%D9%83\" hreflang=\"ar\" lang=\"ar\" title=\"جوناس سولك – Arabic\">العربية</a></li><li class=\"interlanguage-link interwiki-ast\"><a class=\"interlanguage-link-target\" href=\"https://ast.wikipedia.org/wiki/Jonas_Salk\" hreflang=\"ast\" lang=\"ast\" title=\"Jonas Salk – Asturian\">Asturianu</a></li><li class=\"interlanguage-link interwiki-az\"><a class=\"interlanguage-link-target\" href=\"https://az.wikipedia.org/wiki/Conas_Solk\" hreflang=\"az\" lang=\"az\" title=\"Conas Solk – Azerbaijani\">Azərbaycanca</a></li><li class=\"interlanguage-link interwiki-azb\"><a class=\"interlanguage-link-target\" href=\"https://azb.wikipedia.org/wiki/%D8%AC%D9%88%D9%86%D8%A7%D8%B3_%D8%B3%D8%A7%D9%84%DA%A9\" hreflang=\"azb\" lang=\"azb\" title=\"جوناس سالک – South Azerbaijani\">تۆرکجه</a></li><li class=\"interlanguage-link interwiki-bn\"><a class=\"interlanguage-link-target\" href=\"https://bn.wikipedia.org/wiki/%E0%A6%9C%E0%A7%8B%E0%A6%A8%E0%A6%BE%E0%A6%B8_%E0%A6%8F%E0%A6%A1%E0%A6%93%E0%A6%AF%E0%A6%BC%E0%A6%BE%E0%A6%B0%E0%A7%8D%E0%A6%A1_%E0%A6%B8%E0%A6%B2%E0%A7%8D%E0%A6%95\" hreflang=\"bn\" lang=\"bn\" title=\"জোনাস এডওয়ার্ড সল্ক – Bangla\">বাংলা</a></li><li class=\"interlanguage-link interwiki-be\"><a class=\"interlanguage-link-target\" href=\"https://be.wikipedia.org/wiki/%D0%94%D0%B6%D0%BE%D0%BD%D0%B0%D1%81_%D0%A1%D0%BE%D0%BB%D0%BA\" hreflang=\"be\" lang=\"be\" title=\"Джонас Солк – Belarusian\">Беларуская</a></li><li class=\"interlanguage-link interwiki-bg\"><a class=\"interlanguage-link-target\" href=\"https://bg.wikipedia.org/wiki/%D0%94%D0%B6%D0%BE%D0%BD%D0%B0%D1%81_%D0%A1%D0%BE%D0%BB%D0%BA\" hreflang=\"bg\" lang=\"bg\" title=\"Джонас Солк – Bulgarian\">Български</a></li><li class=\"interlanguage-link interwiki-bs\"><a class=\"interlanguage-link-target\" href=\"https://bs.wikipedia.org/wiki/Jonas_Salk\" hreflang=\"bs\" lang=\"bs\" title=\"Jonas Salk – Bosnian\">Bosanski</a></li><li class=\"interlanguage-link interwiki-ca\"><a class=\"interlanguage-link-target\" href=\"https://ca.wikipedia.org/wiki/Jonas_Salk\" hreflang=\"ca\" lang=\"ca\" title=\"Jonas Salk – Catalan\">Català</a></li><li class=\"interlanguage-link interwiki-cs\"><a class=\"interlanguage-link-target\" href=\"https://cs.wikipedia.org/wiki/Jonas_Salk\" hreflang=\"cs\" lang=\"cs\" title=\"Jonas Salk – Czech\">Čeština</a></li><li class=\"interlanguage-link interwiki-cy\"><a class=\"interlanguage-link-target\" href=\"https://cy.wikipedia.org/wiki/Jonas_Salk\" hreflang=\"cy\" lang=\"cy\" title=\"Jonas Salk – Welsh\">Cymraeg</a></li><li class=\"interlanguage-link interwiki-da\"><a class=\"interlanguage-link-target\" href=\"https://da.wikipedia.org/wiki/Jonas_Salk\" hreflang=\"da\" lang=\"da\" title=\"Jonas Salk – Danish\">Dansk</a></li><li class=\"interlanguage-link interwiki-de\"><a class=\"interlanguage-link-target\" href=\"https://de.wikipedia.org/wiki/Jonas_Salk\" hreflang=\"de\" lang=\"de\" title=\"Jonas Salk – German\">Deutsch</a></li><li class=\"interlanguage-link interwiki-et\"><a class=\"interlanguage-link-target\" href=\"https://et.wikipedia.org/wiki/Jonas_Salk\" hreflang=\"et\" lang=\"et\" title=\"Jonas Salk – Estonian\">Eesti</a></li><li class=\"interlanguage-link interwiki-el\"><a class=\"interlanguage-link-target\" href=\"https://el.wikipedia.org/wiki/%CE%A4%CE%B6%CF%8C%CE%BD%CE%B1%CF%82_%CE%A3%CE%BF%CE%BB%CE%BA\" hreflang=\"el\" lang=\"el\" title=\"Τζόνας Σολκ – Greek\">Ελληνικά</a></li><li class=\"interlanguage-link interwiki-es\"><a class=\"interlanguage-link-target\" href=\"https://es.wikipedia.org/wiki/Jonas_Salk\" hreflang=\"es\" lang=\"es\" title=\"Jonas Salk – Spanish\">Español</a></li><li class=\"interlanguage-link interwiki-eo\"><a class=\"interlanguage-link-target\" href=\"https://eo.wikipedia.org/wiki/Jonas_Salk\" hreflang=\"eo\" lang=\"eo\" title=\"Jonas Salk – Esperanto\">Esperanto</a></li><li class=\"interlanguage-link interwiki-eu\"><a class=\"interlanguage-link-target\" href=\"https://eu.wikipedia.org/wiki/Jonas_Salk\" hreflang=\"eu\" lang=\"eu\" title=\"Jonas Salk – Basque\">Euskara</a></li><li class=\"interlanguage-link interwiki-fa\"><a class=\"interlanguage-link-target\" href=\"https://fa.wikipedia.org/wiki/%D8%AC%D9%88%D9%86%D8%A7%D8%B3_%D8%B3%D8%A7%D9%84%DA%A9\" hreflang=\"fa\" lang=\"fa\" title=\"جوناس سالک – Persian\">فارسی</a></li><li class=\"interlanguage-link interwiki-fr\"><a class=\"interlanguage-link-target\" href=\"https://fr.wikipedia.org/wiki/Jonas_Salk\" hreflang=\"fr\" lang=\"fr\" title=\"Jonas Salk – French\">Français</a></li><li class=\"interlanguage-link interwiki-fy\"><a class=\"interlanguage-link-target\" href=\"https://fy.wikipedia.org/wiki/Jonas_Salk\" hreflang=\"fy\" lang=\"fy\" title=\"Jonas Salk – Western Frisian\">Frysk</a></li><li class=\"interlanguage-link interwiki-ga\"><a class=\"interlanguage-link-target\" href=\"https://ga.wikipedia.org/wiki/Jonas_Edward_Salk\" hreflang=\"ga\" lang=\"ga\" title=\"Jonas Edward Salk – Irish\">Gaeilge</a></li><li class=\"interlanguage-link interwiki-gl\"><a class=\"interlanguage-link-target\" href=\"https://gl.wikipedia.org/wiki/Jonas_Salk\" hreflang=\"gl\" lang=\"gl\" title=\"Jonas Salk – Galician\">Galego</a></li><li class=\"interlanguage-link interwiki-ko\"><a class=\"interlanguage-link-target\" href=\"https://ko.wikipedia.org/wiki/%EC%A1%B0%EB%84%88%EC%8A%A4_%EC%86%8C%ED%81%AC\" hreflang=\"ko\" lang=\"ko\" title=\"조너스 소크 – Korean\">한국어</a></li><li class=\"interlanguage-link interwiki-hy\"><a class=\"interlanguage-link-target\" href=\"https://hy.wikipedia.org/wiki/%D5%8B%D5%B8%D5%B6%D5%A1%D5%BD_%D5%8D%D5%B8%D5%AC%D6%84\" hreflang=\"hy\" lang=\"hy\" title=\"Ջոնաս Սոլք – Armenian\">Հայերեն</a></li><li class=\"interlanguage-link interwiki-hi\"><a class=\"interlanguage-link-target\" href=\"https://hi.wikipedia.org/wiki/%E0%A4%9C%E0%A5%8B%E0%A4%A8%E0%A4%BE%E0%A4%B8_%E0%A4%B8%E0%A5%89%E0%A4%B2%E0%A5%8D%E0%A4%95\" hreflang=\"hi\" lang=\"hi\" title=\"जोनास सॉल्क – Hindi\">हिन्दी</a></li><li class=\"interlanguage-link interwiki-hr\"><a class=\"interlanguage-link-target\" href=\"https://hr.wikipedia.org/wiki/Jonas_Salk\" hreflang=\"hr\" lang=\"hr\" title=\"Jonas Salk – Croatian\">Hrvatski</a></li><li class=\"interlanguage-link interwiki-io\"><a class=\"interlanguage-link-target\" href=\"https://io.wikipedia.org/wiki/Jonas_Salk\" hreflang=\"io\" lang=\"io\" title=\"Jonas Salk – Ido\">Ido</a></li><li class=\"interlanguage-link interwiki-id\"><a class=\"interlanguage-link-target\" href=\"https://id.wikipedia.org/wiki/Jonas_Salk\" hreflang=\"id\" lang=\"id\" title=\"Jonas Salk – Indonesian\">Bahasa Indonesia</a></li><li class=\"interlanguage-link interwiki-is\"><a class=\"interlanguage-link-target\" href=\"https://is.wikipedia.org/wiki/Jonas_Salk\" hreflang=\"is\" lang=\"is\" title=\"Jonas Salk – Icelandic\">Íslenska</a></li><li class=\"interlanguage-link interwiki-it\"><a class=\"interlanguage-link-target\" href=\"https://it.wikipedia.org/wiki/Jonas_Salk\" hreflang=\"it\" lang=\"it\" title=\"Jonas Salk – Italian\">Italiano</a></li><li class=\"interlanguage-link interwiki-he\"><a class=\"interlanguage-link-target\" href=\"https://he.wikipedia.org/wiki/%D7%99%D7%95%D7%A0%D7%94_%D7%A1%D7%90%D7%9C%D7%A7\" hreflang=\"he\" lang=\"he\" title=\"יונה סאלק – Hebrew\">עברית</a></li><li class=\"interlanguage-link interwiki-jv\"><a class=\"interlanguage-link-target\" href=\"https://jv.wikipedia.org/wiki/Jonas_Edward_Salk\" hreflang=\"jv\" lang=\"jv\" title=\"Jonas Edward Salk – Javanese\">Jawa</a></li><li class=\"interlanguage-link interwiki-la\"><a class=\"interlanguage-link-target\" href=\"https://la.wikipedia.org/wiki/Ionas_Salk\" hreflang=\"la\" lang=\"la\" title=\"Ionas Salk – Latin\">Latina</a></li><li class=\"interlanguage-link interwiki-lv\"><a class=\"interlanguage-link-target\" href=\"https://lv.wikipedia.org/wiki/D%C5%BEonass_Solks\" hreflang=\"lv\" lang=\"lv\" title=\"Džonass Solks – Latvian\">Latviešu</a></li><li class=\"interlanguage-link interwiki-hu\"><a class=\"interlanguage-link-target\" href=\"https://hu.wikipedia.org/wiki/Jonas_Edward_Salk\" hreflang=\"hu\" lang=\"hu\" title=\"Jonas Edward Salk – Hungarian\">Magyar</a></li><li class=\"interlanguage-link interwiki-mk\"><a class=\"interlanguage-link-target\" href=\"https://mk.wikipedia.org/wiki/%D0%8F%D0%BE%D0%BD%D0%B0%D1%81_%D0%A1%D0%B0%D0%BB%D0%BA\" hreflang=\"mk\" lang=\"mk\" title=\"Џонас Салк – Macedonian\">Македонски</a></li><li class=\"interlanguage-link interwiki-mg\"><a class=\"interlanguage-link-target\" href=\"https://mg.wikipedia.org/wiki/Jonas_Salk\" hreflang=\"mg\" lang=\"mg\" title=\"Jonas Salk – Malagasy\">Malagasy</a></li><li class=\"interlanguage-link interwiki-ml\"><a class=\"interlanguage-link-target\" href=\"https://ml.wikipedia.org/wiki/%E0%B4%9C%E0%B5%8B%E0%B4%A8%E0%B4%B8%E0%B5%8D_%E0%B4%B8%E0%B4%BE%E0%B5%BD%E0%B4%95%E0%B5%8D\" hreflang=\"ml\" lang=\"ml\" title=\"ജോനസ് സാൽക് – Malayalam\">മലയാളം</a></li><li class=\"interlanguage-link interwiki-arz\"><a class=\"interlanguage-link-target\" href=\"https://arz.wikipedia.org/wiki/%D8%AC%D9%88%D9%86%D8%A7%D8%B3_%D8%B3%D9%88%D9%84%D9%83\" hreflang=\"arz\" lang=\"arz\" title=\"جوناس سولك – Egyptian Arabic\">مصرى</a></li><li class=\"interlanguage-link interwiki-ms\"><a class=\"interlanguage-link-target\" href=\"https://ms.wikipedia.org/wiki/Jonas_Salk\" hreflang=\"ms\" lang=\"ms\" title=\"Jonas Salk – Malay\">Bahasa Melayu</a></li><li class=\"interlanguage-link interwiki-nl\"><a class=\"interlanguage-link-target\" href=\"https://nl.wikipedia.org/wiki/Jonas_Salk\" hreflang=\"nl\" lang=\"nl\" title=\"Jonas Salk – Dutch\">Nederlands</a></li><li class=\"interlanguage-link interwiki-ja\"><a class=\"interlanguage-link-target\" href=\"https://ja.wikipedia.org/wiki/%E3%82%B8%E3%83%A7%E3%83%8A%E3%82%B9%E3%83%BB%E3%82%BD%E3%83%BC%E3%82%AF\" hreflang=\"ja\" lang=\"ja\" title=\"ジョナス・ソーク – Japanese\">日本語</a></li><li class=\"interlanguage-link interwiki-no\"><a class=\"interlanguage-link-target\" href=\"https://no.wikipedia.org/wiki/Jonas_Salk\" hreflang=\"nb\" lang=\"nb\" title=\"Jonas Salk – Norwegian Bokmål\">Norsk bokmål</a></li><li class=\"interlanguage-link interwiki-pa\"><a class=\"interlanguage-link-target\" href=\"https://pa.wikipedia.org/wiki/%E0%A8%9C%E0%A9%8B%E0%A8%A8%E0%A8%BE%E0%A8%B8_%E0%A8%B8%E0%A8%BE%E0%A8%B2%E0%A8%95\" hreflang=\"pa\" lang=\"pa\" title=\"ਜੋਨਾਸ ਸਾਲਕ – Punjabi\">ਪੰਜਾਬੀ</a></li><li class=\"interlanguage-link interwiki-pnb\"><a class=\"interlanguage-link-target\" href=\"https://pnb.wikipedia.org/wiki/%D8%AC%D9%88%D9%86%D8%B3_%D8%B3%D8%A7%D9%84%DA%A9\" hreflang=\"pnb\" lang=\"pnb\" title=\"جونس سالک – Western Punjabi\">پنجابی</a></li><li class=\"interlanguage-link interwiki-pl\"><a class=\"interlanguage-link-target\" href=\"https://pl.wikipedia.org/wiki/Jonas_Salk\" hreflang=\"pl\" lang=\"pl\" title=\"Jonas Salk – Polish\">Polski</a></li><li class=\"interlanguage-link interwiki-pt\"><a class=\"interlanguage-link-target\" href=\"https://pt.wikipedia.org/wiki/Jonas_Salk\" hreflang=\"pt\" lang=\"pt\" title=\"Jonas Salk – Portuguese\">Português</a></li><li class=\"interlanguage-link interwiki-ro\"><a class=\"interlanguage-link-target\" href=\"https://ro.wikipedia.org/wiki/Jonas_Salk\" hreflang=\"ro\" lang=\"ro\" title=\"Jonas Salk – Romanian\">Română</a></li><li class=\"interlanguage-link interwiki-ru\"><a class=\"interlanguage-link-target\" href=\"https://ru.wikipedia.org/wiki/%D0%A1%D0%BE%D0%BB%D0%BA,_%D0%94%D0%B6%D0%BE%D0%BD%D0%B0%D1%81\" hreflang=\"ru\" lang=\"ru\" title=\"Солк, Джонас – Russian\">Русский</a></li><li class=\"interlanguage-link interwiki-sa\"><a class=\"interlanguage-link-target\" href=\"https://sa.wikipedia.org/wiki/%E0%A4%9C%E0%A5%8B%E0%A4%A8%E0%A4%BE%E0%A4%B8%E0%A5%8D_%E0%A4%8F%E0%A4%A1%E0%A5%8D%E0%A4%B5%E0%A4%B0%E0%A5%8D%E0%A4%A1%E0%A5%8D_%E0%A4%B8%E0%A4%BE%E0%A4%95%E0%A5%8D\" hreflang=\"sa\" lang=\"sa\" title=\"जोनास् एड्वर्ड् साक् – Sanskrit\">संस्कृतम्</a></li><li class=\"interlanguage-link interwiki-sco\"><a class=\"interlanguage-link-target\" href=\"https://sco.wikipedia.org/wiki/Jonas_Salk\" hreflang=\"sco\" lang=\"sco\" title=\"Jonas Salk – Scots\">Scots</a></li><li class=\"interlanguage-link interwiki-si\"><a class=\"interlanguage-link-target\" href=\"https://si.wikipedia.org/wiki/%E0%B6%A2%E0%B7%9D%E0%B6%B1%E0%B7%83%E0%B7%8A_%E0%B7%83%E0%B7%9D%E0%B6%9A%E0%B7%8A\" hreflang=\"si\" lang=\"si\" title=\"ජෝනස් සෝක් – Sinhala\">සිංහල</a></li><li class=\"interlanguage-link interwiki-simple\"><a class=\"interlanguage-link-target\" href=\"https://simple.wikipedia.org/wiki/Jonas_Salk\" hreflang=\"en-simple\" lang=\"en-simple\" title=\"Jonas Salk – Simple English\">Simple English</a></li><li class=\"interlanguage-link interwiki-sk\"><a class=\"interlanguage-link-target\" href=\"https://sk.wikipedia.org/wiki/Jonas_Salk\" hreflang=\"sk\" lang=\"sk\" title=\"Jonas Salk – Slovak\">Slovenčina</a></li><li class=\"interlanguage-link interwiki-sl\"><a class=\"interlanguage-link-target\" href=\"https://sl.wikipedia.org/wiki/Jonas_Salk\" hreflang=\"sl\" lang=\"sl\" title=\"Jonas Salk – Slovenian\">Slovenščina</a></li><li class=\"interlanguage-link interwiki-sr\"><a class=\"interlanguage-link-target\" href=\"https://sr.wikipedia.org/wiki/%D0%8F%D0%BE%D0%BD%D0%B0%D1%81_%D0%A1%D0%BE%D0%BB%D0%BA\" hreflang=\"sr\" lang=\"sr\" title=\"Џонас Солк – Serbian\">Српски / srpski</a></li><li class=\"interlanguage-link interwiki-sh\"><a class=\"interlanguage-link-target\" href=\"https://sh.wikipedia.org/wiki/Jonas_Salk\" hreflang=\"sh\" lang=\"sh\" title=\"Jonas Salk – Serbo-Croatian\">Srpskohrvatski / српскохрватски</a></li><li class=\"interlanguage-link interwiki-fi\"><a class=\"interlanguage-link-target\" href=\"https://fi.wikipedia.org/wiki/Jonas_Salk\" hreflang=\"fi\" lang=\"fi\" title=\"Jonas Salk – Finnish\">Suomi</a></li><li class=\"interlanguage-link interwiki-sv\"><a class=\"interlanguage-link-target\" href=\"https://sv.wikipedia.org/wiki/Jonas_Salk\" hreflang=\"sv\" lang=\"sv\" title=\"Jonas Salk – Swedish\">Svenska</a></li><li class=\"interlanguage-link interwiki-tl\"><a class=\"interlanguage-link-target\" href=\"https://tl.wikipedia.org/wiki/Jonas_Salk\" hreflang=\"tl\" lang=\"tl\" title=\"Jonas Salk – Tagalog\">Tagalog</a></li><li class=\"interlanguage-link interwiki-ta\"><a class=\"interlanguage-link-target\" href=\"https://ta.wikipedia.org/wiki/%E0%AE%AF%E0%AF%8B%E0%AE%A9%E0%AE%BE%E0%AE%9A%E0%AF%81_%E0%AE%9A%E0%AE%BE%E0%AE%B2%E0%AF%8D%E0%AE%95%E0%AF%8D\" hreflang=\"ta\" lang=\"ta\" title=\"யோனாசு சால்க் – Tamil\">தமிழ்</a></li><li class=\"interlanguage-link interwiki-te\"><a class=\"interlanguage-link-target\" href=\"https://te.wikipedia.org/wiki/%E0%B0%9C%E0%B1%8B%E0%B0%A8%E0%B0%B8%E0%B1%8D_%E0%B0%B8%E0%B0%BE%E0%B0%B2%E0%B1%8D%E0%B0%95%E0%B1%8D\" hreflang=\"te\" lang=\"te\" title=\"జోనస్ సాల్క్ – Telugu\">తెలుగు</a></li><li class=\"interlanguage-link interwiki-th\"><a class=\"interlanguage-link-target\" href=\"https://th.wikipedia.org/wiki/%E0%B9%82%E0%B8%88%E0%B8%99%E0%B8%B1%E0%B8%AA_%E0%B8%8B%E0%B8%AD%E0%B8%A5%E0%B9%8C%E0%B8%81\" hreflang=\"th\" lang=\"th\" title=\"โจนัส ซอล์ก – Thai\">ไทย</a></li><li class=\"interlanguage-link interwiki-tr\"><a class=\"interlanguage-link-target\" href=\"https://tr.wikipedia.org/wiki/Jonas_Salk\" hreflang=\"tr\" lang=\"tr\" title=\"Jonas Salk – Turkish\">Türkçe</a></li><li class=\"interlanguage-link interwiki-uk\"><a class=\"interlanguage-link-target\" href=\"https://uk.wikipedia.org/wiki/%D0%94%D0%B6%D0%BE%D0%BD%D0%B0%D1%81_%D0%A1%D0%BE%D0%BB%D0%BA\" hreflang=\"uk\" lang=\"uk\" title=\"Джонас Солк – Ukrainian\">Українська</a></li><li class=\"interlanguage-link interwiki-ur\"><a class=\"interlanguage-link-target\" href=\"https://ur.wikipedia.org/wiki/%D8%AC%D9%88%D9%86%D8%B3_%D8%B3%D8%A7%D9%84%DA%A9\" hreflang=\"ur\" lang=\"ur\" title=\"جونس سالک – Urdu\">اردو</a></li><li class=\"interlanguage-link interwiki-vi\"><a class=\"interlanguage-link-target\" href=\"https://vi.wikipedia.org/wiki/Jonas_Salk\" hreflang=\"vi\" lang=\"vi\" title=\"Jonas Salk – Vietnamese\">Tiếng Việt</a></li><li class=\"interlanguage-link interwiki-war\"><a class=\"interlanguage-link-target\" href=\"https://war.wikipedia.org/wiki/Jonas_Salk\" hreflang=\"war\" lang=\"war\" title=\"Jonas Salk – Waray\">Winaray</a></li><li class=\"interlanguage-link interwiki-wuu\"><a class=\"interlanguage-link-target\" href=\"https://wuu.wikipedia.org/wiki/%E4%B9%94%E7%BA%B3%E6%96%AF%C2%B7%E7%B4%A2%E5%B0%94%E5%85%8B\" hreflang=\"wuu\" lang=\"wuu\" title=\"乔纳斯·索尔克 – Wu Chinese\">吴语</a></li><li class=\"interlanguage-link interwiki-yi\"><a class=\"interlanguage-link-target\" href=\"https://yi.wikipedia.org/wiki/%D7%99%D7%95%D7%A0%D7%94_%D7%A1%D7%90%D7%9C%D7%A7\" hreflang=\"yi\" lang=\"yi\" title=\"יונה סאלק – Yiddish\">ייִדיש</a></li><li class=\"interlanguage-link interwiki-zh\"><a class=\"interlanguage-link-target\" href=\"https://zh.wikipedia.org/wiki/%E4%B9%94%E7%BA%B3%E6%96%AF%C2%B7%E7%B4%A2%E5%B0%94%E5%85%8B\" hreflang=\"zh\" lang=\"zh\" title=\"乔纳斯·索尔克 – Chinese\">中文</a></li></ul>\n",
       "<div class=\"after-portlet after-portlet-lang\"><span class=\"wb-langlinks-edit wb-langlinks-link\"><a class=\"wbc-editpage\" href=\"https://www.wikidata.org/wiki/Special:EntityPage/Q200101#sitelinks-wikipedia\" title=\"Edit interlanguage links\">Edit links</a></span></div>\n",
       "</div>\n",
       "</nav>\n",
       "</div>\n",
       "</div>\n",
       "<footer class=\"mw-footer\" id=\"footer\" role=\"contentinfo\">\n",
       "<ul id=\"footer-info\">\n",
       "<li id=\"footer-info-lastmod\"> This page was last edited on 13 June 2021, at 02:15<span class=\"anonymous-show\"> (UTC)</span>.</li>\n",
       "<li id=\"footer-info-copyright\">Text is available under the <a href=\"//en.wikipedia.org/wiki/Wikipedia:Text_of_Creative_Commons_Attribution-ShareAlike_3.0_Unported_License\" rel=\"license\">Creative Commons Attribution-ShareAlike License</a><a href=\"//creativecommons.org/licenses/by-sa/3.0/\" rel=\"license\" style=\"display:none;\"></a>;\n",
       "additional terms may apply.  By using this site, you agree to the <a href=\"//foundation.wikimedia.org/wiki/Terms_of_Use\">Terms of Use</a> and <a href=\"//foundation.wikimedia.org/wiki/Privacy_policy\">Privacy Policy</a>. Wikipedia® is a registered trademark of the <a href=\"//www.wikimediafoundation.org/\">Wikimedia Foundation, Inc.</a>, a non-profit organization.</li>\n",
       "</ul>\n",
       "<ul id=\"footer-places\">\n",
       "<li id=\"footer-places-privacy\"><a class=\"extiw\" href=\"https://foundation.wikimedia.org/wiki/Privacy_policy\" title=\"wmf:Privacy policy\">Privacy policy</a></li>\n",
       "<li id=\"footer-places-about\"><a href=\"/wiki/Wikipedia:About\" title=\"Wikipedia:About\">About Wikipedia</a></li>\n",
       "<li id=\"footer-places-disclaimer\"><a href=\"/wiki/Wikipedia:General_disclaimer\" title=\"Wikipedia:General disclaimer\">Disclaimers</a></li>\n",
       "<li id=\"footer-places-contact\"><a href=\"//en.wikipedia.org/wiki/Wikipedia:Contact_us\">Contact Wikipedia</a></li>\n",
       "<li id=\"footer-places-mobileview\"><a class=\"noprint stopMobileRedirectToggle\" href=\"//en.m.wikipedia.org/w/index.php?title=Jonas_Salk&amp;mobileaction=toggle_view_mobile\">Mobile view</a></li>\n",
       "<li id=\"footer-places-developers\"><a href=\"https://www.mediawiki.org/wiki/Special:MyLanguage/How_to_contribute\">Developers</a></li>\n",
       "<li id=\"footer-places-statslink\"><a href=\"https://stats.wikimedia.org/#/en.wikipedia.org\">Statistics</a></li>\n",
       "<li id=\"footer-places-cookiestatement\"><a href=\"https://foundation.wikimedia.org/wiki/Cookie_statement\">Cookie statement</a></li>\n",
       "</ul>\n",
       "<ul class=\"noprint\" id=\"footer-icons\">\n",
       "<li id=\"footer-copyrightico\"><a href=\"https://wikimediafoundation.org/\"><img alt=\"Wikimedia Foundation\" height=\"31\" loading=\"lazy\" src=\"/static/images/footer/wikimedia-button.png\" srcset=\"/static/images/footer/wikimedia-button-1.5x.png 1.5x, /static/images/footer/wikimedia-button-2x.png 2x\" width=\"88\"/></a></li>\n",
       "<li id=\"footer-poweredbyico\"><a href=\"https://www.mediawiki.org/\"><img alt=\"Powered by MediaWiki\" height=\"31\" loading=\"lazy\" src=\"/static/images/footer/poweredby_mediawiki_88x31.png\" srcset=\"/static/images/footer/poweredby_mediawiki_132x47.png 1.5x, /static/images/footer/poweredby_mediawiki_176x62.png 2x\" width=\"88\"/></a></li>\n",
       "</ul>\n",
       "</footer>\n",
       "<script>(RLQ=window.RLQ||[]).push(function(){mw.config.set({\"wgPageParseReport\":{\"limitreport\":{\"cputime\":\"1.222\",\"walltime\":\"1.558\",\"ppvisitednodes\":{\"value\":5990,\"limit\":1000000},\"postexpandincludesize\":{\"value\":124576,\"limit\":2097152},\"templateargumentsize\":{\"value\":11401,\"limit\":2097152},\"expansiondepth\":{\"value\":21,\"limit\":40},\"expensivefunctioncount\":{\"value\":23,\"limit\":500},\"unstrip-depth\":{\"value\":1,\"limit\":20},\"unstrip-size\":{\"value\":140523,\"limit\":5000000},\"entityaccesscount\":{\"value\":1,\"limit\":400},\"timingprofile\":[\"100.00% 1348.192      1 -total\",\" 36.05%  486.024      1 Template:Reflist\",\" 24.99%  336.904      1 Template:Infobox_scientist\",\" 24.34%  328.109      1 Template:Infobox_person\",\" 21.81%  294.063      2 Template:Infobox\",\"  9.09%  122.568      5 Template:Cite_news\",\"  9.08%  122.408      3 Template:If_empty\",\"  8.27%  111.477      2 Template:Marriage\",\"  7.69%  103.661      5 Template:Br_separated_entries\",\"  7.38%   99.489      1 Template:Short_description\"]},\"scribunto\":{\"limitreport-timeusage\":{\"value\":\"0.579\",\"limit\":\"10.000\"},\"limitreport-memusage\":{\"value\":12408772,\"limit\":52428800}},\"cachereport\":{\"origin\":\"mw1371\",\"timestamp\":\"20210629140427\",\"ttl\":86400,\"transientcontent\":true}}});});</script>\n",
       "<script type=\"application/ld+json\">{\"@context\":\"https:\\/\\/schema.org\",\"@type\":\"Article\",\"name\":\"Jonas Salk\",\"url\":\"https:\\/\\/en.wikipedia.org\\/wiki\\/Jonas_Salk\",\"sameAs\":\"http:\\/\\/www.wikidata.org\\/entity\\/Q200101\",\"mainEntity\":\"http:\\/\\/www.wikidata.org\\/entity\\/Q200101\",\"author\":{\"@type\":\"Organization\",\"name\":\"Contributors to Wikimedia projects\"},\"publisher\":{\"@type\":\"Organization\",\"name\":\"Wikimedia Foundation, Inc.\",\"logo\":{\"@type\":\"ImageObject\",\"url\":\"https:\\/\\/www.wikimedia.org\\/static\\/images\\/wmf-hor-googpub.png\"}},\"datePublished\":\"2002-06-25T18:33:42Z\",\"dateModified\":\"2021-06-13T02:15:29Z\",\"image\":\"https:\\/\\/upload.wikimedia.org\\/wikipedia\\/commons\\/5\\/59\\/Jonas_Salk_candid.jpg\",\"headline\":\"Inventor of polio vaccine\"}</script>\n",
       "<script>(RLQ=window.RLQ||[]).push(function(){mw.config.set({\"wgBackendResponseTime\":207,\"wgHostname\":\"mw2254\"});});</script>\n",
       "</body></html>"
      ]
     },
     "execution_count": 17,
     "metadata": {},
     "output_type": "execute_result"
    }
   ],
   "source": [
    "soup"
   ]
  },
  {
   "cell_type": "code",
   "execution_count": 19,
   "id": "27ae298b",
   "metadata": {},
   "outputs": [
    {
     "data": {
      "text/plain": [
       "[<span class=\"toctext\">Early life and education</span>,\n",
       " <span class=\"toctext\">Education</span>,\n",
       " <span class=\"toctext\">Medical school</span>,\n",
       " <span class=\"toctext\">Postgraduate research and early laboratory work</span>,\n",
       " <span class=\"toctext\">Polio research</span>,\n",
       " <span class=\"toctext\">Becoming a public figure</span>,\n",
       " <span class=\"toctext\">Celebrity versus privacy</span>,\n",
       " <span class=\"toctext\">Maintaining his individuality</span>,\n",
       " <span class=\"toctext\">Establishing the Salk Institute</span>,\n",
       " <span class=\"toctext\">AIDS vaccine work</span>,\n",
       " <span class=\"toctext\">Salk's \"biophilosophy\"</span>,\n",
       " <span class=\"toctext\">Personal life</span>,\n",
       " <span class=\"toctext\">Honors and recognition</span>,\n",
       " <span class=\"toctext\">Documentary films</span>,\n",
       " <span class=\"toctext\">Salk's book publications</span>,\n",
       " <span class=\"toctext\">See also</span>,\n",
       " <span class=\"toctext\">References</span>,\n",
       " <span class=\"toctext\">Further reading</span>,\n",
       " <span class=\"toctext\">External links</span>]"
      ]
     },
     "execution_count": 19,
     "metadata": {},
     "output_type": "execute_result"
    }
   ],
   "source": [
    "soup.select('.toctext')"
   ]
  },
  {
   "cell_type": "code",
   "execution_count": 20,
   "id": "16c25d47",
   "metadata": {},
   "outputs": [],
   "source": [
    "first_item = soup.select('.toctext')[0]"
   ]
  },
  {
   "cell_type": "code",
   "execution_count": 21,
   "id": "9165780e",
   "metadata": {},
   "outputs": [
    {
     "data": {
      "text/plain": [
       "bs4.element.Tag"
      ]
     },
     "execution_count": 21,
     "metadata": {},
     "output_type": "execute_result"
    }
   ],
   "source": [
    "type(first_item)"
   ]
  },
  {
   "cell_type": "code",
   "execution_count": 22,
   "id": "b87595e7",
   "metadata": {},
   "outputs": [
    {
     "name": "stdout",
     "output_type": "stream",
     "text": [
      "Early life and education\n",
      "Education\n",
      "Medical school\n",
      "Postgraduate research and early laboratory work\n",
      "Polio research\n",
      "Becoming a public figure\n",
      "Celebrity versus privacy\n",
      "Maintaining his individuality\n",
      "Establishing the Salk Institute\n",
      "AIDS vaccine work\n",
      "Salk's \"biophilosophy\"\n",
      "Personal life\n",
      "Honors and recognition\n",
      "Documentary films\n",
      "Salk's book publications\n",
      "See also\n",
      "References\n",
      "Further reading\n",
      "External links\n"
     ]
    }
   ],
   "source": [
    "for item in soup.select('.toctext'):\n",
    "    print(item.text)"
   ]
  },
  {
   "cell_type": "code",
   "execution_count": null,
   "id": "5bfce04f",
   "metadata": {},
   "outputs": [],
   "source": []
  },
  {
   "cell_type": "code",
   "execution_count": null,
   "id": "3030128e",
   "metadata": {},
   "outputs": [],
   "source": []
  },
  {
   "cell_type": "code",
   "execution_count": null,
   "id": "5414b533",
   "metadata": {},
   "outputs": [],
   "source": []
  },
  {
   "cell_type": "code",
   "execution_count": 23,
   "id": "3665a40c",
   "metadata": {},
   "outputs": [],
   "source": [
    "result = requests.get('https://en.wikipedia.org/wiki/Deep_Blue_(chess_computer)')"
   ]
  },
  {
   "cell_type": "code",
   "execution_count": 24,
   "id": "ec43c77f",
   "metadata": {},
   "outputs": [],
   "source": [
    "soup = bs4.BeautifulSoup(result.text, 'lxml')"
   ]
  },
  {
   "cell_type": "code",
   "execution_count": 26,
   "id": "0ccc32e8",
   "metadata": {},
   "outputs": [
    {
     "data": {
      "text/plain": [
       "<img alt=\"Deep Blue.jpg\" data-file-height=\"601\" data-file-width=\"400\" decoding=\"async\" height=\"331\" src=\"//upload.wikimedia.org/wikipedia/commons/thumb/b/be/Deep_Blue.jpg/220px-Deep_Blue.jpg\" srcset=\"//upload.wikimedia.org/wikipedia/commons/thumb/b/be/Deep_Blue.jpg/330px-Deep_Blue.jpg 1.5x, //upload.wikimedia.org/wikipedia/commons/b/be/Deep_Blue.jpg 2x\" width=\"220\"/>"
      ]
     },
     "execution_count": 26,
     "metadata": {},
     "output_type": "execute_result"
    }
   ],
   "source": [
    "soup.select('img')[0]"
   ]
  },
  {
   "cell_type": "code",
   "execution_count": 27,
   "id": "9268f4c7",
   "metadata": {},
   "outputs": [
    {
     "data": {
      "text/plain": [
       "[<img alt=\"\" class=\"thumbimage\" data-file-height=\"600\" data-file-width=\"800\" decoding=\"async\" height=\"165\" src=\"//upload.wikimedia.org/wikipedia/commons/thumb/6/6f/Kasparov_Magath_1985_Hamburg-2.png/220px-Kasparov_Magath_1985_Hamburg-2.png\" srcset=\"//upload.wikimedia.org/wikipedia/commons/thumb/6/6f/Kasparov_Magath_1985_Hamburg-2.png/330px-Kasparov_Magath_1985_Hamburg-2.png 1.5x, //upload.wikimedia.org/wikipedia/commons/thumb/6/6f/Kasparov_Magath_1985_Hamburg-2.png/440px-Kasparov_Magath_1985_Hamburg-2.png 2x\" width=\"220\"/>]"
      ]
     },
     "execution_count": 27,
     "metadata": {},
     "output_type": "execute_result"
    }
   ],
   "source": [
    "soup.select('.thumbimage')"
   ]
  },
  {
   "cell_type": "code",
   "execution_count": 31,
   "id": "dbae7db3",
   "metadata": {},
   "outputs": [],
   "source": [
    "computer = soup.select('img')[0]"
   ]
  },
  {
   "cell_type": "code",
   "execution_count": 32,
   "id": "ab7af1e4",
   "metadata": {},
   "outputs": [
    {
     "data": {
      "text/plain": [
       "'//upload.wikimedia.org/wikipedia/commons/thumb/b/be/Deep_Blue.jpg/220px-Deep_Blue.jpg'"
      ]
     },
     "execution_count": 32,
     "metadata": {},
     "output_type": "execute_result"
    }
   ],
   "source": [
    "computer['src']"
   ]
  },
  {
   "cell_type": "markdown",
   "id": "a6d6d2d4",
   "metadata": {},
   "source": [
    "<img src='//upload.wikimedia.org/wikipedia/commons/thumb/b/be/Deep_Blue.jpg/220px-Deep_Blue.jpg' />"
   ]
  },
  {
   "cell_type": "code",
   "execution_count": 33,
   "id": "8744988d",
   "metadata": {},
   "outputs": [],
   "source": [
    "image_link = requests.get('https://upload.wikimedia.org/wikipedia/commons/thumb/b/be/Deep_Blue.jpg/220px-Deep_Blue.jpg')"
   ]
  },
  {
   "cell_type": "code",
   "execution_count": 34,
   "id": "ae67783a",
   "metadata": {},
   "outputs": [
    {
     "data": {
      "text/plain": [
       "b'\\xff\\xd8\\xff\\xe0\\x00\\x10JFIF\\x00\\x01\\x01\\x01\\x00H\\x00H\\x00\\x00\\xff\\xfe\\x00CFile source: http://commons.wikimedia.org/wiki/File:Deep_Blue.jpg\\xff\\xe2\\x02@ICC_PROFILE\\x00\\x01\\x01\\x00\\x00\\x020ADBE\\x02\\x10\\x00\\x00mntrRGB XYZ \\x07\\xcf\\x00\\x06\\x00\\x03\\x00\\x00\\x00\\x00\\x00\\x00acspAPPL\\x00\\x00\\x00\\x00none\\x00\\x00\\x00\\x00\\x00\\x00\\x00\\x00\\x00\\x00\\x00\\x00\\x00\\x00\\x00\\x00\\x00\\x00\\xf6\\xd6\\x00\\x01\\x00\\x00\\x00\\x00\\xd3-ADBE\\x00\\x00\\x00\\x00\\x00\\x00\\x00\\x00\\x00\\x00\\x00\\x00\\x00\\x00\\x00\\x00\\x00\\x00\\x00\\x00\\x00\\x00\\x00\\x00\\x00\\x00\\x00\\x00\\x00\\x00\\x00\\x00\\x00\\x00\\x00\\x00\\x00\\x00\\x00\\x00\\x00\\x00\\x00\\x00\\x00\\x00\\x00\\ncprt\\x00\\x00\\x00\\xfc\\x00\\x00\\x002desc\\x00\\x00\\x010\\x00\\x00\\x00kwtpt\\x00\\x00\\x01\\x9c\\x00\\x00\\x00\\x14bkpt\\x00\\x00\\x01\\xb0\\x00\\x00\\x00\\x14rTRC\\x00\\x00\\x01\\xc4\\x00\\x00\\x00\\x0egTRC\\x00\\x00\\x01\\xd4\\x00\\x00\\x00\\x0ebTRC\\x00\\x00\\x01\\xe4\\x00\\x00\\x00\\x0erXYZ\\x00\\x00\\x01\\xf4\\x00\\x00\\x00\\x14gXYZ\\x00\\x00\\x02\\x08\\x00\\x00\\x00\\x14bXYZ\\x00\\x00\\x02\\x1c\\x00\\x00\\x00\\x14text\\x00\\x00\\x00\\x00Copyright 1999 Adobe Systems Incorporated\\x00\\x00\\x00desc\\x00\\x00\\x00\\x00\\x00\\x00\\x00\\x11Adobe RGB (1998)\\x00\\x00\\x00\\x00\\x00\\x00\\x00\\x00\\x00\\x00\\x00\\x00\\x00\\x00\\x00\\x00\\x00\\x00\\x00\\x00\\x00\\x00\\x00\\x00\\x00\\x00\\x00\\x00\\x00\\x00\\x00\\x00\\x00\\x00\\x00\\x00\\x00\\x00\\x00\\x00\\x00\\x00\\x00\\x00\\x00\\x00\\x00\\x00\\x00\\x00\\x00\\x00\\x00\\x00\\x00\\x00\\x00\\x00\\x00\\x00\\x00\\x00\\x00\\x00\\x00\\x00\\x00\\x00\\x00\\x00\\x00\\x00\\x00\\x00\\x00\\x00\\x00\\x00\\x00\\x00XYZ \\x00\\x00\\x00\\x00\\x00\\x00\\xf3Q\\x00\\x01\\x00\\x00\\x00\\x01\\x16\\xccXYZ \\x00\\x00\\x00\\x00\\x00\\x00\\x00\\x00\\x00\\x00\\x00\\x00\\x00\\x00\\x00\\x00curv\\x00\\x00\\x00\\x00\\x00\\x00\\x00\\x01\\x023\\x00\\x00curv\\x00\\x00\\x00\\x00\\x00\\x00\\x00\\x01\\x023\\x00\\x00curv\\x00\\x00\\x00\\x00\\x00\\x00\\x00\\x01\\x023\\x00\\x00XYZ \\x00\\x00\\x00\\x00\\x00\\x00\\x9c\\x18\\x00\\x00O\\xa5\\x00\\x00\\x04\\xfcXYZ \\x00\\x00\\x00\\x00\\x00\\x004\\x8d\\x00\\x00\\xa0,\\x00\\x00\\x0f\\x95XYZ \\x00\\x00\\x00\\x00\\x00\\x00&1\\x00\\x00\\x10/\\x00\\x00\\xbe\\x9c\\xff\\xdb\\x00C\\x00\\x06\\x04\\x05\\x06\\x05\\x04\\x06\\x06\\x05\\x06\\x07\\x07\\x06\\x08\\n\\x10\\n\\n\\t\\t\\n\\x14\\x0e\\x0f\\x0c\\x10\\x17\\x14\\x18\\x18\\x17\\x14\\x16\\x16\\x1a\\x1d%\\x1f\\x1a\\x1b#\\x1c\\x16\\x16 , #&\\')*)\\x19\\x1f-0-(0%()(\\xff\\xdb\\x00C\\x01\\x07\\x07\\x07\\n\\x08\\n\\x13\\n\\n\\x13(\\x1a\\x16\\x1a((((((((((((((((((((((((((((((((((((((((((((((((((\\xff\\xc0\\x00\\x11\\x08\\x01K\\x00\\xdc\\x03\\x01\\x11\\x00\\x02\\x11\\x01\\x03\\x11\\x01\\xff\\xc4\\x00\\x1d\\x00\\x00\\x01\\x04\\x03\\x01\\x01\\x00\\x00\\x00\\x00\\x00\\x00\\x00\\x00\\x00\\x00\\x03\\x01\\x02\\x04\\x07\\x00\\x05\\x08\\x06\\t\\xff\\xc4\\x00[\\x10\\x00\\x01\\x03\\x02\\x03\\x04\\x05\\x07\\x07\\x06\\t\\x07\\t\\t\\x00\\x00\\x01\\x02\\x03\\x11\\x00\\x04\\x05!1\\x06\\x12AQ\\x07\\x13\"aq\\x142\\x81\\x91\\xa1\\xb1\\xc1#$BRbr\\xd1\\x08\\x1534s\\xf0\\x17CS\\x82\\xa2\\xa3\\xb2\\xb3\\xe1\\x16%Dc\\x92\\x94\\xc2&56Te\\x83\\x84\\x93\\xc37Utu\\xa4\\xb4\\xd2\\xd3\\xf1\\xff\\xc4\\x00\\x1a\\x01\\x01\\x01\\x01\\x01\\x01\\x01\\x01\\x00\\x00\\x00\\x00\\x00\\x00\\x00\\x00\\x00\\x01\\x00\\x02\\x03\\x04\\x05\\x06\\xff\\xc4\\x004\\x11\\x01\\x01\\x00\\x02\\x01\\x03\\x02\\x04\\x03\\x07\\x04\\x02\\x03\\x00\\x00\\x00\\x00\\x01\\x02\\x11!\\x03\\x121AQ\\x04\\x13aq\\x05\"\\x8123B\\xa1\\xb1\\xc1\\xf0\\x14#\\x91\\xd1\\x15\\xe1Rr\\xd2\\xff\\xda\\x00\\x0c\\x03\\x01\\x00\\x02\\x11\\x03\\x11\\x00?\\x00\\xf5\\x8c\\xf4\\x85io\\xb4\\xb85\\xde%h\\xb6\\x9bi\\xc5\\xa5kd\\xef\\xc6\\xf2\\x08\\x989\\xf1\\xafe\\xfc\\';\\x96\\xbayn\\xb8O\\xc4\\xf0\\x98\\xde\\xf9\\xa5\\xc9\\x83\\xe2V\\x98\\xbe\\x1a\\xc5\\xf6\\x1e\\xef[j\\xf0%\\x0b\\xdd)\\x980r=\\xe2\\xbc\\x1d^\\x96]\\x1c\\xefO9\\xab\\x1e\\xce\\x9fS\\x1e\\xae3<|T\\xe1\\\\\\xda-H\\xb5\\x06\\x10\\x08 \\x80A\\xc8\\x83\\xc6\\x90\\xd2+\\x0c\\xba\\xc2\\x96]\\xc0\\x96\\x95[\\x04\\x99\\xc3\\x1dT5\\xff\\x00t\\xa8\\x96\\x8f\\xd9\\xcd\\x1d\\xc9\\xd6\\x96\\xad\\xdf\\xed\\x7f\\xcf\\xfd\\xa7\\xd8b\\xb6\\xd7\\x8f\\x1bq\\xbe\\xc5\\xe2S\\xbc\\xbbW\\xc6\\xeb\\xa9\\x1c\\xe3E\\x0f\\xb4\\x92S\\xdfS6X\\x9dPa\\xd0\\xd4\\x9e;\\xc9Q\\x88m\\x05\\xdbN)\\xf6J]}m\\xba\\xc3\\x9b\\x8bB\\xa5\\x81 \\xfa\\xf22\\x0e\\x84\\x1a}[\\xfe\\x19\\xfe{\\xb6\\xff\\x00\\x99\\xae\\x1f\\xbe\\xb2\\x7f\\x11\\xc4Up\\x9b2T\\xda\\x1bd5\\xd6(\\xc7i\\xc3&H\\x81\\xe6\\xee\\x8dr\\xe53\\xb9\\xae\\x12\\xd0\\x9f\\x9d\\xdd~\\xd4g\\xfc\\xc4\\xd3\\x19\\xa9\\x0b\\x1f$\\xaf\\no\\x8a\\xa7\\x95\\x03\\xf9G\\xff\\x00\\xd2\\\\\\x07\\x9f\\x90;\\xfd\\xe2k\\x13\\xf6cW\\xd5\\xa1\\xe8M\\xb5/\\xa4\\xcc#sT\\xa1\\xf5\\x12\\x0cG\\xc9(O~\\xba~\\x15\\xd7\\xa7<\\xfd\\xbf\\xbb\\x9e~\\x8e\\xa0\\nZ\\n\\xc2\\xdf\\xc9\\x11\\x99H\\xce\\xb5\\xaffvpu\\xc0\\xde\\xfa\\xd2\\x00\\x90\\x00\"\\x0ef\\'\\xba\\x8ds\\xa8\\xb6\\x81\\x88\\xed\\x16\\x19\\x86\\xdf\\xdb\\xd8\\xdf^2\\xdd\\xeb\\xf9\\xb6\\xc2ek#\\x9e\\xe8\\x04\\x81\\xder\\xa6a\\x95\\x9b\\x91\\x9b\\xd4\\xc6][\\xcbh\\x97\\x01\\x00\\x80`\\xf7Vt\\xd6\\xce\\x0b\\x06\\xa3\\xb2\\xd4\\x99ReI\\x95&T\\x99ReI\\xc4Ww\\xca\\xb9\\xbf\\xb7\\x0e\\xc2\\x82VF\\xee\\x99\\x9c\\x81\\xf4W\\xea{5\\xd6\\xc2\\xcb\\xea\\xfc\\xfc\\xcf\\xfd\\xbc\\xbb\\xa6\\xf7\\x1d5\\xd0\\xda\\xf7\\xba<\\xc2\\xf3\\x9d\\xd2\\xea\\x7f\\xac5\\xf0?\\x17\\x9a\\xf8\\xcc\\xff\\x00O\\xe8\\xfb\\x7f\\x86\\xdd\\xfc6\\x1f\\xe7\\xad{q_9\\xec-H\\xa2\\xa0Z\\x91iH\\xd7\\xf6\\x16\\xb7\\xed\\xa17l\\xa5e\\xb5o6\\xb9)[j\\xfa\\xc8P\\xcd\\'\\xbc\\x1aF\\xec\\xf0\\x818\\x9e\\x14\\xc8\\xde\\xeb1{t\\x9c\\xd4\\x02Sr\\x94\\xf3\\x81\\tr;\\xb7Or\\x8d&\\xea\\xfd\\x1b\\x0b\\x1b\\xeblB\\xdc\\xbdd\\xf2^l\\x12\\x85n\\xea\\x95\\rR\\xa0sJ\\x87\\x10`\\x8a\\x19\\xb2\\xcf-\\x06\\x1d\\xff\\x00J\\xee\\x80\\xe0_=\\xd9\\xad\\x8a\\xbdk\\x7f\\xc3?\\xcfw\\xa9\\xa9\\xcd\\t\\x1f\\xad\\xdd~\\xd0\\x7fa5\\xa9U\\x19\\xdf\\xd0\\xaf\\xc2\\xabxS\\xca\\x81\\xfc\\xa4\\x07\\xfc\\xa6\\xc0\\x0f\\x0f!{\\xfb\\xc4\\xd6\\'\\x88\\xd5\\xf5iz\\x0f\\xdf\\x1d%a\\x9dXI\\x96\\x9f\\x991\\x03\\xab\\xd7\\xd7\\x15\\xdb\\xa5\\xe3/\\xb7\\xf7\\x8ey\\xfa:>\\xf2\\xea\\xd3\\t\\x17x\\x8e+z\\x96m\\xd0\\x94\\x82\\xb7\\x96\\x12\\x84e\\xa2G3=\\xe4\\xe49WM\\\\\\xa4\\x98\\xc7+f\\x1b\\xcb*\\xd2\\xb3\\x8a\\xe2;J\\x8b\\x84\\xd8[\\xdc\\xe1xJ\\xd1\\xb8\\xd6 \\xe2Bn\\x1cYRaM\\xb6\\xa0BS\\x1b\\xd9\\xa8Nc!Z\\x98\\xcc<\\xf3X\\xee\\xcb9\\xed?\\x9bi\\x80`\\xb6\\x18K>P\\xd27\\xae\\xdci\\xb0\\xfd\\xe3\\xca\\xdeu\\xe2\\x94\\x84\\x82\\xb5\\x9c\\xc9\\x81Y\\xcb+x\\xf4k\\x1cf3\\x84\\xc5]\\xa9\\xc5n\\xda \\xa8\\xfdr2\\xf5Vu\\xee~\\xc5E\\xb8+\\xdeyJu\\xcf\\x1d?~\\xea\\x8e\\x92\\xd0\\x83\\x94\\xf6@\\xe0(jA(,\\xa92\\xa4\\xca\\x91\\n\\x80\\xd6\\x8bQ7\\x95\\xc19w\\x9a7S\\x83\\x9e\\\\^\\xb5\\x1c\\x1d\\x1e\\xfa\\xfdm\\xfd\\xf67\\xea\\xfc\\xe6<\\xf4\\xec\\xfa:\\x9b\\xa0\\xd77\\xfa>\\xb5\\x1fV\\xe1\\xe4\\xff\\x00N\\xbe\\x17\\xe3s_\\x19\\x97\\xda\\x7fG\\xda\\xfc*\\xef\\xe1\\xb1\\xfd\\x7f\\xadX\"\\xbeS\\xe8\\x94T\\x0bR-!\\xa8\\xdaM\\xa6\\xc16f\\xd9\\xb7\\xf1\\xfcR\\xd6\\xc1\\xb7\\t\\r\\xf5\\xab\\xed.5\\xddH\\xcdQ\\x96\\x83\\x8d[\\x1fg\\x84\\xb8\\xe9\\xdfb\\xdaQ\\x08s\\x14x\\x0e(\\xb2P\\x07\\xfd\\xa8\\xaa}\\x92\"\\xff\\x00(\\x1d\\x90NI\\xb3\\xc7W\\xe1l\\x81\\xefX\\xa7\\xf4\\x1c\\xb4\\x98\\xa7N[\\'qt\\x8b\\xcbL/h\\xed\\xef\\x90#\\xcaYm\\x84\\xa9i\\xfa\\xab\\x05d-=\\xca\\x19p \\xe7N\\xef\\xb1\\x9cy\\xf0\\xd7\\xa3\\xa7\\x8c)\\x8ci\\xdb\\xd6\\xb0\\x1cIhYp\\x84\\xa9\\xd6\\x92\\xa8Ph\\xe7\\x99\\xd1M\\xab\\xd0EZ\\xbeV\\xf8\\xd2j\\xff\\x00)\\x0bO\\xe2\\xf6V\\xf4\\xfd\\xfb\\xc6\\xd3\\xee\\x06\\xad2\\x80\\xe7\\xe5\\x1e\\x86M\\xc3\\xc3d\\x96\\xa0\\xa5\\x05A\\xc4@ @\\x1fS\\xba\\xadP}\\xd7\\xe5 \\xdb\\xd6hs\\r\\xd9gU\\xbc!^Uz\\x13\\x07\\xbbq&F]\\xd4\\xea\\xde\\x17>U\\xee\\xdf\\xf4\\x98\\xee\\xd9\\xe2\\x16WWX3V\\x8a\\xb4il\\xa5-\\xdd)aAJ\\x06L\\xa4F\\x94Ln\\x9a\\xee@\\xd9=\\xb9\\xba\\xd9\\xac~\\xdf\\x16\\xb0\\xb0ao\\xb2\\x16\\x02\\x1eu[\\xaa\\n\\x10A\\x8fA\\x9e\\xea\\xe9\\x8c\\xedc+\\xbf\\r\\xd2\\xba^\\xc7\\x1e\\xc6\\x86)\\x88a\\xd8f%t\\x83,\\x0b\\xb0\\xe1n\\xdb\\xf6m\\x85\\x00<s<\\xc9\\xae\\x93;\\xe2p\\xe5\\xf2\\xf9\\xdf\\xabr\\xe7\\xe5\\t\\xb5\\xae&\\x0e\\x1d\\xb3\\xe9H \\xfe\\x85\\xd3\\xa6\\x7f\\xcaVw\\xa3e\\xf1\\xb4Wzu\\xdb\\x17H\\x05\\xac\\x11 d\\x94\\xf9\\x1a\\x88O\\xadt\\xd11\\xbe\\xe9\\xb8wO\\x1b\\\\\\xdb\\x8b\\x0f\\xda`o6\\xa4\\xe4\\x84\\xdb\\xb8\\xdc\\x18\\xd6B\\xcc\\xd1x:\\xbe\\xee\\x85\\xe8\\xdbh\\x97\\xb5\\x9b\\x19\\x87\\xe3N\\xda\"\\xcd\\xcb\\x9e\\xb0)\\x948\\\\\\x00\\xa1\\xc5 \\x90\\xa2\\x01\\xcfvt\\xcah\\xb3G\\x1f\\xab\\xd3P\\xd3*L\\xa90\\x9a6\\x89\\xa8\\xd7.\\xea<\\xa2\\x80\\x06\\x94\\xc9\"fT\\xa7\\xcf\\xbb\\xcb\\x83\\xe5\\xad\\xe7\\xfch\\xf7\\xd7\\xeb3\\xfd\\xec\\xfb\\xbf7\\xd3\\xe7\\xa7\\xfa:W\\xa0\\xfd\\xa7\\xc3lv\\x1d\\xd6\\xef\\xd7sn\\x19\\xbcv\\\\]\\xa3\\xbd\\\\\\x18>xIO\\xb6\\xbe\\x1f\\xe3\\xb6_\\x8b\\xdf\\xd2>\\xdf\\xe1\\x18\\xdf\\xf4\\xd3\\xf5Y\\x03j\\xf0\\x00\\x90\\xa5cV\\x08\\x04ov\\xdd\\t1\\xe9\\xaf\\x8f\\xb8\\xfa]\\xb9{%\\xb1\\x8d\\xe17\\x04\\x0b|W\\x0ft\\xeb\\x08\\xb9A>\\xfaw=\\xc5\\x96y\\x89b\\xee\\xd8\\xe9snr\\x9f\\xd2\\xa7\\xf1\\xa9\\x9d\\x9e.X$\\x80\\xfb$\\x8e\\x1db\\x7f\\x1aF\\xdc\\xf3\\xf9U]0\\xed\\xe6\\xc9\\x9bw\\x99t\\x86\\xef\\x12\\xae\\xadaDJ\\x99\\xe5\\xe0}T\\xce|%$\\x86\\xd6\\xfb\\x8d\\xb6\\xd8\\x97\\x1cRP\\x90H\\x02I\\x00\\t9\\x0c\\xcf\\x1a\\xd0\\xafI\\xfc\\x1fmO^\\x86N\\x0eR\\xea\\xde6\\xe1&\\xe5\\x9c\\x9c\\xfa\\xa7\\xb7\\x91\\x91\\x1d\\xe4\\x81\\xa9\\x15\\xae\\xd4\\xd1b\\xb8M\\xf6\\x13\\xe4j\\xc4\\x18\\x0c\\x1b\\xc6<\\xa1\\x94\\xef\\x82\\xa2\\x89\\x89RFi3\\xc0\\xd5f\\x85k\\x94 \\x8c\\xaa\\x9f@h0u\\xce\\xafD\\x05\\xef\\xea\\xae\\xea\\t\\x13F\\xb8Z&\\x19\\x9d\\x80\\x93\\xfe9\\x9a\\xbdH\\xaa\\xc8\\x9a\\xd4\\xac\\xd2\\x03\\x07X\\xf4\\xd3\\xbfP\\xdaY`X\\x9d\\xf5\\x8f\\x96\\xd9\\xda)\\xfb}\\xe5#y\\x0b\\x13)\\xf3\\xbb:\\xe5#\\x86S4\\xa4\\x91\\xb2x\\xf4\\xad?\\x9b^\\x1b\\x84\\x85I\\x19F\\xbcyI\\xf0\\x93L\\x95\\x01w\\x82b\\x16Xsw\\xd7-\\xb6\\xdb\\x0e\\x90\\x11.\\r\\xe5f\\x06C\\x8cH\\x06&3\\x98\\x83\\x15\\x9a\\x08\\xac\\x18X\\xd4e\\xf0\\xa2\\xad;\\x0f\\xa0\\x01\\x1d\\x12\\xe0]\\xe6\\xe0\\xff\\x00\\xf5\\x0eQ\\x90\\xc5aVv\\xd3*\\xe52\\x94\\xca\\x93\\x08\\x04A\\x19T\\x8dPN\\xe1\\x07$\\xc7\\x03\\x11F\\xbd\\x11\\x81\\xd4Gd\\xa9@e!%^\\xda\\x93\\x84\\xb6\\xf5\\xeb5\\xe3A\\x16XN\\x1f\\x87\\xbbn\\xb2\\x97\\xd5\\x87\\\\\\xad\\xe6.\\x15!A\\xc6\\xe7\\xcdLp\\x19g_\\xa2\\xe9L\\xe7\\xe6\\xcb+y\\xdf3V}\\xfe\\xaf\\x91\\xd7\\xb8\\\\\\xac\\xc6I\\xf6\\xf1V\\xa7D[Jl\\xb0\\xbb\\x8b[}\\xad\\xd9\\xec=\\xc7nT\\xe2mqf\\x16\\xda\\x8c\\x84\\xc1J\\xc3\\x89\\n\\x071\\x1c\\x08\\xef\\xaf\\x9d\\xf8\\xceS\\xa9\\xd7\\x99\\xcb\\xc6\\xbf\\xbb\\xdd\\xf8T\\x9d>\\x8ff^v\\xb7\\xec\\xd8\\xda\\xfb\\x9br\\xed\\xbe1\\xb37\\xcd\\xaaJ\\x1cn\\xd9\\xd03\\xd3\\xcdq@\\xc7\\xa2k\\xe4M\\xdf\\x0f\\xa5\\xdd\\x8f\\xd4\\x978V\\xd4\\x10\\x15p\\xe6\\xcc]\\x1e-\\xbbb\\xf2\\'\\xf9\\xdb\\xca\\x8fQ\\xab\\xeefS\\xd3\\x7f\\xe7\\xea\\x8e\\xce\\x07\\x8d\\x8d\\xe0vkc\\xd0\\x93\\xa1\\x0f,\\x8fH\\xea*\\xd1\\xef\\xfa\\x8e0LSwu[9\\xb2\\x9b\\xdb\\xa4\\x05%\\xd5@<$\\x16f<\\rZ\\x1d\\xff\\x00Z\\xa5\\x7f(\\xec>\\xfa\\xc0\\xec\\xaf\\x97\\xdb`\\xf6\\xfb\\xc2\\xe9-\\xa7\\riH\\x02\\x0bD\\x85\\x13\\xaf\\x0808\\xd6\\xf1\\x9c9\\xe5w\\xea\\xa9\\xa1$\\r\\xf6\\xfa\\xd6\\xc1IR$\\xa4,e\"Fbt\\x91L\\x9e\\xcc\\xed\\xee\\xdf\\xe9\\x1d\\xb4\\xa9j\\xb7\\xd9\\x9bf\\x9bw\\x12V(\\xb4\\xaf\\x10qD:H2\\x08H\\x82\\nRG\\x0e\\x10k{\\xe1\\x9e^Ci\\xf6\\x82\\xe7in\\xac\\xee\\xb1&ZM\\xfb,y;\\xaf\\xb6\\xa5|\\xb8\\n*IRNI)\\xdeP\\xcbY\\xa2\\xf3\\xca\\x9cV\\xa0\\t\\x04\\xc11\\x993Qf\\xe8\\xde15O\\x02\\xa3\\xdf\\x00-\\x1d\\x19\\x0e\\xce\\xa6\\xa8\\xbdM\\xc3\\xa3\\xc8\\x06\\\\t\\xf4\\x9a\\xa4\\xe5T\\x92\\x01\\x1a\\n\\xa0\\xacJ7\\xd6\\x12\\x00\\x04\\xe94\\xfah\\x0e\\xce%\\x7fol\\x96mon\\x19`,\\xb8\\x946\\xad\\xd0\\x95\\xeb\\xbc9\\x1e\\xf1\\x9f\\xac\\xd6\\xa5\\x16\\x11x\\x96&TC\\x98\\x8d\\xf4\\xa4\\x00\\x12\\xa7\\xd5\\x90\\xf0\\xf0\\'\\xd6y\\xd5r\\xa3\\xb6\\x06]}\\xd4\\xa1\\x0f>\\xe3\\xa8A*B\\\\Y (\\x80\\t\\x13\\xc4\\x80$\\xf1\\x815n\\xeb\\x93\\'\\xb2M\\x99\\x1dz\\'p\\x8c\\xe7|H\\xd0\\xd1\\x92u\\xef\\xe4\\xf5?\\xc1\\x16\\x06L\\x99U\\xce\\xa7O\\x9c9\\\\\\xb2\\xca\\xdadX\\xf9M[\\x90\\x96kR\\xca\\x19ZF\\x95A\\x88$\\xf7\\n6\\x88w\\xd5\\xc9\\x03\\xd6jD\\xeaRL\\xaeV~\\xd6ts|\\xa1)N!\\xdb|>\\xcd\\x18\\xea\\xae,q\\x8c7\\x10\\x17\\x0e\\x12\\xe0\\xc3Y-6\\xca\\xd3\\xba\\x0f`\\xc8\\xedL\\xf6L\\x135\\xfa_\\x86\\x99e;r\\xc7,u\\xefw_\\x13\\xe2\\xee8e\\xb9\\x94\\xbb\\xf6\\x9al\\xb0-\\x9e^#l\\xf1B\\xedT\\x12\\xb0\\x92\\x87\\xd9$\\x1c\\xb9\\xa4\\xfc+\\xc5\\xf1\\xdb\\xc3)+\\xd9\\xf0z\\xcf\\x1bS\\x9b\\xd8\\xa7\\xedV\\x1d\\xb4\\xb1a\\xa7\\x01\\xfd%\\x8d\\xe2\\x99W\\xb9>\\xfa\\xf9\\xb7\\xb7/\\xda\\x8fl\\x96x\\xad\\xcd\\xa5\\xf6\\xd9a[\\xa6\\xd7\\x1a\\xdavBt\\x0e\\x91x\\x8f\\xe9o\\xd6n\\x18}\\x8d\\xb9F\\xe2\\xcb\\xa4\\xdd\\xb0\\xb3\\xec\\xbf}\\x82^\\x9eW\\xd6\\x8a\\xb6Y\\xf4\\x82\\x91\\xec\\xac\\xde\\x94\\xf3)\\x99\\xdfX\\xf4\\x96=-\\xe2\\xa1)\\xf2\\xed\\x93\\xeb\\xd3\\xc5\\xcc6\\xfd.\\xcf\\x82T\\x07\\xbe\\xb3\\xf2\\xabS\\xa8\\xac\\xff\\x00(=\\xb3\\xc3\\xf6\\xb9\\x1b<,\\xad1\\x0bW\\xac\\x97p\\x1dn\\xf1\\x90\\x827\\x83q\\x04\\x12\\x0ei:\\x1a\\xb5g\\x14\\xcb\\xbeU\\x8bF\\x14s\\x00\\xc0\\xe3\\xddA\\xa6\\\\\\x99Bt\\xd7\\xe1P\\x9bFN\\x7f\\xbe\\xb5\\x0b\\x0e\\x1ec\\x90\\x07\\x9b\\x9e}\\xe2\\xb5\\xa4\\xc0\\xa2\\x14\\x0c\\xe63\\xca\\x8f\\xb2\\xda=\\xe9\\xf9\\xb3\\xc7\\xba{\\xea\\xf06\\x16\\x1b\\x95\\x80\"G\\xa7\\xbc\\xd3\\xaeRP\\xd33F\\x88\\xd6\\xa3z\\xe1\\xb4\\xf9\\xb3>\\xe3PG\\x12R4\\xd2\\x98\\x8c\\x02N~\\x1c\\xe9\\xd8\\x19#3\\xcf_\\n\\x97\\x84\\x86\\x0f\\xca\\'\\xb2\\x14 \\xe5=\\xc6\\xb3\\x92\\x8e\\xc2\\xfc\\x9f\\x04tC\\x80\\x7f\\xe2?\\xfb\\x87+2%\\x82\\xa7\\x90\\x0c\\x03\\xbc\\xaeI\\xcc\\xd5u<\\xa2\\x02\\xe2\\xa2\\x12\\x10;\\xf34\\xcb\\xec\\x85\\xad&T\\x99F\\xbdS)L\\xa98?\\x13\\xc5\\xae\\xf1Lq\\xcb\\xdcQ\\xd2\\xfd\\xd2\\xd4\\x90\\xb7\\x14\\x84\\xa4\\xa8$\\x00&\\x00\\xce\\x00\\x13\\xdd_\\xb1\\xc3\\xa5\\x87G\\xfd\\xbc&\\xa4~W\\xab\\xd6\\xcf\\xad~fwuqtW\\xd4^X_\\x9e\\xad$\\x07\\x91\\xa8\\xe6\\x93_\\x07\\xf1m\\xcc\\xf1\\xfbW\\xdd\\xfc*\\xcc\\xbaw\\xee\\xb0\\x13\\x86Z,f\\xcaG\\x81\\x8a\\xf9\\x1d\\xf9>\\xa7la\\xc1-\\x8f\\x9a\\\\O\\xa6j\\xf9\\x94|\\xb8C\\x82\\x0c\\xc7]\\xbc\\x9eKL\\x8a~`\\xec@\\xb9\\xd9\\x1b\\x17\\x8e\\xf3\\x96\\x16.+\\xeb\\x06\\xc2\\x15\\xeb\\x10i\\x9dH;\\x15\\x0fO\\x18;xM\\xb6\\x03\\xd4\\xb2[K\\x8e\\xdc\\'5\\x95\\xceM\\x9dI&\\x99\\x97p\\xed\\xedV\\xa4KY\\xfdQ\\xee\\xa2\\xa2(|\\x92\\x0e\\x99\\x11>\\x9a\\xa2\\xd8;\\xba\\x91\\xa51V(\\x94\\x85\\x00\\x99\\xde\\x11\\xe8\\x91\\xf8S#6\\xfb\\x1bT@^\\x8f\\x9a\\xbd\\xf7t\\xa9\\x19\\x86\\xfe\\xa24\\x9f\\xf15z\\xa4\\xc0\\x04(\\xce`\\xe5V\\xb9Ea\\xe5\\xb1p\\x97Z0\\xb4\\xcc\\x12\\'PA\\xcb\\xc0\\x9a|\\x08\\x12S\\xbb\\x00\\r\\x07\\xc2\\x83\\xc9\\x02x\\x91\\x950\\n\\x84\\xe4\\xa3\\x04\\xf7\\xf0\\x15#\\xd0~U2s\\x8a\\xce^\\x04v\\x1f@\\r\\x85tC\\xb3\\xfb\\xe5DC\\xe6\\t\\xcb\\xf4\\xee{+;\\xbe\\xa6E\\x8a\\x00H\\x84\\x80\\x07 (\\xb9DQV$\\xb5\\xd02\\xa4\\xca\\x93*L\\xa98sl\\xd5b\\x8ce\\xa6,0\\xec2\\xd1\\xc6\\xc6\\xfb\\x8faw\\xab\\xb8a\\xf0\\xa0\\nc\\x7f\\xcd)\\x82\\r~\\xa7\\xe1\\xaewyg\\x95\\xbf\\xfd\\xa6\\xac|\\x0f\\x8d\\xf9sX\\xe1\\'\\xde]\\xc5\\x95\\xd0\\xc2\\xfee\\x89\\x8f\\xf5\\x8d\\x1fa\\xaf\\x95\\xf8\\xc7\\xeda\\xfa\\xbe\\x87\\xe1\\x1f\\xb1\\x97\\xde-fU\\xd9\\xaf\\x89_a%\\x06\\x84$\\xf2\\xa92jJG\\xf2\\x99\\xcf\\x0e\\xd9\\xd3\\xca\\xe6\\xe0z\\xd0\\x8a\\xdfO\\x9bX\\xcf\\xc2\\x9d\\x07\\xe4\\xa7\\xec\\x03\\xec\\xae\\x8c\\x15S\\xb8\\x89\\x8d\\x08\\xf6\\xd1F\\xbdC\\x90s\\xa6xF\\xac\\x88\\x9fm1\\x1b\\xbc8g\\xdf\\x15\\r\\x03|A\\xb5|p\\xdd\\xaa\\x1b\\xc08Q\\xf9\\x88\\x93\\xe9\\xf4\\x9a\\xb5\\xc8L$\\x1f\\xa4\\x07q\\x11N\\xc1\\xa0\\x82L\\x1a\\x0c\\xe5\\x92\\x01#xT\\x18#x\\x89\\x14\\xfap\\x8e\\x19$\\x92\"Fb\\xa4;\\xec-\\x87\\x99.\\xa4\\x80\\xb4\\x92\\x0f1&\\xb3\\x971Ga\\xfeO\\xd9t?\\xb3\\x9d\\xed\\xba\\x7f\\xae]g\\xd1,*\\xceE\\x94\\xc4Z\\xe8\\x19ReI\\x07\\x15\\xc60\\xdc%\\xb0\\xe6)\\x7fkf\\x92$\\x17\\xddJ\\'\\xc2Nt\\\\\\xa4\\xf2\\x9e:\\xf3\\xa5\\xad\\x94\\xb7|\\xb6\\x8b\\xab\\xbb\\x80>\\x9b6\\x8e)>\\xb8\\xce\\xb9\\xde\\xac\\xf4=\\xb7\\xd9\\xc8\\xb8\\xe5\\xa5\\xa5\\x8e&Sa\\x88\\xb1\\x88\\xb0R\\x97\\x03\\xcd4\\xb6\\xc4\\x9dR\\xa4\\xa8H\"<3\\x19\\xd7\\xedfy\\xe7\\xbc\\xb3\\xc7\\xb6\\xfbq\\x7f\\xa3\\xf2\\xfd\\\\1\\xc3S\\x0c\\xbb\\xa2\\xd0\\xe8n\\xec%\\x8cH\\x1c\\xf3h\\xe5\\xfc\\xea\\xf8_\\x8b\\xe5\\xce?\\xab\\xec\\xfe\\x13?&_\\xa2\\xd8b\\xf1\\xb8\\xceG\\xa2\\xbe%\\xaf\\xb1\\xa4\\xd6\\xee\\x9a\\xfa\\xfe\\xb1F\\xe2\\xd0\\xa2\\xe1\\xb3\\xa3\\x89\\xf5\\xd1\\xb5\\xa3\\xc3\\x80\\x8c\\x88\\xa9)o\\xcaUC\\xf3^\\x05\\x074\\xdd\\xbd\\xedi?\\x85t\\xe9y\\xacg\\xe1O\\xa7\\xf4#3\\xe6\\n\\xeb\\\\\\x8a\\xeehL\\xf0\\n\\xd0w\\xd0\\x80\\xd3:\\x91\\xed\\x8f\\x93\\xb8\\x98\\xcd\\x95\\x0fh\\xado\\xd1PG\\x9c4\\x89\\x1a\\xe9T\\x00^\\x90m\\xdf \\x00\\nL\\x019T\\xa8x^v\\x00\\xfe\\xfeq\\xaa\\xf9\\xd2\\xd2VCBj\\x88k@K\\xca\\x00I\\r8c\\xc1\\x06\\xaa\\x11\\xa6D\\xe7\\x15I\\xa4S\\xdbp\\x90\\x06f`\\x0c\\x85i\\t\\xac\\x83\\xca$\\xd5RM\\xed\\xd2\\xae\\x1e\\xb7\\x067[n\\x04\\x08<{\\xeb\\x17\\xc2\\x8e\\xc2\\xe8\\x07\\xff\\x00c\\xfb5?\\xc8\\xac\\xff\\x00Z\\xba\\xc7\\x84\\xb0\\rf\\xd2QN>Qk\\xa8x\\xbd\\xa1\\xc7\\xf6\\x9d8\\xbd\\xce\\x1d\\xb3\\xbb<\\x97\\xc3;\\xb1yt\\xe1KK\\x94\\x82`e11\\xe7j+\\x9eYe\\xbdc\\x0e\\x9a\\xa5\\xec\\xce\\xdcc_\\xf3\\xc6\\xd37\\x87\\xb2uf\\xc1\\x04\\x11\\xdd#t\\xff\\x00H\\xd6{s\\xbei\\xfc\\xb13\\x0c\\xe8\\xabg-\\x1c\\xebn\\xda\\x7f\\x10|\\xf9\\xcb\\xb8sS\\xcf\\xb3\\x13\\xe9&\\x99\\xd3\\x91w\\xfb=e\\xae\\x07\\x85Z2\\x1a\\xb6\\xc3l\\x9alh\\x94\\xb2\\x90=\\xd5\\xbe\\xdcF\\xeb\\x81\\xae\\x14z\\xc5g\\xc0W\\xee:\\x9ek\\xf2xN\"\\xca\\xe8y\\xde\\xce$2\\xf3Z\\xf7\\xaa\\xbf5\\xf8\\xb7\\xf0\\xfe\\xaf\\xbf\\xf8W\\x8c\\xff\\x00E\\xae\\xca\\xfb5\\xf0\\xeb\\xec%!yP\\x8e.\\xc0\\xce\\xa4\\x11~|\\xdd9\\xd5\\xa1\\xb5q\\xf9A\\xf6\\xb6Gg\\x95\\x00\\x91~\\xf0\\x93\\xfb\\x1f\\xf0\\xae\\xfd\\'.\\xa2\\xa1\\x13\\xe4\\xe3\\xf6\\x7f\\x8dt\\xbe\\\\\\xb6z\\xff\\x00F\\x93\\x91\\x04\\x1c\\xbd4R\\x00\\x10I\\xec\\x98\\xa6\\xa8rT\\x12\\x1c\\x04\\x03\\xbc\\x82\\x91\\xe9\\x8c\\xfd\\x95\\xa8\\xb6\\x10\\x1d\\xa8\\xe7\\x9d\\x1a\\x08\\xf7s\\xe4\\xcfr\\xdc&\\xa0f\\x17\\x9d\\x86|?\\xfc\\xa8\\x97\\x92\\x98\\x11!Fr\\xe5J\\x16\\xc6\\xe16\\xcf\\xba\\xb5\\xa0\\xaf}\\x97\\x99\\x80b\\n\\xd0\\xa4\\x83\\xe8\\x99\\x8ag\\x02\\xf2\\x8c\\x91\\xe1<*U\\xec6/e\\xd9\\xc4\\x1aF%\\x88-\\x0fZ%@\\x8bf\\xc9%`(\\x02\\x16\\xa1\\x90\\xce%\\x19+uAC(\\x9dI\\xc6\\xd9k6\\x93\\n\\xb7\\xc2T\\xcfR\\xeb\\x85o-G\\xa9p\\xa4\\xa9\\x08\\xc8\\xa6cX\\xccO\\x1c\\xa8\\xca\\x1d\\xb4\\x87\\xf4\\xed\\xf2\"+\\x19\\x17g\\xf4\\x07\\x97C\\xfb1\\xff\\x00\\xc3\\xa8\\xff\\x00X\\xaa\\xe7L{\\xd5\\x1d+4\\x90\\x1c\\xc5X\\xf9TJ\\xee\\xc9\\x8a9\\xd7\\x1c\\xad\\xd9\\x91\\x93F\\xcb&\\x84I\\xa98\\'h\\xf0\\xb4\\xe1N0Q\\x8aa\\x98\\x88}*!V\\x0f\\x17\\x02\"<\\xe9\\x00\\x89\\x04\\x11\\xe9\\xaf\\xdbc\\xd6\\xbd[w\\x8d\\xc7^\\xef\\xceu~\\x1b\\xe4\\xc9\\xac\\xa5\\xfb=\\x87D\\x0e\\x8d\\xfc@\\x03\\xf4\\x1a\\xf4fk\\xe1\\xfe-\\xe3\\x1b\\xf7}o\\xc2\\xfce\\xfa-\\x86\\x17\\xd9\\x15\\xf0\\xeb\\xeb\\xa4\\x97BFg\\xd1F\\x80E\\xc2\\xb3\\x99\\xabH\\xa9W}!\\xe0\\xfa|\\xedlN\\x08ybN{XUv\\xe9ys\\xcf\\x95B\\xd7\\xea\\xa9\\xd3\\xcc\\xae\\x96n\\xb9l\\xf5\\x90P\\x82 \\x0c\\xc5\\x1fB\\x10\\x8ec\\x97\\x85h\\x10\\xc6Z@:Q\\x03\\x0f\\x19#^\\x14\\xec\\xa3^~\\xaa\\xf0\\x9c\\xf7\\x0e\\x86\\x8f@\\x0e\\x14G\\x91\\t\\xe6{\\xf8\\xd5<\\x9bSTG1\\x02)d\\xc2F\\xb2\\x06Z\\xd4t\\xc3\\xcaG\\xf8U\\x15\\x11\\x9b\\x97\\xd8\\x1b\\xb6\\xf7/\\xb27\\xb7\\xe1\\xb7\\x14\\x91\\xbd\\x110\\x0e\\xb1\\x94\\xd38\\x06\\x01\\x91\\xd4\\xe455\\x9b}\\xd41G\\xe7(\\x03\\x95Y\\x18\\xed>\\x82\\x04tC\\xb2\\xdd\\xf6\\x80\\xfa\\xd4\\xaa\\xe3L{\\x97\\x0e\\x95\\x92D\\xf9\\xc2\\x9c|\\xaa5wd%\\x1e\\xd1\\xae\\x19yj\\x12hL\\x9a\\x8b&\\xa4\\xf9\\xf1|\\xbe\\xb2\\xe9\\xc7J\\x1bA\\\\\\xa8\\xa5\\xb4\\x84\\xa4\\x12x\\x01\\xa0\\xee\\xaf\\xdeg5\\xc4~Ver\\xe5\\xeez#XK\\xd8\\x97\\x00P\\xdc\\xe7\\xf6\\x8d~{\\xf1^f?\\xab\\xed~\\x17\\xfc\\x7f\\xa2\\xd5n\\xe3\\xb3\\t\\xcf\\xbe\\xbe\\x1e\\x9f_i\\x01\\xc2\\xa1\\x9c\\xd5\\xa1\\xe4\\xe0\\xaa\\x91\\xe9]Z[x\\x8e\\x9d\\xcc\\xec&\\x15\\xc61B=l.\\xba\\xf4\\xbc\\xb9\\xe6\\xa8X\\xfdU\\xa3\\x9eH\\xf8\\x9a\\xeb\\\\\\xd8\\x7fWG\\x11*\\xe1\\xe1Y[\\x0b y\\x98\\xa5\\rh\\xd7X^\\x1b\\xbb\\xdb\\xb6\\xee\\xb9\\x1c\\xb7S3\\xe8\\xadI\\xb1@\\x06U\\x9c\\xc5e\\x03\\x7f\\xbb\\xd4\\xdc\\x14$\\xee\\x94\\x92\\x013\\x97\\x8dR{\\x900\\x9f\\xd4\\x8c\\xf1\\x9f}\"&\\x1euJ\\x8f\\xb7IS\\xdb\\xa9\\x04\\x92\\x95e\\x1fd\\xd5\\xe5x\\x04f\\x90O\\x8c\\xd3\\x11\\xca!N(\\x84\\x94\\x83\\x9c\\x031G\\xa88f\\x14O\\x01\\xeb\\xd2\\xaaC\\\\\\xf5\\xed\\xf2\\x02\\xb3\\x92\\x8e\\xd5\\xe8,\\x11\\xd1\\x16\\xca\\x03\\x9f\\xccPg\\xd2k\\x9e\\xcc{\\x85\\x80b\\x8dE\\x18\\x13\\xda\\x14\\xc9\\xca\\xd8\\x95\\xd4<\\xbe+\\xb4\\x8b\\xb1z\\xe8~e\\xc4\\x9dC%P\\xeaWn\\x84;\\x02IF\\xf3\\x80\\x9eZL\\xd3\\x8f\\xc3\\xdc\\xef\\x19N~\\xff\\x00\\xda9\\xe5\\xd5\\xed\\xf4\\xfe\\x9f\\xde\\xb4\\xef\\xed\\xd2\\x80\\n\\xb5\\xc3\\xed^l\\x8c\\x96\\xac^\\xd9\\xb11$\\x19T\\x828\\x88\\xae\\xb3\\xe0\\xaf\\xf1[?K\\xff\\x00Nw\\xe2\\xa7\\xf0\\xeb\\xfecG\\x8bt\\xabs\\x87\\xdc\\xf98\\xc0m\\xeeVP\\x16\\x17m\\x89\\x07\\x91\\x99\"\\tCg0A\\x91\\xf8\\xd7l?\\r\\x99\\xce\\xee\\xfd}\\xe6\\xbf\\xads\\xcf\\xe32\\xc6\\xf6\\xccw\\xf6\\xbf\\xfak\\x8fK8\\xe2\\x8c\\xb7\\xb2\\xe9\\xdd:|\\xa3\\xc7\\xff\\x00N\\xb5\\xff\\x00\\x8e\\xe8\\xcf=i\\xfc\\xbf\\xfd\\x0f\\xf5}[\\xcc\\xe9\\xff\\x00_\\xfar\\xed\\xc2\\xd2{Pb4\\xe3_\\xa4\\xea\\xe7\\xfcO\\x89\\xd3\\xc6\\xf8z\\xde\\x8b\\x9c>S|\\x04\\xe6\\x84{\\xcd|\\x1f\\xc4\\xac\\xb8\\xe3_k\\xf0\\xde._\\xa2\\xd7\\xb5WdW\\xc5\\xaf\\xaf\\x13\\xd2k \\xe0\\xae\\xfa\\x88\\x89U\\t\\xe3:q\\xedt\\x7fbs\\x81\\x8a\\'N\\xf6\\\\\\xae\\x9d/.y\\xf8S\\xf6\\xe4y+\\x7fp\\xfb\\xcdv\\xaeg*z\\x84G\\xda\\x8c\\xfc(\\x1b\\n\\x0c\\x9c\\xc6Y\\xe7Q\\x1e\\xc9\\xf4\\xdb\\xad\\xf2\\xa4\\x92\\x1c\\xb6y\\x9c\\xb3\\xcdh \\x1f\\t\\xa6p\\xcdGH\\x93\\xfe\\x14l\\x81w\\xfa\\xbb\\xdfp\\xd3\\x108W\\xear\\'\\x8f\\x0f\\xb5Y\\x858\\xa0\\x90\\xb3\\xa0LH\\xadxd\\xe6\\x94\\x1a\\xb9\\xdeVP\\x142\\xef\\x04|j\\x9eHH\\x91\\x97\\x10>\\x14}\\xd5 :R\\xbe\\x82\\x04\\x90\\x85\\x92FYD\\xe7V\\xc4\\x01\\xcf\\xd6Q:\\xee\\xf1\\xac\\xe4\\xa3\\xb6\\xfa\\x11LtG\\xb2@\\xff\\x00\\xee\\xe6\\x8f\\xacMb\\xc2\\xf6k\\x19\\xd6\\x1a\\x84I;\\xc9\\xf1\\xa6yTc]\\x99s.\\xdbbW\\xc3l\\xb1\\xc6\\xd9+\\xea\\xd1z\\xe0HM\\xb2Ly\\xa2A\\xdd9\\xe5\\xad}\\xbe\\x87G\\xa1zx\\xdc\\xfc\\xeb\\xff\\x00\\x95\\xff\\x00\\xb7\\xc9\\xeb\\xf5:\\xd3\\xa9f\\x1e>\\xdf\\xfaj\\x11u\\x8d\\xba{\\x1f\\x9c\\xcf\\xec\\xd9P\\xf7&\\xba^\\x9f\\xc1O3\\x1f\\xf9\\x9f\\xde\\xb1\\xdd\\xf1w\\x99r\\xfeoG\\xb3\\xe9\\xc4Yi\\xe7q<?\\x11\\xc4E\\xc2!\\xa6V.\\xc1eI_\\x9cKc-\\xeeYH\\x8e\\x06\\xbc}|\\xfe\\x1a\\xe5\\xdb\\xd2\\x98\\xcdz\\xfeM]\\xcf\\xaf\\xb7\\xbb\\xd5\\xd1\\xe9|D\\x9d\\xddKn\\xfd?7\\x1a\\xfb7N\\xa2\\xdf\\xae_\\x93\\xecm\\xe2\\x99\\x90\\x10_j\\xedK\\x88\\x1eq\\x9dk\\x8e=N9\\xcb\\x1f\\xd2\\xe1\\xff\\x00N\\xb9t\\xb9\\xe3\\x1b\\xff\\x00\\x17\\xfe\\xd5\\x1a\\xb6\"\\xcdF\\x03\\xf7c\\xd2\\x9f\\xc2\\xbe\\x95\\xf8\\xcc\\xbd\\x9e\\x19\\xf0x{\\xd4\\xfd\\x92\\xc0Y\\xc2\\x9e}m:\\xea\\xcb\\x90\\x83\\xbf\\x19A\\xee\\xaf\\x99\\xf1}k\\xd5\\xd4\\xb3\\xc3\\xe8\\xfc/Ft\\xf7g\\xab\\xdb\\xb0\\x98H\\xce\\xbeu\\x8fv\\xd2\\x92k\\'g\\x03\\xa7}\\x08\\xf4\\x9a\\x96\\xdeG\\xa6\\x81\\xbd\\xd1\\xe3\\x112\\x9cQ\\xafkn\\n\\xe9\\xd3\\xf2\\xc6jv\\xdb\\xf5V\\xf5\\xf3\\x0f\\xbe\\xba\\xfa\\xb9\\x083a\\xb8\\x11\\x9a\\x81 \\xeb\\xa5\\x08\\xc4\\x0c\\xfe\\x02\\x9fD\\xc2\\x9d\"\\t\\x1c\\xaa\\xda H\\x98\\x00E[\\xe1\\x07t\\x00\\xb5z v\\t\\xc8wP\\x91pq\\xf3<\\xe0\\xe6}\\xf5$\\xf5\\x0c\\x8dH\\xd2\\x06\\xf6\\x82}\\xb5\\xaf\\xaa$\\r\\xee\\x14D\\xc1\\xddU\\xa0\\xf1\\x9bk\\xc8NFx\\xeb\\x14^\\n3\\xb1\\xe5\\t\\x9f\\xab5e\\xb5\\x1d\\xc3\\xd0\\xd2wz(\\xd9\\x11\\x11\\xfek\\xb7>\\xb4\\n4\\x9e\\xaa\\xf9\\xd3oh\\xf3\\xc1!E\\xb4\\x15\\x04\\x93\\x13\\x03J\\xc5\\x9a\\xe4\\xc0\\x10o\\x85\\xc3a\\xc6\\xadz\\xad\\xe8QK\\x8a\\xde\\x028\\r\\xd8\\xaayI\\xf5\\xd0<\\x860\\xee\"\\xc6 \\xe2l\\xf0\\xe6n\\x1bQ*\\xeb7\\x1c\\xc8\\xce\\x862&\\xbc\\xb6\\xe3mu\\xe6k\\x94\\xa4:\\xea\\xad\\x18P\\xb3t\\\\\\xa8|\\xa27\\x94\\x02cS\\xa6\\x84\\xf3\\xe1Y\\xb7\\x1fH\\xd4\\x97\\xd6\\x9d\\xe5\\x86CiAq\\xdf\\xa4P\\xe9\\x81\\xdd1Gv\\x9a\\xec\\xda@R\\x88\\xcd\\n\\xff\\x00\\xcc5w\\xd3\\xd9\\x14r0\\xe7\\x94f\\x10\\x07z\\xc5}{\\xd6\\xc7\\xdd\\xe0\\xf9Y\\x03k\\x84]\\xb4\\xa5KR\\n\\xa4\\x11\\x9eS^|\\xf3\\x99xw\\xc3\\x0b#b\\xdd\\x9d\\xc0\\x00uK\\xf5W\\x1a\\xe8/\\x93?\\xfc\\x8b\\x9e\\xaa\\xcf$\\xa2\\xd9\\xff\\x00\\xe4\\\\\\xf5U\\xa4zm\\x9f\\xfeE\\xcfUZ[y>\\x98\\x90\\xa4\\xf4}\\xba\\xe0)_\\xe7\\x16\\x14\\x12\\xa1\\x99\\x1b\\xab\\x12=u\\xac8\\xacd\\xa6l\\xcf\\xcd\\x9a\\xfb\\xa4k\\xdf]o\\x87:r\\x0f\\xcd\\x87\\x89\\xcf\\xd0(\\xb3H,\\xe7\\xc2\\xa2=\\xa2\\x12\\xeb\\x8bJ\\x80 4\\xea\\x87q\\x08Q\\x07.\\xf1L\\x1b\\xd0\\x038\\xcb\\x80\\xa2 \\xef?F\\xf8Nh\\xddT\\x13\\xca* a?\\xa8\\x9c\\xa2g.]\\xaa\\x82_tkR\\xdaV\\x19l\\x8b\\xab\\x87[p\\xee\\xa56\\xb7\\x0f\\x08\\x1cP\\xd2\\x96=\\xa9\\xadc7\\xc2\\xb7Q\\x0cA\\xdd\\x89\\x9ef\\xb37\\xe5\\x15@u\\x9d\\x99\\xdd\\x9c\\xa6\\x99Q\\xe8\\xf3\\x1d\\xf0\\x1e\\xfa\\xa8Ft\\xfc\\xb8\\xfb\\xbc\\r\\x19)\\xb7s\\xf4D7z,\\xd9\\x11\\xff\\x00d\\xda\\xff\\x00t\\x9a1\\xbb\\x8d^\\x1e\\x87\\x16P\\x16.%Z/\\xb1\\xe15Y\\xb8\\xa7\\x94\\x1716\\xee_m\\xa4/\\xabq\\xb5\\x87\\nB\\xb3P\\x1a\\x8ag\\x1c\\xe8\\'\\x8b\\xd4\\x91\\xe6\\xfbj\\xd2y\\xa7\\xb6u\\xa5\\xde\\x8b\\x83\\x89\\xe2A&\\xe1\\xcb\\x854\\x97\\xd4\\x90J\\x94\\x14\\x13\\x92\\x84\\x01\\x11\\x1c\\xb2\\xae\\xddO\\x88\\xebg\\x84\\xc3\\rc5\\xaf\\xd9\\x96\\xdf\\xd6\\xff\\x00X1\\xc3\\twwo\\xde\\xb6*\\xb2\\xeb\\x18m\\x0f\\xdd\\xbc\\xe1H\\x85\\x13\\xf4\\xb3\\xd4\\x89\\xaf\\x17\\xfa{\\xaek\\xbf\\xcd\\x9e\\x90VY\\xb7\\xb6A*Q\\xdd\\x1c\\xc8H\\x1e4\\xe3\\xd0\\x93\\xcf\"\\xf5m\\xf1\\xc0\\xad\\xb8\\xdb\\xed\\xa5\\xdbgw\\x9aP\\xc8\\xa0\\xc85\\xbf\\x95\\'\\x1ag\\xba\\xfb\\xa9)\\x156\\xdf\\xda\\x99\\xb6k_0R\\x85\\xa92\\x81\\xb6M\\x08\\xe1\\x14\\xaa\\xafzr\\xedljc\\x85\\xd3\\'\\xda\\xaa\\xa7\\x17l\\xd5#g\\x9d\\xb3z\\xe8u\\xae\\x93lQ\\x11>N;\\xd4}\\xc2\\xa2`D\\xcf\\x1c\\xa6\\xa5|\\rh\\xe0j\\xe1JQ\\xec\\x96\\x9dG\\xa5M\\xa9#\\xdfF4^Q\\x91\\xc3\\xd1\\xe9\\xabd;\\x9f\\xd0\\xbb\\x1fT\\xfb\\x8d(\\x1c*|\\x86 \\x8d\\x7f\\xb5D\\t\\xa1\\x07\\xce\\x81\\x03#5$\\x9c)\\xf6\\xed\\xaf\\x1cq\\xf0\\xad\\xc5[\\\\47x)m-)\\xf4o\\x11\\xe8\\xadK\\xab\\xc8\\xd6\\xd0\\x93\\xa4G\\x01Y\\x86\\xb1\\'\\xb5\\xaet\\xd4\"A\\xea\\x1d1\\xd9\\xec\\x89\\xef\\x9a\\xbdB%\\xc1!\\xe9\\xfb<(\\xb5ywoEI\\xdd\\xe8\\xc7dG\\xfd\\x91i\\xfd\\xcah\\xc7\\xc3W\\xcbo\\xb4\\x060\\xe3\\xf7\\xd3\\xef\\xa5E9\\x8a\\xf4\\x8d\\x87`;Y\\x88\\xe1\\xd7\\x18v7r\\xe5\\xbb\\x9b\\x8a6\\xa8mh\\xde)\\n\\xcaV\\x0e\\x8a\\x15\\xdb\\x1c2\\xcb\\x19\\xa6s\\xcac\\x7f2[],a\\xae&[\\xd9\\xdd\\xaaX\\xfb6\\xad\\x1f\\xfdJ\\xdf\\xc8\\xeaO1\\x99\\x967\\xc0\\xff\\x00\\xc2\\x85\\xa8\\x02v_l\\x06d~\\xa0\\x83\\xff\\x00\\x1d\\x13\\xa5\\x93]\\xb9{\\x1d\\xfc(\\xd9\\x84\\xa8\\xaff\\xf6\\xb9!:\\x93\\x87\\x0c\\xbf\\xa7O\\xc9\\xc8^<\\xa2\\xdc\\xf4\\xa5\\x84<\\xc2\\xd2\\xe6\\x0b\\xb5)lF\\xfa\\x8d\\x8e\\xe8H\\xef;\\xd9S:\\x19\\xca\\xcf\\xcc\\xc7\\xc4Z\\x96l\\xa2\\xd6\\xdd\\r2\\x08@\\x12$\\xc9\\xcf:\\xf3^n\\xeb\\xacR\\x00\\xf0\\x9a\\xc3\\xab}df\\xd1\\xaf\\xba)\\x03\\xce\\x95h\\x16h[eH\\xe1V\\x83\\xc0\\xf4\\xd7\\xda\\xd8\\xc7\\x0f+\\x86?\\xb7\\x1f\\x1a\\xb4*\\x8f\\xb1\\x1f7\\x06FS\\xf0\\xad2#d\\x06\\x00\\x13\\x9a\\x8c\\xe7\\xaeUl\\x9a2\\x90\\'1\\x14\\x86\\x10=<*L\\x80x\\x1a5\\xa8B\\xb8\\x12\\xcb\\xbft\\xf1\\xee\\xa8#a\\x19\\xd9\\xe8fO\\xbe\\xa99I\\xc3 G\\x03\\xed\\xa8\\x93I\\xc8\\x8f\\x03Hdg1\\x9d\\n\\x9b\\x96\\xa3\\xf0\\xa7\\xc2\\xfb\\x9d#\\xaap\\x11\\n\\xcb\\xb5<\\'\\x95J!\\\\\\x18qR\\x0f\\x98r\\x9a2\\xe5H\\xef.\\x8c2\\xe8\\xd7d\\xff\\x00\\xf9E\\xa7\\xf7(\\xa2x5\\xb1\\xdaC\\x18p\\xfd\\xa2jQ\\xcb{n\\x84\\xbf\\xd2\\x9e\"\\xda\\xd2\\x95\\xa5\\xcce\\x96\\x94\\x92&Am\\x00\\xc8\\xe5\\xad{\\xfa\\x17\\xfd\\xb7,\\xf1\\x97\\xad\\x86\\xfd\\xe2\\xcbN\\xc9`\\xac\\xdb\\xad\\xc6\\xac-\\xd2\\xfa\\x08RT\\x11\\xa1\\x04g\\\\g_;d\\xb5\\xef\\xb8\\xe17\\xacg\\xfc6[5\\x83\\xd9^aB\\xf1V\\xad\\x17\\x9eq\\xe9V\\xe02\\x03\\xaa\\x8fuk\\xe23\\xb8\\xf5;e\\xf6\\xfe\\x8exu8\\xe5&\\xcf\\tcr\\xd1V\\xf6\\xb6iQK\\x8a\\x970\\xd5]\\xc4\\xa8\\xe4\\x02`\\x8fMf\\xe7{\\xaf?\\xcfK=Y\\xcci\\xfa@\\xc3\\xd4\\xd6\\n\\xa5\\xa9\\x0c\\xa7}\\x95\\xb4T\\xc6\\x1a\\xab@IR`\\x10\\xadx\\xd7\\xa3\\xa1\\x9f\\x99\\xfd\\xf6\\xf1\\xf51\\xdeR\\xad\\x93\\x91\\x8c\\xf2\\xaf\\x03\\xb6\\xd4P\\xd6\\x87F\\xf7\\x0f\\xfdM\\xaf\\xbb\\xf1\\xa8T\\xa02\\xa8\\x16*\\x05\\x8a\\x93\"\\xad\\r\\xbc\\'Lh+\\xd8\\xab\\xae0\\xe3\\'\\xfa\\xd4\\xd5\\x97\\x85/*&\\xc4\\xc3 \\x1e\\x04\\x8fuB\\x8a\\xd9\\x1dOv\\xf9\\xf4eQ\\x08\\x1a\\xaa\\x1a\\xd5\\x01\\xe7V\\x92\\xb2\\x88m\\xc5\\x83\\xde\\x94\\x15\\x01\\xe9\\x88\\xa7\\x19\\xbf\"\\x82\\x95L\\x1f\\x85\\x1a:%\\xccn:\\x01%!&\\x0cD\\x88\\xd6\\xa1j.\\x17\\xfa\\x99\\x00F\\xbe\\xf1TR\\xa6\\x1ey\\xd0Rp\\xfbt\\xdd\\\\8\\x85\\xa8\\xa4&\\xd9\\xf7\\x84\\x0e(mK\\x03\\xd6\\x9a\\xd4\\x9b\\x16\\xe9\\x14\\x19\"g\\xddAb\\xa3\\xadPI\\xc8\\x1c\\x89\\xcaG}^\\x80\\xef\\xe2\\xd7\\xcb/}I\\x06\\xec\\xf6\\xd7\\xc3\\xb0}\\xd5_u/.\\xf7\\xe8\\xd0GG;*9a6\\x9f\\xdc\\xa6\\x89\\xe1T\\xed\\xa6\\xfdA\\xbf\\xda\\xa7\\xdciQ\\xcb\\xf8\\xeb\\x8bWK\\xd7A\\xb9\\x9f\\xf2\\x85\\xb4\\x9d\\xd9\\x98\\tO.\\x15\\xec\\xe9k\\xe5\\xb3\\x7f{\\x8f\\xde.\\x95u\\xeb\\xb6ZP\\xa2\\x95\\x1c\\xe5@\\x90 \\x82}\\x80\\xd7\\x8e[\\xdd\\x1e\\xdc\\xa4j\\xf0\\x17\\xc8\\xc1\\xd9`\\xdd\\xba\\xa7n\\x97r\\xeb%A!IIZ\\xa1)\\x81\\x10\\x91\\xa4\\xfaf\\xba\\xfcF7\\xbe\\xfe\\x8e\\x1d;$\\x17\\x0f\\xb7d\\xe1\\x98k8\\x8b\\x8e\\\\\\x8bvT\\xda\\xee\\\\`\\xb8\\xe1\\x83\\xe7v[\"Lf;>\\x9a\\xd6;\\xdd\\xb1\\xbb\\xb9\\x8bQ\\xb5\\x0f[\\xa1\\x17\\xb6\\xb6\\x81\\xbe\\xa1%\\x9d\\xc2Y\\xea\\xd4w\\x94\\x80A\\xc8{\\xab\\xd7\\xd3\\x97\\xb3\\xba\\xbc\\xd9[r\\xd2\\xe2^N/\\xc4\\xd7\\xceiD$\\xd5\\xa6\\xdb\\xec2<\\x89\\xbf\\x03\\xef\\xa5%\\x8e\\x15h\\x17\\xc2\\xa0E\\x05\\x98\\xdd^\\xeey\\xe53V\\x96\\xce9R-x\\xbe\\x96S\\xbd\\xb1\\x97\\xb2@\\x03\\xaa9\\xe9\\xfadQ\\x94\\xe0O*\\x06\\xd3\\xf4fx)B\\xb3#B7\\xfa#\\xfbO\\x85^\\x141)$\\x88\\x8d&\\x89\\xc8\\x16\\xd5\\xce\\xa9\\xd5(\\xc8\\x96\\x9cD\\xfd\\xe4\\x11\\xf1\\xadcV\\xb6\\x024H\\xf4P|\\x18\\xeeM.>\\xa9\\xf7U\\xe4#\\xe1YY\\x9c\\xf8\\x9fx\\xa9N<\\'\\xa5\\x1fK\\xe8\\x82\\x07\\x8d\\x1c\\x91\\xac\\x9e6\\xf7.((\\xa2Yy\\xac\\x8e\\xa1HRH\\xf6\\xc5jQ\\xe5\\x14r\\xcbJ\\xcc4\\x89\\xd4r\\xd6\\x95\\xa1\\x00=R\\xf2\\x84\\x92\"\\xaa\\xb4\\xd7^\\xab7f\\'\\xab:\\xf8UC\\xbe\\xba:V\\xefG\\xdb.7W\\xff\\x005Z\\xfd\\x1f\\xf5I\\xac\\xcc\\x8e\\x92\\xf6\\x91`\\xd9\\xb4!@\\xf5\\xa3Q\\xdci\\x97kNW\\xc7\\x9fm\\x8e\\x95\\xaf\\xee\\x9cp%\\xb6v\\x84\\xb8\\xe1\\x070\\x80\\x06g\\xbb*\\xf6\\xf4\\xa6\\xfazgruq\\xb5n\\xdamN\\x05\\xbc\\x80q[U\\x15\\x10\\x02z\\xdc\\xd5\\'A^o\\x93\\x9e\\xfc=\\x99e\\x8d\\xf1c\\xc9\\xe1\\x1bkii\\x87\\xb1\\x86:\\xff\\x00\\xf9\\xc7\\xca\\x17j\\x85\\xf9\"\\xc2\\x03\\x8bR\\x8a\\x12D\\xe7\\x00\\x89\\xcc\\x03\\x9cW\\xaf\\xa9\\xd3\\xee\\xce\\xda\\xe1\\x86\\xb1\\x9az\\xec\\x16\\xf1Ij\\xdd\\x17,\\xf9E\\xcbaM/\\xa9p[\\xa5N%FBJ\\xddI\\x1a\\x18\\x04\\x1c\\xb8\\xe4g\\x97e\\x9bt\\xcb\\x98\\xd3\\xede\\xc0{\\x1bXS+mKv\\xc5\\x1d[\\x8f\\x07H%\\xd4\\xfd T\\x0f\\xaf\\xba\\xbdXc\\xae\\x96\\xfe\\xef\\x1d\\xcaw\\xd9\\xf4]\\x0e\\x1f\\x95^\\x7fH\\xfb\\xeb\\xe6\\xba(\\x94wV\\x9aop\\xcf\\xd4\\x9b\\xf4\\xfb\\xea\\xd0\\xda`\\x14\\x83\\x87\\x8dH\\xec\\xaa\\xd04\\x91:M\"\\xd7\\x8e\\xe9hN\\xc3b\\xb04e*\\xf5:\\x83F\\\\\\xc5<\\xb9\\xfe\\xd7E@3\\xbek\\x9c\\xbbn\\x9c\\xda\\xfeI@ps\\x9e\\xb2*\\xa8\\xd1\\x91\\x914\\xc8\\x0b\\x90\\x11\\x14kI\\x80I\\xcef\\xa4\\x1b\\xc9\\x1dJ\\xf9\\xee\\x99\\xf5T\\xb4\\x8d\\x85\\x90m\\x8er\\x0c\\xfb\\xc5_u\\xa4\\xfd\\x12\\xa1\\xc3\\x8dK\\x93c>3U\\xf2a\\xba\\x1c\\xa7\\xd3H\\'\\x84\\xe4h\\xd28\\x91\\xd4\\xaf#\\xbd\\xbc$\\xf0\\xf5Q\\xb2\\xd6_IS\\xa9L\\x02P@\\xf5V\\x83\\xaf\\xb6;\\xa6~\\x8f\\xf0\\xed\\x90\\xc0\\xac\\xae\\xf6\\x81\\x08\\xba\\xb7\\xb0a\\x97Z\\x16\\xaf\\xa8\\xa1Im \\x83\\xba\\x83\\xa1\\x06\\xb9\\\\\\xa4\\xf2\\xd7mz\\x0b\\x1e\\x90vgmC\\x96\\xfb5\\x89*\\xed\\xebE!\\xd7\\x90\\xabgY\\xddB\\xa5 \\xf6\\xd2\\x99\\xcf\\x95k\\x1b\\xbe`\\xb3\\\\W>\\\\\\xdf6\\xdfH\\xfbN\\xa7\\xd3\\xbc\\xd1\\xc4n}0\\xa1\\xdd\\xdd^\\xfe\\x978\\xe9\\xd3\\xa3\\x94\\x99\\xdd\\xfb\\r\\x89\\xb7k~\\xb6\\x16\\xc2\\x8am\\x14\\xc8[\\xe9\\xddL\\xa0\\xa5\\xc0\\x81\\xbb\\xdf\\x98=\\xd1M\\x96\\xeaZ\\xf4\\xdce\\xb6\\xc0\\xac\\xac\\xf0+\\x9cA\\n{i]\\xb3\\xc4\\x14\\xfc\\xa6\\xc7\\xa9\\x1dfK\\x94\\x8d\\xf1\\x90\\x90\\x01\\x1a\\xc5t\\xba\\xbcW\\x97s\\xbd\\xedC\\xce\\xdf\\x9b\\xa7p\\xe4\\xd9:\\xfb\\xce\\x94(8-\\xc4\\xa2\\x0c\\xab\\xe5L\\x12Lf \\x8f\\t\\xaf62\\xf7]\\xef\\xf9\\xbd]K$\\x88\\xeb\\xb5~\\xd3\\x14\\xc1\\x99\\xbbd2\\xa7\\xf1\\x0b\\x14\\xa1!M((u\\xd9\\x90[%<+\\xd7\\x8e[\\xe8\\xd9\\xed\\xbf\\x7f\\xee\\xf9\\xbdY\\'W~\\xf1\\xd0\\x8a2\\xb5\\x1f\\xb4k\\xe6\\xba(\\x90\\xa1\\xc4\\xd6\\x9a\\xad\\xe6\\x16\\xb4\\xf9\\x1a`\\xfd#P\\xa9}jj\\x0c\\xeb\\x87u[\\x1a5W\\x00\\x03\\xc2\\xad\\xad\\x06n\\x84\\xf9\\xc2\\xad\\xe9i\\xe6zI\\xdd\\xb9\\xd8Lx\\xef\\x90Qf\\xa3\\x11\\xafi\\'\\xe1Y\\xb7fM9\\xf2\\xd8\\xe4\\xaf\\x13X\\x9a\\xbc\\x1a\"\\x0f\\xc9\\xb9\\xa9;\\xe3\\xdcjP,\\xa7*F\\xd2,\\x19\\xf2\\x9b\\x94\\xb4V\\x11(q[\\xdfu\\nTzwc\\xd3L\\xe7\\x85x\\x01\\xb5J\\x12y\\x80t\\x8a*\\x9c\\xb2\\xe0\\x00\\x1c\\tV\\xf2 \\x80b\\'-j\\xf2Qp\\xc3\\xf3UD\\xea~\\x15}D\\xfa%\\xcf\\x88\\xee\\xa0\\x8dj\\xcf\\\\\\x9b\\xa3\\xbe\\x12Y\\xb7[\\xe2G\\x9cRR7|s>\\xaa\\xd6\\xb6\\x00\\x98X\\x04\\xc0\\xe6\\x06\\x94i\\x1aL8`\\xef\\'{#\\xa4\\x8a\\xb4\\x84\\x91\\xe4\\xee\\x00>\\x92F\\x7f\\xce\\xa3\\\\\\x9d5w\\xc4\\x82\\xfcL\\x84\\x1fuhWkl[hcdp\\r\\xd6\\x1b\\x07\\xf3m\\xb1*\\t\\x19\\x9e\\xa99\\xccW\\x82\\xe37k\\xd33\\xe277\\x0e\\xf5\\x85\\x1d\\x93\\xd9<F\\xa2\\xbbt&\\xadc\\xab\\x96\\xe4R\\x9bY\\xd1s\\x8c\\'h\\xf6\\x9d[J\\xeb-\\x07\\x9d\\xbd[,X\\x02\\xe0\\x0bX;\\xa1E\\xd1\\xccx\\xd7\\xbb\\x0c\\xf2\\x96H\\xf3\\xd9/\\x97\\x83\\xf2[m\\xe2\\xbf\\xcfx\\xa6\\xf92U\\xf9\\xb5\\x99\\'\\xbf\\xe5\\xb3\\xae\\xdb\\xcf\\xe8{\\xaf\\x9d\\x980\\xdbN\\xb8:1;\\xb58 \\x85/\\ro\\xff\\x00\\xddO\\xe6\\xf6\\x8c\\xfa\\xecqb\\xda\\x7fG\\x88\\xb9<\\xce\\x1c\\x90g\\xff\\x00:\\xbaN\\xaex\\xfb,\\xa7w\\xaa\\xc0\\xe8\\xc7b\\xef1G\\xecq\\x94cL\\xa6\\xd2\\xd3\\x12C\\x8e[*\\xc3uN\\xa9\\xa2\\x14!Ad\\rh\\xea\\xfcNYN\\xdc\\x9c\\xb1\\xe8\\xe3\\x8d\\xb6:\\x01J\\x83\\xe3^\\x1b^\\x856\\x92\\xcacu\\xa4\\x0fE]\\xce\\x9d\\xa7\\x8b\\x88\\x10\\x91\\x1e\\x02\\x8b\\x92\\xed4\\xdc+,\\xeb=\\xd5v\\x90\\xbc\\xa3\\xa5V\\xadC\\x16\\xe2\\xa3X\\xa1\\x18\\x17\\'\\xce\\xa8i\\xae\\xdb\\x14\\x176\\'h\\x04(\\x83b\\xe9\\xf3O\\x014wH\\xb5\\\\\\xfe\\xc9\\xf3\\xabX\\xc1OO\\x98\\xe7\\xdf\\x1f\\x1a\\x81\\x89\\x12@\\xcb=&\\x94%\\xba\\xb7_o\\xb4\\x13\\x92\\xbbD\\xfd\\x93L\\xe4\\x02\\xd9\\x80\\x07w\\n\\x13\\x1c2\\x85\\re&=U}J6\\x16G\\x91\\x9f\\x13\\xc7\\xc2\\x9b\\xe4&\\xc7`\\xaaF\\\\*\\'5\\xab\\xe0\\xa9)=R\\x80\\x9e\\'\\x97\\xef\\xca\\xa8\\x02\\x9c\\xcf\\x87:\\x11\\xa0\\xf6\\xb4\\x14\\xdf\\n\\x08\\t\\x16\\xaa\\xfb\\xc9\\xd7\\xc0\\xd4\\x9a\\xbcD\\x90\\x8b\\x93\\x96M\\x9fuUW{\\xec\\xd6\\x1a\\x0e\\xca\\xe0\\x83tJl-\\xd3\\xeai\"\\xb9\\xe5\\xd2\\x9b\\xa7\\x1c\\xf8.#m\\xe4\\xe5\\xbdaD\\xd5\\x86\\x1d\\xb4\\xdc\\xb6\\xf2\\x9d \\x9d\\xde\\x8c\\xb6\\x9c\\xf3\\xb7\\x03\\xd6\\xe2+\\xbe\\x1f\\xb5\\x18QVV,\\xdc[%\\xc5\\xb8\\xeaU\\xbc\\xb0\\xad\\xd2\\x08\\x00hb&\\xbd!18C\\x19\\xc3\\xcf\\x0c\\xe0N\\xe9\\xf8z\\xa9\\xd8:\\xfb\\x0fb\\xd1\\x82\\xe2\\\\yj\\xde\\t\\x1el\\x03\\xaey\\x0fe\\x12\\xda\\xd2\\xe0\\xe8PF\\xc8\\x03\\xf5\\xaf\\x9e?\\xd9\\x15\\xcb\\xa9\\xe5\\x98\\xb1\\\\^\\xe9\\x1e\\x15\\xc2\\xbaEC\\xe4jJe\\xc7Yo\\xef*\\xb8|\\xd8\\xf4|\\xba\\x196i0\\xab\\xe6\\xc9\\xe4\\x81?\\x1a\\xbee\\xbe\"\\xec\\x93\\xcd\\x15\\xb42\\xb8\\r7z\\xf9\\xff\\x00V\\xd1#\\xddGvK\\xb7\\x14\\x96\\xec^_\\x9b\\x86?\\xe2\\xea\\xc2}\\xe6\\xb3r\\xbe\\xe7\\xb6{\\x0c\\x9c&\\xf5_\\xe8\\xd6L\\xf7\\xa9eDz\\x85g\\xbb~\\xa7_D\\x86\\xb0w\\xff\\x00\\x8c\\xbdi\\x1d\\xcd3\\x9f\\xb4\\xd1\\xb8\\xb5Qv\\xaf\\x07h\\xecn\\xd0o]\\xdc\\xad_\\x9bn\\x08\\x12\\x00\\x90\\xd9:\\x01\\xddT\\xbc\\x8b8r\\xbbp\\x1aFQ:\\x835\\xea\\xc3\\x97\\x9e\\xb0\\x1e\\xcb\\x9fx\\x1f}h\\x1a\\x08\\x9c\\xa2{\\xa9Ge\\xcb\\xba\\xa0\\xc1\\x12\\x0cg9Q\\xe8\\x88\\xe8\\x1dZ\\xbe\\xe9\\xf7R\\x90\\xf0\\xb2<\\x9c\\xc8\\x19\\x93\\xe9\\xccQ\\xb4\\x9d9\\x11\\x94k\\xad$\\xd8\\x13\\xe3U\\xf0\\x08@\\x11\"=4-\\x1a#\\xc3\\xc6\\x9f\\n\\x1eT<\\x99C9\\xdf\\x19\\xfa\\r\\x1b\\xe55\\xb8\\x89\\xf9;\\x99\\xfeM_\\xd9\\xad\\'\\xd1l\\x01\\xa0\\x8c\\x0b\\x0eD\\x08M\\xb3I\\x8f\\x04\\ns\\xbf\\x9a\\xb3\\x8c\\xfc\\xb1\\x07i\\xc4\\x0bX\\xe6\\xafp\\xac\\xb4\\xaf\\xfaEX\\xfe\\x0b\\xb6\\x8c\\xa4\\x83(BL\\x19\\xd5\\xd4WL?j(\\xa6\\xb0\\xa0U\\x87\\x84\\x02\\xb8V\\xf8!9\\x92\\t\\xf6\\x1eF\\xbb\\xb1\\x1b6\\n\\x89L\\r\\xceCB?x\\xd3-iA\\xe2\\xb7\\r\"\\xcd\\xc6J\\x90\\xb7\\x94@\\xdc\\x0b\\x01I\\x9c\\xe631\\x90\\xaaNv\\xd2\\xd9\\xe8e;\\xbb\\x13j\\xa3\\x03z\\xe5\\xf3\\x99\\xfbQ\\xf0\\xae]K\\xc8\\x91\\xeeo\\x16R\\xe2@\\x8f7\\x8f\\x89\\xaf.~[\\x8f\\x02\\xc6\\x15\\x856e\\x16-(\\xf3X*\\xf7\\x9a\\xf2|\\xcc\\xbd\\xde\\xee\\xc8\\x9e\\xd7P\\xd0\\x01\\x96Z@\\xfb)\\x03\\xddGu\\xab\\xb6AK\\xeaQ\\x8e\\x15m08y\\xc7x\\x15l\\x06\\xa5\\x93\\xa95m\\x1e\\x93\\xea\\xa0Tly\\x1df\\xcd\\xe3(\\xfa\\xd8}\\xc8\\xfe\\xa9U\\xa9\\xe4_\\x0e=aD\\xdb\\xb4~\\x96\\xe8\\xafV>\\xaf.G$\\xc0{S\\x98\\xad2\\x189\\xe7\\xaf\\xb2\\x94#\\x00)\\xf6\\x92\\xa9\\xdd&\\rH\\xc4\\xa8\\xee\\xe8f\\xa2W\\xa0o\\x04\\x93\\x11\\xcb=)\\x08\\xb8j\\x8f\\x92\\xa8N[\\xc7\\xe1W\\xaaJ\\x04\\xc1\\xd4\\xfc(SpVP\\x95\\x07\\xf7\\xd4S\\xba\\xd2\\x96\\x88\\x1a\\xa8\\x11\\x00\\xfa\\t\\xaa \\xc6n\\x00t\\x98\\x9eB\\xa3\\xe4\\xc0s:\\x114\\x88\\'\\xf1J\\x81\\x96\\xf8\\x1e\\xc3F\\xd3]}!\\xab\\xaf\\xd9\\x9fun3\\xea\\xfa=\\x86\\x8d\\xdc>\\xd9<\\x9a@\\xfe\\x88\\xa3?\\xda\\xab\\x1f\\x11\\xaa\\xda\\x9dm\\x7f\\x9f\\xf0\\xa24\\xac\\xfaEi\\xbb^\\x8b1\\xf7\\n\\xc0+, \\x95\\x10\\x04u\\xe8\\x81]1\\xe7(\\x14Kx\\x97V\\x8d\\xc6\\xee\\xdb\\x08\\xe5\\xbc\\x9e5\\xe9\\x92\\xb3R\\x11\\x8a\\xac\\x88\\xf2\\xd6\\xf3\\xe4Q\\xf8S\\xdbF\\xc5{\\x10\\x17*I~\\xe9\\xa7\\x14\\x9c\\x81\\x94\\x8fuRi\\xa5\\xdb\\xd1\\x9e\\x18\\xc6+\\xb0XKo8\\xb2\\xcf\\\\\\xfb\\x85( \\xa5\\xcf\\x949\\x1fV\\xa3J\\xe5\\x96W\\x1c\\xb6\\xce<\\xacK\\xb6\\xaf\\x96\\xb4\\x9b6\\xd9Sa0K\\x84\\xcc\\xc9\\xff\\x00\\n\\xf2\\xe5/\\xa3\\xa4\\xd7\\xab\\xc1\\xa1g\\xd9_9\\xf4\\xe8\\x89_3H\\x11*\\x11S\\'\\xef@\\xcf\\xd5H\\xa4\\xde\\x9c\\xe9\\xd0=\\x07\\x95@\\xb7\\x89\\xeb0\\xdb\\xe4G\\x9dj\\xf2c\\xc5\\xb5S<\\x8a\\xe3+E\\x13j\\xc6\\x7f@{\\xab\\xd7\\x1el\\x85F}fY\\xe5\\xa7\\x8d<\\xb2b@*\\x19\\xe4i\\xda\\x16\\xd9a\\xbb\\xb6\\x94N\\xeaR\\xa9\\'\\x952\\x8f!7\\x90H\\x83\\x95\\x08\\x8e\\x1e\\xc1\\xe1\\x97\\xc2\\x98\\xb7\\xb4l4\\x9f\\'P\\x8e\\'\\xe1V\\x92h\\x19\\x15O\\x18\\xa3h\\xf6\\x17\\xba\\x8b\\x89\"T\\xc9H\\xcb\\\\\\xd3\\xf8S\\xea\\x82\\x9c\\xc8\\xd7\\xd1R5*\\x93\\x94\\xd0!\\xe4\\xc5\\xb9\\x9d7\\xc4O\\x85>\\xa5\\x02\\xf0\\xfc\\x95\\xc8\\xfb$i\\xa6U\\xb9\\xe63_IXN\\xeb(O$\\x81\\xec\\xacewm8\\xf8\\x8d&\\xd4y\\xd6\\xbe\\x0b\\xff\\x00\\x86\\xa8Z,5\\xc4)\\x85!iB\\x90NiZB\\x81\\xf4\\x1c\\xabV\\x04\\xe4\\xb7l\\x7f\\xd1\\xad?\\xdd\\xd1\\xf8S\\xa0xf\\xd7\\xfe\\xabi\\xfe\\xee\\x8f\\xc2\\x94U1k\\xff\\x00U\\xb4\\xff\\x00wG\\xe1R\\xd1l\\x92\\x84\\xbc\\x10\\xdbhBD\\xc2P\\x90\\x91\\xea\\x15_\\n7\\xf6C\\xe4=&\\xb1J\\x9eaA`B\\x8cx\\xd7\\xcc}T\\xa4G\\xa3\\xbe\\x96h\\xc8\\xef\\xf5R\\xc8\\x84~\\xe2\\x99\\x05*if\\x8a\\x93\\x15h\\x0e\\x91\\xbe\\x87\\x11\\xf5\\x9bZ}i\"\\x9d\\n\\xe2\\x9b2<\\x91\\x90N\\x89\\x00\\xd7\\xa7\\x17\\x9f!\\x87\\xf1\\xa7\\xb8\\x1fh\\xad\\xb2\\x19\\xef\\x06\\xa9\\xe4\\x16F\\x91\\xdfJ:\\x12\\x0f\\x85\\x1e\\x88\\xd5F\\xe9\\x02\\x01\\x8f\\x851\"a\\x92m\\xcc\\xf7\\xe5\\xea\\xa3z\\xa97M4\\xa6{\\xa2\\x11\\x07J\\x97,;\\xb2s\\xf8PM\\x073\\xdcr\\xa6\\xc1\\x0e\\xde\\xf9\\x08\\xfa[\\xf3\\xec\\xaa\\xf9HWQ\\xba\\xf8\\xcf<\\xabx\\xee\\xd8\\xc6~6\\xfaP+\\x9bq\\xe7v\\xac\\xfc\\xa5\\xb0\\xfb+\\xff\\x00\\x86\\x98\\x9a\\x9c\\x1a\\xdc\\x1bi:\\x92kI\\xb3K\\x02*\\x07\\x86\\x05H\\xe2\\xc8\\x8a\\x90v\\xa9\\x02\\xe0\\xf8V\\xaf\\x80\\xdfY\\x8f\\x9b\\xa7\\xd3\\xef\\xaeyy*a}\\xa7C\\xad\\xa7u\\xb7\\x80t\\x0eS\\xa8\\xf4\\x19\\x15\\xf3p\\xbd\\xf2e\\x1fW9\\xdbn>\\xc9l\\xf2\\xad\\xe9\\x8d\\xa5&\\x7f\\xfe\\xd3\\xa6vti\\xddN\\x99\\xd8\\x89\\x03.}\\xf5\\x01\\x122\\xa8%Zf\\xfa\\x01\\xe2b\\x90\\xe2Kt\\x94\\xa0\\xa0}\\x15\\x11\\xed\"\\xbd8\\xbc\\xf4T\\x8e\\xd3\\xbd\\xe8\\xf8\\x8a\\xd5\\x01\\xf1?\\x0c\\xea\\xf4\\x022\\x99q\\xb0\\xa3\\x91P\\x07\\xd7LF\\xc7h\\xeb\\x00\\xd1\\xce\\x89\\xaa\\x19+1\\xa7\\xae\\x99\\xb1b.\\x10>lfu3\\xec\\xa2\\x9f\\t\\xaa\\xcf\\x80\\x9a\\xa2c)\\x0b+\\x92rmJ\\xc8q\\x15\\xaa\\xc9\\x93\\xdec\\x85\\x04\\xc1\\xa9\\x9dj\\xe3C\\xc9\\xff\\x00D\\xf8\\xf2\\xaa\\x94;\\x82\\x07Zb@ \\xf1\\xd2Ek\\x1b\\xccg)\\xc5}(B\\x82\\xd2\\x14\\x92\\nH\\x90Eb\\xb4\\xf3\\x9bV\\xaf\\x9c[\\x8c\\xbfF\\xafx\\xadO\\t\\x1b\\x07\\x1f4O\\x89\\xa86B\\xa4\"iDUI\\x1e\\xdf\\xf5\\x85\\x9e\\xea\\xd5\\x11\\xbc\\xb4\\xca\\xdd\\x1e\\x15\\xca\\xf9iQ\\xb8\\xa6\\xee\\x91\\xe5L\\x14\\x96\\xddH})I\\x90\\x8d\\xec\\x96\\x9fB\\x87\\xa8\\xd7\\xca\\xf8{&\\xf1\\xf4\\xf3\\xff\\x00\\xaf\\xd2\\xbe\\xa6yw\\xe3\\x8es\\xedNhG\\n\\xf58\\x8e\\x92\\x07\\xe3P<p5\\x01\\x13\\xcb\\x9dH\\xf9\\xd3\\x85B\\xa5Y\\xe5t\\xc7\\xdfO\\xbcT\\x1cX\\xfb}]\\xfd\\xdbzn\\xbe\\xea}N+\\xf0\\xafF/=8!\"u\\x1b\\xc2\\t\\x9a\\xde\\x99\\x00\\x00bL\\xf7N\\x95z#\\x9b -$\\xf0P\\x9c\\xfb\\xea\\xda9\\x13\\xd6(\\x89\\x8c\\xe0\\xd5\\xe8v\\x12\\x84\\x03\\xce\\r1TL*z\\x85x\\xf1\\xf4P-\\xa9\\xba\\xf01TEh\\x80U$\\x89m@x\\x91\\xa5H2Ng\\xbeM$\\xc9\\x1b\\xdf\\x8d\\x01\"\\xd9\\x92\\xf3\\xed6Nn/vu\\x8c\\xb5\\xa5 \\xdf\\xb4Z\\xba\\xb9iA9,$\\x94\\xcck\\xdfN\\xfc3g\\x0f\\xa2\\xb8\\x1b\\xfdv\\x15lbJQ\\xd5\\xab\\xc59|*\\xbeV>\\x1a\\x8d\\xaa \\xde\\xb5\\xcc2}\\xf44f\\x12>h\\x8aS`\\x9a\\x81\\xe2\\x94E\\xe9J\\x02\\xdb7WU\\x11\\xbd\\xb7\\xc9\\x86\\xfe\\xe8\\xacV\\x94\\xa6\\t\\x81\\xe3\\x18\\x1d\\x8c\\xe3X\\xca\\xb1;\\x8cE\\xa4\\xba\\x94\\xa5\\xa0\\xd3l%9\\x90\\x94\\x8dw\\x81\\x19\\xf7W\\x8aI\\xbe&\\x9e\\xd9\\xa95\\x13\\xd0x\\x8a\\xd2\\x14\\x11\\xe8\\xa8QS\\xc3\\x95@D\\xe8hT@3\\xa4\\x0fk\\x95\\xcb\\'\\xed\\xa7\\xde*N5\\xc6\\xd3\\xd4\\xed\\x16.\\xd8>m\\xed\\xc7\\xa3\\xe5U^\\x8cf\\xdez\\x02Vw\\xd5\\x07 \\x92D\\xd6\\xb9\\xd3!\\x8d\\xe0\\x02\\x88;\\xa6`\\xf8TH\\x14&3\\x1cj\\x80\\xbb\\xc2D\\xf0\\xca\\xaf+\\xecE\\xa8n\\x1eziL(XQ\\x1eL\\xb8#%\\x1e\\x11\\xca\\x8b\\x12f\\xfac\\xbc\\xf3\\xaa\\x06o\\x89\\xd4U\\xa5\\xeaBF\\xf6\\xb5z5)\\x92\\x04\\x9c\\xb9kK\\'\\xb6V!i\\x82\\x12|b\\x82\\x88\\xf3\\x8b~\\xedkZ\\xb7\\x96\\xa7\\x11$\\xeb\\xe7S4\\xce\\\\\\xc7|l\\xbe\"\\x94\\x8b\\x9bu\\xa8\\xa7u\\xdd\\xe4\\xe5\"\\x08\\xcf\\xddU\\xbag\\x1f\\x07\\xed\\x0b\\xa5\\xcb\\xa6\\xca\\x88\\x90\\xc8\\x98\\xe7&\\x96\\xe0\\xb8_\\xea\\xa8\\xa9\\'\\x03P8\\x1aQ\\xae\\x1c\\xa9@\\xda\\x9e\\xda\\xcdTF\\xf5\\x89\\xea[\\xd7\\xcd\\x15\\x8a\\xd2\\x84\\xc2\\xf1\\x9ca\\xfcQ\\xb5\\xb5\\xb2\\x0cavE_(\\xfe!\\x88\\x07_\\xdc:\\xee4\\x89\\t=\\xc4\\xc5p\\xb5\\xeb\\x9e\\xcd\\xebr+\\x14\\x8e\\x91\\xdf\\xe3T\\x03 T\\x86@\\x11\\x1c(B\\'\\xbb:\\x83\\xcf\\xe3\\x1bk\\x81\\xe1\\x08\\xbc&\\xfd\\x87\\xef\\xed$y\\x1a\\t\\xdfS\\x83D\\xe9\\x1a\\xc4\\xe7F\\xe6\\xf4\\xdf\\xcb\\xcf[\\xd3\\x941\\'\\xdd\\x7f\\x1c\\xc4\\x1d\\xb9HK\\xef\\\\:\\xeb\\x81\"\\x00R\\x94U\\x90\\xe5\\x9eU\\xe9\\xc6\\xcfG\\x939e\\xd51\\x0b\\x1db\\x8e\\x87t\\xfb\\xab@\\xce\\xb0\\xf9\\xb2bI\\xf6T\\t\\xbd\\x97x\\xcef\\x9e\\x16\\x8e\\x90r\\x91=\\xf5z\\x1f\\xa1\\x15\\xa1\\xf3}\\xf4*\\x85\\x85\\x91\\xe4\\xebH\\x8f8\\xf1\\xf0\\xab\\xc2\\xd2l\\xaa;$\\x0fN\\xb5x\\xf2\\x08I\\xe1\\x07\\xd3R=\\xd6\\xd6\\xcb\\x85.\\x00\\x95@>p:\\x89\\xa3\\xc4!O\\xa3=\\x01\\x02\\xa8\\x8b\\xbcBs%):\\xe7N\\xd2+pn\\x80\\xe6\\xfbc^j\\xa7\\xd4d\\xed\\x1c.\\xe8\\xa7\\x11u\\x06HZT\"s$f#1\\x9eU\\x9c\\xfc3\\x87\\x15\\xb6}\\xe2u^\\xff\\x00d\\t\\x19s\\xe1V\\x1e\\x1b\\xad\\xc6\\x1a\\xbf\\x9a\\xb7\\xe1[\\t\\xa1u\\x03\\xc2\\xeaF8\\xac\\xa9AZ*B\\xe9\\xa27\\xc9 %;\\xc9\\x9c\\x84@\\xee\\xac\\xe8\\xa9\\xd4\\'J\\xf3=\\xa9H\\x12$\\x9a\\x10\\xa9<*\\xd0\\x199\\x19\\xa1\\n\\x93\\x1e\\x14&\\x93m\\xf1\\xa70\\r\\x96\\xbd\\xc4-\\xc4\\xbe\\x9d\\xd6\\x9bTN\\xe2\\x96wB\\xa3\\x8cL\\xd5\\xcd\\xe25\\x84\\x97.T5\\xb5\\xf5\\x8a|\\xa3\\xcb\\xad\\x97z\\\\l\\xa5\\x1b\\xce\\xad\\xa2\\xdb\\x93!\\xc9O\\x9cgPr5\\x9f\\x95\\x93\\xd9l\\xcb\\xd5\\xa0\\xbe\\xc3\\xad\\xae\\x9cS\\xab=\\xb0\\t\\xdeAR\\x15\\xa4\\xc4\\x8aq\\xc7\\xa9<Q\\x94\\xe9\\xe7?4xV\\xaf\\x9e\\xdfq]z\\xd2\\x81;\\xa9Q\\xde\\xe7\\x02k\\xd7~\\xaf\\x95d\\xdd\\xd3\\xd24\\xf5\\x9b\\xac\\xa1Av\\xe5gwx\\x15\\xc7\\x0c\\xeb\\xa7\\x0e7ab\\xeai\\xab\\x12\\xf5\\xab\\x88\\x0e\\x85\\xa4y\\xc1B\\x0e\\xb9Q\\xae\\x0c\\xbe\\xa8\\x8d]!HN\\xf1nr\\xe03\\xac\\xfd\\xcf;=\\xbb\\x9bu\\x12\\\\S`D\\x83\\xdfL\\x90n\\xb1\\xb5Y\\xb0\\x92\\x19RwI\\xccoS\\xc2\\x96\\x8d\\xd7Z\\xe5\\xdb\\x13\\xcfx\\n$[\\xafe\\x87`{\\x13u\\x87\\xd8\\xbds\\xb6\\xe6\\xce\\xe9\\xe6P\\xbb\\x8bw-\\xc7\\xc8\\xac\\xe4\\xa4g\\xacs\\xe2+]\\xb8\\xaf\\xcc\\xf2x\\xab6\\x16\\xb7\\xf7\\x8cY\\xdd\\xb5{n\\xcb\\xebm\\xab\\x84\\r\\xd4\\xbc\\x80`,\\t\\xcaFqY\\xed\\x86T\\x15\\xad\\x9d\\xe5nIH\\xe2x\\xd5\\xa1)\\x1ePi\\xe2\\x87\\x1b(XHT\\x13\\x9c\\x11 \\xeb\\xca\\rMr\\xf7=\\x10\\xd8a\\xd7X\\xcb\\x8b\\xbc\\xb4n\\xe5\\xd4\\x92P]\\x1b\\xc1\\n\\x02A\\x00\\xe5>4[\\xe8\\xc5^\\xcd]\\x16\\x1di\\xd9\\xcd*\\x06u\\xe3U\\x9b\\x8ayzP\\xb5\\x06\\xc9W\\x9d\\xc7\\xc7\\x8dg\\xa7\\xe1\\xd3//C\\x87+\\xe6\\xad\\xe7\\xc2\\xb6\\xcabUR\\x11*\\xa5\\x1a\\xea\\xb2\\xa6#,\\xfc\\xd5UDn\\xb7\\xd6\\xa8,\\xac\\x84\\xc4F\\xe09\\xd5\\xa4\\xa9\\x1a\\xcd\"+\\xc8\\xf6\\x8e\\x83\\x9et!:\\xc0\\x06f\\xa4\\xc5]\\xb6\\x8c\\xd4\\xa09\\xd6R\\x03\\xf8\\xfd\\xb2\\x1c\\xea\\xdbQq\\xd3\\xa2\\x1b\\x05J\\xf5\\n<y/)\\xd2\\xb5\\xc6)\\xfeF\\x9e\\xbe\\xc1\\xebk;\\x9b\\xa6\\x9a+z\\x02\\xa4J\\x93\\t\\xd72\\x9e\"\\xbb|>3\\xa9\\x9e\\xab\\x9f[<\\xbaRe\\x14\\xe1\\xce>Qq\\xf7Ez\\xbf\\xd3\\xcfw\\t\\xf1\\xd9{\\x13t\\x91\\x1dq\\x19\\x10e\\xb0~5_\\x87\\xfa\\xb5\\xfe\\xbb/f\\xba\\xdb\\x05e\\x84\\xee\\xb7p\\xa2\\x00\\xfaH\\x1f\\x8d7\\xa2\\xf3\\xfc\\xdd\\xa4~nA\\xc8\\xa9\\xa5}\\xe6\\xa8\\xf9W\\xdd|\\xc8\\x1b\\x98C*$\\x84Z\\x85s\\xea\\xa0\\xfb\\xa9\\x9d<\\xbd\\xd7\\xcc\\x94\\xdf\\xcdYD\\xb1\\xea?\\x85_/%\\xdf\\x08\\xac,\\x9e\\x16\\xfe3\\xfe\\x14|\\xbc\\x8f|1XZ\\x8c\\xfc\\x9b\\x06u\\xcf\\xfc)\\xf9y\\x0e\\xe8a\\xc2N\\x7f \\xc1\\xf0X\\xab\\xb3#\\xb9NN\\x14\\x80 \\xdb\\xb6\\x0fr\\x85W\\x1a\\xbb\\xa0\\x0e\\xe1R\\xac\\xad\\xd1\\xaf\\xd6\\x15vS\\xdd\\x03V\\x14G\\xfa8\\x8e\\xe5\\x0f\\xc6\\x8e\\xdb\\xeb\\x19\\xee\\x9e\\x86\\x8c(\\x05\\x93\\xe4\\xc7\\xc6r\\xf7\\xd5\\xdbZ\\xef{\\r\\x86\\x16\\xd8u\\xe2\\x0b\\xabE\\xb0\\x99R\\x94\\xbd\\xdfmf\\xe3}\\x86\\xfe\\xab\\x16\\xf3\\x13\\xb0U\\xbb\\x89g\\x17\\xb6*\\xdd;\\xb1v5\\xe1\\xc6\\xa9/\\xb2\\xf2\\xb7n\\xee-\\xae\\xecm1\\x0bd\\xb6\\xdb\\x17\\x96\\x8c\\xdd\\'p\\xf6{i\\x9c\\xa8\\x93\\\\:K\\xb9\\xb6\\xca\\xc9`[7\\x1fTT\\x92\\xc3\\x82\\xa0\"\\x1c\\x14\\xa3\\x1dX\\xdd1J>\\xc0\\xf6\\x0f\\x8dU&\\xb7r\\xad\\xd9\\x0bL\\x1e\\'9\\xa0*g1\\x06Xl\\x95\\xad)\\x81\\xa91^{\\x1e\\xcd\\xb5\\xbf\\xe5\\x07\\x958[\\xc3-\\xdf\\xbdp\\x1d\\x18A_\\xac\\xe8=u\\x9bd2Z\\x9fm\\x86m\\x06!\\x9b\\xaa\\xb6\\xc3[<\\x1cWZ\\xe7\\xfb)\\xcb\\xd6k\\x17?f\\xbb\\x1b{=\\x91\\xb1J\\x82\\xf1\\x0b\\x8b\\xbb\\xf5\\xf1\\x0b_V\\xdf\\xfb)\\xf8\\x9a\\xcd\\xb6\\xb51\\x91\\xe9,m\\xad\\xec\\x9b\\xdc\\xb2\\xb6f\\xd9\\x1c\\x9a@L\\xfax\\xd6t^\\x17\\xa7\\x94\\xcfG\\xbb\\xe7=\\xccB\\xdd^\\xbd\\xe1\\xf1\\xafO\\xc2~\\xf1\\xe5\\xf8\\xbf\\xdd\\xb9\\xe6u\\xe0\"\\xbe\\x93\\xe7\\x14\\x1f\\x0f\\x0eT\\x89tp\\'_\\x8d\\x06\\x1c\\x0epO\\xb2\\xa4t\\xcf\\x1f\\n\\xb4Xg\\x85D\\x84\\x98\\x9c\\xc7\\xa6\\xa0BH\\xa8\\x10\\x9c\\x8dD\\xc9\\xce8\\xd4u\\xeaI\\xf5\\xd0vf\\xb9\\x8a\\x845Yhc\\x84T\\xb6\\x90\\xd6\\x1a\\xe3\\xb8{\\x97n]Z2\\x95Jm\\x9b=\\xb58\\xb1\\xae\\xf4y\\xa3\\\\\\xf3\\x88\\xcf\\xbf\\x86}~\\xdc\\xb5#\\xbe=\\x1e\\xe9\\xdd\\xb6\\xb1\\xc8\\tY\\xddI \\x1d3\\x1e\\x83\\xcb\\xbe\\xbb\\xe3w%p\\xb3WN\\xab#\\xf3/D8&7v\\x10l,0;\\'\\x1cJ;K\\x84\\xb6\\x99\\x84\\x98\\x073\\xccW\\x9b9\\xbc\\xab\\xbfN\\xeb\\x18\\xf6\\x168U\\xea\\xadZq\\xb2\\xce\\xe3\\x89\\x0e\\tp\\xcc+>#\\xbe\\xb38\\xe1\\xae\\xed\\xf2\\x960\\xab\\xeeM\\x1f\\xfb\\xcav\\x8e\\x18]\\xef\\xd5G\\xa1b\\xae\\xe4\\x05\\xdd\\x8d\\xdd\\xbd\\xbb\\x8f\\xba\\x81\\xd56\\x92\\xb5\\x90\\xa0`\\x0c\\xc9\\x8afKO+\\xb2\\x18\\xdd\\x95\\xd0\\xb9\\xc5[\\xda?-\\xc3\\xafR|\\x91\\x0baL\\xa5\\x00\\x13\\x98\\xde\\x00\\x93\\xa8\\x9e M\\x17,g\\x0b\\x9a}\\xb6(\\xe2\\x1a\\tN\\xf2\\xe3\\x8c\\xcf\\xb5\"\\x0f\\x8dq\\xef\\xad\\xf6\\xc7\\x9e\\xb7\\xd9\\xfc1\\x95%n0n\\xdd\\x99\\xdf\\xb9Q^~\\x1a{+\\x85\\xce\\xe4\\xf6Ldo\\xd8X-\\x04 \\x04$e\\xb8\\x91\\x00z\\x05e\\xa4\\x86\\xcc\\x1a\\x82b\\x15 T\\x92\\x1b4\\'\\x87\\xe9\\xc0\\x05ti~~\\xa5\\xcd\\xb2\\xff\\x00\\xac\\x03\\xe3^\\x8f\\x85\\xbf\\xee\\xcf\\xd7\\xfa<\\xff\\x00\\x15?\\xdb\\xb5\\xce\\x13\\xcf\\xdf_Q\\xf2\\xfd\\x0e\\x1aiQ\\xd1\\xe3N4\\x1dh\\xe8\\xce8x\\xd5\\xb5\\x0e\\x139MGLW\\x85H\\xd5P\\xa9\\x84\\xf2\\xe3HaV\\xbd\\xd5\\x1d\\xd3w\\xa0\\xe9\\xfe5X\\xa1\\t\\xcb*\\t\\xa7>\\xf1P\\xfb\\x1aj \\xba\\x94\\xab\\xceJO\\x88\\xce\\xaf\"\\xda\\x0b\\xf9\\xb4\\xe0\\xd3\\xb2}\\xc6\\x91\\xe2:\\x1b\\xa4}\\xace\\x8f\\xc9\\xcdVO[-\\xb5\\xb9\\x85ZZ!A`\\x82\\xa2\\x11\\xdd\\xc8\\x13^Kw\\x95z0\\xf1\"\\xdd\\xd9\\xfd\\xa3f\\xfd\\xcb+T[8\\xdfYn\\x95%eiRd \\x18\\xe7\\xa4\\xe7\\xddY\\x97fp\\xf4At\\xa2\\x85\\xf1\\x00\\x93\\xc8q\\xa0\\xbc>\\xd5m\\xe6\\x1do\\xb1\\xf8\\xc5\\xd3\\xcc]\\xb4\\x13f\\xe9\\x95\\x04dJH\\x1a+\\x99\\x15K\\xce\\x8c\\xf2\\xd2\\xf4\\'\\x8b\\xe1\\xaete\\xb1\\xf8U\\xd5\\xba\\xd6\\xa5Z\\x84\\x02\\xe3i[{\\xd2\\xae3\"N\\x99q\\xa2\\xd9\\xbd3<=\\xbb\\xfb/\\x86\\xb8\\xb0[7,$\\x08\\xdci\\xd2\\x12=\\x04\\x1a.\\x11\\xbd\\xd79tw\\xd2cx\\x92\\xd9\\xc2\\xb6\\x99\\xd6\\xd8\\xc4\\x15\\x08f\\xf9P\\x86\\xae\\x0f\\x04\\xb9\\xc1\\x0b<\\xfc\\xd5w\\x1dy\\xe7\\xd2\\xd78\\xbd8u{\\xb8\\xbeV\\xbaB\\xd9Y\\x0e%A@\\xc1\\x04i\\\\]S\\x13\\x04\\x024\\xa1$2\\xbe\\x06\\xa4\\x98\\xca\\x16\\xac\\xc2Ls9T\\x9eG\\xa6F\\t\\xe8\\xc7\\x1cQVh\\x0c\\xae\\x00\\xe4\\xf2+\\xb7\\xc3\\xfe\\xf7\\x17\\x0f\\x89\\xfd\\xd5s9\\x1e\\xff\\x00\\x1a\\xfa\\xaf\\x95\\xa3\\xc2r\\x102\\xa1\\xae\\x04\\t\\xf1\\xa3d\\xe0\\x90\\x0esJ\\xd1c\\x9eT&NS\\x99\\xa8\\x84\\xb3\\x94zj\\x17\\x98\\x1a\\x8c\\x1dMh\\x1aU\\xacQ\\xa4@}DgU0\\xa0\\xf2\\xcf\\xc2\\x83\\xb6\\x03\"\\x8b\\xc9\\x84?\\nF\\x83sOeCH\\xd7=\\x86\\x1dV\\xe80\\x82c\\x9eT\\xab\\x1d7\\x8atk\\xf9\\xdfd\\xadp\\xcb\\xfd\\xa2\\xbbU\\x9b\\x8c2J\\x05\\x93;\\xc9\\x84\\xa4\\xa4\\x05e\\xa6\\\\+\\xc3k\\xd51\\xe1\\xeb\\xb0\\x9d\\x99\\xbe\\xb2\\xbe\\xb1\\xb8\\xfc\\xfe\\x87\\x11n\\xe2T[\\xfc\\xdc\\x84\\x17\\x12\\x04n\\xef\\x05\\xe5#\\x88\\x14\\r=\\x9f^)\\xd9\\xd1\\xe9{9\\x1a\\x8a\\xb6\\xb4\\xf0\\x1bY\\xb0W\\x18\\xd38\\xa5\\xbbX\\xc5\\xb5\\xb5\\x8d\\xe8P\\r*\\xc9KSAZ\\x80\\xa0\\xb0\\x0ert\\xac\\xdb\\xce\\xda\\x98\\xa2`]\\x1c\\xe2\\xb86\\x03g\\x86\\xd8c\\x18j\\xd3j\\xd0m\\xb7Wd\\xe2U \\xc8Q\\x01\\xc8\\x99\\xaa\\r-\\x16C\\x9dK}yB\\x9e\\xdd\\x1b\\xe5\\x00\\x84\\x95Fq\\xdd4\\xad>m\\xbdz\\xd9J\\x86JI\\x99\\x11\\xaduai\\xf4_\\xd2\\xeb\\x98:Y\\xc2\\xb6\\xa5\\xc7np\\x84\\xc2\\x19\\xbc\\x82\\xb7\\xac\\xc7\\x00\\xae.6?\\xdaH\\xd2FU\\xc7\\xa9\\xd3\\xdf8\\xbd=>\\xb7\\xa6N\\x98\\xc3\\xedZ\\xb9\\xb4f\\xe5\\xab\\x96.-\\x9eHq\\xa7XPZ\\x1cI\\xd1IP\\xc8\\x83^[\\xb8\\xf4&4\\xcbM\\x1f\\x93F|\\xcef\\xa44\\xd5\\xa4\\xf2}+\\xb7\\xd6tk\\xb4i\\xe5k\\xbd\\xeaZO\\xc2\\xbat8\\xeab\\xe3\\xd7\\xfd\\xdds\\tl\\xefO}}W\\xcc\\x90\\xe0\\x8c\\xb2\\xe1\\xa5\\x06rp\\xc8\\xfe\\xf9\\xd0X\\x06|\\xeb[\\xe1h\\xe3\\x90\\x99\\x81\\xef\\xa1SN\\xa7\\x9f\\xbe\\x94\\x12\\xb4\\x1aT\\x02)\\xe1N\\xc1\\nr9\\x1f][V\\x1b\\xc7I\\xa2\\xa2\\x93\\xc0\\x1a\\x1a\\x8c\\xe6EJ0\\xf7\\xebR1GL\\xfdu\\x00.RUn\\xe8\\xe6\\x93V\\xfdN\\x9d\\x9a\\xab\\x82\\x86m\\xd1\\xc1-6\\x9fR@\\xaf\\x9f\\xb7\\xb6D\\xc6\\xae\\xfb\"\\r;\\x1aHj\\xe2|j\\xd8\\xd2[n\\x93\\xce\\x8d\\x9d\\x0c\\xa3)\\xce\\xa8R\\xad\\x89 \\x01\\x99\\xadFj\\xbf\\xdaN\\x9b\\xb6\\x17g\\xf1gp\\xdb\\xccYo\\xdc\\xb3\\x93\\xa6\\xcd\\x85>\\x84+\\x8aJ\\x93\\x96\\xf0\\xe28V\\xb5Wm\\xf5pP$\\x13\\xcf\\xdf]>\\x8eg\\xa5Pu?\\xbf\\n\\x0cX\\xbd\\x15t\\xa7\\x8a\\xec\\x15\\xe0\\xb7!w\\xd8\\x03\\xaa\\xde~\\xc1k\\xf3\\t\\xfam+\\xe8/\\xfa*\\xe3\\xc0\\x8cg\\xd3\\xee\\xe5\\xd7\\x0e\\xa7o\\x1e\\x9f\\xe7\\xf9\\xaf\\xe8\\xeb\\x9d\\x96\\xc7\\xb0\\x9d\\xaa\\xc1Z\\xc5\\xb0\\x0b\\xc4\\xddY8wI\\x88[K\\xe2\\xdb\\x89\\xd5*\\x1c\\x8e\\xba\\x82Fu\\xe5\\xcb\\x1b\\x8d\\xd3\\xd3.\\xdb^\\xac\\xf0\\xac\\x96\\xa7kp\\xc7q}\\x97\\xc5\\xb0\\xc6\\x94\\x86\\xdd\\xbc\\xb6[([\\x93\\xba\\x95\\x1d\\t\\x8c\\xe3*\\xde\\x17\\xb7)}\\x98\\xcf\\x1e\\xeclsV#\\xb2\\xf8\\xd5\\x8d\\xc3\\xad+\\n\\xbc\\x7fp\\x91\\xd6\\xb0\\xc2\\x94\\x85w\\x83\\x03*\\xf7\\xe3\\xd7\\xc7/]<7\\xa3\\x94\\xe1\\xaf^\\x1d\\x88\\xa0\\xfc\\xa6\\x15\\x89\\'\\xc6\\xd5T\\xce\\xae7\\x8d\\xb3\\xd9\\x97\\xb0+b\\xe1\\x1f\\xa4\\xb3\\xbbO\\xdea\\x7f\\x85k\\xe6Ou\\xd9BQ\\xdd\\x9d\\xe4:<[W\\xe1O|\\xa3\\xb2\\xc3\\x0b\\xed\\x82w\\x95\\x1e)#\\xe1N\\xc7i\\xbeP\\xcc\\xfe\\x95\\x1e\\xba\\xa5]\\xba4\\xba\\xd1\\x07\\xe5Q\\xeb\\x15mh\\xde\\xb1\\xb2rq\\x07\\xf9\\xc2\\x9d\\x8d3y\\x04F\\xfa\\x7f\\xda\\x14mh\\xd3\\x13\\xa8\\xcf.umv\\x90\\xf0\\xee\\xef\\xabgFq\\xf6EI\\x84\\xd4\\x08\\xa3\\x96S\\xaf*\\x8e\\xcc#x$\\x123RS\\x9fy\\x8a8\\x89\\xd7\\xf7 \\xf5\\x91\\xcb/ex\\xa3\\xd9\\xb4\\x8bv\\x9c vLw\\xd1\\xb5\\xa6\\xc5\\x86\\xcau\\xf5Q\\xb3\"[d\\x81B\\xd3Q\\xb6\\x1b[\\x82\\xecv\\x17\\xf9\\xc3h\\xef\\xd1h\\xc9\\xc9\\xb6\\xfc\\xe7_<\\x9b@\\xcdG\\xbfA\\xc4\\x8a\\xd4\\x96\\xf8NZ\\xe9;\\xa7,ok\\xc3\\xb8~\\x0f\\xd6`\\xd8\\x12\\xe5%\\xa6\\xd7\\xf2\\xf7\\t\\xff\\x00Z\\xb1\\xa0?Q9g\\x04\\x9a\\xe98b\\xe5\\xaf\\xd9U\\ty)BD&#!\\x11Gn\\xd9\\xbak\\x81\\xd4\\x1a\\xe9\\xb6D\\x07\\x89\\x99\\xab\\x80 \\xe1\\x94\\xe7\\xfb\\xc5\\x17\\x92\\xf4;\\x0f\\xb6\\x18\\xce\\xc5c#\\x12\\xc0n\\x83n\\x10\\x12\\xeb+\\x1b\\xcd\\\\$}\\x07\\x11\\xf4\\x87~DND\\x1a2\\x93)\\xcbXeq\\xae\\xc5\\xe8\\xc7\\xa4\\\\\\x1b\\xa4\\x0c5Na\\xe4Z\\xe2l\\xa3~\\xeb\\x0eu`\\xb8\\xd0\\xd0\\xa9\\'\\xe9\\xb7?Hi\\x94\\x81^l\\xbaw\\x17\\xab\\x1c\\xa5\\x9b\\x9f\\xe7\\xf9\\xfc\\xff\\x00\\x94\\xf6\\x93\\x95a\\xa3w\\x8f\\xd6>\\xba\\xb4\\x99\\xbc~\\xb1\\xa3Kd&u\\x8fH\\xabH\\xd5!\\x07V\\xd0|R)\\xd0\\rV\\xb6\\xca\\xf3\\xad\\xed\\xcf\\x8bI?\\n\\x90+\\xc2\\xb0\\xe5\\xf9\\xf8}\\x92\\xbcXG\\xe1H\\xd4\\xf6\\x01\\xcd\\x9f\\xc1\\x97\\xe7\\xe1\\x18y\\xf1\\xb7G\\xe1N\\xef\\xba\\xed\\xc7\\xd9\\x1d{)\\xb3\\xeb\\xf3\\xf0<0\\xff\\x00\\xe1\\xd3\\xf8U\\xdd\\x97\\xb8\\xed\\xc7\\xd8\\x076\\'e\\xd7\\xe7`\\x18f\\x7f\\xeaE=\\xd9{\\x8e\\xcc}\\x91\\x97\\xd1\\xf6\\xc9/]\\x9f\\xc3\\xe7\\xb9\\x11\\xf1\\xab\\xe6g\\xee\\xbe^\\x1e\\xc8\\xcetm\\xb1\\xca\\x19\\xe0\\x16\\x83\\xc3x|j\\xf9\\x99\\xfb\\x9f\\x95\\x87\\xb22\\xfa.\\xd8\\xe5i\\x824<\\x1cX\\xf8\\xd3\\xf33\\xf7\\x1f+\\x0f`W\\xd1^\\xc7\\x9c\\xbf5\\x11\\xe0\\xfa\\xc7\\xc6\\xaf\\x9b\\x9f\\xb8\\xbd,=\\x80WD\\xbb \\xa8\\xff\\x007\\xbc<.W\\xf8\\xd3\\xf3s\\xf7\\x1f\\'\\x0fd\\x9c/\\xa2\\xdd\\x97\\xb1\\xbcf\\xe1\\x8b7\\n\\xdbPP\\x0e\\xba\\\\N\\\\\\xc1\\xc8\\xd5\\xf3s\\xb3V\\x8f\\x95\\x8c\\xf0\\xf7\\xa6\\xcd\\xa4\\x12R3\\xe6s\\xa7kB\\x04@\\x8a\\tR59\\x00\\x04\\x92r\\x00s5%)\\xd2\\x7fO\\xb8f\\x00^\\xc3v<3\\x8bb\\x89\\x94\\xae\\xedY\\xdb0~\\xcc~\\x90\\xf8v{\\xce\\x95\\xd2a\\xbek9Y\\x8f\\x0e_\\xda\\x0c{\\x13\\xda,U\\xdcK\\x1c\\xbe~\\xfa\\xf9\\xdf9\\xe7\\x95&8\\x04\\x8d\\x12\\x9e\\xe1\\x95t\\x93^\\x1c\\xeeW.kZVbI\\xf1\\xa83x\\xf7eW\\x03\\x90\\xa7<\\xe9V\\x08\\x83R\\x83 I\\xe1\\xeb\\xab{\\xa4\\x873?\\xb8\\xa0&ax\\x85\\xe6\\x15\\x88\\xdb\\xdf\\xe1\\x97.\\xda_[9\\xbe\\xd3\\xed(\\xa5m\\x9e`\\x8e\\xec\\xa3\\x8e\\x95qZ\\xdd\\x97q\\xd5}\\x10\\xf4\\xcfi\\xb5~O\\x83\\xed)b\\xc3hL!\\xb7rC\\x17\\xa7\\x84pC\\x87\\xea\\xe8O\\x9b\\x13\\xbb\\\\3\\xe9\\xeb\\x98\\xef\\x86}\\xde\\'\\xf9\\xf4\\xff\\x007\\xfd\\xad\\xe5\\x12\\x92A\\x04\\x10`\\xcf:\\xe4\\xe9+\\x02\\xaaE\\n\\xa93z\\x94Y\\xa1\\x15\"H\\x03S\\x95I]\\xe2=,`\\xd6\\x18\\xb5\\xe5\\x8b\\x98~\"\\xe8\\xb6yL\\x97\\x99Se+)0H\\x04\\x83\\x13\"\\xbaN\\x9d\\xd6\\xc6\\xe4\\xf3Nk\\xa5\\xbd\\x99\\\\u\\x8db\\xec\\xfd\\xebP\\xaf\\xec\\xa8\\xd5\\xf2\\xb2;\\x9e\\xe9mt\\xa1\\xb2\\x0e\\t8\\x9b\\xed~\\xd6\\xcd\\xd1\\xee\\x06\\x8f\\x97\\x97\\xb2\\xe3\\xdd-\\xae\\x906E\\xd3\\t\\xda\\x1b\\x14\\xfd\\xfd\\xf4{\\xd3Gf^\\xcbOAcym\\x88Y\\xb5wap\\xd5\\xcd\\xab\\xa3y\\xb7\\x9aV\\xf2V&2>\\x8a\\xca\\xb3^G\\x8a\\x91\\xa55\\x06n\\nQ\\xc9M!$\\x9c\\xabL<\\xd6\\xddm\\xae\\x03\\xb1\\x18w\\x95\\xed\\r\\xe8ik\\x04\\xb3j\\xdfi\\xf7\\xfe\\xe29}\\xa3\\x03\\xbe\\x99-\\xf0~\\xb5\\xc9\\xfd(\\xf4\\xc7\\x8fm\\xb9v\\xc9\\x92p\\xbc\\x06`Y0\\xbe\\xd3\\xa3\\x9b\\xab\\xd5^\\x19\\'\\xbb\\x8du\\xc7\\x19\\x1c\\xb2\\xcf\\xd2+\\x19\"\\x06U\\xa6\\t0*L9eBd\\x8e4\\x82Nd\\n\\x91RH\\x19\\xe9V\\xc8\\xc0\\xe5\\xa9\\xc8\\xd3\\xb5\\xe8p9\\x899\\x9e\\\\\\xa8\\xf2\\xbc\\x1e\\x95r\\x83\\xc0\\xf7\\xd3\\xa8|\\x94\\x84\\xa90s\\x07,\\xfch\\x0b\\xef\\xa2.\\x9b\\xdd\\xc3\\xc38.\\xdc<\\xbb\\x8b\\x10\\x02\\x18\\xc53[\\xacF[\\xae\\xf1Z>\\xd7\\x9c\\x9f\\xb44\\xe5\\x96\\x1b\\xf0\\xed\\x8fR^/\\xf9\\xfe{\\xff\\x00\\xcf\\xbb\\xa4\\x9a[o2\\xd3\\xcc:\\xd3\\xcc:\\x80\\xe3n\\xb4\\xa0\\xb48\\x82$)*\\x19\\x10y\\x8a\\xe1ev;:\\x91\\xc1&\\x90p\\x15\\x14\\x1d\\xa1\\xc4\\xd3\\x83`8\\x8e$\\xb8\\xf9\\xab\\nq3\\xc5Q\\t\\x1e\\xb2*\\x93|)\\xe5\\xce\\x18\\r\\xba\\\\\\xb2u\\xdb\\x96\\xd0\\xf2\\xddp\\x0e\\xdaA\\x93\\xa9#\\x91\\x92k\\xbeWWPNy\\xa9\\xea\\xc3\\xac\\xdcR\\xfein$\\x9d\\xd2\\x04NYe#\\xf7\\xf1\\xacn\\x9e\\xd8\\x12\\xb0\\x9b.\\xca|\\x9c\\x03\\xbf\\xafX\\xa4\\xc8\\x8d5\\xcbCOu\\x1d\\xb1\\xe7\\xb1f\\x9b\\xb6}]BJ\\x10\\x94\\x95\\x00T\\xa5H\\xe0s\\xf8\\x18\\xae\\xb3u\\x9b9t\\xbe\\xc4Y\\xf9\\x06\\xc6`v\\xc4AE\\x9bd\\xe5\\xc4\\x8d\\xe3\\xef\\xaf/\\x9bkm\\xe0\\xa8RT\\x89V\\xd1\\x1cR\\x1ae\\xc7\\x9eq\\r2\\xdaw\\xd6\\xe3\\x8a\\tJ\\x125$\\x9c\\x80\\xad\\x0f>\\x14GI\\xff\\x00\\x94%\\x9d\\x87]\\x86\\xec E\\xe5\\xd8\\x94\\xaf\\x13u2\\xd3|\\xfa\\xa4\\x9f<\\xfd\\xa3\\x97\\x8dt\\x98z\\xd7<\\xb2\\x98\\xf1\\xe6\\xb9\\x9f\\x17\\xc4\\xef\\xb1\\x8cE\\xeb\\xfcV\\xed\\xfb\\xcb\\xd7\\x8e\\xf3\\x8f>\\xbd\\xe5+\\xd7\\xc3\\xbbJ\\xe8\\xe5\\x95\\xb7\\xca\\x191\\xca\\x9d3HO/E\\x0b\\xcb5\\xf4\\xd3\\xb2\\xcc\\xa2(L\\x03.5\\x06\\x11\\x9e\\x82\\xa2v\\xa3\\\\\\xb9\\x11\\xad^\\x17\\x92\\x82f\\x91\\xb3\\xc2\\xb4\\xe5O\\x88}O&39\\x1e&(\\x9c\\xf0\\xb8\\x85\\n\\x10g\\xd1Z\\x02\\xcc\\x80s\\xcf\\x89\\x14iJ\\xb1\\xfa(\\xe9W\\x13\\xd8G\\xd1f\\xea\\x17\\x88l\\xfa\\xd6K\\xb6*T\\x16\\x899\\xad\\x95\\x1f5\\\\J|\\xd5q\\x83\\x98\\xc6Xn:\\xe1\\x9e\\xb8\\xae\\xb6\\xd9\\x9c\\x7f\\x0b\\xda|\\x19\\xacW\\x02\\xbcE\\xdd\\x93\\x87t\\xa8d\\xa6\\xd7\\xc5\\x0bN\\xa8P\\xe4|D\\x8c\\xeb\\xcf\\x94\\xb8\\xde]\\xe5\\xdbl(,\\x9a\\x92\\xb2\\xe9\\xdf\\x17M\\xae\\xce\\xd9aiX\\x0e_?\\xd6,O\\xf1m\\xe7\\xedQ\\x1e\\xaa\\xdfNn\\xec^\"\\xa2\\xb4\\xc6\\x1d\\xb7\\xb6C(i\\x05)\\xcc\\x10H3\\xce\\xba\\xdc7\\xc8\\xeeHV>T\\x95\\x85[\\x94\\xa9I\\x03y+\\x06\\x0f8\"\\x08\\xee5v\\x1e\\xe8\\x8a\\xde5z\\x84\\xc4\\xb0\\xa1\\xa4)\\xa1\\x1e\\xca{ \\xee\\xa8o)W\\xf7Q\\xb8\\x84\\xb9p\\xb4\\xa0\\x86\\xd3\\xba\\t$&c\\x99\\xa7\\xc4[\\xddu\\xba\\x1aK-\\xa1\\x94\\x8e\\xcbiJ\\x00\\xf0\\x00|+\\xc9\\x1a,R\\x19\\x15\\'\\x8d\\xe9\\x0f\\xa4m\\x9d\\xd8+\\x7f\\xf3\\xc5\\xcf]\\x88)2\\xd6\\x1fnB\\x9e_\"~\\xa2{\\xcf\\xa2kX\\xe3r\\x16\\xccf\\xeb\\x93:L\\xe9Oh6\\xf5\\xf2\\xdd\\xeb\\xa2\\xcf\\tJ\\xb7\\x9a\\xc3\\xad\\xc9\\xea\\xc7\"\\xb3\\xaa\\xd5\\xder\\xe4\\x05w\\xc7\\t\\x8b\\x8e]Kx\\x9cG\\x83:\\xc4\\x8f\\x01N\\xdc\\xf4Br\\xee\\xa50\\xd5\\x05!\\x88\\xcb\\xdbBf\\xbciL\\xe74#\\xa3\\x94Gx\\xa51YLw\\xd0X\\x0eC\\xc6\\xa4\\xc1\\x9e\\xef}H\\xa4\\x91\\x15ED\\'1\\xe1\\xf0\\xad\\nT\\x935\\x1fA\\x87\\x9a=5C9=9\\x8c\\xfb\\xfd\\xd5\\x9b\\xe5=\\xc7B\\xf8\\xe6%\\x83t\\x91\\x827\\x86^9n\\xd6!x\\xd5\\xad\\xdbi\\x82\\x87\\x9b*\\x8d\\xd5$\\xe4u\\xc8\\xea8\\x11F\\xb7\\x8d\\xdb\\xa7J\\xfem;eY(\\x81^gsf\\xa8\\x80\\xba\\xc30\\xfcII\\x18\\x8d\\x8d\\xa5\\xde\\xe8\\x84\\xf5\\xec\\xa5\\xcd\\xd1\\xdd#*\\xb5\\xb0\\x8c\\xae\\x8fvJ\\xe1$\\xbb\\xb3\\xf8|\\xf3C[\\x9e\\xe8\\xa2\\xf1\\xe0W\\x9e\\xc6\\xfa8\\xd96\\x90\\xa55\\x84%\\xb2>\\xab\\xce\\x8fr\\xaa\\xbdL\\xa7\\x8a4\\xab6\\x93g\\xf0\\xcb%+\\xc9\\xad\\xd4\\x8e\\x1f\\xa5Y\\xf7\\x9a\\xd6=\\\\\\xbd\\xcbE\\xb3\\xac6\\xad\\xab\\xc2[)\\x94yc9\\x12~\\xb8\\xad\\xf7[\\x8d1\\xd4\\xce\\xfe\\x91^5\\xcd\\x1a5\\xa9<7MX\\xee%\\xb3\\xbd\\x1d\\xe2X\\x86\\x0bt\\xab[\\xd4$\\x04\\xba\\x94\\xa4\\x94\\xc9\\x00\\xc4\\x83\\x07=kX\\xc9i\\x9e-\\xfa8r\\xee\\xe5\\xfb\\xc7\\xdc\\xb9\\xbby\\xc7\\xee\\x1e;\\xce:\\xea\\x8a\\x96\\xb2Fd\\x93\\x99\\xafC\\xc7\\xbb\\x95\\xdd\\x05Z\\xa4w|)\\x04$\\xefPJ<\\xe3\\xdcj\\x88\\x87\\x8d@\\x80\\x9c\\xeaE\\x03\\xb4iLI\\xd7\\xc6\\x844\\r\\xe5e\\xc6\\xb5<\\x1a\\xff\\xd9'"
      ]
     },
     "execution_count": 34,
     "metadata": {},
     "output_type": "execute_result"
    }
   ],
   "source": [
    "image_link.content"
   ]
  },
  {
   "cell_type": "code",
   "execution_count": 36,
   "id": "e11abfdf",
   "metadata": {},
   "outputs": [],
   "source": [
    "with open('computer.jpg', 'wb') as f:\n",
    "    f.write(image_link.content)"
   ]
  },
  {
   "cell_type": "code",
   "execution_count": null,
   "id": "674f1ad6",
   "metadata": {},
   "outputs": [],
   "source": []
  },
  {
   "cell_type": "code",
   "execution_count": null,
   "id": "49a92077",
   "metadata": {},
   "outputs": [],
   "source": []
  },
  {
   "cell_type": "code",
   "execution_count": null,
   "id": "62105a56",
   "metadata": {},
   "outputs": [],
   "source": []
  },
  {
   "cell_type": "code",
   "execution_count": 37,
   "id": "3c74157e",
   "metadata": {},
   "outputs": [],
   "source": [
    "import requests\n",
    "import bs4"
   ]
  },
  {
   "cell_type": "code",
   "execution_count": 38,
   "id": "066f6b4b",
   "metadata": {},
   "outputs": [
    {
     "data": {
      "text/plain": [
       "'https://books.toscrape.com/catalogue/page-1.html'"
      ]
     },
     "execution_count": 38,
     "metadata": {},
     "output_type": "execute_result"
    }
   ],
   "source": [
    "'https://books.toscrape.com/catalogue/page-1.html'"
   ]
  },
  {
   "cell_type": "code",
   "execution_count": 39,
   "id": "069d7adf",
   "metadata": {},
   "outputs": [
    {
     "data": {
      "text/plain": [
       "'https://books.toscrape.com/catalogue/page-2.html'"
      ]
     },
     "execution_count": 39,
     "metadata": {},
     "output_type": "execute_result"
    }
   ],
   "source": [
    "'https://books.toscrape.com/catalogue/page-2.html'"
   ]
  },
  {
   "cell_type": "code",
   "execution_count": 40,
   "id": "311b74c5",
   "metadata": {},
   "outputs": [],
   "source": [
    "base_url = 'https://books.toscrape.com/catalogue/page-{}.html'"
   ]
  },
  {
   "cell_type": "code",
   "execution_count": 41,
   "id": "1fa936b0",
   "metadata": {},
   "outputs": [
    {
     "data": {
      "text/plain": [
       "'https://books.toscrape.com/catalogue/page-20.html'"
      ]
     },
     "execution_count": 41,
     "metadata": {},
     "output_type": "execute_result"
    }
   ],
   "source": [
    "page_num = 20\n",
    "base_url.format(page_num)"
   ]
  },
  {
   "cell_type": "code",
   "execution_count": 42,
   "id": "251dc622",
   "metadata": {},
   "outputs": [],
   "source": [
    "res = requests.get(base_url.format(1))"
   ]
  },
  {
   "cell_type": "code",
   "execution_count": 43,
   "id": "13f66354",
   "metadata": {},
   "outputs": [],
   "source": [
    "soup = bs4.BeautifulSoup(res.text, 'lxml')"
   ]
  },
  {
   "cell_type": "code",
   "execution_count": 45,
   "id": "742ec967",
   "metadata": {},
   "outputs": [
    {
     "data": {
      "text/plain": [
       "[<article class=\"product_pod\">\n",
       " <div class=\"image_container\">\n",
       " <a href=\"a-light-in-the-attic_1000/index.html\"><img alt=\"A Light in the Attic\" class=\"thumbnail\" src=\"../media/cache/2c/da/2cdad67c44b002e7ead0cc35693c0e8b.jpg\"/></a>\n",
       " </div>\n",
       " <p class=\"star-rating Three\">\n",
       " <i class=\"icon-star\"></i>\n",
       " <i class=\"icon-star\"></i>\n",
       " <i class=\"icon-star\"></i>\n",
       " <i class=\"icon-star\"></i>\n",
       " <i class=\"icon-star\"></i>\n",
       " </p>\n",
       " <h3><a href=\"a-light-in-the-attic_1000/index.html\" title=\"A Light in the Attic\">A Light in the ...</a></h3>\n",
       " <div class=\"product_price\">\n",
       " <p class=\"price_color\">Â£51.77</p>\n",
       " <p class=\"instock availability\">\n",
       " <i class=\"icon-ok\"></i>\n",
       "     \n",
       "         In stock\n",
       "     \n",
       " </p>\n",
       " <form>\n",
       " <button class=\"btn btn-primary btn-block\" data-loading-text=\"Adding...\" type=\"submit\">Add to basket</button>\n",
       " </form>\n",
       " </div>\n",
       " </article>,\n",
       " <article class=\"product_pod\">\n",
       " <div class=\"image_container\">\n",
       " <a href=\"tipping-the-velvet_999/index.html\"><img alt=\"Tipping the Velvet\" class=\"thumbnail\" src=\"../media/cache/26/0c/260c6ae16bce31c8f8c95daddd9f4a1c.jpg\"/></a>\n",
       " </div>\n",
       " <p class=\"star-rating One\">\n",
       " <i class=\"icon-star\"></i>\n",
       " <i class=\"icon-star\"></i>\n",
       " <i class=\"icon-star\"></i>\n",
       " <i class=\"icon-star\"></i>\n",
       " <i class=\"icon-star\"></i>\n",
       " </p>\n",
       " <h3><a href=\"tipping-the-velvet_999/index.html\" title=\"Tipping the Velvet\">Tipping the Velvet</a></h3>\n",
       " <div class=\"product_price\">\n",
       " <p class=\"price_color\">Â£53.74</p>\n",
       " <p class=\"instock availability\">\n",
       " <i class=\"icon-ok\"></i>\n",
       "     \n",
       "         In stock\n",
       "     \n",
       " </p>\n",
       " <form>\n",
       " <button class=\"btn btn-primary btn-block\" data-loading-text=\"Adding...\" type=\"submit\">Add to basket</button>\n",
       " </form>\n",
       " </div>\n",
       " </article>,\n",
       " <article class=\"product_pod\">\n",
       " <div class=\"image_container\">\n",
       " <a href=\"soumission_998/index.html\"><img alt=\"Soumission\" class=\"thumbnail\" src=\"../media/cache/3e/ef/3eef99c9d9adef34639f510662022830.jpg\"/></a>\n",
       " </div>\n",
       " <p class=\"star-rating One\">\n",
       " <i class=\"icon-star\"></i>\n",
       " <i class=\"icon-star\"></i>\n",
       " <i class=\"icon-star\"></i>\n",
       " <i class=\"icon-star\"></i>\n",
       " <i class=\"icon-star\"></i>\n",
       " </p>\n",
       " <h3><a href=\"soumission_998/index.html\" title=\"Soumission\">Soumission</a></h3>\n",
       " <div class=\"product_price\">\n",
       " <p class=\"price_color\">Â£50.10</p>\n",
       " <p class=\"instock availability\">\n",
       " <i class=\"icon-ok\"></i>\n",
       "     \n",
       "         In stock\n",
       "     \n",
       " </p>\n",
       " <form>\n",
       " <button class=\"btn btn-primary btn-block\" data-loading-text=\"Adding...\" type=\"submit\">Add to basket</button>\n",
       " </form>\n",
       " </div>\n",
       " </article>,\n",
       " <article class=\"product_pod\">\n",
       " <div class=\"image_container\">\n",
       " <a href=\"sharp-objects_997/index.html\"><img alt=\"Sharp Objects\" class=\"thumbnail\" src=\"../media/cache/32/51/3251cf3a3412f53f339e42cac2134093.jpg\"/></a>\n",
       " </div>\n",
       " <p class=\"star-rating Four\">\n",
       " <i class=\"icon-star\"></i>\n",
       " <i class=\"icon-star\"></i>\n",
       " <i class=\"icon-star\"></i>\n",
       " <i class=\"icon-star\"></i>\n",
       " <i class=\"icon-star\"></i>\n",
       " </p>\n",
       " <h3><a href=\"sharp-objects_997/index.html\" title=\"Sharp Objects\">Sharp Objects</a></h3>\n",
       " <div class=\"product_price\">\n",
       " <p class=\"price_color\">Â£47.82</p>\n",
       " <p class=\"instock availability\">\n",
       " <i class=\"icon-ok\"></i>\n",
       "     \n",
       "         In stock\n",
       "     \n",
       " </p>\n",
       " <form>\n",
       " <button class=\"btn btn-primary btn-block\" data-loading-text=\"Adding...\" type=\"submit\">Add to basket</button>\n",
       " </form>\n",
       " </div>\n",
       " </article>,\n",
       " <article class=\"product_pod\">\n",
       " <div class=\"image_container\">\n",
       " <a href=\"sapiens-a-brief-history-of-humankind_996/index.html\"><img alt=\"Sapiens: A Brief History of Humankind\" class=\"thumbnail\" src=\"../media/cache/be/a5/bea5697f2534a2f86a3ef27b5a8c12a6.jpg\"/></a>\n",
       " </div>\n",
       " <p class=\"star-rating Five\">\n",
       " <i class=\"icon-star\"></i>\n",
       " <i class=\"icon-star\"></i>\n",
       " <i class=\"icon-star\"></i>\n",
       " <i class=\"icon-star\"></i>\n",
       " <i class=\"icon-star\"></i>\n",
       " </p>\n",
       " <h3><a href=\"sapiens-a-brief-history-of-humankind_996/index.html\" title=\"Sapiens: A Brief History of Humankind\">Sapiens: A Brief History ...</a></h3>\n",
       " <div class=\"product_price\">\n",
       " <p class=\"price_color\">Â£54.23</p>\n",
       " <p class=\"instock availability\">\n",
       " <i class=\"icon-ok\"></i>\n",
       "     \n",
       "         In stock\n",
       "     \n",
       " </p>\n",
       " <form>\n",
       " <button class=\"btn btn-primary btn-block\" data-loading-text=\"Adding...\" type=\"submit\">Add to basket</button>\n",
       " </form>\n",
       " </div>\n",
       " </article>,\n",
       " <article class=\"product_pod\">\n",
       " <div class=\"image_container\">\n",
       " <a href=\"the-requiem-red_995/index.html\"><img alt=\"The Requiem Red\" class=\"thumbnail\" src=\"../media/cache/68/33/68339b4c9bc034267e1da611ab3b34f8.jpg\"/></a>\n",
       " </div>\n",
       " <p class=\"star-rating One\">\n",
       " <i class=\"icon-star\"></i>\n",
       " <i class=\"icon-star\"></i>\n",
       " <i class=\"icon-star\"></i>\n",
       " <i class=\"icon-star\"></i>\n",
       " <i class=\"icon-star\"></i>\n",
       " </p>\n",
       " <h3><a href=\"the-requiem-red_995/index.html\" title=\"The Requiem Red\">The Requiem Red</a></h3>\n",
       " <div class=\"product_price\">\n",
       " <p class=\"price_color\">Â£22.65</p>\n",
       " <p class=\"instock availability\">\n",
       " <i class=\"icon-ok\"></i>\n",
       "     \n",
       "         In stock\n",
       "     \n",
       " </p>\n",
       " <form>\n",
       " <button class=\"btn btn-primary btn-block\" data-loading-text=\"Adding...\" type=\"submit\">Add to basket</button>\n",
       " </form>\n",
       " </div>\n",
       " </article>,\n",
       " <article class=\"product_pod\">\n",
       " <div class=\"image_container\">\n",
       " <a href=\"the-dirty-little-secrets-of-getting-your-dream-job_994/index.html\"><img alt=\"The Dirty Little Secrets of Getting Your Dream Job\" class=\"thumbnail\" src=\"../media/cache/92/27/92274a95b7c251fea59a2b8a78275ab4.jpg\"/></a>\n",
       " </div>\n",
       " <p class=\"star-rating Four\">\n",
       " <i class=\"icon-star\"></i>\n",
       " <i class=\"icon-star\"></i>\n",
       " <i class=\"icon-star\"></i>\n",
       " <i class=\"icon-star\"></i>\n",
       " <i class=\"icon-star\"></i>\n",
       " </p>\n",
       " <h3><a href=\"the-dirty-little-secrets-of-getting-your-dream-job_994/index.html\" title=\"The Dirty Little Secrets of Getting Your Dream Job\">The Dirty Little Secrets ...</a></h3>\n",
       " <div class=\"product_price\">\n",
       " <p class=\"price_color\">Â£33.34</p>\n",
       " <p class=\"instock availability\">\n",
       " <i class=\"icon-ok\"></i>\n",
       "     \n",
       "         In stock\n",
       "     \n",
       " </p>\n",
       " <form>\n",
       " <button class=\"btn btn-primary btn-block\" data-loading-text=\"Adding...\" type=\"submit\">Add to basket</button>\n",
       " </form>\n",
       " </div>\n",
       " </article>,\n",
       " <article class=\"product_pod\">\n",
       " <div class=\"image_container\">\n",
       " <a href=\"the-coming-woman-a-novel-based-on-the-life-of-the-infamous-feminist-victoria-woodhull_993/index.html\"><img alt=\"The Coming Woman: A Novel Based on the Life of the Infamous Feminist, Victoria Woodhull\" class=\"thumbnail\" src=\"../media/cache/3d/54/3d54940e57e662c4dd1f3ff00c78cc64.jpg\"/></a>\n",
       " </div>\n",
       " <p class=\"star-rating Three\">\n",
       " <i class=\"icon-star\"></i>\n",
       " <i class=\"icon-star\"></i>\n",
       " <i class=\"icon-star\"></i>\n",
       " <i class=\"icon-star\"></i>\n",
       " <i class=\"icon-star\"></i>\n",
       " </p>\n",
       " <h3><a href=\"the-coming-woman-a-novel-based-on-the-life-of-the-infamous-feminist-victoria-woodhull_993/index.html\" title=\"The Coming Woman: A Novel Based on the Life of the Infamous Feminist, Victoria Woodhull\">The Coming Woman: A ...</a></h3>\n",
       " <div class=\"product_price\">\n",
       " <p class=\"price_color\">Â£17.93</p>\n",
       " <p class=\"instock availability\">\n",
       " <i class=\"icon-ok\"></i>\n",
       "     \n",
       "         In stock\n",
       "     \n",
       " </p>\n",
       " <form>\n",
       " <button class=\"btn btn-primary btn-block\" data-loading-text=\"Adding...\" type=\"submit\">Add to basket</button>\n",
       " </form>\n",
       " </div>\n",
       " </article>,\n",
       " <article class=\"product_pod\">\n",
       " <div class=\"image_container\">\n",
       " <a href=\"the-boys-in-the-boat-nine-americans-and-their-epic-quest-for-gold-at-the-1936-berlin-olympics_992/index.html\"><img alt=\"The Boys in the Boat: Nine Americans and Their Epic Quest for Gold at the 1936 Berlin Olympics\" class=\"thumbnail\" src=\"../media/cache/66/88/66883b91f6804b2323c8369331cb7dd1.jpg\"/></a>\n",
       " </div>\n",
       " <p class=\"star-rating Four\">\n",
       " <i class=\"icon-star\"></i>\n",
       " <i class=\"icon-star\"></i>\n",
       " <i class=\"icon-star\"></i>\n",
       " <i class=\"icon-star\"></i>\n",
       " <i class=\"icon-star\"></i>\n",
       " </p>\n",
       " <h3><a href=\"the-boys-in-the-boat-nine-americans-and-their-epic-quest-for-gold-at-the-1936-berlin-olympics_992/index.html\" title=\"The Boys in the Boat: Nine Americans and Their Epic Quest for Gold at the 1936 Berlin Olympics\">The Boys in the ...</a></h3>\n",
       " <div class=\"product_price\">\n",
       " <p class=\"price_color\">Â£22.60</p>\n",
       " <p class=\"instock availability\">\n",
       " <i class=\"icon-ok\"></i>\n",
       "     \n",
       "         In stock\n",
       "     \n",
       " </p>\n",
       " <form>\n",
       " <button class=\"btn btn-primary btn-block\" data-loading-text=\"Adding...\" type=\"submit\">Add to basket</button>\n",
       " </form>\n",
       " </div>\n",
       " </article>,\n",
       " <article class=\"product_pod\">\n",
       " <div class=\"image_container\">\n",
       " <a href=\"the-black-maria_991/index.html\"><img alt=\"The Black Maria\" class=\"thumbnail\" src=\"../media/cache/58/46/5846057e28022268153beff6d352b06c.jpg\"/></a>\n",
       " </div>\n",
       " <p class=\"star-rating One\">\n",
       " <i class=\"icon-star\"></i>\n",
       " <i class=\"icon-star\"></i>\n",
       " <i class=\"icon-star\"></i>\n",
       " <i class=\"icon-star\"></i>\n",
       " <i class=\"icon-star\"></i>\n",
       " </p>\n",
       " <h3><a href=\"the-black-maria_991/index.html\" title=\"The Black Maria\">The Black Maria</a></h3>\n",
       " <div class=\"product_price\">\n",
       " <p class=\"price_color\">Â£52.15</p>\n",
       " <p class=\"instock availability\">\n",
       " <i class=\"icon-ok\"></i>\n",
       "     \n",
       "         In stock\n",
       "     \n",
       " </p>\n",
       " <form>\n",
       " <button class=\"btn btn-primary btn-block\" data-loading-text=\"Adding...\" type=\"submit\">Add to basket</button>\n",
       " </form>\n",
       " </div>\n",
       " </article>,\n",
       " <article class=\"product_pod\">\n",
       " <div class=\"image_container\">\n",
       " <a href=\"starving-hearts-triangular-trade-trilogy-1_990/index.html\"><img alt=\"Starving Hearts (Triangular Trade Trilogy, #1)\" class=\"thumbnail\" src=\"../media/cache/be/f4/bef44da28c98f905a3ebec0b87be8530.jpg\"/></a>\n",
       " </div>\n",
       " <p class=\"star-rating Two\">\n",
       " <i class=\"icon-star\"></i>\n",
       " <i class=\"icon-star\"></i>\n",
       " <i class=\"icon-star\"></i>\n",
       " <i class=\"icon-star\"></i>\n",
       " <i class=\"icon-star\"></i>\n",
       " </p>\n",
       " <h3><a href=\"starving-hearts-triangular-trade-trilogy-1_990/index.html\" title=\"Starving Hearts (Triangular Trade Trilogy, #1)\">Starving Hearts (Triangular Trade ...</a></h3>\n",
       " <div class=\"product_price\">\n",
       " <p class=\"price_color\">Â£13.99</p>\n",
       " <p class=\"instock availability\">\n",
       " <i class=\"icon-ok\"></i>\n",
       "     \n",
       "         In stock\n",
       "     \n",
       " </p>\n",
       " <form>\n",
       " <button class=\"btn btn-primary btn-block\" data-loading-text=\"Adding...\" type=\"submit\">Add to basket</button>\n",
       " </form>\n",
       " </div>\n",
       " </article>,\n",
       " <article class=\"product_pod\">\n",
       " <div class=\"image_container\">\n",
       " <a href=\"shakespeares-sonnets_989/index.html\"><img alt=\"Shakespeare's Sonnets\" class=\"thumbnail\" src=\"../media/cache/10/48/1048f63d3b5061cd2f424d20b3f9b666.jpg\"/></a>\n",
       " </div>\n",
       " <p class=\"star-rating Four\">\n",
       " <i class=\"icon-star\"></i>\n",
       " <i class=\"icon-star\"></i>\n",
       " <i class=\"icon-star\"></i>\n",
       " <i class=\"icon-star\"></i>\n",
       " <i class=\"icon-star\"></i>\n",
       " </p>\n",
       " <h3><a href=\"shakespeares-sonnets_989/index.html\" title=\"Shakespeare's Sonnets\">Shakespeare's Sonnets</a></h3>\n",
       " <div class=\"product_price\">\n",
       " <p class=\"price_color\">Â£20.66</p>\n",
       " <p class=\"instock availability\">\n",
       " <i class=\"icon-ok\"></i>\n",
       "     \n",
       "         In stock\n",
       "     \n",
       " </p>\n",
       " <form>\n",
       " <button class=\"btn btn-primary btn-block\" data-loading-text=\"Adding...\" type=\"submit\">Add to basket</button>\n",
       " </form>\n",
       " </div>\n",
       " </article>,\n",
       " <article class=\"product_pod\">\n",
       " <div class=\"image_container\">\n",
       " <a href=\"set-me-free_988/index.html\"><img alt=\"Set Me Free\" class=\"thumbnail\" src=\"../media/cache/5b/88/5b88c52633f53cacf162c15f4f823153.jpg\"/></a>\n",
       " </div>\n",
       " <p class=\"star-rating Five\">\n",
       " <i class=\"icon-star\"></i>\n",
       " <i class=\"icon-star\"></i>\n",
       " <i class=\"icon-star\"></i>\n",
       " <i class=\"icon-star\"></i>\n",
       " <i class=\"icon-star\"></i>\n",
       " </p>\n",
       " <h3><a href=\"set-me-free_988/index.html\" title=\"Set Me Free\">Set Me Free</a></h3>\n",
       " <div class=\"product_price\">\n",
       " <p class=\"price_color\">Â£17.46</p>\n",
       " <p class=\"instock availability\">\n",
       " <i class=\"icon-ok\"></i>\n",
       "     \n",
       "         In stock\n",
       "     \n",
       " </p>\n",
       " <form>\n",
       " <button class=\"btn btn-primary btn-block\" data-loading-text=\"Adding...\" type=\"submit\">Add to basket</button>\n",
       " </form>\n",
       " </div>\n",
       " </article>,\n",
       " <article class=\"product_pod\">\n",
       " <div class=\"image_container\">\n",
       " <a href=\"scott-pilgrims-precious-little-life-scott-pilgrim-1_987/index.html\"><img alt=\"Scott Pilgrim's Precious Little Life (Scott Pilgrim #1)\" class=\"thumbnail\" src=\"../media/cache/94/b1/94b1b8b244bce9677c2f29ccc890d4d2.jpg\"/></a>\n",
       " </div>\n",
       " <p class=\"star-rating Five\">\n",
       " <i class=\"icon-star\"></i>\n",
       " <i class=\"icon-star\"></i>\n",
       " <i class=\"icon-star\"></i>\n",
       " <i class=\"icon-star\"></i>\n",
       " <i class=\"icon-star\"></i>\n",
       " </p>\n",
       " <h3><a href=\"scott-pilgrims-precious-little-life-scott-pilgrim-1_987/index.html\" title=\"Scott Pilgrim's Precious Little Life (Scott Pilgrim #1)\">Scott Pilgrim's Precious Little ...</a></h3>\n",
       " <div class=\"product_price\">\n",
       " <p class=\"price_color\">Â£52.29</p>\n",
       " <p class=\"instock availability\">\n",
       " <i class=\"icon-ok\"></i>\n",
       "     \n",
       "         In stock\n",
       "     \n",
       " </p>\n",
       " <form>\n",
       " <button class=\"btn btn-primary btn-block\" data-loading-text=\"Adding...\" type=\"submit\">Add to basket</button>\n",
       " </form>\n",
       " </div>\n",
       " </article>,\n",
       " <article class=\"product_pod\">\n",
       " <div class=\"image_container\">\n",
       " <a href=\"rip-it-up-and-start-again_986/index.html\"><img alt=\"Rip it Up and Start Again\" class=\"thumbnail\" src=\"../media/cache/81/c4/81c4a973364e17d01f217e1188253d5e.jpg\"/></a>\n",
       " </div>\n",
       " <p class=\"star-rating Five\">\n",
       " <i class=\"icon-star\"></i>\n",
       " <i class=\"icon-star\"></i>\n",
       " <i class=\"icon-star\"></i>\n",
       " <i class=\"icon-star\"></i>\n",
       " <i class=\"icon-star\"></i>\n",
       " </p>\n",
       " <h3><a href=\"rip-it-up-and-start-again_986/index.html\" title=\"Rip it Up and Start Again\">Rip it Up and ...</a></h3>\n",
       " <div class=\"product_price\">\n",
       " <p class=\"price_color\">Â£35.02</p>\n",
       " <p class=\"instock availability\">\n",
       " <i class=\"icon-ok\"></i>\n",
       "     \n",
       "         In stock\n",
       "     \n",
       " </p>\n",
       " <form>\n",
       " <button class=\"btn btn-primary btn-block\" data-loading-text=\"Adding...\" type=\"submit\">Add to basket</button>\n",
       " </form>\n",
       " </div>\n",
       " </article>,\n",
       " <article class=\"product_pod\">\n",
       " <div class=\"image_container\">\n",
       " <a href=\"our-band-could-be-your-life-scenes-from-the-american-indie-underground-1981-1991_985/index.html\"><img alt=\"Our Band Could Be Your Life: Scenes from the American Indie Underground, 1981-1991\" class=\"thumbnail\" src=\"../media/cache/54/60/54607fe8945897cdcced0044103b10b6.jpg\"/></a>\n",
       " </div>\n",
       " <p class=\"star-rating Three\">\n",
       " <i class=\"icon-star\"></i>\n",
       " <i class=\"icon-star\"></i>\n",
       " <i class=\"icon-star\"></i>\n",
       " <i class=\"icon-star\"></i>\n",
       " <i class=\"icon-star\"></i>\n",
       " </p>\n",
       " <h3><a href=\"our-band-could-be-your-life-scenes-from-the-american-indie-underground-1981-1991_985/index.html\" title=\"Our Band Could Be Your Life: Scenes from the American Indie Underground, 1981-1991\">Our Band Could Be ...</a></h3>\n",
       " <div class=\"product_price\">\n",
       " <p class=\"price_color\">Â£57.25</p>\n",
       " <p class=\"instock availability\">\n",
       " <i class=\"icon-ok\"></i>\n",
       "     \n",
       "         In stock\n",
       "     \n",
       " </p>\n",
       " <form>\n",
       " <button class=\"btn btn-primary btn-block\" data-loading-text=\"Adding...\" type=\"submit\">Add to basket</button>\n",
       " </form>\n",
       " </div>\n",
       " </article>,\n",
       " <article class=\"product_pod\">\n",
       " <div class=\"image_container\">\n",
       " <a href=\"olio_984/index.html\"><img alt=\"Olio\" class=\"thumbnail\" src=\"../media/cache/55/33/553310a7162dfbc2c6d19a84da0df9e1.jpg\"/></a>\n",
       " </div>\n",
       " <p class=\"star-rating One\">\n",
       " <i class=\"icon-star\"></i>\n",
       " <i class=\"icon-star\"></i>\n",
       " <i class=\"icon-star\"></i>\n",
       " <i class=\"icon-star\"></i>\n",
       " <i class=\"icon-star\"></i>\n",
       " </p>\n",
       " <h3><a href=\"olio_984/index.html\" title=\"Olio\">Olio</a></h3>\n",
       " <div class=\"product_price\">\n",
       " <p class=\"price_color\">Â£23.88</p>\n",
       " <p class=\"instock availability\">\n",
       " <i class=\"icon-ok\"></i>\n",
       "     \n",
       "         In stock\n",
       "     \n",
       " </p>\n",
       " <form>\n",
       " <button class=\"btn btn-primary btn-block\" data-loading-text=\"Adding...\" type=\"submit\">Add to basket</button>\n",
       " </form>\n",
       " </div>\n",
       " </article>,\n",
       " <article class=\"product_pod\">\n",
       " <div class=\"image_container\">\n",
       " <a href=\"mesaerion-the-best-science-fiction-stories-1800-1849_983/index.html\"><img alt=\"Mesaerion: The Best Science Fiction Stories 1800-1849\" class=\"thumbnail\" src=\"../media/cache/09/a3/09a3aef48557576e1a85ba7efea8ecb7.jpg\"/></a>\n",
       " </div>\n",
       " <p class=\"star-rating One\">\n",
       " <i class=\"icon-star\"></i>\n",
       " <i class=\"icon-star\"></i>\n",
       " <i class=\"icon-star\"></i>\n",
       " <i class=\"icon-star\"></i>\n",
       " <i class=\"icon-star\"></i>\n",
       " </p>\n",
       " <h3><a href=\"mesaerion-the-best-science-fiction-stories-1800-1849_983/index.html\" title=\"Mesaerion: The Best Science Fiction Stories 1800-1849\">Mesaerion: The Best Science ...</a></h3>\n",
       " <div class=\"product_price\">\n",
       " <p class=\"price_color\">Â£37.59</p>\n",
       " <p class=\"instock availability\">\n",
       " <i class=\"icon-ok\"></i>\n",
       "     \n",
       "         In stock\n",
       "     \n",
       " </p>\n",
       " <form>\n",
       " <button class=\"btn btn-primary btn-block\" data-loading-text=\"Adding...\" type=\"submit\">Add to basket</button>\n",
       " </form>\n",
       " </div>\n",
       " </article>,\n",
       " <article class=\"product_pod\">\n",
       " <div class=\"image_container\">\n",
       " <a href=\"libertarianism-for-beginners_982/index.html\"><img alt=\"Libertarianism for Beginners\" class=\"thumbnail\" src=\"../media/cache/0b/bc/0bbcd0a6f4bcd81ccb1049a52736406e.jpg\"/></a>\n",
       " </div>\n",
       " <p class=\"star-rating Two\">\n",
       " <i class=\"icon-star\"></i>\n",
       " <i class=\"icon-star\"></i>\n",
       " <i class=\"icon-star\"></i>\n",
       " <i class=\"icon-star\"></i>\n",
       " <i class=\"icon-star\"></i>\n",
       " </p>\n",
       " <h3><a href=\"libertarianism-for-beginners_982/index.html\" title=\"Libertarianism for Beginners\">Libertarianism for Beginners</a></h3>\n",
       " <div class=\"product_price\">\n",
       " <p class=\"price_color\">Â£51.33</p>\n",
       " <p class=\"instock availability\">\n",
       " <i class=\"icon-ok\"></i>\n",
       "     \n",
       "         In stock\n",
       "     \n",
       " </p>\n",
       " <form>\n",
       " <button class=\"btn btn-primary btn-block\" data-loading-text=\"Adding...\" type=\"submit\">Add to basket</button>\n",
       " </form>\n",
       " </div>\n",
       " </article>,\n",
       " <article class=\"product_pod\">\n",
       " <div class=\"image_container\">\n",
       " <a href=\"its-only-the-himalayas_981/index.html\"><img alt=\"It's Only the Himalayas\" class=\"thumbnail\" src=\"../media/cache/27/a5/27a53d0bb95bdd88288eaf66c9230d7e.jpg\"/></a>\n",
       " </div>\n",
       " <p class=\"star-rating Two\">\n",
       " <i class=\"icon-star\"></i>\n",
       " <i class=\"icon-star\"></i>\n",
       " <i class=\"icon-star\"></i>\n",
       " <i class=\"icon-star\"></i>\n",
       " <i class=\"icon-star\"></i>\n",
       " </p>\n",
       " <h3><a href=\"its-only-the-himalayas_981/index.html\" title=\"It's Only the Himalayas\">It's Only the Himalayas</a></h3>\n",
       " <div class=\"product_price\">\n",
       " <p class=\"price_color\">Â£45.17</p>\n",
       " <p class=\"instock availability\">\n",
       " <i class=\"icon-ok\"></i>\n",
       "     \n",
       "         In stock\n",
       "     \n",
       " </p>\n",
       " <form>\n",
       " <button class=\"btn btn-primary btn-block\" data-loading-text=\"Adding...\" type=\"submit\">Add to basket</button>\n",
       " </form>\n",
       " </div>\n",
       " </article>]"
      ]
     },
     "execution_count": 45,
     "metadata": {},
     "output_type": "execute_result"
    }
   ],
   "source": [
    "soup.select('.product_pod')"
   ]
  },
  {
   "cell_type": "code",
   "execution_count": 46,
   "id": "34d9fa4a",
   "metadata": {},
   "outputs": [
    {
     "data": {
      "text/plain": [
       "20"
      ]
     },
     "execution_count": 46,
     "metadata": {},
     "output_type": "execute_result"
    }
   ],
   "source": [
    "len(soup.select('.product_pod'))"
   ]
  },
  {
   "cell_type": "code",
   "execution_count": 47,
   "id": "94f0270b",
   "metadata": {},
   "outputs": [],
   "source": [
    "products = soup.select('.product_pod')"
   ]
  },
  {
   "cell_type": "code",
   "execution_count": 48,
   "id": "6629e70e",
   "metadata": {},
   "outputs": [
    {
     "data": {
      "text/plain": [
       "<article class=\"product_pod\">\n",
       "<div class=\"image_container\">\n",
       "<a href=\"a-light-in-the-attic_1000/index.html\"><img alt=\"A Light in the Attic\" class=\"thumbnail\" src=\"../media/cache/2c/da/2cdad67c44b002e7ead0cc35693c0e8b.jpg\"/></a>\n",
       "</div>\n",
       "<p class=\"star-rating Three\">\n",
       "<i class=\"icon-star\"></i>\n",
       "<i class=\"icon-star\"></i>\n",
       "<i class=\"icon-star\"></i>\n",
       "<i class=\"icon-star\"></i>\n",
       "<i class=\"icon-star\"></i>\n",
       "</p>\n",
       "<h3><a href=\"a-light-in-the-attic_1000/index.html\" title=\"A Light in the Attic\">A Light in the ...</a></h3>\n",
       "<div class=\"product_price\">\n",
       "<p class=\"price_color\">Â£51.77</p>\n",
       "<p class=\"instock availability\">\n",
       "<i class=\"icon-ok\"></i>\n",
       "    \n",
       "        In stock\n",
       "    \n",
       "</p>\n",
       "<form>\n",
       "<button class=\"btn btn-primary btn-block\" data-loading-text=\"Adding...\" type=\"submit\">Add to basket</button>\n",
       "</form>\n",
       "</div>\n",
       "</article>"
      ]
     },
     "execution_count": 48,
     "metadata": {},
     "output_type": "execute_result"
    }
   ],
   "source": [
    "products[0]"
   ]
  },
  {
   "cell_type": "code",
   "execution_count": 49,
   "id": "d646af9a",
   "metadata": {},
   "outputs": [],
   "source": [
    "example = products[0]"
   ]
  },
  {
   "cell_type": "code",
   "execution_count": 50,
   "id": "1be8e716",
   "metadata": {},
   "outputs": [
    {
     "data": {
      "text/plain": [
       "'<article class=\"product_pod\">\\n<div class=\"image_container\">\\n<a href=\"a-light-in-the-attic_1000/index.html\"><img alt=\"A Light in the Attic\" class=\"thumbnail\" src=\"../media/cache/2c/da/2cdad67c44b002e7ead0cc35693c0e8b.jpg\"/></a>\\n</div>\\n<p class=\"star-rating Three\">\\n<i class=\"icon-star\"></i>\\n<i class=\"icon-star\"></i>\\n<i class=\"icon-star\"></i>\\n<i class=\"icon-star\"></i>\\n<i class=\"icon-star\"></i>\\n</p>\\n<h3><a href=\"a-light-in-the-attic_1000/index.html\" title=\"A Light in the Attic\">A Light in the ...</a></h3>\\n<div class=\"product_price\">\\n<p class=\"price_color\">Â£51.77</p>\\n<p class=\"instock availability\">\\n<i class=\"icon-ok\"></i>\\n    \\n        In stock\\n    \\n</p>\\n<form>\\n<button class=\"btn btn-primary btn-block\" data-loading-text=\"Adding...\" type=\"submit\">Add to basket</button>\\n</form>\\n</div>\\n</article>'"
      ]
     },
     "execution_count": 50,
     "metadata": {},
     "output_type": "execute_result"
    }
   ],
   "source": [
    "str(example)"
   ]
  },
  {
   "cell_type": "code",
   "execution_count": 52,
   "id": "d40614eb",
   "metadata": {},
   "outputs": [
    {
     "data": {
      "text/plain": [
       "True"
      ]
     },
     "execution_count": 52,
     "metadata": {},
     "output_type": "execute_result"
    }
   ],
   "source": [
    "'star-rating Three' in str(example)"
   ]
  },
  {
   "cell_type": "code",
   "execution_count": 55,
   "id": "291d4a73",
   "metadata": {},
   "outputs": [
    {
     "data": {
      "text/plain": [
       "[<p class=\"star-rating Three\">\n",
       " <i class=\"icon-star\"></i>\n",
       " <i class=\"icon-star\"></i>\n",
       " <i class=\"icon-star\"></i>\n",
       " <i class=\"icon-star\"></i>\n",
       " <i class=\"icon-star\"></i>\n",
       " </p>]"
      ]
     },
     "execution_count": 55,
     "metadata": {},
     "output_type": "execute_result"
    }
   ],
   "source": [
    "example.select('.star-rating.Three')"
   ]
  },
  {
   "cell_type": "code",
   "execution_count": 57,
   "id": "89127c51",
   "metadata": {},
   "outputs": [
    {
     "data": {
      "text/plain": [
       "True"
      ]
     },
     "execution_count": 57,
     "metadata": {},
     "output_type": "execute_result"
    }
   ],
   "source": [
    "[] == example.select('.star-rating.Two')"
   ]
  },
  {
   "cell_type": "code",
   "execution_count": 67,
   "id": "6539cae2",
   "metadata": {},
   "outputs": [
    {
     "data": {
      "text/plain": [
       "'A Light in the Attic'"
      ]
     },
     "execution_count": 67,
     "metadata": {},
     "output_type": "execute_result"
    }
   ],
   "source": [
    "example.select('a')[1]['title']"
   ]
  },
  {
   "cell_type": "code",
   "execution_count": 73,
   "id": "4ce2d39e",
   "metadata": {},
   "outputs": [],
   "source": [
    "two_star_titles = []\n",
    "\n",
    "for n in range(1, 51):\n",
    "    url = base_url.format(n)\n",
    "    res = requests.get(url)\n",
    "    soup = bs4.BeautifulSoup(res.text, 'lxml')\n",
    "    products = soup.select('.product_pod')\n",
    "    \n",
    "    for product in products:\n",
    "        if len(product.select('.star-rating.Two')) != 0:\n",
    "            title = product.select('a')[1]['title']\n",
    "            two_star_titles.append(title)"
   ]
  },
  {
   "cell_type": "code",
   "execution_count": 74,
   "id": "65590c78",
   "metadata": {
    "scrolled": true
   },
   "outputs": [
    {
     "name": "stdout",
     "output_type": "stream",
     "text": [
      "['Starving Hearts (Triangular Trade Trilogy, #1)', 'Libertarianism for Beginners', \"It's Only the Himalayas\", 'How Music Works', 'Maude (1883-1993):She Grew Up with the country', \"You can't bury them all: Poems\", 'Reasons to Stay Alive', 'Without Borders (Wanderlove #1)', 'Soul Reader', 'Security', 'Saga, Volume 5 (Saga (Collected Editions) #5)', 'Reskilling America: Learning to Labor in the Twenty-First Century', 'Political Suicide: Missteps, Peccadilloes, Bad Calls, Backroom Hijinx, Sordid Pasts, Rotten Breaks, and Just Plain Dumb Mistakes in the Annals of American Politics', 'Obsidian (Lux #1)', 'My Paris Kitchen: Recipes and Stories', 'Masks and Shadows', 'Lumberjanes, Vol. 2: Friendship to the Max (Lumberjanes #5-8)', 'Lumberjanes Vol. 3: A Terrible Plan (Lumberjanes #9-12)', 'Judo: Seven Steps to Black Belt (an Introductory Guide for Beginners)', 'I Hate Fairyland, Vol. 1: Madly Ever After (I Hate Fairyland (Compilations) #1-5)', 'Giant Days, Vol. 2 (Giant Days #5-8)', 'Everydata: The Misinformation Hidden in the Little Data You Consume Every Day', \"Don't Be a Jerk: And Other Practical Advice from Dogen, Japan's Greatest Zen Master\", 'Bossypants', 'Bitch Planet, Vol. 1: Extraordinary Machine (Bitch Planet (Collected Editions))', 'Avatar: The Last Airbender: Smoke and Shadow, Part 3 (Smoke and Shadow #3)', 'Tuesday Nights in 1980', 'The Psychopath Test: A Journey Through the Madness Industry', 'The Power of Now: A Guide to Spiritual Enlightenment', \"The Omnivore's Dilemma: A Natural History of Four Meals\", 'The Love and Lemons Cookbook: An Apple-to-Zucchini Celebration of Impromptu Cooking', 'The Girl on the Train', 'The Emerald Mystery', 'The Argonauts', 'Suddenly in Love (Lake Haven #1)', 'Soft Apocalypse', \"So You've Been Publicly Shamed\", 'Shoe Dog: A Memoir by the Creator of NIKE', 'Louisa: The Extraordinary Life of Mrs. Adams', 'Large Print Heart of the Pride', 'Grumbles', 'Chasing Heaven: What Dying Taught Me About Living', 'Becoming Wise: An Inquiry into the Mystery and Art of Living', 'Beauty Restored (Riley Family Legacy Novellas #3)', 'Batman: The Long Halloween (Batman)', \"Ayumi's Violin\", 'Wild Swans', \"What's It Like in Space?: Stories from Astronauts Who've Been There\", 'Until Friday Night (The Field Party #1)', 'Unbroken: A World War II Story of Survival, Resilience, and Redemption', 'Twenty Yawns', 'Through the Woods', 'This Is Where It Ends', 'The Year of Magical Thinking', 'The Last Mile (Amos Decker #2)', 'The Immortal Life of Henrietta Lacks', 'The Hidden Oracle (The Trials of Apollo #1)', 'The Guilty (Will Robie #4)', 'Red Hood/Arsenal, Vol. 1: Open for Business (Red Hood/Arsenal #1)', 'Once Was a Time', 'No Dream Is Too High: Life Lessons From a Man Who Walked on the Moon', 'Naruto (3-in-1 Edition), Vol. 14: Includes Vols. 40, 41 & 42 (Naruto: Omnibus #14)', 'More Than Music (Chasing the Dream #1)', 'Lowriders to the Center of the Earth (Lowriders in Space #2)', 'Eat Fat, Get Thin', 'Doctor Sleep (The Shining #2)', 'Crazy Love: Overwhelmed by a Relentless God', 'Carrie', 'Batman: Europa', 'Angels Walking (Angels Walking #1)', 'Adulthood Is a Myth: A \"Sarah\\'s Scribbles\" Collection', 'A Study in Scarlet (Sherlock Holmes #1)', 'A Series of Catastrophes and Miracles: A True Story of Love, Science, and Cancer', \"A People's History of the United States\", 'My Kitchen Year: 136 Recipes That Saved My Life', 'The Lonely City: Adventures in the Art of Being Alone', 'The Dinner Party', 'Stars Above (The Lunar Chronicles #4.5)', 'Love, Lies and Spies', 'Troublemaker: Surviving Hollywood and Scientology', 'The Widow', 'Setting the World on Fire: The Brief, Astonishing Life of St. Catherine of Siena', 'Mothering Sunday', 'Lilac Girls', '10% Happier: How I Tamed the Voice in My Head, Reduced Stress Without Losing My Edge, and Found Self-Help That Actually Works', 'Underlying Notes', 'The Flowers Lied', 'Modern Day Fables', \"Chernobyl 01:23:40: The Incredible True Story of the World's Worst Nuclear Disaster\", '23 Degrees South: A Tropical Tale of Changing Whether...', 'When Breath Becomes Air', 'Vagabonding: An Uncommon Guide to the Art of Long-Term World Travel', 'The Martian (The Martian #1)', \"Miller's Valley\", \"Love That Boy: What Two Presidents, Eight Road Trips, and My Son Taught Me About a Parent's Expectations\", 'Left Behind (Left Behind #1)', 'Howl and Other Poems', \"Heaven is for Real: A Little Boy's Astounding Story of His Trip to Heaven and Back\", \"Brazen: The Courage to Find the You That's Been Hiding\", '32 Yolks', 'Wildlife of New York: A Five-Borough Coloring Book', 'Unreasonable Hope: Finding Faith in the God Who Brings Purpose to Your Pain', 'The Art Book', 'Steal Like an Artist: 10 Things Nobody Told You About Being Creative', 'Raymie Nightingale', 'Like Never Before (Walker Family #2)', 'How to Be a Domestic Goddess: Baking and the Art of Comfort Cooking', 'Finding God in the Ruins: How God Redeems Pain', 'Chronicles, Vol. 1', 'A Summer In Europe', 'The Rise and Fall of the Third Reich: A History of Nazi Germany', 'The Makings of a Fatherless Child', 'The Fellowship of the Ring (The Lord of the Rings #1)', \"Tell the Wolves I'm Home\", 'In the Woods (Dublin Murder Squad #1)', 'Give It Back', 'Why Save the Bankers?: And Other Essays on Our Economic and Political Crisis', 'The Raven King (The Raven Cycle #4)', 'The Expatriates', 'The 5th Wave (The 5th Wave #1)', 'Peak: Secrets from the New Science of Expertise', 'Logan Kade (Fallen Crest High #5.5)', \"I Know Why the Caged Bird Sings (Maya Angelou's Autobiography #1)\", 'Drama', \"America's War for the Greater Middle East: A Military History\", 'A Game of Thrones (A Song of Ice and Fire #1)', \"The Pilgrim's Progress\", 'The Hound of the Baskervilles (Sherlock Holmes #5)', \"The Geography of Bliss: One Grump's Search for the Happiest Places in the World\", 'The Demonists (Demonist #1)', 'The Demon Prince of Momochi House, Vol. 4 (The Demon Prince of Momochi House #4)', 'Misery', 'Far From True (Promise Falls Trilogy #2)', 'Confessions of a Shopaholic (Shopaholic #1)', 'Vegan Vegetarian Omnivore: Dinner for Everyone at the Table', 'Two Boys Kissing', 'Twilight (Twilight #1)', 'Twenties Girl', 'The Tipping Point: How Little Things Can Make a Big Difference', 'The Stand', 'The Picture of Dorian Gray', 'The Name of God is Mercy', \"The Lover's Dictionary\", 'The Last Painting of Sara de Vos', 'The Guns of August', 'The Girl Who Played with Fire (Millennium Trilogy #2)', 'The Da Vinci Code (Robert Langdon #2)', 'The Cat in the Hat (Beginner Books B-1)', 'The Book Thief', 'The Autobiography of Malcolm X', \"Surely You're Joking, Mr. Feynman!: Adventures of a Curious Character\", 'Soldier (Talon #3)', 'Shopaholic & Baby (Shopaholic #5)', 'Seven Days in the Art World', 'Rework', 'Packing for Mars: The Curious Science of Life in the Void', 'Orange Is the New Black', 'One for the Money (Stephanie Plum #1)', 'Midnight Riot (Peter Grant/ Rivers of London - books #1)', 'Me Talk Pretty One Day', 'Manuscript Found in Accra', 'Lust & Wonder', \"Life, the Universe and Everything (Hitchhiker's Guide to the Galaxy #3)\", 'Life After Life', 'I Am Malala: The Girl Who Stood Up for Education and Was Shot by the Taliban', 'House of Lost Worlds: Dinosaurs, Dynasties, and the Story of Life on Earth', 'Horrible Bear!', 'Holidays on Ice', 'Girl in the Blue Coat', 'Fruits Basket, Vol. 3 (Fruits Basket #3)', 'Cosmos', 'Civilization and Its Discontents', \"Catastrophic Happiness: Finding Joy in Childhood's Messy Years\", 'Career of Evil (Cormoran Strike #3)', 'Born to Run: A Hidden Tribe, Superathletes, and the Greatest Race the World Has Never Seen', \"Best of My Love (Fool's Gold #20)\", 'Beowulf', 'Awkward', 'And Then There Were None', 'A Storm of Swords (A Song of Ice and Fire #3)', 'The Suffragettes (Little Black Classics, #96)', 'Vampire Girl (Vampire Girl #1)', 'Three Wishes (River of Time: California #1)', 'The Wicked + The Divine, Vol. 1: The Faust Act (The Wicked + The Divine)', 'The Little Prince', 'The Last Girl (The Dominion Trilogy #1)', 'Taking Shots (Assassins #1)', 'Settling the Score (The Summer Games #1)', 'Rhythm, Chord & Malykhin', 'One Second (Seven #7)', \"Old Records Never Die: One Man's Quest for His Vinyl and His Past\", 'Of Mice and Men', 'My Perfect Mistake (Over the Top #1)', 'Meditations', 'Frankenstein', 'Emma']\n"
     ]
    }
   ],
   "source": [
    "print(two_star_titles)"
   ]
  },
  {
   "cell_type": "code",
   "execution_count": 75,
   "id": "1d467715",
   "metadata": {},
   "outputs": [
    {
     "name": "stdout",
     "output_type": "stream",
     "text": [
      "196\n"
     ]
    }
   ],
   "source": [
    "print(len(two_star_titles))"
   ]
  },
  {
   "cell_type": "code",
   "execution_count": null,
   "id": "a4d675c8",
   "metadata": {},
   "outputs": [],
   "source": []
  }
 ],
 "metadata": {
  "kernelspec": {
   "display_name": "Python 3",
   "language": "python",
   "name": "python3"
  },
  "language_info": {
   "codemirror_mode": {
    "name": "ipython",
    "version": 3
   },
   "file_extension": ".py",
   "mimetype": "text/x-python",
   "name": "python",
   "nbconvert_exporter": "python",
   "pygments_lexer": "ipython3",
   "version": "3.8.5"
  }
 },
 "nbformat": 4,
 "nbformat_minor": 5
}
