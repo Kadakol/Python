{
 "cells": [
  {
   "cell_type": "markdown",
   "metadata": {},
   "source": [
    "___\n",
    "\n",
    "<a href='https://www.udemy.com/user/joseportilla/'><img src='../Pierian_Data_Logo.png'/></a>\n",
    "___\n",
    "<center><em>Content Copyright by Pierian Data</em></center>"
   ]
  },
  {
   "cell_type": "markdown",
   "metadata": {},
   "source": [
    "# Milestone Project 1\n",
    "## Congratulations on making it to your first milestone!\n",
    "You've already learned a ton and are ready to work on a real project.\n",
    "\n",
    "Your assignment: Create a Tic Tac Toe game. You are free to use any IDE you like.\n",
    "\n",
    "Here are the requirements:\n",
    "\n",
    "* 2 players should be able to play the game (both sitting at the same computer)\n",
    "* The board should be printed out every time a player makes a move\n",
    "* You should be able to accept input of the player position and then place a symbol on the board\n",
    "\n",
    "Feel free to use Google to help you figure anything out (but don't just Google \"Tic Tac Toe in Python\" otherwise you won't learn anything!) Keep in mind that this project can take anywhere between several hours to several days.\n",
    "\n",
    "There are 4 Jupyter Notebooks related to this assignment:\n",
    "\n",
    "* This Assignment Notebook\n",
    "* A \"Walkthrough Steps Workbook\" Notebook\n",
    "* A \"Complete Walkthrough Solution\" Notebook\n",
    "* An \"Advanced Solution\" Notebook\n",
    "\n",
    "I encourage you to just try to start the project on your own without referencing any of the notebooks. If you get stuck, check out the next lecture which is a text lecture with helpful hints and steps. If you're still stuck after that, then check out the Walkthrough Steps Workbook, which breaks up the project in steps for you to solve. Still stuck? Then check out the Complete Walkthrough Solution video for more help on approaching the project!"
   ]
  },
  {
   "cell_type": "markdown",
   "metadata": {},
   "source": [
    "There are parts of this that will be a struggle...and that is good! I have complete faith that if you have made it this far through the course you have all the tools and knowledge to tackle this project. Remember, it's totally open book, so take your time, do a little research, and remember:\n",
    "\n",
    "## HAVE FUN!"
   ]
  },
  {
   "cell_type": "code",
   "execution_count": 3,
   "metadata": {},
   "outputs": [],
   "source": [
    "from IPython.display import clear_output"
   ]
  },
  {
   "cell_type": "code",
   "execution_count": 24,
   "metadata": {},
   "outputs": [],
   "source": [
    "game_state = [' '] * 9"
   ]
  },
  {
   "cell_type": "code",
   "execution_count": 13,
   "metadata": {},
   "outputs": [
    {
     "data": {
      "text/plain": [
       "[' ', ' ', ' ', ' ', ' ', ' ', ' ', ' ', ' ']"
      ]
     },
     "execution_count": 13,
     "metadata": {},
     "output_type": "execute_result"
    }
   ],
   "source": [
    "game_state"
   ]
  },
  {
   "cell_type": "code",
   "execution_count": null,
   "metadata": {},
   "outputs": [],
   "source": []
  },
  {
   "cell_type": "code",
   "execution_count": 49,
   "metadata": {},
   "outputs": [],
   "source": [
    "def init_game_state():\n",
    "    game_state = [' '] * 9\n",
    "    valid_positions = list(range(0, 9))\n",
    "    \n",
    "    return game_state, valid_positions"
   ]
  },
  {
   "cell_type": "code",
   "execution_count": 16,
   "metadata": {},
   "outputs": [],
   "source": [
    "def print_game_state(game_state):\n",
    "    print(game_state[6], '|', game_state[7], '|', game_state[8])\n",
    "    print('---------')\n",
    "    print(game_state[3], '|', game_state[4], '|', game_state[5])\n",
    "    print('---------')\n",
    "    print(game_state[0], '|', game_state[1], '|', game_state[2])"
   ]
  },
  {
   "cell_type": "code",
   "execution_count": 25,
   "metadata": {},
   "outputs": [
    {
     "name": "stdout",
     "output_type": "stream",
     "text": [
      "  |   |  \n",
      "---------\n",
      "  |   |  \n",
      "---------\n",
      "  |   |  \n"
     ]
    }
   ],
   "source": [
    "print_game_state(game_state)"
   ]
  },
  {
   "cell_type": "code",
   "execution_count": 78,
   "metadata": {},
   "outputs": [],
   "source": [
    "def player_sign_choice():\n",
    "    choice = ''\n",
    "    while choice not in ['X', 'O']:\n",
    "        choice = input('Enter choice of sign (X or O): ')\n",
    "        \n",
    "        if choice not in ['X', 'O']:\n",
    "#             clear_output()\n",
    "            print(f'Expected X or O. Got {choice}')\n",
    "            \n",
    "    return choice"
   ]
  },
  {
   "cell_type": "code",
   "execution_count": 27,
   "metadata": {},
   "outputs": [
    {
     "name": "stdout",
     "output_type": "stream",
     "text": [
      "Expected X or O. Got \n",
      "Enter choice of sign (X or O): X\n"
     ]
    },
    {
     "data": {
      "text/plain": [
       "'X'"
      ]
     },
     "execution_count": 27,
     "metadata": {},
     "output_type": "execute_result"
    }
   ],
   "source": [
    "player_sign_choice()"
   ]
  },
  {
   "cell_type": "code",
   "execution_count": 116,
   "metadata": {},
   "outputs": [],
   "source": [
    "def get_valid_positions_for_display(valid_positions):\n",
    "    return [num + 1 for num in valid_positions]"
   ]
  },
  {
   "cell_type": "code",
   "execution_count": 119,
   "metadata": {},
   "outputs": [],
   "source": [
    "valid_positions = list(range(0, 9))\n",
    "\n",
    "def player_position_choice(valid_positions):\n",
    "    choice = ''\n",
    "    \n",
    "    while choice not in valid_positions:\n",
    "        choice = input(f'Choose a position from the available options {get_valid_positions_for_display(valid_positions)}: ')\n",
    "        \n",
    "        if not choice.isdigit():\n",
    "#             clear_output()\n",
    "            print(f'Expected a position from the available options {get_valid_positions_for_display(valid_positions)}. Got {choice}')\n",
    "        else:\n",
    "            choice = int(choice) - 1\n",
    "            if choice not in valid_positions:\n",
    "#                 clear_output()\n",
    "                print(f'Expected a position from the available options {get_valid_positions_for_display(valid_positions)}. Got {choice + 1}')\n",
    "            \n",
    "    return int(choice)"
   ]
  },
  {
   "cell_type": "code",
   "execution_count": 120,
   "metadata": {},
   "outputs": [
    {
     "name": "stdout",
     "output_type": "stream",
     "text": [
      "Choose a position from the available options [1, 2, 3, 4, 5, 6, 7, 8, 9]: 10\n",
      "Expected a position from the available options [1, 2, 3, 4, 5, 6, 7, 8, 9]. Got 10\n",
      "Choose a position from the available options [1, 2, 3, 4, 5, 6, 7, 8, 9]: 0\n",
      "Expected a position from the available options [1, 2, 3, 4, 5, 6, 7, 8, 9]. Got 0\n",
      "Choose a position from the available options [1, 2, 3, 4, 5, 6, 7, 8, 9]: 1\n"
     ]
    },
    {
     "data": {
      "text/plain": [
       "0"
      ]
     },
     "execution_count": 120,
     "metadata": {},
     "output_type": "execute_result"
    }
   ],
   "source": [
    "player_position_choice(valid_positions)"
   ]
  },
  {
   "cell_type": "code",
   "execution_count": 34,
   "metadata": {},
   "outputs": [],
   "source": [
    "def update_game_state(game_state, position, sign):\n",
    "    game_state[position] = sign\n",
    "    return game_state"
   ]
  },
  {
   "cell_type": "code",
   "execution_count": 35,
   "metadata": {},
   "outputs": [
    {
     "data": {
      "text/plain": [
       "[' ', 'X', ' ', ' ', ' ', ' ', ' ', ' ', ' ']"
      ]
     },
     "execution_count": 35,
     "metadata": {},
     "output_type": "execute_result"
    }
   ],
   "source": [
    "update_game_state(game_state, 1, 'X')"
   ]
  },
  {
   "cell_type": "code",
   "execution_count": 36,
   "metadata": {},
   "outputs": [
    {
     "data": {
      "text/plain": [
       "[' ', 'X', ' ', ' ', ' ', ' ', 'O', ' ', ' ']"
      ]
     },
     "execution_count": 36,
     "metadata": {},
     "output_type": "execute_result"
    }
   ],
   "source": [
    "update_game_state(game_state, 6, 'O')"
   ]
  },
  {
   "cell_type": "code",
   "execution_count": 44,
   "metadata": {},
   "outputs": [],
   "source": [
    "def update_valid_positions(valid_positions, position):\n",
    "    valid_positions.remove(position)\n",
    "    return valid_positions"
   ]
  },
  {
   "cell_type": "code",
   "execution_count": 48,
   "metadata": {},
   "outputs": [
    {
     "data": {
      "text/plain": [
       "[2, 3]"
      ]
     },
     "execution_count": 48,
     "metadata": {},
     "output_type": "execute_result"
    }
   ],
   "source": [
    "update_valid_positions([1, 2, 3], 1)"
   ]
  },
  {
   "cell_type": "code",
   "execution_count": 85,
   "metadata": {},
   "outputs": [],
   "source": [
    "# This is a very dirty block of code. How to improve this?\n",
    "\n",
    "def check_winner(game_state):\n",
    "    if game_state[0] == game_state[1] == game_state[2] and (game_state[0] == 'X' or game_state[0] == 'O') \\\n",
    "    or game_state[3] == game_state[4] == game_state[5] and (game_state[3] == 'X' or game_state[3] == 'O') \\\n",
    "    or game_state[6] == game_state[7] == game_state[8] and (game_state[6] == 'X' or game_state[6] == 'O') \\\n",
    "    or game_state[0] == game_state[3] == game_state[6] and (game_state[0] == 'X' or game_state[0] == 'O') \\\n",
    "    or game_state[1] == game_state[4] == game_state[7] and (game_state[1] == 'X' or game_state[1] == 'O') \\\n",
    "    or game_state[2] == game_state[5] == game_state[8] and (game_state[2] == 'X' or game_state[2] == 'O') \\\n",
    "    or game_state[0] == game_state[4] == game_state[8] and (game_state[0] == 'X' or game_state[0] == 'O') \\\n",
    "    or game_state[2] == game_state[4] == game_state[6] and (game_state[2] == 'X' or game_state[2] == 'O'):\n",
    "        return True\n",
    "    return False"
   ]
  },
  {
   "cell_type": "code",
   "execution_count": 86,
   "metadata": {},
   "outputs": [
    {
     "data": {
      "text/plain": [
       "True"
      ]
     },
     "execution_count": 86,
     "metadata": {},
     "output_type": "execute_result"
    }
   ],
   "source": [
    "check_winner(['X', 'X', 'X', ' ', ' ', ' ', ' ', ' ', ' '])"
   ]
  },
  {
   "cell_type": "code",
   "execution_count": 87,
   "metadata": {},
   "outputs": [
    {
     "data": {
      "text/plain": [
       "False"
      ]
     },
     "execution_count": 87,
     "metadata": {},
     "output_type": "execute_result"
    }
   ],
   "source": [
    "check_winner(['O', ' ', ' ', ' ', ' ', ' ', ' ', ' ', ' '])"
   ]
  },
  {
   "cell_type": "code",
   "execution_count": 92,
   "metadata": {},
   "outputs": [],
   "source": [
    "def check_draw(game_state):\n",
    "    return ' ' not in game_state"
   ]
  },
  {
   "cell_type": "code",
   "execution_count": 121,
   "metadata": {},
   "outputs": [
    {
     "name": "stdout",
     "output_type": "stream",
     "text": [
      "O |   | X\n",
      "---------\n",
      "O | X |  \n",
      "---------\n",
      "O | X |  \n",
      "Game Over. Player 2 wins!\n"
     ]
    }
   ],
   "source": [
    "game_state, valid_positions = init_game_state()\n",
    "\n",
    "print('Player 1')\n",
    "player_1_choice = player_sign_choice()\n",
    "player_2_choice = 'X' if player_1_choice == 'O' else 'O'\n",
    "print(f'Player 1 plays {player_1_choice}. Player 2 plays {player_2_choice}')\n",
    "\n",
    "is_player_1_turn = True\n",
    "print_game_state(game_state)\n",
    "\n",
    "while True:\n",
    "    if is_player_1_turn:\n",
    "        print('Player 1')\n",
    "    else:\n",
    "        print('Player 2')\n",
    "    position_choice = player_position_choice(valid_positions)\n",
    "    game_state = update_game_state(game_state, position_choice, player_1_choice if is_player_1_turn else player_2_choice)\n",
    "    clear_output()\n",
    "    print_game_state(game_state)\n",
    "    valid_positions = update_valid_positions(valid_positions, position_choice)\n",
    "    if check_winner(game_state):\n",
    "        print('Game Over.', end=' ')\n",
    "        if is_player_1_turn:\n",
    "            print('Player 1 wins!')\n",
    "        else:\n",
    "            print('Player 2 wins!')\n",
    "        break\n",
    "    is_player_1_turn = not is_player_1_turn\n",
    "    if check_draw(game_state):\n",
    "        print('Game is a draw')\n",
    "        break"
   ]
  },
  {
   "cell_type": "code",
   "execution_count": null,
   "metadata": {},
   "outputs": [],
   "source": []
  },
  {
   "cell_type": "code",
   "execution_count": null,
   "metadata": {},
   "outputs": [],
   "source": []
  }
 ],
 "metadata": {
  "kernelspec": {
   "display_name": "Python 3",
   "language": "python",
   "name": "python3"
  },
  "language_info": {
   "codemirror_mode": {
    "name": "ipython",
    "version": 3
   },
   "file_extension": ".py",
   "mimetype": "text/x-python",
   "name": "python",
   "nbconvert_exporter": "python",
   "pygments_lexer": "ipython3",
   "version": "3.8.5"
  }
 },
 "nbformat": 4,
 "nbformat_minor": 1
}
