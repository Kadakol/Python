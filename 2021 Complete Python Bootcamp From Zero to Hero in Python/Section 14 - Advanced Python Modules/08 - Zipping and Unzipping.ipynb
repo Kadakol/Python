{
 "cells": [
  {
   "cell_type": "code",
   "execution_count": 1,
   "id": "c21b7a03",
   "metadata": {},
   "outputs": [],
   "source": [
    "with open('f1.txt', 'w') as f1:\n",
    "    f1.writelines('''\n",
    "    Some lines\n",
    "    Write them to the file\n",
    "    Done''')"
   ]
  },
  {
   "cell_type": "code",
   "execution_count": 2,
   "id": "19d8e1d2",
   "metadata": {},
   "outputs": [],
   "source": [
    "with open('f2.txt', 'w') as f1:\n",
    "    f1.writelines('''\n",
    "    Some more lines\n",
    "    Write them to the file\n",
    "    Done''')"
   ]
  },
  {
   "cell_type": "code",
   "execution_count": 3,
   "id": "dc149fa4",
   "metadata": {},
   "outputs": [],
   "source": [
    "import zipfile"
   ]
  },
  {
   "cell_type": "code",
   "execution_count": 4,
   "id": "ba193c86",
   "metadata": {},
   "outputs": [],
   "source": [
    "comp_file = zipfile.ZipFile('comp_file.zip', 'w')"
   ]
  },
  {
   "cell_type": "code",
   "execution_count": 5,
   "id": "45378e7a",
   "metadata": {},
   "outputs": [],
   "source": [
    "comp_file.write('f1.txt', compress_type=zipfile.ZIP_DEFLATED)"
   ]
  },
  {
   "cell_type": "code",
   "execution_count": 6,
   "id": "12983d6e",
   "metadata": {},
   "outputs": [],
   "source": [
    "comp_file.write('f2.txt', compress_type=zipfile.ZIP_DEFLATED)"
   ]
  },
  {
   "cell_type": "code",
   "execution_count": 7,
   "id": "882ce4fb",
   "metadata": {},
   "outputs": [],
   "source": [
    "comp_file.close()"
   ]
  },
  {
   "cell_type": "code",
   "execution_count": 8,
   "id": "3c4bded4",
   "metadata": {},
   "outputs": [],
   "source": [
    "zip_object = zipfile.ZipFile('comp_file.zip', 'r')"
   ]
  },
  {
   "cell_type": "code",
   "execution_count": 9,
   "id": "224eef50",
   "metadata": {},
   "outputs": [],
   "source": [
    "zip_object.extractall('extracted_content')"
   ]
  },
  {
   "cell_type": "code",
   "execution_count": null,
   "id": "69d46649",
   "metadata": {},
   "outputs": [],
   "source": []
  },
  {
   "cell_type": "code",
   "execution_count": null,
   "id": "540051b8",
   "metadata": {},
   "outputs": [],
   "source": []
  },
  {
   "cell_type": "code",
   "execution_count": 10,
   "id": "8278b333",
   "metadata": {},
   "outputs": [],
   "source": [
    "import shutil"
   ]
  },
  {
   "cell_type": "code",
   "execution_count": 11,
   "id": "6f979101",
   "metadata": {},
   "outputs": [],
   "source": [
    "dir_to_zip = './extracted_content'"
   ]
  },
  {
   "cell_type": "code",
   "execution_count": 12,
   "id": "64315c39",
   "metadata": {},
   "outputs": [],
   "source": [
    "output_file_name = 'example'"
   ]
  },
  {
   "cell_type": "code",
   "execution_count": 13,
   "id": "f00a9b1a",
   "metadata": {},
   "outputs": [
    {
     "data": {
      "text/plain": [
       "'C:\\\\Akshay\\\\Courses\\\\2021 Complete Python Bootcamp From Zero to Hero in Python\\\\Python\\\\2021 Complete Python Bootcamp From Zero to Hero in Python\\\\Section 14 - Advanced Python Modules\\\\example.zip'"
      ]
     },
     "execution_count": 13,
     "metadata": {},
     "output_type": "execute_result"
    }
   ],
   "source": [
    "shutil.make_archive(output_file_name, 'zip', dir_to_zip)"
   ]
  },
  {
   "cell_type": "code",
   "execution_count": null,
   "id": "a5ddbc8a",
   "metadata": {},
   "outputs": [],
   "source": []
  },
  {
   "cell_type": "code",
   "execution_count": 14,
   "id": "2927a95c",
   "metadata": {},
   "outputs": [],
   "source": [
    "shutil.unpack_archive('example.zip', 'final_unzip', 'zip')"
   ]
  },
  {
   "cell_type": "code",
   "execution_count": null,
   "id": "eaf6ecc4",
   "metadata": {},
   "outputs": [],
   "source": []
  }
 ],
 "metadata": {
  "kernelspec": {
   "display_name": "Python 3",
   "language": "python",
   "name": "python3"
  },
  "language_info": {
   "codemirror_mode": {
    "name": "ipython",
    "version": 3
   },
   "file_extension": ".py",
   "mimetype": "text/x-python",
   "name": "python",
   "nbconvert_exporter": "python",
   "pygments_lexer": "ipython3",
   "version": "3.8.5"
  }
 },
 "nbformat": 4,
 "nbformat_minor": 5
}
