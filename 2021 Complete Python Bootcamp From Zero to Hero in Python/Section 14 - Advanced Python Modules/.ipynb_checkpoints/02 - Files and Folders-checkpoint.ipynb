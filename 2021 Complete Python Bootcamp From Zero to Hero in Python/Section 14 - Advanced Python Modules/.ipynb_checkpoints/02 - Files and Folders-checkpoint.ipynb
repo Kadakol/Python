{
 "cells": [
  {
   "cell_type": "code",
   "execution_count": 1,
   "id": "81d1400a",
   "metadata": {},
   "outputs": [
    {
     "data": {
      "text/plain": [
       "'C:\\\\Akshay\\\\Courses\\\\2021 Complete Python Bootcamp From Zero to Hero in Python\\\\Python\\\\2021 Complete Python Bootcamp From Zero to Hero in Python\\\\Section 14 - Advanced Python Modules'"
      ]
     },
     "execution_count": 1,
     "metadata": {},
     "output_type": "execute_result"
    }
   ],
   "source": [
    "pwd"
   ]
  },
  {
   "cell_type": "code",
   "execution_count": 2,
   "id": "2c74f063",
   "metadata": {},
   "outputs": [],
   "source": [
    "with open('practice.txt', 'w+') as f:\n",
    "    f.write('Test')    "
   ]
  },
  {
   "cell_type": "code",
   "execution_count": 4,
   "id": "02015877",
   "metadata": {},
   "outputs": [],
   "source": [
    "import os"
   ]
  },
  {
   "cell_type": "code",
   "execution_count": 5,
   "id": "75c52e55",
   "metadata": {},
   "outputs": [
    {
     "data": {
      "text/plain": [
       "'C:\\\\Akshay\\\\Courses\\\\2021 Complete Python Bootcamp From Zero to Hero in Python\\\\Python\\\\2021 Complete Python Bootcamp From Zero to Hero in Python\\\\Section 14 - Advanced Python Modules'"
      ]
     },
     "execution_count": 5,
     "metadata": {},
     "output_type": "execute_result"
    }
   ],
   "source": [
    "os.getcwd()"
   ]
  },
  {
   "cell_type": "code",
   "execution_count": 6,
   "id": "898a2293",
   "metadata": {},
   "outputs": [
    {
     "data": {
      "text/plain": [
       "['.ipynb_checkpoints',\n",
       " '01 - Collections.ipynb',\n",
       " '02 - Files and Folders.ipynb',\n",
       " 'practice.txt']"
      ]
     },
     "execution_count": 6,
     "metadata": {},
     "output_type": "execute_result"
    }
   ],
   "source": [
    "os.listdir()"
   ]
  },
  {
   "cell_type": "code",
   "execution_count": 7,
   "id": "fc07b322",
   "metadata": {},
   "outputs": [
    {
     "data": {
      "text/plain": [
       "['.gitignore',\n",
       " '.ipynb_checkpoints',\n",
       " 'Section 10 - Errors and Exception Handling',\n",
       " 'Section 11 - Milestone Project - 2',\n",
       " 'Section 12 - Decorators',\n",
       " 'Section 13 - Generators',\n",
       " 'Section 14 - Advanced Python Modules',\n",
       " 'Section 3 - Python Object and Data Structure Basics',\n",
       " 'Section 4 - Python Comparison Operators',\n",
       " 'Section 5 - Statements',\n",
       " 'Section 6 - Methods and Functions',\n",
       " 'Section 7 - Milestone Project - 1',\n",
       " 'Section 8 - Object Oriented Programming',\n",
       " 'Section 9 - Modules and Packages']"
      ]
     },
     "execution_count": 7,
     "metadata": {},
     "output_type": "execute_result"
    }
   ],
   "source": [
    "os.listdir('..')"
   ]
  },
  {
   "cell_type": "code",
   "execution_count": 8,
   "id": "64098a46",
   "metadata": {},
   "outputs": [],
   "source": [
    "import shutil"
   ]
  },
  {
   "cell_type": "code",
   "execution_count": 9,
   "id": "4096832e",
   "metadata": {},
   "outputs": [
    {
     "data": {
      "text/plain": [
       "'..\\\\practice.txt'"
      ]
     },
     "execution_count": 9,
     "metadata": {},
     "output_type": "execute_result"
    }
   ],
   "source": [
    "shutil.move('practice.txt', '..')"
   ]
  },
  {
   "cell_type": "code",
   "execution_count": 10,
   "id": "e457b9f9",
   "metadata": {},
   "outputs": [
    {
     "data": {
      "text/plain": [
       "['.gitignore',\n",
       " '.ipynb_checkpoints',\n",
       " 'practice.txt',\n",
       " 'Section 10 - Errors and Exception Handling',\n",
       " 'Section 11 - Milestone Project - 2',\n",
       " 'Section 12 - Decorators',\n",
       " 'Section 13 - Generators',\n",
       " 'Section 14 - Advanced Python Modules',\n",
       " 'Section 3 - Python Object and Data Structure Basics',\n",
       " 'Section 4 - Python Comparison Operators',\n",
       " 'Section 5 - Statements',\n",
       " 'Section 6 - Methods and Functions',\n",
       " 'Section 7 - Milestone Project - 1',\n",
       " 'Section 8 - Object Oriented Programming',\n",
       " 'Section 9 - Modules and Packages']"
      ]
     },
     "execution_count": 10,
     "metadata": {},
     "output_type": "execute_result"
    }
   ],
   "source": [
    "os.listdir('..')"
   ]
  },
  {
   "cell_type": "code",
   "execution_count": 11,
   "id": "c6eafa4f",
   "metadata": {},
   "outputs": [
    {
     "data": {
      "text/plain": [
       "'.\\\\practice.txt'"
      ]
     },
     "execution_count": 11,
     "metadata": {},
     "output_type": "execute_result"
    }
   ],
   "source": [
    "shutil.move('../practice.txt', '.')"
   ]
  },
  {
   "cell_type": "code",
   "execution_count": 12,
   "id": "92fe83df",
   "metadata": {},
   "outputs": [
    {
     "data": {
      "text/plain": [
       "['.ipynb_checkpoints',\n",
       " '01 - Collections.ipynb',\n",
       " '02 - Files and Folders.ipynb',\n",
       " 'practice.txt']"
      ]
     },
     "execution_count": 12,
     "metadata": {},
     "output_type": "execute_result"
    }
   ],
   "source": [
    "os.listdir()"
   ]
  },
  {
   "cell_type": "code",
   "execution_count": 13,
   "id": "ba5c0b54",
   "metadata": {},
   "outputs": [
    {
     "data": {
      "text/plain": [
       "['.gitignore',\n",
       " '.ipynb_checkpoints',\n",
       " 'Section 10 - Errors and Exception Handling',\n",
       " 'Section 11 - Milestone Project - 2',\n",
       " 'Section 12 - Decorators',\n",
       " 'Section 13 - Generators',\n",
       " 'Section 14 - Advanced Python Modules',\n",
       " 'Section 3 - Python Object and Data Structure Basics',\n",
       " 'Section 4 - Python Comparison Operators',\n",
       " 'Section 5 - Statements',\n",
       " 'Section 6 - Methods and Functions',\n",
       " 'Section 7 - Milestone Project - 1',\n",
       " 'Section 8 - Object Oriented Programming',\n",
       " 'Section 9 - Modules and Packages']"
      ]
     },
     "execution_count": 13,
     "metadata": {},
     "output_type": "execute_result"
    }
   ],
   "source": [
    "os.listdir('..')"
   ]
  },
  {
   "cell_type": "code",
   "execution_count": 14,
   "id": "18caac93",
   "metadata": {},
   "outputs": [
    {
     "name": "stdout",
     "output_type": "stream",
     "text": [
      "Requirement already satisfied: send2trash in c:\\users\\admin\\miniconda3\\envs\\python-3-bootcamp\\lib\\site-packages (1.5.0)\n"
     ]
    }
   ],
   "source": [
    "!pip install send2trash"
   ]
  },
  {
   "cell_type": "code",
   "execution_count": 15,
   "id": "a17a003c",
   "metadata": {},
   "outputs": [],
   "source": [
    "import send2trash"
   ]
  },
  {
   "cell_type": "code",
   "execution_count": 16,
   "id": "161b5905",
   "metadata": {},
   "outputs": [],
   "source": [
    "send2trash.send2trash('practice.txt')"
   ]
  },
  {
   "cell_type": "code",
   "execution_count": 17,
   "id": "7b595bfa",
   "metadata": {},
   "outputs": [
    {
     "data": {
      "text/plain": [
       "['.ipynb_checkpoints',\n",
       " '01 - Collections.ipynb',\n",
       " '02 - Files and Folders.ipynb']"
      ]
     },
     "execution_count": 17,
     "metadata": {},
     "output_type": "execute_result"
    }
   ],
   "source": [
    "os.listdir()"
   ]
  },
  {
   "cell_type": "code",
   "execution_count": null,
   "id": "dcf93a07",
   "metadata": {},
   "outputs": [],
   "source": []
  },
  {
   "cell_type": "code",
   "execution_count": null,
   "id": "dc9e2900",
   "metadata": {},
   "outputs": [],
   "source": []
  },
  {
   "cell_type": "code",
   "execution_count": 28,
   "id": "19a1ee60",
   "metadata": {},
   "outputs": [
    {
     "name": "stdout",
     "output_type": "stream",
     "text": [
      "Looking at Example_Top_Level/\n",
      "\n",
      "The subfolders are:\n",
      "\tSubfolder: Mid-Example-One\n",
      "\n",
      "The files are:\n",
      "\tFile: Mid-Example.txt\n",
      "\n",
      "Looking at Example_Top_Level/Mid-Example-One\n",
      "\n",
      "The subfolders are:\n",
      "\tSubfolder: Bottom-Level-One\n",
      "\tSubfolder: Bottom-Level-Two\n",
      "\n",
      "The files are:\n",
      "\tFile: Mid-Level-Doc.txt\n",
      "\n",
      "Looking at Example_Top_Level/Mid-Example-One\\Bottom-Level-One\n",
      "\n",
      "The subfolders are:\n",
      "\n",
      "The files are:\n",
      "\tFile: One_Text.txt\n",
      "\n",
      "Looking at Example_Top_Level/Mid-Example-One\\Bottom-Level-Two\n",
      "\n",
      "The subfolders are:\n",
      "\n",
      "The files are:\n",
      "\tFile: Bottom-Text-Two.txt\n",
      "\n"
     ]
    }
   ],
   "source": [
    "for folder, subfolders, files in os.walk('Example_Top_Level/'):\n",
    "    print(f\"Looking at {folder}\")\n",
    "    print()\n",
    "    print(\"The subfolders are:\")\n",
    "    for sub_folder in subfolders:\n",
    "        print(f\"\\tSubfolder: {sub_folder}\")\n",
    "        \n",
    "    print()\n",
    "    print(\"The files are:\")\n",
    "    for f in files:\n",
    "        print(f\"\\tFile: {f}\")\n",
    "        \n",
    "    print()"
   ]
  },
  {
   "cell_type": "code",
   "execution_count": null,
   "id": "f1777458",
   "metadata": {},
   "outputs": [],
   "source": []
  }
 ],
 "metadata": {
  "kernelspec": {
   "display_name": "Python 3",
   "language": "python",
   "name": "python3"
  },
  "language_info": {
   "codemirror_mode": {
    "name": "ipython",
    "version": 3
   },
   "file_extension": ".py",
   "mimetype": "text/x-python",
   "name": "python",
   "nbconvert_exporter": "python",
   "pygments_lexer": "ipython3",
   "version": "3.8.5"
  }
 },
 "nbformat": 4,
 "nbformat_minor": 5
}
