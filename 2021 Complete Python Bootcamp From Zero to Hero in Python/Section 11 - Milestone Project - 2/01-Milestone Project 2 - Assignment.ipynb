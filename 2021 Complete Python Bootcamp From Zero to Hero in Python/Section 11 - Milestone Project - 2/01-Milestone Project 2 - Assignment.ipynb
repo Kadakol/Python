{
 "cells": [
  {
   "cell_type": "markdown",
   "metadata": {},
   "source": [
    "___\n",
    "\n",
    "<a href='https://www.udemy.com/user/joseportilla/'><img src='../Pierian_Data_Logo.png'/></a>\n",
    "___\n",
    "<center><em>Content Copyright by Pierian Data</em></center>"
   ]
  },
  {
   "cell_type": "markdown",
   "metadata": {},
   "source": [
    "# Milestone Project 2 - Blackjack Game\n",
    "In this milestone project you will be creating a Complete BlackJack Card Game in Python.\n",
    "\n",
    "Here are the requirements:\n",
    "\n",
    "* You need to create a simple text-based [BlackJack](https://en.wikipedia.org/wiki/Blackjack) game\n",
    "* The game needs to have one player versus an automated dealer.\n",
    "* The player can stand or hit.\n",
    "* The player must be able to pick their betting amount.\n",
    "* You need to keep track of the player's total money.\n",
    "* You need to alert the player of wins, losses, or busts, etc...\n",
    "\n",
    "And most importantly:\n",
    "\n",
    "* **You must use OOP and classes in some portion of your game. You can not just use functions in your game. Use classes to help you define the Deck and the Player's hand. There are many right ways to do this, so explore it well!**\n",
    "\n",
    "\n",
    "Feel free to expand this game. Try including multiple players. Try adding in Double-Down and card splits! Remember to you are free to use any resources you want and as always:\n",
    "\n",
    "# HAVE FUN!"
   ]
  },
  {
   "cell_type": "code",
   "execution_count": 1,
   "metadata": {},
   "outputs": [],
   "source": [
    "import random\n",
    "\n",
    "suits = ['Hearts', 'Spades', 'Clubs', 'Diamonds']\n",
    "ranks = ['Two', 'Three', 'Four', 'Five', 'Six', 'Seven', \n",
    "         'Eight', 'Nine', 'Ten', 'Jack', 'Queen', 'King', 'Ace']\n",
    "values = {'Two': 2, \"Three\": 3, 'Four': 4, 'Five': 5, 'Six': 6,\n",
    "         'Seven': 7, 'Eight': 8, 'Nine': 9, 'Ten': 10, 'Jack': 10,\n",
    "         'Queen': 10, 'King': 10, 'Ace': 11}"
   ]
  },
  {
   "cell_type": "code",
   "execution_count": 2,
   "metadata": {},
   "outputs": [],
   "source": [
    "class Card:\n",
    "    \n",
    "    def __init__(self, suit, rank):\n",
    "        self.suit = suit\n",
    "        self.rank = rank\n",
    "        self.value = values[rank]\n",
    "    \n",
    "    def __str__(self):\n",
    "        return f'{self.rank} of {self.suit}'"
   ]
  },
  {
   "cell_type": "code",
   "execution_count": 3,
   "metadata": {},
   "outputs": [],
   "source": [
    "class Deck:\n",
    "    \n",
    "    def __init__(self):\n",
    "        self.all_cards = []\n",
    "        \n",
    "        for suit in suits:\n",
    "            for rank in ranks:\n",
    "                self.all_cards.append(Card(suit, rank))\n",
    "    \n",
    "    def shuffle(self):\n",
    "        random.shuffle(self.all_cards)\n",
    "        \n",
    "    def remove_one_card(self):\n",
    "        return self.all_cards.pop()\n",
    "    \n",
    "    def __str__(self):\n",
    "        return f'Deck has {len(self.all_cards)} cards'"
   ]
  },
  {
   "cell_type": "code",
   "execution_count": 67,
   "metadata": {},
   "outputs": [],
   "source": [
    "class Player:\n",
    "    \n",
    "    def __init__(self, name, chips):\n",
    "        self.name = name\n",
    "        self.cards = []\n",
    "        self.chips = chips\n",
    "        \n",
    "    def add_card_to_hand(self, card):\n",
    "        self.cards.append(card)\n",
    "        \n",
    "    def place_bet(self, chips):\n",
    "        if chips > self.chips.value:\n",
    "            raise ValueError\n",
    "        \n",
    "        self.chips = Chips(self.chips.value - chips)\n",
    "        return Chips(chips)\n",
    "    \n",
    "    def add_chips(self, chips):\n",
    "        self.chips = Chips(self.chips.value + chips)\n",
    "        \n",
    "    def clear_cards(self):\n",
    "        self.cards.clear()\n",
    "        \n",
    "    def __str__(self):\n",
    "        return f'Player {name} has {len(self.cards)} cards and {self.chips} chips'"
   ]
  },
  {
   "cell_type": "code",
   "execution_count": 32,
   "metadata": {},
   "outputs": [],
   "source": [
    "class Dealer:\n",
    "    \n",
    "    def __init__(self):\n",
    "        self.cards = []\n",
    "        \n",
    "    def add_card_to_hand(self, card):\n",
    "        self.cards.append(card)\n",
    "        \n",
    "    def clear_cards(self):\n",
    "        self.cards.clear()\n",
    "        \n",
    "    def __str__(self):\n",
    "        return f'Dealer has {len(self.cards)} cards'"
   ]
  },
  {
   "cell_type": "code",
   "execution_count": 6,
   "metadata": {},
   "outputs": [],
   "source": [
    "class Chips:\n",
    "    \n",
    "    def __init__(self, value):\n",
    "        self.value = value\n",
    "        \n",
    "    def __str__(self):\n",
    "        return f'Chips has value {self.value}'"
   ]
  },
  {
   "cell_type": "code",
   "execution_count": 7,
   "metadata": {},
   "outputs": [],
   "source": [
    "def get_user_bet(message='Enter your bet'):\n",
    "    \n",
    "    while True:\n",
    "        try:\n",
    "            bet = int(input(f'{message}: '))\n",
    "            return bet\n",
    "        except:\n",
    "            print('Expected an integer value. Try again.')"
   ]
  },
  {
   "cell_type": "code",
   "execution_count": 8,
   "metadata": {},
   "outputs": [
    {
     "name": "stdout",
     "output_type": "stream",
     "text": [
      "Enter your bet: 100\n"
     ]
    },
    {
     "data": {
      "text/plain": [
       "100"
      ]
     },
     "execution_count": 8,
     "metadata": {},
     "output_type": "execute_result"
    }
   ],
   "source": [
    "get_user_bet()"
   ]
  },
  {
   "cell_type": "code",
   "execution_count": 9,
   "metadata": {},
   "outputs": [],
   "source": [
    "def continue_playing():\n",
    "    while True:\n",
    "        choice = input('Continue playing (y/n)?: ')\n",
    "        if choice == 'y':\n",
    "            return True\n",
    "        elif choice == 'n':\n",
    "            return False\n",
    "        else:\n",
    "            print('Expected \"y\" or \"n\"')\n",
    "            continue"
   ]
  },
  {
   "cell_type": "code",
   "execution_count": 10,
   "metadata": {},
   "outputs": [
    {
     "name": "stdout",
     "output_type": "stream",
     "text": [
      "Continue playing (y/n)?: y\n"
     ]
    },
    {
     "data": {
      "text/plain": [
       "True"
      ]
     },
     "execution_count": 10,
     "metadata": {},
     "output_type": "execute_result"
    }
   ],
   "source": [
    "continue_playing()"
   ]
  },
  {
   "cell_type": "code",
   "execution_count": 13,
   "metadata": {},
   "outputs": [],
   "source": [
    "def get_user_move():\n",
    "    \n",
    "    while True:\n",
    "        choice = input('Do you want to hit or stand? (h/s): ')\n",
    "        if choice == 'h':\n",
    "            return 'HIT'\n",
    "        elif choice == 's':\n",
    "            return 'STAND'\n",
    "        else:\n",
    "            print('Expected \"h\"(hit) or \"s\"(stand).Try again.')\n",
    "            continue"
   ]
  },
  {
   "cell_type": "code",
   "execution_count": 15,
   "metadata": {},
   "outputs": [
    {
     "name": "stdout",
     "output_type": "stream",
     "text": [
      "Do you want to hit or stand? (h/s): s\n"
     ]
    },
    {
     "data": {
      "text/plain": [
       "'STAND'"
      ]
     },
     "execution_count": 15,
     "metadata": {},
     "output_type": "execute_result"
    }
   ],
   "source": [
    "get_user_move()"
   ]
  },
  {
   "cell_type": "code",
   "execution_count": 73,
   "metadata": {},
   "outputs": [],
   "source": [
    "cards = [Card('Clubs', 'Two'), Card('Spades', 'Ace')]"
   ]
  },
  {
   "cell_type": "code",
   "execution_count": 74,
   "metadata": {},
   "outputs": [
    {
     "data": {
      "text/plain": [
       "False"
      ]
     },
     "execution_count": 74,
     "metadata": {},
     "output_type": "execute_result"
    }
   ],
   "source": [
    "Card('Spades', 'Ace') in cards"
   ]
  },
  {
   "cell_type": "code",
   "execution_count": 87,
   "metadata": {},
   "outputs": [],
   "source": [
    "def sum_hand(cards):\n",
    "    total = 0\n",
    "    aces = 0\n",
    "    for card in cards:\n",
    "        total += card.value\n",
    "        if card.rank == 'Ace':\n",
    "            aces += 1\n",
    "        \n",
    "    while total > 21 and aces:\n",
    "        total -= 10\n",
    "        aces -= 1\n",
    "            \n",
    "    return total"
   ]
  },
  {
   "cell_type": "code",
   "execution_count": 88,
   "metadata": {},
   "outputs": [
    {
     "data": {
      "text/plain": [
       "340"
      ]
     },
     "execution_count": 88,
     "metadata": {},
     "output_type": "execute_result"
    }
   ],
   "source": [
    "sum_hand(deck.all_cards)"
   ]
  },
  {
   "cell_type": "code",
   "execution_count": 53,
   "metadata": {},
   "outputs": [],
   "source": [
    "def print_cards(cards, first_card_only=False):\n",
    "    if first_card_only:\n",
    "        print(cards[0])\n",
    "    else:\n",
    "        for card in cards:\n",
    "            print(card)"
   ]
  },
  {
   "cell_type": "code",
   "execution_count": 54,
   "metadata": {
    "scrolled": true
   },
   "outputs": [
    {
     "name": "stdout",
     "output_type": "stream",
     "text": [
      "King of Clubs\n",
      "Four of Hearts\n",
      "Eight of Hearts\n",
      "Ten of Clubs\n",
      "Eight of Clubs\n",
      "Queen of Diamonds\n",
      "Four of Spades\n",
      "Two of Hearts\n",
      "Eight of Diamonds\n",
      "Seven of Diamonds\n",
      "Nine of Clubs\n",
      "Six of Clubs\n",
      "Ace of Spades\n",
      "Three of Spades\n",
      "Jack of Diamonds\n",
      "King of Spades\n",
      "Ace of Clubs\n",
      "Three of Hearts\n",
      "Nine of Spades\n",
      "Two of Spades\n",
      "Jack of Hearts\n",
      "Four of Diamonds\n",
      "Nine of Hearts\n",
      "Three of Clubs\n",
      "Seven of Clubs\n",
      "Five of Hearts\n",
      "Ten of Hearts\n",
      "Queen of Hearts\n",
      "Jack of Clubs\n",
      "Seven of Spades\n",
      "Five of Spades\n",
      "Ten of Diamonds\n",
      "Ten of Spades\n",
      "Six of Diamonds\n",
      "Ace of Diamonds\n",
      "Three of Diamonds\n",
      "Eight of Spades\n",
      "Two of Diamonds\n",
      "Six of Spades\n",
      "King of Diamonds\n",
      "Six of Hearts\n",
      "Five of Diamonds\n",
      "Nine of Diamonds\n",
      "Ace of Hearts\n",
      "Two of Clubs\n",
      "Seven of Hearts\n",
      "Jack of Spades\n"
     ]
    }
   ],
   "source": [
    "print_cards(deck.all_cards)"
   ]
  },
  {
   "cell_type": "code",
   "execution_count": 55,
   "metadata": {},
   "outputs": [
    {
     "name": "stdout",
     "output_type": "stream",
     "text": [
      "King of Clubs\n"
     ]
    }
   ],
   "source": [
    "print_cards(deck.all_cards, first_card_only=True)"
   ]
  },
  {
   "cell_type": "code",
   "execution_count": 69,
   "metadata": {},
   "outputs": [],
   "source": [
    "def resolve_winner(player, dealer, bet):\n",
    "    player_total = sum_hand(player.cards)\n",
    "    dealer_total = sum_hand(dealer.cards)\n",
    "    \n",
    "    if player_total == 21:\n",
    "        print(f\"{player.name} has a Blackjack!\")\n",
    "        \n",
    "    if dealer_total == 21:\n",
    "        print(\"Dealer has a Blackjack!\")\n",
    "    \n",
    "    if player_total == dealer_total and player_total <= 21:\n",
    "        print(\"It's a draw\")\n",
    "        player.add_chips(bet)\n",
    "    elif player_total <= 21 and player_total > dealer_total:\n",
    "        print(f\"{player.name} wins!\")\n",
    "        player.add_chips(bet * 2)\n",
    "    elif dealer_total <= 21 and dealer_total > player_total:\n",
    "        print(\"Dealer wins!\")\n",
    "    elif player_total > 21:\n",
    "        print(f\"{player.name} has gone BUST!\")\n",
    "    elif dealer_total > 21:\n",
    "        print(f\"Dealer has gone BUST! {player.name} wins!\")\n",
    "        player.add_chips(bet * 2)\n",
    "    else:\n",
    "        print(f\"Player total = {player_total}. Dealer total = {dealer_total}\")"
   ]
  },
  {
   "cell_type": "code",
   "execution_count": 89,
   "metadata": {},
   "outputs": [
    {
     "name": "stdout",
     "output_type": "stream",
     "text": [
      "Enter your name: A\n",
      "Enter your initial chips: 10\n"
     ]
    }
   ],
   "source": [
    "dealer = Dealer()\n",
    "\n",
    "player_name = input('Enter your name: ')\n",
    "initial_chips = get_user_bet('Enter your initial chips')\n",
    "player = Player(player_name, Chips(initial_chips))\n",
    "\n",
    "game_on = True"
   ]
  },
  {
   "cell_type": "code",
   "execution_count": 90,
   "metadata": {
    "scrolled": true
   },
   "outputs": [
    {
     "name": "stdout",
     "output_type": "stream",
     "text": [
      "Enter your bet: 5\n",
      "Dealer's first card:\n",
      "Four of Hearts\n",
      "A's cards:\n",
      "King of Hearts\n",
      "Ten of Diamonds\n",
      "Do you want to hit or stand? (h/s): s\n",
      "Dealer's cards:\n",
      "Four of Hearts\n",
      "Nine of Clubs\n",
      "Dealer hits\n",
      "Four of Hearts\n",
      "Nine of Clubs\n",
      "Ace of Diamonds\n",
      "Dealer hits\n",
      "Four of Hearts\n",
      "Nine of Clubs\n",
      "Ace of Diamonds\n",
      "King of Spades\n",
      "Dealer has gone BUST! A wins!\n",
      "Continue playing (y/n)?: y\n",
      "Enter your bet: 15\n",
      "Dealer's first card:\n",
      "Two of Diamonds\n",
      "A's cards:\n",
      "Seven of Spades\n",
      "Seven of Diamonds\n",
      "Do you want to hit or stand? (h/s): h\n",
      "A's cards:\n",
      "Seven of Spades\n",
      "Seven of Diamonds\n",
      "Three of Clubs\n",
      "Do you want to hit or stand? (h/s): s\n",
      "Dealer's cards:\n",
      "Two of Diamonds\n",
      "Eight of Spades\n",
      "Dealer hits\n",
      "Two of Diamonds\n",
      "Eight of Spades\n",
      "Four of Hearts\n",
      "Dealer hits\n",
      "Two of Diamonds\n",
      "Eight of Spades\n",
      "Four of Hearts\n",
      "Ace of Diamonds\n",
      "Dealer hits\n",
      "Two of Diamonds\n",
      "Eight of Spades\n",
      "Four of Hearts\n",
      "Ace of Diamonds\n",
      "Nine of Clubs\n",
      "Dealer has gone BUST! A wins!\n",
      "Continue playing (y/n)?: y\n",
      "Enter your bet: 50\n",
      "You do not have sufficient chips to place this bet\n",
      "Available chips = Chips has value 30\n",
      "Enter your bet: 30\n",
      "Dealer's first card:\n",
      "King of Spades\n",
      "A's cards:\n",
      "Three of Diamonds\n",
      "Ace of Diamonds\n",
      "Do you want to hit or stand? (h/s): h\n",
      "A's cards:\n",
      "Three of Diamonds\n",
      "Ace of Diamonds\n",
      "Six of Clubs\n",
      "Do you want to hit or stand? (h/s): h\n",
      "A's cards:\n",
      "Three of Diamonds\n",
      "Ace of Diamonds\n",
      "Six of Clubs\n",
      "Four of Spades\n",
      "Do you want to hit or stand? (h/s): h\n",
      "A's cards:\n",
      "Three of Diamonds\n",
      "Ace of Diamonds\n",
      "Six of Clubs\n",
      "Four of Spades\n",
      "Ace of Clubs\n",
      "Do you want to hit or stand? (h/s): h\n",
      "A's cards:\n",
      "Three of Diamonds\n",
      "Ace of Diamonds\n",
      "Six of Clubs\n",
      "Four of Spades\n",
      "Ace of Clubs\n",
      "Nine of Clubs\n",
      "A has gone BUST!\n",
      "Continue playing (y/n)?: y\n",
      "A has 0 chips. Game over!\n"
     ]
    }
   ],
   "source": [
    "while game_on:\n",
    "    deck = Deck()\n",
    "    deck.shuffle()\n",
    "    player.clear_cards()\n",
    "    dealer.clear_cards()\n",
    "    \n",
    "    if player.chips.value == 0:\n",
    "        print(f\"{player.name} has 0 chips. Game over!\")\n",
    "        game_on = False\n",
    "        break\n",
    "    \n",
    "    betting = True\n",
    "    while betting:\n",
    "        bet = get_user_bet()\n",
    "        try:\n",
    "            player.place_bet(bet)\n",
    "            betting = False\n",
    "        except:\n",
    "            print(f'You do not have sufficient chips to place this bet')\n",
    "            print(f'Available chips = {player.chips}')\n",
    "    \n",
    "    dealer.add_card_to_hand(deck.remove_one_card())\n",
    "    dealer.add_card_to_hand(deck.remove_one_card())\n",
    "    player.add_card_to_hand(deck.remove_one_card())\n",
    "    player.add_card_to_hand(deck.remove_one_card())\n",
    "    \n",
    "    print(\"Dealer's first card:\")\n",
    "    print_cards(dealer.cards, first_card_only=True)\n",
    "    print(f\"{player.name}'s cards:\")\n",
    "    print_cards(player.cards)\n",
    "    \n",
    "    user_turn = True\n",
    "    while user_turn:\n",
    "        user_move = get_user_move()\n",
    "        if user_move == 'HIT':\n",
    "            player.add_card_to_hand(deck.remove_one_card())\n",
    "            print(f\"{player.name}'s cards:\")\n",
    "            print_cards(player.cards)\n",
    "            total = sum_hand(player.cards)\n",
    "\n",
    "            if total < 21:\n",
    "                continue\n",
    "            elif total == 21:\n",
    "                user_turn = False\n",
    "            else:\n",
    "                user_turn = False\n",
    "        elif user_move == 'STAND':\n",
    "            user_turn = False\n",
    "            print(\"Dealer's cards:\")\n",
    "            print_cards(dealer.cards)\n",
    "            dealer_turn = True\n",
    "            while dealer_turn:\n",
    "                total = sum_hand(dealer.cards)\n",
    "                if total < 17:\n",
    "                    print('Dealer hits')\n",
    "                    dealer.add_card_to_hand(deck.remove_one_card())\n",
    "                    print_cards(dealer.cards)\n",
    "                    continue\n",
    "                elif total == 21:\n",
    "                    dealer_turn = False\n",
    "                    break\n",
    "                else:\n",
    "                    dealer_turn = False\n",
    "                    break\n",
    "    \n",
    "    resolve_winner(player, dealer, bet)\n",
    "\n",
    "    game_on = continue_playing()"
   ]
  },
  {
   "cell_type": "code",
   "execution_count": null,
   "metadata": {},
   "outputs": [],
   "source": [
    "    "
   ]
  },
  {
   "cell_type": "code",
   "execution_count": null,
   "metadata": {},
   "outputs": [],
   "source": []
  },
  {
   "cell_type": "code",
   "execution_count": 91,
   "metadata": {},
   "outputs": [],
   "source": [
    "items = [1, 2, 3]"
   ]
  },
  {
   "cell_type": "code",
   "execution_count": 96,
   "metadata": {},
   "outputs": [
    {
     "name": "stdout",
     "output_type": "stream",
     "text": [
      "items = 1 2 3\n"
     ]
    }
   ],
   "source": [
    "print('items =', *items, sep=' ')"
   ]
  },
  {
   "cell_type": "code",
   "execution_count": null,
   "metadata": {},
   "outputs": [],
   "source": []
  },
  {
   "cell_type": "code",
   "execution_count": null,
   "metadata": {},
   "outputs": [],
   "source": []
  },
  {
   "cell_type": "code",
   "execution_count": null,
   "metadata": {},
   "outputs": [],
   "source": []
  },
  {
   "cell_type": "code",
   "execution_count": null,
   "metadata": {},
   "outputs": [],
   "source": []
  },
  {
   "cell_type": "code",
   "execution_count": null,
   "metadata": {},
   "outputs": [],
   "source": []
  }
 ],
 "metadata": {
  "kernelspec": {
   "display_name": "Python 3",
   "language": "python",
   "name": "python3"
  },
  "language_info": {
   "codemirror_mode": {
    "name": "ipython",
    "version": 3
   },
   "file_extension": ".py",
   "mimetype": "text/x-python",
   "name": "python",
   "nbconvert_exporter": "python",
   "pygments_lexer": "ipython3",
   "version": "3.8.5"
  }
 },
 "nbformat": 4,
 "nbformat_minor": 1
}
