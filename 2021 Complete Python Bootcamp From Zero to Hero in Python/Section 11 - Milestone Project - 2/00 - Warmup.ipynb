{
 "cells": [
  {
   "cell_type": "markdown",
   "id": "7cf36fce",
   "metadata": {},
   "source": [
    "Card class\n",
    "\n",
    "Atrributes:Suit, Rank, Value\n",
    "\n",
    "\n"
   ]
  },
  {
   "cell_type": "markdown",
   "id": "e2d18f96",
   "metadata": {},
   "source": [
    "Deck class\n",
    "\n",
    "All 52 cards\n",
    "\n",
    "Shuffle cards\n",
    "\n",
    "Draw card"
   ]
  },
  {
   "cell_type": "markdown",
   "id": "5c3d1680",
   "metadata": {},
   "source": [
    "Player class\n",
    "\n",
    "Has a name\n",
    "\n",
    "Add card/cards to bottom\n",
    "\n",
    "Draw and drop card from the top"
   ]
  },
  {
   "cell_type": "code",
   "execution_count": 17,
   "id": "47c5aca8",
   "metadata": {},
   "outputs": [],
   "source": [
    "suits = ['hearts', 'diamonds', 'spades', 'clubs']\n",
    "ranks = ['two', 'three', 'four', 'five', 'six', 'seven', 'eight', \n",
    "        'nine', 'ten', 'jack', 'queen', 'king', 'ace']\n",
    "values = {'two': 2, 'three': 3, 'four': 4, 'five': 5, 'six': 6, \n",
    "          'seven': 7, 'eight': 8, 'nine': 9, 'ten': 10, 'jack': 11,\n",
    "          'queen': 12 , 'king': 13, 'ace': 14}"
   ]
  },
  {
   "cell_type": "code",
   "execution_count": 19,
   "id": "fc688277",
   "metadata": {},
   "outputs": [],
   "source": [
    "class Card:\n",
    "    \n",
    "    def __init__(self, suit, rank):\n",
    "        self.suit = suit\n",
    "        self.rank = rank\n",
    "        self.value = values[rank]\n",
    "        \n",
    "    def __str__(self):\n",
    "        return self.rank + \" of \" + self.suit"
   ]
  },
  {
   "cell_type": "code",
   "execution_count": 24,
   "id": "8e1f84b9",
   "metadata": {},
   "outputs": [],
   "source": [
    "two_hearts = Card('hearts', \"two\")"
   ]
  },
  {
   "cell_type": "code",
   "execution_count": 25,
   "id": "6d61c62e",
   "metadata": {},
   "outputs": [
    {
     "data": {
      "text/plain": [
       "<__main__.Card at 0x1f05af1deb0>"
      ]
     },
     "execution_count": 25,
     "metadata": {},
     "output_type": "execute_result"
    }
   ],
   "source": [
    "two_hearts"
   ]
  },
  {
   "cell_type": "code",
   "execution_count": 26,
   "id": "5383d4de",
   "metadata": {},
   "outputs": [
    {
     "name": "stdout",
     "output_type": "stream",
     "text": [
      "two of hearts\n"
     ]
    }
   ],
   "source": [
    "print(two_hearts)"
   ]
  },
  {
   "cell_type": "code",
   "execution_count": 27,
   "id": "c880f0cc",
   "metadata": {},
   "outputs": [
    {
     "data": {
      "text/plain": [
       "'two'"
      ]
     },
     "execution_count": 27,
     "metadata": {},
     "output_type": "execute_result"
    }
   ],
   "source": [
    "two_hearts.rank"
   ]
  },
  {
   "cell_type": "code",
   "execution_count": 31,
   "id": "55004228",
   "metadata": {},
   "outputs": [
    {
     "data": {
      "text/plain": [
       "'hearts'"
      ]
     },
     "execution_count": 31,
     "metadata": {},
     "output_type": "execute_result"
    }
   ],
   "source": [
    "two_hearts.suit"
   ]
  },
  {
   "cell_type": "code",
   "execution_count": 32,
   "id": "a489ad2a",
   "metadata": {},
   "outputs": [
    {
     "data": {
      "text/plain": [
       "2"
      ]
     },
     "execution_count": 32,
     "metadata": {},
     "output_type": "execute_result"
    }
   ],
   "source": [
    "two_hearts.value"
   ]
  },
  {
   "cell_type": "code",
   "execution_count": 69,
   "id": "6588b8bd",
   "metadata": {},
   "outputs": [],
   "source": [
    "import random\n",
    "\n",
    "class Deck:\n",
    "    \n",
    "    def __init__(self):\n",
    "        self.all_cards = []\n",
    "        \n",
    "        for suit in suits:\n",
    "            for rank in ranks:\n",
    "                self.all_cards.append(Card(suit, rank))\n",
    "        \n",
    "    def shuffle(self):\n",
    "        random.shuffle(self.all_cards)\n",
    "    \n",
    "    def deal_one(self):\n",
    "        return self.all_cards.pop(0)\n",
    "    \n",
    "    def __str__(self):\n",
    "        return f'Deck has {len(self.all_cards)} cards'"
   ]
  },
  {
   "cell_type": "code",
   "execution_count": 70,
   "id": "e20a487b",
   "metadata": {},
   "outputs": [],
   "source": [
    "deck = Deck()"
   ]
  },
  {
   "cell_type": "code",
   "execution_count": 71,
   "id": "f9b1af20",
   "metadata": {},
   "outputs": [
    {
     "data": {
      "text/plain": [
       "<__main__.Deck at 0x1f05b2d9280>"
      ]
     },
     "execution_count": 71,
     "metadata": {},
     "output_type": "execute_result"
    }
   ],
   "source": [
    "deck"
   ]
  },
  {
   "cell_type": "code",
   "execution_count": 72,
   "id": "a11ef016",
   "metadata": {},
   "outputs": [
    {
     "name": "stdout",
     "output_type": "stream",
     "text": [
      "Deck has 52 cards\n"
     ]
    }
   ],
   "source": [
    "print(deck)"
   ]
  },
  {
   "cell_type": "code",
   "execution_count": 73,
   "id": "885872e6",
   "metadata": {},
   "outputs": [],
   "source": [
    "card = deck.deal_one()"
   ]
  },
  {
   "cell_type": "code",
   "execution_count": 74,
   "id": "822546c5",
   "metadata": {},
   "outputs": [
    {
     "data": {
      "text/plain": [
       "<__main__.Card at 0x1f05b2d9be0>"
      ]
     },
     "execution_count": 74,
     "metadata": {},
     "output_type": "execute_result"
    }
   ],
   "source": [
    "card"
   ]
  },
  {
   "cell_type": "code",
   "execution_count": 75,
   "id": "22da7365",
   "metadata": {},
   "outputs": [
    {
     "name": "stdout",
     "output_type": "stream",
     "text": [
      "two of hearts\n"
     ]
    }
   ],
   "source": [
    "print(card)"
   ]
  },
  {
   "cell_type": "code",
   "execution_count": 76,
   "id": "08e169df",
   "metadata": {},
   "outputs": [
    {
     "name": "stdout",
     "output_type": "stream",
     "text": [
      "Deck has 51 cards\n"
     ]
    }
   ],
   "source": [
    "print(deck)"
   ]
  },
  {
   "cell_type": "code",
   "execution_count": 77,
   "id": "7d6491b9",
   "metadata": {},
   "outputs": [],
   "source": [
    "deck.shuffle()"
   ]
  },
  {
   "cell_type": "code",
   "execution_count": 79,
   "id": "927d3217",
   "metadata": {},
   "outputs": [],
   "source": [
    "card = deck.deal_one()"
   ]
  },
  {
   "cell_type": "code",
   "execution_count": 80,
   "id": "e6728cd5",
   "metadata": {},
   "outputs": [
    {
     "name": "stdout",
     "output_type": "stream",
     "text": [
      "six of spades\n"
     ]
    }
   ],
   "source": [
    "print(card)"
   ]
  },
  {
   "cell_type": "code",
   "execution_count": 81,
   "id": "3d57c357",
   "metadata": {},
   "outputs": [
    {
     "data": {
      "text/plain": [
       "True"
      ]
     },
     "execution_count": 81,
     "metadata": {},
     "output_type": "execute_result"
    }
   ],
   "source": [
    "two_hearts.value < card.value"
   ]
  },
  {
   "cell_type": "code",
   "execution_count": null,
   "id": "087a5c5b",
   "metadata": {},
   "outputs": [],
   "source": []
  },
  {
   "cell_type": "code",
   "execution_count": null,
   "id": "a77fe7c7",
   "metadata": {},
   "outputs": [],
   "source": []
  },
  {
   "cell_type": "code",
   "execution_count": 96,
   "id": "0f7ab41b",
   "metadata": {},
   "outputs": [],
   "source": [
    "class Player:\n",
    "    \n",
    "    def __init__(self, name):\n",
    "        self.name = name\n",
    "        self.all_cards = []\n",
    "        \n",
    "    def add_cards(self, cards):\n",
    "        if type(cards) == type([]):\n",
    "            self.all_cards.extend(cards)\n",
    "        elif type(cards) == Card:\n",
    "            self.all_cards.append(cards)\n",
    "        \n",
    "    def remove_one(self):\n",
    "        return self.all_cards.pop(0)\n",
    "    \n",
    "    def __str__(self):\n",
    "        return f'{self.name} has {len(self.all_cards)} cards'\n",
    "    \n",
    "    "
   ]
  },
  {
   "cell_type": "code",
   "execution_count": 97,
   "id": "5cfa7d4d",
   "metadata": {},
   "outputs": [],
   "source": [
    "player = Player('A')"
   ]
  },
  {
   "cell_type": "code",
   "execution_count": 98,
   "id": "0376ccd3",
   "metadata": {},
   "outputs": [
    {
     "name": "stdout",
     "output_type": "stream",
     "text": [
      "A has 0 cards\n"
     ]
    }
   ],
   "source": [
    "print(player)"
   ]
  },
  {
   "cell_type": "code",
   "execution_count": 99,
   "id": "fbaabdcd",
   "metadata": {},
   "outputs": [],
   "source": [
    "player.add_cards(Card('spades', 'two'))"
   ]
  },
  {
   "cell_type": "code",
   "execution_count": 100,
   "id": "8689bb11",
   "metadata": {},
   "outputs": [
    {
     "name": "stdout",
     "output_type": "stream",
     "text": [
      "A has 1 cards\n"
     ]
    }
   ],
   "source": [
    "print(player)"
   ]
  },
  {
   "cell_type": "code",
   "execution_count": 101,
   "id": "063a2e78",
   "metadata": {},
   "outputs": [],
   "source": [
    "card = player.remove_one()"
   ]
  },
  {
   "cell_type": "code",
   "execution_count": 102,
   "id": "c798f04f",
   "metadata": {},
   "outputs": [
    {
     "name": "stdout",
     "output_type": "stream",
     "text": [
      "two of spades\n"
     ]
    }
   ],
   "source": [
    "print(card)"
   ]
  },
  {
   "cell_type": "code",
   "execution_count": 103,
   "id": "1083b76a",
   "metadata": {},
   "outputs": [],
   "source": [
    "player.add_cards([card, card, card, card])"
   ]
  },
  {
   "cell_type": "code",
   "execution_count": 105,
   "id": "16d074dd",
   "metadata": {},
   "outputs": [
    {
     "name": "stdout",
     "output_type": "stream",
     "text": [
      "A has 4 cards\n"
     ]
    }
   ],
   "source": [
    "print(player)"
   ]
  },
  {
   "cell_type": "code",
   "execution_count": 106,
   "id": "9601de0f",
   "metadata": {},
   "outputs": [],
   "source": [
    "card = player.remove_one()"
   ]
  },
  {
   "cell_type": "code",
   "execution_count": 107,
   "id": "ef4b9ea4",
   "metadata": {},
   "outputs": [
    {
     "name": "stdout",
     "output_type": "stream",
     "text": [
      "two of spades\n"
     ]
    }
   ],
   "source": [
    "print(card)"
   ]
  },
  {
   "cell_type": "code",
   "execution_count": 108,
   "id": "b2f2ab17",
   "metadata": {},
   "outputs": [
    {
     "name": "stdout",
     "output_type": "stream",
     "text": [
      "A has 3 cards\n"
     ]
    }
   ],
   "source": [
    "print(player)"
   ]
  },
  {
   "cell_type": "code",
   "execution_count": null,
   "id": "5450bca8",
   "metadata": {},
   "outputs": [],
   "source": []
  },
  {
   "cell_type": "code",
   "execution_count": null,
   "id": "48609948",
   "metadata": {},
   "outputs": [],
   "source": []
  },
  {
   "cell_type": "code",
   "execution_count": 137,
   "id": "b364c527",
   "metadata": {},
   "outputs": [],
   "source": [
    "player1 = Player('One')\n",
    "player2 = Player('Two')\n",
    "\n",
    "deck = Deck()\n",
    "deck.shuffle()\n",
    "\n",
    "while len(deck.all_cards) > 1:\n",
    "    player1.add_cards(deck.deal_one())\n",
    "    player2.add_cards(deck.deal_one())"
   ]
  },
  {
   "cell_type": "code",
   "execution_count": 138,
   "id": "98e021e1",
   "metadata": {},
   "outputs": [
    {
     "name": "stdout",
     "output_type": "stream",
     "text": [
      "Round 1\n",
      "Player One played nine of hearts\n",
      "Player Two played seven of clubs\n",
      "Player One wins round 1.\n",
      "One has 27 cards\n",
      "Two has 25 cards\n",
      "Round 2\n",
      "Player One played jack of diamonds\n",
      "Player Two played jack of spades\n",
      "Its war!\n",
      "War 1\n",
      "Player One played nine of spades\n",
      "Player Two played king of hearts\n",
      "Player Two wins this war 1.\n",
      "One has 22 cards\n",
      "Two has 30 cards\n",
      "Round 3\n",
      "Player One played ace of spades\n",
      "Player Two played queen of diamonds\n",
      "Player One wins round 3.\n",
      "One has 23 cards\n",
      "Two has 29 cards\n",
      "Round 4\n",
      "Player One played six of spades\n",
      "Player Two played eight of spades\n",
      "Player Two wins round 4.\n",
      "One has 22 cards\n",
      "Two has 30 cards\n",
      "Round 5\n",
      "Player One played eight of hearts\n",
      "Player Two played king of clubs\n",
      "Player Two wins round 5.\n",
      "One has 21 cards\n",
      "Two has 31 cards\n",
      "Round 6\n",
      "Player One played seven of spades\n",
      "Player Two played king of spades\n",
      "Player Two wins round 6.\n",
      "One has 20 cards\n",
      "Two has 32 cards\n",
      "Round 7\n",
      "Player One played king of diamonds\n",
      "Player Two played jack of clubs\n",
      "Player One wins round 7.\n",
      "One has 21 cards\n",
      "Two has 31 cards\n",
      "Round 8\n",
      "Player One played seven of diamonds\n",
      "Player Two played ten of clubs\n",
      "Player Two wins round 8.\n",
      "One has 20 cards\n",
      "Two has 32 cards\n",
      "Round 9\n",
      "Player One played two of spades\n",
      "Player Two played five of diamonds\n",
      "Player Two wins round 9.\n",
      "One has 19 cards\n",
      "Two has 33 cards\n",
      "Round 10\n",
      "Player One played two of hearts\n",
      "Player Two played jack of hearts\n",
      "Player Two wins round 10.\n",
      "One has 18 cards\n",
      "Two has 34 cards\n",
      "Round 11\n",
      "Player One played ace of clubs\n",
      "Player Two played four of hearts\n",
      "Player One wins round 11.\n",
      "One has 19 cards\n",
      "Two has 33 cards\n",
      "Round 12\n",
      "Player One played two of diamonds\n",
      "Player Two played three of hearts\n",
      "Player Two wins round 12.\n",
      "One has 18 cards\n",
      "Two has 34 cards\n",
      "Round 13\n",
      "Player One played ace of diamonds\n",
      "Player Two played five of clubs\n",
      "Player One wins round 13.\n",
      "One has 19 cards\n",
      "Two has 33 cards\n",
      "Round 14\n",
      "Player One played eight of clubs\n",
      "Player Two played ten of diamonds\n",
      "Player Two wins round 14.\n",
      "One has 18 cards\n",
      "Two has 34 cards\n",
      "Round 15\n",
      "Player One played five of spades\n",
      "Player Two played queen of hearts\n",
      "Player Two wins round 15.\n",
      "One has 17 cards\n",
      "Two has 35 cards\n",
      "Round 16\n",
      "Player One played six of clubs\n",
      "Player Two played three of clubs\n",
      "Player One wins round 16.\n",
      "One has 18 cards\n",
      "Two has 34 cards\n",
      "Round 17\n",
      "Player One played ten of spades\n",
      "Player Two played four of diamonds\n",
      "Player One wins round 17.\n",
      "One has 19 cards\n",
      "Two has 33 cards\n",
      "Round 18\n",
      "Player One played seven of hearts\n",
      "Player Two played ten of hearts\n",
      "Player Two wins round 18.\n",
      "One has 18 cards\n",
      "Two has 34 cards\n",
      "Round 19\n",
      "Player One played nine of clubs\n",
      "Player Two played queen of clubs\n",
      "Player Two wins round 19.\n",
      "One has 17 cards\n",
      "Two has 35 cards\n",
      "Round 20\n",
      "Player One played three of spades\n",
      "Player Two played four of spades\n",
      "Player Two wins round 20.\n",
      "One has 16 cards\n",
      "Two has 36 cards\n",
      "Round 21\n",
      "Player One played six of diamonds\n",
      "Player Two played eight of diamonds\n",
      "Player Two wins round 21.\n",
      "One has 15 cards\n",
      "Two has 37 cards\n",
      "Round 22\n",
      "Player One played six of hearts\n",
      "Player Two played two of clubs\n",
      "Player One wins round 22.\n",
      "One has 16 cards\n",
      "Two has 36 cards\n",
      "Round 23\n",
      "Player One played nine of hearts\n",
      "Player Two played jack of diamonds\n",
      "Player Two wins round 23.\n",
      "One has 15 cards\n",
      "Two has 37 cards\n",
      "Round 24\n",
      "Player One played seven of clubs\n",
      "Player Two played jack of spades\n",
      "Player Two wins round 24.\n",
      "One has 14 cards\n",
      "Two has 38 cards\n",
      "Round 25\n",
      "Player One played ace of spades\n",
      "Player Two played three of diamonds\n",
      "Player One wins round 25.\n",
      "One has 15 cards\n",
      "Two has 37 cards\n",
      "Round 26\n",
      "Player One played queen of diamonds\n",
      "Player Two played queen of spades\n",
      "Its war!\n",
      "War 1\n",
      "Player One played four of hearts\n",
      "Player Two played nine of diamonds\n",
      "Player Two wins this war 1.\n",
      "One has 10 cards\n",
      "Two has 42 cards\n",
      "Round 27\n",
      "Player One played ace of diamonds\n",
      "Player Two played four of clubs\n",
      "Player One wins round 27.\n",
      "One has 11 cards\n",
      "Two has 41 cards\n",
      "Round 28\n",
      "Player One played five of clubs\n",
      "Player Two played king of hearts\n",
      "Player Two wins round 28.\n",
      "One has 10 cards\n",
      "Two has 42 cards\n",
      "Round 29\n",
      "Player One played six of clubs\n",
      "Player Two played six of spades\n",
      "Its war!\n",
      "War 1\n",
      "Player One played six of hearts\n",
      "Player Two played seven of spades\n",
      "Player Two wins this war 1.\n",
      "One has 5 cards\n",
      "Two has 47 cards\n",
      "Round 30\n",
      "Player One played two of clubs\n",
      "Player Two played king of spades\n",
      "Player Two wins round 30.\n",
      "One has 4 cards\n",
      "Two has 48 cards\n",
      "Round 31\n",
      "Player One played ace of spades\n",
      "Player Two played seven of diamonds\n",
      "Player One wins round 31.\n",
      "One has 5 cards\n",
      "Two has 47 cards\n",
      "Round 32\n",
      "Player One played three of diamonds\n",
      "Player Two played ten of clubs\n",
      "Player Two wins round 32.\n",
      "One has 4 cards\n",
      "Two has 48 cards\n",
      "Round 33\n",
      "Player One played ace of diamonds\n",
      "Player Two played two of spades\n",
      "Player One wins round 33.\n",
      "One has 5 cards\n",
      "Two has 47 cards\n",
      "Round 34\n",
      "Player One played four of clubs\n",
      "Player Two played five of diamonds\n",
      "Player Two wins round 34.\n",
      "One has 4 cards\n",
      "Two has 48 cards\n",
      "Round 35\n",
      "Player One played ace of spades\n",
      "Player Two played two of hearts\n",
      "Player One wins round 35.\n",
      "One has 5 cards\n",
      "Two has 47 cards\n",
      "Round 36\n",
      "Player One played seven of diamonds\n",
      "Player Two played jack of hearts\n",
      "Player Two wins round 36.\n",
      "One has 4 cards\n",
      "Two has 48 cards\n",
      "Round 37\n",
      "Player One played ace of diamonds\n",
      "Player Two played two of diamonds\n",
      "Player One wins round 37.\n",
      "One has 5 cards\n",
      "Two has 47 cards\n",
      "Round 38\n",
      "Player One played two of spades\n",
      "Player Two played three of hearts\n",
      "Player Two wins round 38.\n",
      "One has 4 cards\n",
      "Two has 48 cards\n",
      "Round 39\n",
      "Player One played ace of spades\n",
      "Player Two played eight of clubs\n",
      "Player One wins round 39.\n",
      "One has 5 cards\n",
      "Two has 47 cards\n",
      "Round 40\n",
      "Player One played two of hearts\n",
      "Player Two played ten of diamonds\n",
      "Player Two wins round 40.\n",
      "One has 4 cards\n",
      "Two has 48 cards\n",
      "Round 41\n",
      "Player One played ace of diamonds\n",
      "Player Two played five of spades\n",
      "Player One wins round 41.\n",
      "One has 5 cards\n",
      "Two has 47 cards\n",
      "Round 42\n",
      "Player One played two of diamonds\n",
      "Player Two played queen of hearts\n",
      "Player Two wins round 42.\n",
      "One has 4 cards\n",
      "Two has 48 cards\n",
      "Round 43\n",
      "Player One played ace of spades\n",
      "Player Two played seven of hearts\n",
      "Player One wins round 43.\n",
      "One has 5 cards\n",
      "Two has 47 cards\n",
      "Round 44\n",
      "Player One played eight of clubs\n",
      "Player Two played ten of hearts\n",
      "Player Two wins round 44.\n",
      "One has 4 cards\n",
      "Two has 48 cards\n",
      "Round 45\n",
      "Player One played ace of diamonds\n",
      "Player Two played nine of clubs\n",
      "Player One wins round 45.\n",
      "One has 5 cards\n",
      "Two has 47 cards\n",
      "Round 46\n",
      "Player One played five of spades\n",
      "Player Two played queen of clubs\n",
      "Player Two wins round 46.\n",
      "One has 4 cards\n",
      "Two has 48 cards\n",
      "Round 47\n",
      "Player One played ace of spades\n",
      "Player Two played three of spades\n",
      "Player One wins round 47.\n",
      "One has 5 cards\n",
      "Two has 47 cards\n",
      "Round 48\n",
      "Player One played seven of hearts\n",
      "Player Two played four of spades\n",
      "Player One wins round 48.\n",
      "One has 6 cards\n",
      "Two has 46 cards\n",
      "Round 49\n",
      "Player One played ace of diamonds\n",
      "Player Two played six of diamonds\n",
      "Player One wins round 49.\n",
      "One has 7 cards\n",
      "Two has 45 cards\n",
      "Round 50\n",
      "Player One played nine of clubs\n",
      "Player Two played eight of diamonds\n",
      "Player One wins round 50.\n",
      "One has 8 cards\n",
      "Two has 44 cards\n",
      "Round 51\n",
      "Player One played ace of spades\n",
      "Player Two played nine of hearts\n",
      "Player One wins round 51.\n",
      "One has 9 cards\n",
      "Two has 43 cards\n",
      "Round 52\n",
      "Player One played three of spades\n",
      "Player Two played jack of diamonds\n",
      "Player Two wins round 52.\n",
      "One has 8 cards\n",
      "Two has 44 cards\n",
      "Round 53\n",
      "Player One played seven of hearts\n",
      "Player Two played seven of clubs\n",
      "Its war!\n",
      "War 1\n",
      "Player One played nine of clubs\n",
      "Player Two played king of diamonds\n",
      "Player Two wins this war 1.\n",
      "One has 3 cards\n",
      "Two has 49 cards\n",
      "Round 54\n",
      "Player One played eight of diamonds\n",
      "Player Two played jack of clubs\n",
      "Player Two wins round 54.\n",
      "One has 2 cards\n",
      "Two has 50 cards\n",
      "Round 55\n",
      "Player One played ace of spades\n",
      "Player Two played ace of clubs\n",
      "Its war!\n",
      "War 1\n",
      "One has 1 cards\n",
      "Player One does not have sufficient cards to play this war. Player Two wins! Game over.\n"
     ]
    }
   ],
   "source": [
    "game_on = True\n",
    "round_number = 0\n",
    "\n",
    "while game_on:\n",
    "    round_number += 1\n",
    "    print(f'Round {round_number}')\n",
    "    \n",
    "    if len(player1.all_cards) == 0:\n",
    "        print(f'Player {player2.name} wins! Game over.')\n",
    "        game_on = False\n",
    "        break\n",
    "    \n",
    "    if len(player2.all_cards) == 0:\n",
    "        print(f'Player {player1.name} wins! Game over.')\n",
    "        game_on = False\n",
    "        break\n",
    "        \n",
    "    player1_card = player1.remove_one()\n",
    "    print(f'Player {player1.name} played {player1_card}')\n",
    "    player2_card = player2.remove_one()\n",
    "    print(f'Player {player2.name} played {player2_card}')\n",
    "    \n",
    "    if player1_card.value < player2_card.value:\n",
    "        print(f'Player {player2.name} wins round {round_number}.')\n",
    "        player2.add_cards([player1_card, player2_card])\n",
    "        print(player1)\n",
    "        print(player2)\n",
    "    elif player1_card.value > player2_card.value:\n",
    "        print(f'Player {player1.name} wins round {round_number}.')\n",
    "        player1.add_cards([player1_card, player2_card])\n",
    "        print(player1)\n",
    "        print(player2)\n",
    "    else:\n",
    "        print('Its war!')\n",
    "        at_war = True\n",
    "        war_count = 0\n",
    "        while at_war:\n",
    "            war_count += 1\n",
    "            print(f'War {war_count}')\n",
    "            if len(player1.all_cards) < 4:\n",
    "                print(player1)\n",
    "                print(f'Player {player1.name} does not have sufficient cards to play this war. Player {player2.name} wins! Game over.')\n",
    "                at_war = False\n",
    "                game_on = False\n",
    "                break\n",
    "            elif len(player2.all_cards) < 4:\n",
    "                print(player2)\n",
    "                print(f'Player {player2.name} does not have sufficient cards to play this war. Player {player1.name} wins! Game over.')\n",
    "                at_war = False\n",
    "                game_on = False\n",
    "                break\n",
    "                \n",
    "            player1_cards = player1.remove_one(), player1.remove_one(), player1.remove_one(), player1.remove_one()\n",
    "            player1_cards = list(player1_cards)\n",
    "            player2_cards = player2.remove_one(), player2.remove_one(), player2.remove_one(), player2.remove_one()\n",
    "            player2_cards = list(player2_cards)\n",
    "            \n",
    "            print(f'Player {player1.name} played {player1_cards[-1]}')\n",
    "            print(f'Player {player2.name} played {player2_cards[-1]}')\n",
    "            \n",
    "            if player1_cards[-1].value < player2_cards[-1].value:\n",
    "                print(f'Player {player2.name} wins this war {war_count}.')\n",
    "                player2.add_cards(player1_card)\n",
    "                player2.add_cards(player2_card)\n",
    "                player2.add_cards(player1_cards)\n",
    "                player2.add_cards(player2_cards)\n",
    "                print(player1)\n",
    "                print(player2)\n",
    "                at_war = False\n",
    "                break\n",
    "            elif player1_cards[-1].value > player2_cards[-1].value:\n",
    "                print(f'Player {player1.name} wins this war {war_count}.')\n",
    "                player1.add_cards(player1_card)\n",
    "                player1.add_cards(player2_card)\n",
    "                player1.add_cards(player1_cards)\n",
    "                player1.add_cards(player2_cards)             \n",
    "                print(player1)\n",
    "                print(player2)\n",
    "                at_war = False\n",
    "                break\n",
    "            else:\n",
    "                print(f'War continues')\n",
    "                continue"
   ]
  },
  {
   "cell_type": "code",
   "execution_count": null,
   "id": "e3f7e66b",
   "metadata": {},
   "outputs": [],
   "source": []
  }
 ],
 "metadata": {
  "kernelspec": {
   "display_name": "Python 3",
   "language": "python",
   "name": "python3"
  },
  "language_info": {
   "codemirror_mode": {
    "name": "ipython",
    "version": 3
   },
   "file_extension": ".py",
   "mimetype": "text/x-python",
   "name": "python",
   "nbconvert_exporter": "python",
   "pygments_lexer": "ipython3",
   "version": "3.8.5"
  }
 },
 "nbformat": 4,
 "nbformat_minor": 5
}
